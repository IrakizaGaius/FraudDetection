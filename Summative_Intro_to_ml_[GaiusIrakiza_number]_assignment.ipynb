{
  "cells": [
    {
      "cell_type": "markdown",
      "metadata": {
        "id": "ujuLMxSvoXbg"
      },
      "source": [
        "# Optimization Techniques in Machine Learning\n",
        "\n",
        "Objective: This assignment aims to explore implementation or Machine Learning Models with regularization, optimization and Error analysis  techniques used in machine learning to improve models' performance, convergence speed, and efficiency..\n",
        "\n",
        "A Notebook detailing the following\n",
        "\n",
        "* Project name\n",
        "* Clear out puts from cells\n",
        "\n",
        "\n",
        "\n",
        "\n",
        "\n",
        "\n",
        "**Instructions**\n",
        "\n",
        "1. Acquire a dataset suitable for ML tasks as per your proposal.\n",
        "2. Implement a simple machine learning model based on neural networks on the chosen dataset without any defined optimization techniques. (Check instructions)\n",
        "3. Implement and compare the model's performance after applying 3 to 4 disntict combinations regularization and optimization techniques.\n",
        "4. Discuss the results on the README file.\n",
        "5. Make predictions using test data\n",
        "7. Implement error analysis techniques and ensure there is: F1-Score, Recall, Precision, RUC a confusion matrix using plotting libraries (not verbose)\n",
        "\n",
        "Submit notebook to github repo\n",
        "\n"
      ]
    },
    {
      "cell_type": "markdown",
      "metadata": {
        "id": "keZmePwAWYgQ"
      },
      "source": [
        "# 1. Dataset Overview and PreProcessing\n"
      ]
    },
    {
      "cell_type": "markdown",
      "metadata": {},
      "source": [
        "\n",
        "### Problem Statement:\n",
        "The task is to predict the probability that an online transaction is fraudulent using identity and transaction data.\n",
        "\n",
        "### Dataset Description:\n",
        "- **Target variable:** `isFraud` (1 = fraud, 0 = not fraud)\n",
        "- **Files:** `train_transaction.csv`, `train_identity.csv` (joined on `TransactionID`)\n",
        "- **Features:**  \n",
        "  - *Transaction Data:* ProductCD, card1–card6, addr1, addr2, M1–M9  \n",
        "  - *Identity Data:* DeviceType, DeviceInfo, id_12–id_38  \n",
        "- The feature `TransactionDT` is a relative timestamp.\n"
      ]
    },
    {
      "cell_type": "markdown",
      "metadata": {
        "id": "jKBHmqb87lNw"
      },
      "source": [
        "## 2. Defining all the Imports and necessary dependencies"
      ]
    },
    {
      "cell_type": "code",
      "execution_count": 19,
      "metadata": {
        "id": "oUtYNDjW7ugT"
      },
      "outputs": [],
      "source": [
        "import pandas as pd\n",
        "import numpy as np\n",
        "import os\n",
        "import matplotlib.pyplot as plt\n",
        "import lightgbm as lgb\n",
        "\n",
        "from sklearn.model_selection import train_test_split\n",
        "from sklearn.preprocessing import OneHotEncoder, StandardScaler\n",
        "from category_encoders.target_encoder import TargetEncoder\n",
        "from sklearn.impute import SimpleImputer\n",
        "\n",
        "from sklearn.compose import ColumnTransformer\n",
        "from sklearn.pipeline import Pipeline\n",
        "from sklearn.base import BaseEstimator, TransformerMixin\n",
        "from sklearn.feature_selection import VarianceThreshold\n",
        "from sklearn.linear_model import LogisticRegression\n",
        "from joblib import dump\n",
        "from sklearn.metrics import accuracy_score, f1_score, recall_score, precision_score\n",
        "from sklearn.metrics import confusion_matrix, ConfusionMatrixDisplay, classification_report\n",
        "\n",
        "from tensorflow.keras.models import Sequential, save_model\n",
        "from tensorflow.keras.layers import Dense, Dropout, BatchNormalization\n",
        "from tensorflow.keras.regularizers import Regularizer, l1, l2, l1_l2\n",
        "from tensorflow.keras.optimizers import Optimizer, Adam, SGD, RMSprop,Nadam\n",
        "from tensorflow.keras.callbacks import EarlyStopping"
      ]
    },
    {
      "cell_type": "markdown",
      "metadata": {},
      "source": [
        "## Data PreProcessing"
      ]
    },
    {
      "cell_type": "markdown",
      "metadata": {
        "id": "clpMDEUs7MtB"
      },
      "source": [
        "### 1. Loading and Merge Data"
      ]
    },
    {
      "cell_type": "code",
      "execution_count": 5,
      "metadata": {
        "id": "8W5PSuVN7Kkn"
      },
      "outputs": [],
      "source": [
        "# Load datasets\n",
        "train_transaction = pd.read_csv('data/train_transaction.csv')\n",
        "train_identity = pd.read_csv('data/train_identity.csv')\n",
        "test_transaction = pd.read_csv('data/test_transaction.csv')\n",
        "test_identity = pd.read_csv('data/test_identity.csv')"
      ]
    },
    {
      "cell_type": "code",
      "execution_count": 6,
      "metadata": {},
      "outputs": [],
      "source": [
        "# Merge on TransactionID\n",
        "train_df = pd.merge(train_transaction, train_identity, on='TransactionID', how='left')\n",
        "test_df = pd.merge(test_transaction, test_identity, on='TransactionID', how='left')\n",
        "\n",
        "# Separate target\n",
        "y = train_df['isFraud']\n",
        "X = train_df.drop(columns=['isFraud', 'TransactionID'])"
      ]
    },
    {
      "cell_type": "markdown",
      "metadata": {},
      "source": [
        "### 2. Outlier Clipping"
      ]
    },
    {
      "cell_type": "code",
      "execution_count": 7,
      "metadata": {},
      "outputs": [],
      "source": [
        "class OutlierClipper(BaseEstimator, TransformerMixin):\n",
        "    def __init__(self, factor=1.5):\n",
        "        self.factor = factor\n",
        "\n",
        "    def fit(self, X, y=None):\n",
        "        if not isinstance(X, pd.DataFrame):\n",
        "            X = pd.DataFrame(X)\n",
        "        Q1 = X.quantile(0.25)\n",
        "        Q3 = X.quantile(0.75)\n",
        "        self.lower = Q1 - self.factor * (Q3 - Q1)\n",
        "        self.upper = Q3 + self.factor * (Q3 - Q1)\n",
        "        return self\n",
        "\n",
        "    def transform(self, X):\n",
        "        if not isinstance(X, pd.DataFrame):\n",
        "            X = pd.DataFrame(X)\n",
        "        # Clip values\n",
        "        X_clipped = X.clip(lower=self.lower, upper=self.upper, axis=1)\n",
        "        return X_clipped.values"
      ]
    },
    {
      "cell_type": "markdown",
      "metadata": {},
      "source": [
        "### 3. Feature Grouping"
      ]
    },
    {
      "cell_type": "code",
      "execution_count": 8,
      "metadata": {},
      "outputs": [],
      "source": [
        "# Identifying features by type\n",
        "categorical = X.select_dtypes(include='object').columns.tolist()\n",
        "numerical = X.select_dtypes(include=[np.number]).columns.tolist()\n",
        "\n",
        "low_card = [col for col in categorical if X[col].nunique() < 10]\n",
        "high_card = list(set(categorical) - set(low_card))"
      ]
    },
    {
      "cell_type": "markdown",
      "metadata": {},
      "source": [
        "### 4. PreProcessing Pipeline"
      ]
    },
    {
      "cell_type": "code",
      "execution_count": 9,
      "metadata": {},
      "outputs": [],
      "source": [
        "# Pipelines\n",
        "num_pipeline = Pipeline([\n",
        "    ('imputer', SimpleImputer(strategy='median')),\n",
        "    ('clipper', OutlierClipper()),\n",
        "    ('scaler', StandardScaler())\n",
        "])\n",
        "\n",
        "low_cat_pipeline = Pipeline([\n",
        "    ('imputer', SimpleImputer(strategy='most_frequent')),\n",
        "    ('encoder', OneHotEncoder(handle_unknown='ignore', sparse_output=False))\n",
        "])\n",
        "\n",
        "high_cat_pipeline = Pipeline([\n",
        "    ('imputer', SimpleImputer(strategy='most_frequent')),\n",
        "    ('encoder', TargetEncoder())\n",
        "])\n",
        "\n",
        "# Full transformer\n",
        "preprocessor = ColumnTransformer([\n",
        "    ('num', num_pipeline, numerical),\n",
        "    ('low_cat', low_cat_pipeline, low_card),\n",
        "    ('high_cat', high_cat_pipeline, high_card)\n",
        "])"
      ]
    },
    {
      "cell_type": "markdown",
      "metadata": {},
      "source": [
        "### 5. Data Splitting"
      ]
    },
    {
      "cell_type": "code",
      "execution_count": 10,
      "metadata": {},
      "outputs": [],
      "source": [
        "X_temp, X_test, y_temp, y_test = train_test_split(X, y, test_size=0.15, stratify=y, random_state=42)\n",
        "\n",
        "X_train, X_val, y_train, y_val = train_test_split(X_temp, y_temp, test_size=0.1765, stratify=y_temp, random_state=42)\n",
        "\n",
        "X_train_processed = preprocessor.fit_transform(X_train, y_train)\n",
        "X_val_processed = preprocessor.transform(X_val)\n",
        "X_test_processed = preprocessor.transform(X_test)\n",
        "\n",
        "# variance thresholding\n",
        "selector = VarianceThreshold(threshold=0.0001)\n",
        "X_train_processed = selector.fit_transform(X_train_processed)\n",
        "X_val_processed = selector.transform(X_val_processed)\n",
        "X_test_processed = selector.transform(X_test_processed)"
      ]
    },
    {
      "cell_type": "markdown",
      "metadata": {
        "id": "ve4AiQmGMzIN"
      },
      "source": [
        "# SECTION 1: A Classification Model"
      ]
    },
    {
      "cell_type": "markdown",
      "metadata": {},
      "source": [
        "### Light GBM Classification Model 1:\n",
        "This LightGBM model is a gradient boosting classifier tailored for imbalanced fraud detection. It is trained using 5,500 boosting rounds (n_estimators) with a moderate learning rate of 0.05 to ensure stable convergence. The maximum depth is limited to 8, and 64 leaves per tree are allowed to control complexity and prevent overfitting. The class_weight='balanced' setting automatically compensates for class imbalance. It uses all available CPU cores for efficient training and sets a fixed random seed for reproducibility."
      ]
    },
    {
      "cell_type": "code",
      "execution_count": 11,
      "metadata": {},
      "outputs": [
        {
          "name": "stdout",
          "output_type": "stream",
          "text": [
            "[LightGBM] [Info] Number of positive: 14464, number of negative: 398899\n",
            "[LightGBM] [Info] Auto-choosing row-wise multi-threading, the overhead of testing was 0.056392 seconds.\n",
            "You can set `force_row_wise=true` to remove the overhead.\n",
            "And if memory is not enough, you can set `force_col_wise=true`.\n",
            "[LightGBM] [Info] Total Bins 4539\n",
            "[LightGBM] [Info] Number of data points in the train set: 413363, number of used features: 109\n",
            "[LightGBM] [Info] [binary:BoostFromScore]: pavg=0.500000 -> initscore=0.000000\n",
            "[LightGBM] [Info] Start training from score 0.000000\n",
            "[LightGBM] [Warning] No further splits with positive gain, best gain: -inf\n",
            "[LightGBM] [Warning] No further splits with positive gain, best gain: -inf\n",
            "[LightGBM] [Warning] No further splits with positive gain, best gain: -inf\n",
            "[LightGBM] [Warning] No further splits with positive gain, best gain: -inf\n",
            "[LightGBM] [Warning] No further splits with positive gain, best gain: -inf\n",
            "[LightGBM] [Warning] No further splits with positive gain, best gain: -inf\n",
            "[LightGBM] [Warning] No further splits with positive gain, best gain: -inf\n",
            "[LightGBM] [Warning] No further splits with positive gain, best gain: -inf\n",
            "[LightGBM] [Warning] No further splits with positive gain, best gain: -inf\n",
            "[LightGBM] [Warning] No further splits with positive gain, best gain: -inf\n",
            "[LightGBM] [Warning] No further splits with positive gain, best gain: -inf\n",
            "[LightGBM] [Warning] No further splits with positive gain, best gain: -inf\n",
            "[LightGBM] [Warning] No further splits with positive gain, best gain: -inf\n",
            "[LightGBM] [Warning] No further splits with positive gain, best gain: -inf\n",
            "[LightGBM] [Warning] No further splits with positive gain, best gain: -inf\n",
            "[LightGBM] [Warning] No further splits with positive gain, best gain: -inf\n",
            "[LightGBM] [Warning] No further splits with positive gain, best gain: -inf\n",
            "[LightGBM] [Warning] No further splits with positive gain, best gain: -inf\n",
            "[LightGBM] [Warning] No further splits with positive gain, best gain: -inf\n",
            "[LightGBM] [Warning] No further splits with positive gain, best gain: -inf\n",
            "[LightGBM] [Warning] No further splits with positive gain, best gain: -inf\n",
            "[LightGBM] [Warning] No further splits with positive gain, best gain: -inf\n",
            "[LightGBM] [Warning] No further splits with positive gain, best gain: -inf\n",
            "[LightGBM] [Warning] No further splits with positive gain, best gain: -inf\n",
            "[LightGBM] [Warning] No further splits with positive gain, best gain: -inf\n",
            "[LightGBM] [Warning] No further splits with positive gain, best gain: -inf\n",
            "[LightGBM] [Warning] No further splits with positive gain, best gain: -inf\n",
            "[LightGBM] [Warning] No further splits with positive gain, best gain: -inf\n",
            "[LightGBM] [Warning] No further splits with positive gain, best gain: -inf\n",
            "[LightGBM] [Warning] No further splits with positive gain, best gain: -inf\n",
            "[LightGBM] [Warning] No further splits with positive gain, best gain: -inf\n",
            "[LightGBM] [Warning] No further splits with positive gain, best gain: -inf\n",
            "[LightGBM] [Warning] No further splits with positive gain, best gain: -inf\n",
            "[LightGBM] [Warning] No further splits with positive gain, best gain: -inf\n",
            "[LightGBM] [Warning] No further splits with positive gain, best gain: -inf\n",
            "[LightGBM] [Warning] No further splits with positive gain, best gain: -inf\n",
            "[LightGBM] [Warning] No further splits with positive gain, best gain: -inf\n",
            "[LightGBM] [Warning] No further splits with positive gain, best gain: -inf\n",
            "[LightGBM] [Warning] No further splits with positive gain, best gain: -inf\n",
            "[LightGBM] [Warning] No further splits with positive gain, best gain: -inf\n",
            "[LightGBM] [Warning] No further splits with positive gain, best gain: -inf\n",
            "[LightGBM] [Warning] No further splits with positive gain, best gain: -inf\n",
            "[LightGBM] [Warning] No further splits with positive gain, best gain: -inf\n",
            "[LightGBM] [Warning] No further splits with positive gain, best gain: -inf\n",
            "[LightGBM] [Warning] No further splits with positive gain, best gain: -inf\n",
            "[LightGBM] [Warning] No further splits with positive gain, best gain: -inf\n",
            "[LightGBM] [Warning] No further splits with positive gain, best gain: -inf\n",
            "[LightGBM] [Warning] No further splits with positive gain, best gain: -inf\n",
            "[LightGBM] [Warning] No further splits with positive gain, best gain: -inf\n",
            "[LightGBM] [Warning] No further splits with positive gain, best gain: -inf\n",
            "[LightGBM] [Warning] No further splits with positive gain, best gain: -inf\n",
            "[LightGBM] [Warning] No further splits with positive gain, best gain: -inf\n",
            "[LightGBM] [Warning] No further splits with positive gain, best gain: -inf\n"
          ]
        },
        {
          "data": {
            "text/plain": [
              "['saved_models/lightgbm_model.joblib']"
            ]
          },
          "execution_count": 11,
          "metadata": {},
          "output_type": "execute_result"
        }
      ],
      "source": [
        "# A LightGBM model with tuned hyperparameters\n",
        "lgb_model = lgb.LGBMClassifier(\n",
        "    n_estimators=5500,# Number of boosting rounds (trees).\n",
        "    learning_rate=0.05,# Step size shrinkage used to prevent overfitting.\n",
        "    max_depth=8,# Maximum depth of each tree. Controls model complexity;\n",
        "    num_leaves=64, # Maximum number of leaves per tree.\n",
        "    class_weight='balanced',# Automatically adjusts weights inversely proportional to class frequencies, helping with class imbalance.\n",
        "    random_state=42,# Sets seed for reproducibility so results are consistent across runs.\n",
        "    n_jobs=-1 # Uses all available CPU cores for training (parallel processing).\n",
        ")\n",
        "\n",
        "lgb_model.fit(X_train_processed, y_train)\n",
        "\n",
        "# Saving the trained model\n",
        "dump(lgb_model, 'saved_models/lightgbm_model.joblib')"
      ]
    },
    {
      "cell_type": "markdown",
      "metadata": {},
      "source": [
        "#### Model 1 Error analysis:"
      ]
    },
    {
      "cell_type": "code",
      "execution_count": 12,
      "metadata": {},
      "outputs": [
        {
          "name": "stderr",
          "output_type": "stream",
          "text": [
            "/Users/irakizagaius/Downloads/FraudDetection/.venv/lib/python3.10/site-packages/sklearn/utils/validation.py:2749: UserWarning: X does not have valid feature names, but LGBMClassifier was fitted with feature names\n",
            "  warnings.warn(\n"
          ]
        },
        {
          "data": {
            "image/png": "[encoded data removed]",
            "text/plain": [
              "<Figure size 640x480 with 2 Axes>"
            ]
          },
          "metadata": {},
          "output_type": "display_data"
        },
        {
          "name": "stdout",
          "output_type": "stream",
          "text": [
            "=== Classification Report (LightGBM - Test Set) ===\n",
            "              precision    recall  f1-score   support\n",
            "\n",
            "   Not Fraud       0.99      0.99      0.99     85482\n",
            "       Fraud       0.84      0.78      0.81      3099\n",
            "\n",
            "    accuracy                           0.99     88581\n",
            "   macro avg       0.92      0.89      0.90     88581\n",
            "weighted avg       0.99      0.99      0.99     88581\n",
            "\n",
            "True Negatives (TN): 85036\n",
            "False Positives (FP): 446\n",
            "False Negatives (FN): 676\n",
            "True Positives (TP): 2423\n"
          ]
        }
      ],
      "source": [
        "# Predict probabilities and convert to binary labels (Test Set)\n",
        "y_test_pred_prob = lgb_model.predict_proba(X_test_processed)[:, 1]\n",
        "y_test_pred = (y_test_pred_prob > 0.5).astype(int).reshape(-1)\n",
        "y_test_true = y_test.values.reshape(-1)\n",
        "\n",
        "# Confusion matrix\n",
        "cm = confusion_matrix(y_test_true, y_test_pred)\n",
        "\n",
        "# Display with labels\n",
        "disp = ConfusionMatrixDisplay(confusion_matrix=cm, display_labels=[\"Not Fraud\", \"Fraud\"])\n",
        "disp.plot(cmap=\"Blues\")\n",
        "plt.title(\"Confusion Matrix - LightGBM (Test Set)\")\n",
        "plt.show()\n",
        "\n",
        "# Detailed classification report\n",
        "report = classification_report(y_test_true, y_test_pred, target_names=[\"Not Fraud\", \"Fraud\"])\n",
        "print(\"=== Classification Report (LightGBM - Test Set) ===\")\n",
        "print(report)\n",
        "\n",
        "tn, fp, fn, tp = cm.ravel()\n",
        "print(f\"True Negatives (TN): {tn}\")\n",
        "print(f\"False Positives (FP): {fp}\")\n",
        "print(f\"False Negatives (FN): {fn}\")\n",
        "print(f\"True Positives (TP): {tp}\")\n"
      ]
    },
    {
      "cell_type": "markdown",
      "metadata": {
        "id": "9hc6k2taT0_n"
      },
      "source": [
        "# SECTION 2: Optimization and Regularization Combinations\n",
        "At this point you should now create models that combine various optimization techniques\n",
        "As done before make sure to plot out the loss curve and the accuracy and loss in verbose"
      ]
    },
    {
      "cell_type": "markdown",
      "metadata": {},
      "source": [
        "## Model Architecture:"
      ]
    },
    {
      "cell_type": "markdown",
      "metadata": {},
      "source": [
        "This is a deep neural Network Architecture that my model instances will all use each instance will have its own regularizers, optimization techiques but the core sturcture of the neural network will be the same. 6 hidden layers all usng relu activation and one output layer using sigmoid activation to classify the data into either FRAUD or NOT FRAUD."
      ]
    },
    {
      "cell_type": "code",
      "execution_count": 21,
      "metadata": {},
      "outputs": [],
      "source": [
        "def build_model(input_dim, optimizer: Optimizer = None, regularizer: Regularizer = None):\n",
        "    model = Sequential()\n",
        "    model.add(Dense(128, activation='relu', input_shape=(input_dim,), kernel_regularizer=regularizer))\n",
        "    model.add(Dense(64, activation='relu', kernel_regularizer=regularizer))\n",
        "    model.add(Dense(32, activation='relu', kernel_regularizer=regularizer))\n",
        "    model.add(Dense(16, activation='relu', kernel_regularizer=regularizer))\n",
        "    model.add(Dense(8, activation='relu', kernel_regularizer=regularizer))\n",
        "    model.add(Dense(1, activation='sigmoid'))\n",
        "    return model"
      ]
    },
    {
      "cell_type": "markdown",
      "metadata": {},
      "source": [
        "## Task: Define a function that creates models with or without specified Optimization techniques\n"
      ]
    },
    {
      "cell_type": "markdown",
      "metadata": {},
      "source": [
        "### Neural Network Model Instance 1:\n",
        "This is the first instance of the deep neura Network with no regularizers applied and Default optimizers applied."
      ]
    },
    {
      "cell_type": "code",
      "execution_count": 16,
      "metadata": {
        "id": "gGtPmYb_SDHy"
      },
      "outputs": [
        {
          "name": "stderr",
          "output_type": "stream",
          "text": [
            "/Users/irakizagaius/Downloads/FraudDetection/.venv/lib/python3.10/site-packages/keras/src/layers/core/dense.py:93: UserWarning: Do not pass an `input_shape`/`input_dim` argument to a layer. When using Sequential models, prefer using an `Input(shape)` object as the first layer in the model instead.\n",
            "  super().__init__(activity_regularizer=activity_regularizer, **kwargs)\n"
          ]
        },
        {
          "name": "stdout",
          "output_type": "stream",
          "text": [
            "\u001b[1m12918/12918\u001b[0m \u001b[32m━━━━━━━━━━━━━━━━━━━━\u001b[0m\u001b[37m\u001b[0m \u001b[1m18s\u001b[0m 1ms/step - loss: 0.1138 - val_loss: 0.1133\n"
          ]
        },
        {
          "name": "stderr",
          "output_type": "stream",
          "text": [
            "WARNING:absl:You are saving your model as an HDF5 file via `model.save()` or `keras.saving.save_model(model)`. This file format is considered legacy. We recommend using instead the native Keras format, e.g. `model.save('my_model.keras')` or `keras.saving.save_model(model, 'my_model.keras')`. \n"
          ]
        }
      ],
      "source": [
        "model_1 = build_model(input_dim=X_train_processed.shape[1])  # No regularizer\n",
        "\n",
        "model_1.compile(loss='binary_crossentropy')  # Default optimizer and metrics\n",
        "\n",
        "model_1.fit(X_train_processed, y_train, validation_data=(X_val_processed, y_val))\n",
        "save_model(model_1, 'saved_models/nn_instance_1.h5')"
      ]
    },
    {
      "cell_type": "markdown",
      "metadata": {},
      "source": [
        "#### Neural Network Model Instance 1 Error analysis:"
      ]
    },
    {
      "cell_type": "code",
      "execution_count": 15,
      "metadata": {},
      "outputs": [
        {
          "name": "stdout",
          "output_type": "stream",
          "text": [
            "\u001b[1m2769/2769\u001b[0m \u001b[32m━━━━━━━━━━━━━━━━━━━━\u001b[0m\u001b[37m\u001b[0m \u001b[1m2s\u001b[0m 770us/step\n"
          ]
        },
        {
          "data": {
            "image/png": "[encoded data removed]",
            "text/plain": [
              "<Figure size 640x480 with 2 Axes>"
            ]
          },
          "metadata": {},
          "output_type": "display_data"
        },
        {
          "name": "stdout",
          "output_type": "stream",
          "text": [
            "=== Classification Report ===\n",
            "              precision    recall  f1-score   support\n",
            "\n",
            "   Not Fraud       0.97      1.00      0.99     85482\n",
            "       Fraud       0.84      0.28      0.42      3099\n",
            "\n",
            "    accuracy                           0.97     88581\n",
            "   macro avg       0.91      0.64      0.70     88581\n",
            "weighted avg       0.97      0.97      0.97     88581\n",
            "\n",
            "True Negatives (TN): 85321\n",
            "False Positives (FP): 161\n",
            "False Negatives (FN): 2236\n",
            "True Positives (TP): 863\n"
          ]
        }
      ],
      "source": [
        "# Predict probabilities and convert to binary labels\n",
        "y_test_pred_prob = model_1.predict(X_test_processed)\n",
        "y_test_pred = (y_test_pred_prob > 0.5).astype(int).reshape(-1)\n",
        "y_test_true = y_test.values.reshape(-1)\n",
        "\n",
        "# Confusion matrix\n",
        "cm = confusion_matrix(y_test_true, y_test_pred)\n",
        "\n",
        "# Display with labels\n",
        "disp = ConfusionMatrixDisplay(confusion_matrix=cm, display_labels=[\"Not Fraud\", \"Fraud\"])\n",
        "disp.plot(cmap=\"Blues\")\n",
        "plt.title(\"Confusion Matrix - Test Set\")\n",
        "plt.show()\n",
        "\n",
        "# Detailed classification report\n",
        "report = classification_report(y_test_true, y_test_pred, target_names=[\"Not Fraud\", \"Fraud\"])\n",
        "print(\"=== Classification Report ===\")\n",
        "print(report)\n",
        "tn, fp, fn, tp = cm.ravel()\n",
        "print(f\"True Negatives (TN): {tn}\")\n",
        "print(f\"False Positives (FP): {fp}\")\n",
        "print(f\"False Negatives (FN): {fn}\")\n",
        "print(f\"True Positives (TP): {tp}\")\n"
      ]
    },
    {
      "cell_type": "markdown",
      "metadata": {},
      "source": [
        "### Neural Network Model Instance 2:\n",
        "Second instance now with my defined parameters and Hyperparameters. Used ADAM for optimization with a learning rate of 0.0001 and l2 regularization with a 0.0001 penalty also added early stopping on the valloss with a patience of 10. I also trained the model for 100 epochs with a 100 batch size."
      ]
    },
    {
      "cell_type": "code",
      "execution_count": null,
      "metadata": {},
      "outputs": [
        {
          "name": "stderr",
          "output_type": "stream",
          "text": [
            "/Users/irakizagaius/Downloads/FraudDetection/.venv/lib/python3.10/site-packages/keras/src/layers/core/dense.py:93: UserWarning: Do not pass an `input_shape`/`input_dim` argument to a layer. When using Sequential models, prefer using an `Input(shape)` object as the first layer in the model instead.\n",
            "  super().__init__(activity_regularizer=activity_regularizer, **kwargs)\n"
          ]
        },
        {
          "name": "stdout",
          "output_type": "stream",
          "text": [
            "Epoch 1/50\n",
            "\u001b[1m4134/4134\u001b[0m \u001b[32m━━━━━━━━━━━━━━━━━━━━\u001b[0m\u001b[37m\u001b[0m \u001b[1m10s\u001b[0m 2ms/step - accuracy: 0.9371 - loss: 0.1980 - val_accuracy: 0.9728 - val_loss: 0.1203\n",
            "Epoch 2/50\n",
            "\u001b[1m4134/4134\u001b[0m \u001b[32m━━━━━━━━━━━━━━━━━━━━\u001b[0m\u001b[37m\u001b[0m \u001b[1m7s\u001b[0m 2ms/step - accuracy: 0.9734 - loss: 0.1175 - val_accuracy: 0.9739 - val_loss: 0.1151\n",
            "Epoch 3/50\n",
            "\u001b[1m4134/4134\u001b[0m \u001b[32m━━━━━━━━━━━━━━━━━━━━\u001b[0m\u001b[37m\u001b[0m \u001b[1m8s\u001b[0m 2ms/step - accuracy: 0.9735 - loss: 0.1139 - val_accuracy: 0.9738 - val_loss: 0.1103\n",
            "Epoch 4/50\n",
            "\u001b[1m4134/4134\u001b[0m \u001b[32m━━━━━━━━━━━━━━━━━━━━\u001b[0m\u001b[37m\u001b[0m \u001b[1m7s\u001b[0m 2ms/step - accuracy: 0.9742 - loss: 0.1095 - val_accuracy: 0.9739 - val_loss: 0.1080\n",
            "Epoch 5/50\n",
            "\u001b[1m1161/4134\u001b[0m \u001b[32m━━━━━\u001b[0m\u001b[37m━━━━━━━━━━━━━━━\u001b[0m \u001b[1m4s\u001b[0m 2ms/step - accuracy: 0.9743 - loss: 0.1064"
          ]
        }
      ],
      "source": [
        "model_2 = build_model(\n",
        "    input_dim=X_train_processed.shape[1],\n",
        "    optimizer=Adam(learning_rate=0.0001),\n",
        "    regularizer=l2(0.0001)\n",
        ")\n",
        "\n",
        "# Compile model\n",
        "model_2.compile(\n",
        "    optimizer=Adam(learning_rate=0.0001),\n",
        "    loss='binary_crossentropy',\n",
        "    metrics=['accuracy']\n",
        ")\n",
        "\n",
        "# Early stopping\n",
        "early_stopping = EarlyStopping(monitor='val_loss', patience=10, restore_best_weights=True)\n",
        "\n",
        "# Fit model\n",
        "history_2 = model_2.fit(\n",
        "    X_train_processed, y_train,\n",
        "    epochs=50,\n",
        "    batch_size=100,\n",
        "    validation_data=(X_val_processed, y_val),\n",
        "    callbacks=[early_stopping],\n",
        "    verbose=1\n",
        ")\n",
        "\n",
        "# Save model\n",
        "save_model(model_2, 'saved_models/nn_instance_2.h5')"
      ]
    },
    {
      "cell_type": "markdown",
      "metadata": {},
      "source": [
        "#### Neural Network Model Instance 2 Error Analysis:"
      ]
    },
    {
      "cell_type": "code",
      "execution_count": 54,
      "metadata": {},
      "outputs": [
        {
          "name": "stdout",
          "output_type": "stream",
          "text": [
            "\u001b[1m2769/2769\u001b[0m \u001b[32m━━━━━━━━━━━━━━━━━━━━\u001b[0m\u001b[37m\u001b[0m \u001b[1m2s\u001b[0m 631us/step\n"
          ]
        },
        {
          "data": {
            "image/png": "[encoded data removed]",
            "text/plain": [
              "<Figure size 640x480 with 2 Axes>"
            ]
          },
          "metadata": {},
          "output_type": "display_data"
        },
        {
          "name": "stdout",
          "output_type": "stream",
          "text": [
            "=== Classification Report ===\n",
            "              precision    recall  f1-score   support\n",
            "\n",
            "   Not Fraud       0.98      1.00      0.99     85482\n",
            "       Fraud       0.79      0.51      0.62      3099\n",
            "\n",
            "    accuracy                           0.98     88581\n",
            "   macro avg       0.89      0.75      0.80     88581\n",
            "weighted avg       0.98      0.98      0.98     88581\n",
            "\n",
            "True Negatives (TN): 85071\n",
            "False Positives (FP): 411\n",
            "False Negatives (FN): 1522\n",
            "True Positives (TP): 1577\n"
          ]
        }
      ],
      "source": [
        "# Predict probabilities and convert to binary labels\n",
        "y_test_pred_prob = model_2.predict(X_test_processed)\n",
        "y_test_pred = (y_test_pred_prob > 0.5).astype(int).reshape(-1)\n",
        "y_test_true = y_test.values.reshape(-1)\n",
        "\n",
        "# Confusion matrix\n",
        "cm = confusion_matrix(y_test_true, y_test_pred)\n",
        "\n",
        "# Display with labels\n",
        "disp = ConfusionMatrixDisplay(confusion_matrix=cm, display_labels=[\"Not Fraud\", \"Fraud\"])\n",
        "disp.plot(cmap=\"Blues\")\n",
        "plt.title(\"Confusion Matrix - Test Set\")\n",
        "plt.show()\n",
        "\n",
        "# Detailed classification report\n",
        "report = classification_report(y_test_true, y_test_pred, target_names=[\"Not Fraud\", \"Fraud\"])\n",
        "print(\"=== Classification Report ===\")\n",
        "print(report)\n",
        "tn, fp, fn, tp = cm.ravel()\n",
        "print(f\"True Negatives (TN): {tn}\")\n",
        "print(f\"False Positives (FP): {fp}\")\n",
        "print(f\"False Negatives (FN): {fn}\")\n",
        "print(f\"True Positives (TP): {tp}\")"
      ]
    },
    {
      "cell_type": "markdown",
      "metadata": {},
      "source": [
        "### Neural Network Model Instance 3:\n",
        "  A deep neural network featuring L1 regularization and Dropout decreases exponentially across its hidden layers for binary classification. It's compiled with RMSprop and trained for 100 epochs, utilized an early stopping with a larger batch size."
      ]
    },
    {
      "cell_type": "code",
      "execution_count": null,
      "metadata": {},
      "outputs": [
        {
          "name": "stderr",
          "output_type": "stream",
          "text": [
            "/Users/irakizagaius/Downloads/FraudDetection/.venv/lib/python3.10/site-packages/keras/src/layers/core/dense.py:93: UserWarning: Do not pass an `input_shape`/`input_dim` argument to a layer. When using Sequential models, prefer using an `Input(shape)` object as the first layer in the model instead.\n",
            "  super().__init__(activity_regularizer=activity_regularizer, **kwargs)\n"
          ]
        },
        {
          "name": "stdout",
          "output_type": "stream",
          "text": [
            "Epoch 1/100\n",
            "\u001b[1m4134/4134\u001b[0m \u001b[32m━━━━━━━━━━━━━━━━━━━━\u001b[0m\u001b[37m\u001b[0m \u001b[1m11s\u001b[0m 2ms/step - accuracy: 0.9615 - loss: 0.2329 - val_accuracy: 0.9723 - val_loss: 0.1453\n",
            "Epoch 2/100\n",
            "\u001b[1m4134/4134\u001b[0m \u001b[32m━━━━━━━━━━━━━━━━━━━━\u001b[0m\u001b[37m\u001b[0m \u001b[1m8s\u001b[0m 2ms/step - accuracy: 0.9712 - loss: 0.1485 - val_accuracy: 0.9726 - val_loss: 0.1290\n",
            "Epoch 3/100\n",
            "\u001b[1m4134/4134\u001b[0m \u001b[32m━━━━━━━━━━━━━━━━━━━━\u001b[0m\u001b[37m\u001b[0m \u001b[1m9s\u001b[0m 2ms/step - accuracy: 0.9715 - loss: 0.1330 - val_accuracy: 0.9731 - val_loss: 0.1198\n",
            "Epoch 4/100\n",
            "\u001b[1m4134/4134\u001b[0m \u001b[32m━━━━━━━━━━━━━━━━━━━━\u001b[0m\u001b[37m\u001b[0m \u001b[1m9s\u001b[0m 2ms/step - accuracy: 0.9716 - loss: 0.1259 - val_accuracy: 0.9733 - val_loss: 0.1147\n",
            "Epoch 5/100\n",
            "\u001b[1m4134/4134\u001b[0m \u001b[32m━━━━━━━━━━━━━━━━━━━━\u001b[0m\u001b[37m\u001b[0m \u001b[1m8s\u001b[0m 2ms/step - accuracy: 0.9721 - loss: 0.1211 - val_accuracy: 0.9729 - val_loss: 0.1130\n",
            "Epoch 6/100\n",
            "\u001b[1m4134/4134\u001b[0m \u001b[32m━━━━━━━━━━━━━━━━━━━━\u001b[0m\u001b[37m\u001b[0m \u001b[1m9s\u001b[0m 2ms/step - accuracy: 0.9726 - loss: 0.1188 - val_accuracy: 0.9731 - val_loss: 0.1132\n",
            "Epoch 7/100\n",
            "\u001b[1m4134/4134\u001b[0m \u001b[32m━━━━━━━━━━━━━━━━━━━━\u001b[0m\u001b[37m\u001b[0m \u001b[1m9s\u001b[0m 2ms/step - accuracy: 0.9726 - loss: 0.1172 - val_accuracy: 0.9735 - val_loss: 0.1117\n",
            "Epoch 8/100\n",
            "\u001b[1m4134/4134\u001b[0m \u001b[32m━━━━━━━━━━━━━━━━━━━━\u001b[0m\u001b[37m\u001b[0m \u001b[1m9s\u001b[0m 2ms/step - accuracy: 0.9725 - loss: 0.1163 - val_accuracy: 0.9736 - val_loss: 0.1108\n",
            "Epoch 9/100\n",
            "\u001b[1m4134/4134\u001b[0m \u001b[32m━━━━━━━━━━━━━━━━━━━━\u001b[0m\u001b[37m\u001b[0m \u001b[1m9s\u001b[0m 2ms/step - accuracy: 0.9726 - loss: 0.1165 - val_accuracy: 0.9739 - val_loss: 0.1101\n",
            "Epoch 10/100\n",
            "\u001b[1m4134/4134\u001b[0m \u001b[32m━━━━━━━━━━━━━━━━━━━━\u001b[0m\u001b[37m\u001b[0m \u001b[1m9s\u001b[0m 2ms/step - accuracy: 0.9728 - loss: 0.1155 - val_accuracy: 0.9740 - val_loss: 0.1097\n",
            "Epoch 11/100\n",
            "\u001b[1m4134/4134\u001b[0m \u001b[32m━━━━━━━━━━━━━━━━━━━━\u001b[0m\u001b[37m\u001b[0m \u001b[1m10s\u001b[0m 2ms/step - accuracy: 0.9729 - loss: 0.1154 - val_accuracy: 0.9733 - val_loss: 0.1108\n",
            "Epoch 12/100\n",
            "\u001b[1m4134/4134\u001b[0m \u001b[32m━━━━━━━━━━━━━━━━━━━━\u001b[0m\u001b[37m\u001b[0m \u001b[1m10s\u001b[0m 2ms/step - accuracy: 0.9731 - loss: 0.1154 - val_accuracy: 0.9742 - val_loss: 0.1095\n",
            "Epoch 13/100\n",
            "\u001b[1m4134/4134\u001b[0m \u001b[32m━━━━━━━━━━━━━━━━━━━━\u001b[0m\u001b[37m\u001b[0m \u001b[1m9s\u001b[0m 2ms/step - accuracy: 0.9725 - loss: 0.1179 - val_accuracy: 0.9743 - val_loss: 0.1101\n",
            "Epoch 14/100\n",
            "\u001b[1m4134/4134\u001b[0m \u001b[32m━━━━━━━━━━━━━━━━━━━━\u001b[0m\u001b[37m\u001b[0m \u001b[1m9s\u001b[0m 2ms/step - accuracy: 0.9733 - loss: 0.1161 - val_accuracy: 0.9744 - val_loss: 0.1100\n",
            "Epoch 15/100\n",
            "\u001b[1m4134/4134\u001b[0m \u001b[32m━━━━━━━━━━━━━━━━━━━━\u001b[0m\u001b[37m\u001b[0m \u001b[1m11s\u001b[0m 3ms/step - accuracy: 0.9734 - loss: 0.1157 - val_accuracy: 0.9744 - val_loss: 0.1107\n",
            "Epoch 16/100\n",
            "\u001b[1m4134/4134\u001b[0m \u001b[32m━━━━━━━━━━━━━━━━━━━━\u001b[0m\u001b[37m\u001b[0m \u001b[1m8s\u001b[0m 2ms/step - accuracy: 0.9730 - loss: 0.1166 - val_accuracy: 0.9744 - val_loss: 0.1101\n",
            "Epoch 17/100\n",
            "\u001b[1m4134/4134\u001b[0m \u001b[32m━━━━━━━━━━━━━━━━━━━━\u001b[0m\u001b[37m\u001b[0m \u001b[1m9s\u001b[0m 2ms/step - accuracy: 0.9730 - loss: 0.1169 - val_accuracy: 0.9738 - val_loss: 0.1121\n",
            "Epoch 18/100\n",
            "\u001b[1m4134/4134\u001b[0m \u001b[32m━━━━━━━━━━━━━━━━━━━━\u001b[0m\u001b[37m\u001b[0m \u001b[1m9s\u001b[0m 2ms/step - accuracy: 0.9727 - loss: 0.1187 - val_accuracy: 0.9743 - val_loss: 0.1118\n",
            "Epoch 19/100\n",
            "\u001b[1m4134/4134\u001b[0m \u001b[32m━━━━━━━━━━━━━━━━━━━━\u001b[0m\u001b[37m\u001b[0m \u001b[1m8s\u001b[0m 2ms/step - accuracy: 0.9728 - loss: 0.1175 - val_accuracy: 0.9736 - val_loss: 0.1131\n",
            "Epoch 20/100\n",
            "\u001b[1m4134/4134\u001b[0m \u001b[32m━━━━━━━━━━━━━━━━━━━━\u001b[0m\u001b[37m\u001b[0m \u001b[1m8s\u001b[0m 2ms/step - accuracy: 0.9735 - loss: 0.1164 - val_accuracy: 0.9745 - val_loss: 0.1111\n",
            "Epoch 21/100\n",
            "\u001b[1m4134/4134\u001b[0m \u001b[32m━━━━━━━━━━━━━━━━━━━━\u001b[0m\u001b[37m\u001b[0m \u001b[1m9s\u001b[0m 2ms/step - accuracy: 0.9734 - loss: 0.1168 - val_accuracy: 0.9746 - val_loss: 0.1106\n",
            "Epoch 22/100\n",
            "\u001b[1m4134/4134\u001b[0m \u001b[32m━━━━━━━━━━━━━━━━━━━━\u001b[0m\u001b[37m\u001b[0m \u001b[1m9s\u001b[0m 2ms/step - accuracy: 0.9727 - loss: 0.1192 - val_accuracy: 0.9743 - val_loss: 0.1119\n"
          ]
        },
        {
          "name": "stderr",
          "output_type": "stream",
          "text": [
            "WARNING:absl:You are saving your model as an HDF5 file via `model.save()` or `keras.saving.save_model(model)`. This file format is considered legacy. We recommend using instead the native Keras format, e.g. `model.save('my_model.keras')` or `keras.saving.save_model(model, 'my_model.keras')`. \n"
          ]
        }
      ],
      "source": [
        "model_3 = Sequential([\n",
        "    Dense(128, activation='relu', input_shape=(X_train_processed.shape[1],), kernel_regularizer=l1(0.0001)),\n",
        "    Dropout(0.3),\n",
        "    Dense(64, activation='relu'),\n",
        "    Dropout(0.2),\n",
        "    Dense(32, activation='relu'),\n",
        "    Dropout(0.2),\n",
        "    Dense(16, activation='relu'),\n",
        "    Dropout(0.1),\n",
        "    Dense(1, activation='sigmoid')\n",
        "])\n",
        "\n",
        "model_3.compile(optimizer=RMSprop(learning_rate=0.0002), loss='binary_crossentropy', metrics=['accuracy'])\n",
        "\n",
        "early_stopping = EarlyStopping(monitor='val_loss', patience=10, restore_best_weights=True)\n",
        "\n",
        "history_3 = model_3.fit(X_train_processed, y_train, epochs=100, batch_size=100,\n",
        "                        validation_data=(X_val_processed, y_val),\n",
        "                        callbacks=[early_stopping], verbose=1)\n",
        "\n",
        "save_model(model_3, 'saved_models/nn_instance_3.h5')"
      ]
    },
    {
      "cell_type": "markdown",
      "metadata": {},
      "source": [
        "#### Neural Network Model Instance 3 Error Analysis:"
      ]
    },
    {
      "cell_type": "code",
      "execution_count": 61,
      "metadata": {},
      "outputs": [
        {
          "name": "stdout",
          "output_type": "stream",
          "text": [
            "\u001b[1m2769/2769\u001b[0m \u001b[32m━━━━━━━━━━━━━━━━━━━━\u001b[0m\u001b[37m\u001b[0m \u001b[1m2s\u001b[0m 694us/step\n"
          ]
        },
        {
          "data": {
            "image/png": "[encoded data removed]",
            "text/plain": [
              "<Figure size 640x480 with 2 Axes>"
            ]
          },
          "metadata": {},
          "output_type": "display_data"
        },
        {
          "name": "stdout",
          "output_type": "stream",
          "text": [
            "=== Classification Report ===\n",
            "              precision    recall  f1-score   support\n",
            "\n",
            "   Not Fraud       0.98      1.00      0.99     85482\n",
            "       Fraud       0.81      0.34      0.47      3099\n",
            "\n",
            "    accuracy                           0.97     88581\n",
            "   macro avg       0.89      0.67      0.73     88581\n",
            "weighted avg       0.97      0.97      0.97     88581\n",
            "\n",
            "True Negatives (TN): 85240\n",
            "False Positives (FP): 242\n",
            "False Negatives (FN): 2060\n",
            "True Positives (TP): 1039\n"
          ]
        }
      ],
      "source": [
        "# Predict probabilities and convert to binary labels\n",
        "y_test_pred_prob = model_3.predict(X_test_processed)\n",
        "y_test_pred = (y_test_pred_prob > 0.5).astype(int).reshape(-1)\n",
        "y_test_true = y_test.values.reshape(-1)\n",
        "\n",
        "# Confusion matrix\n",
        "cm = confusion_matrix(y_test_true, y_test_pred)\n",
        "\n",
        "# Display with labels\n",
        "disp = ConfusionMatrixDisplay(confusion_matrix=cm, display_labels=[\"Not Fraud\", \"Fraud\"])\n",
        "disp.plot(cmap=\"Blues\")\n",
        "plt.title(\"Confusion Matrix - Test Set\")\n",
        "plt.show()\n",
        "\n",
        "# Detailed classification report\n",
        "report = classification_report(y_test_true, y_test_pred, target_names=[\"Not Fraud\", \"Fraud\"])\n",
        "print(\"=== Classification Report ===\")\n",
        "print(report)\n",
        "tn, fp, fn, tp = cm.ravel()\n",
        "print(f\"True Negatives (TN): {tn}\")\n",
        "print(f\"False Positives (FP): {fp}\")\n",
        "print(f\"False Negatives (FN): {fn}\")\n",
        "print(f\"True Positives (TP): {tp}\")"
      ]
    },
    {
      "cell_type": "markdown",
      "metadata": {},
      "source": [
        "### Neural Network Model Instance 4:\n",
        "A deep neural network with three hidden layers (256, 128, 64 neurons), applying L2 regularization on the first layer for binary classification. It's compiled using the SGD optimizer and trained for 30 epochs with a batch size of 64. The trained model is then saved to a file."
      ]
    },
    {
      "cell_type": "code",
      "execution_count": null,
      "metadata": {},
      "outputs": [
        {
          "name": "stderr",
          "output_type": "stream",
          "text": [
            "/Users/irakizagaius/Downloads/FraudDetection/.venv/lib/python3.10/site-packages/keras/src/layers/core/dense.py:93: UserWarning: Do not pass an `input_shape`/`input_dim` argument to a layer. When using Sequential models, prefer using an `Input(shape)` object as the first layer in the model instead.\n",
            "  super().__init__(activity_regularizer=activity_regularizer, **kwargs)\n"
          ]
        },
        {
          "name": "stdout",
          "output_type": "stream",
          "text": [
            "Epoch 1/150\n",
            "\u001b[1m2756/2756\u001b[0m \u001b[32m━━━━━━━━━━━━━━━━━━━━\u001b[0m\u001b[37m\u001b[0m \u001b[1m7s\u001b[0m 2ms/step - accuracy: 0.9645 - loss: 0.3023 - val_accuracy: 0.9699 - val_loss: 0.2486\n",
            "Epoch 2/150\n",
            "\u001b[1m2756/2756\u001b[0m \u001b[32m━━━━━━━━━━━━━━━━━━━━\u001b[0m\u001b[37m\u001b[0m \u001b[1m6s\u001b[0m 2ms/step - accuracy: 0.9699 - loss: 0.2425 - val_accuracy: 0.9714 - val_loss: 0.2281\n",
            "Epoch 3/150\n",
            "\u001b[1m2756/2756\u001b[0m \u001b[32m━━━━━━━━━━━━━━━━━━━━\u001b[0m\u001b[37m\u001b[0m \u001b[1m5s\u001b[0m 2ms/step - accuracy: 0.9712 - loss: 0.2236 - val_accuracy: 0.9720 - val_loss: 0.2127\n",
            "Epoch 4/150\n",
            "\u001b[1m2756/2756\u001b[0m \u001b[32m━━━━━━━━━━━━━━━━━━━━\u001b[0m\u001b[37m\u001b[0m \u001b[1m5s\u001b[0m 2ms/step - accuracy: 0.9712 - loss: 0.2103 - val_accuracy: 0.9721 - val_loss: 0.1995\n",
            "Epoch 5/150\n",
            "\u001b[1m2756/2756\u001b[0m \u001b[32m━━━━━━━━━━━━━━━━━━━━\u001b[0m\u001b[37m\u001b[0m \u001b[1m5s\u001b[0m 2ms/step - accuracy: 0.9717 - loss: 0.1980 - val_accuracy: 0.9724 - val_loss: 0.1879\n",
            "Epoch 6/150\n",
            "\u001b[1m2756/2756\u001b[0m \u001b[32m━━━━━━━━━━━━━━━━━━━━\u001b[0m\u001b[37m\u001b[0m \u001b[1m6s\u001b[0m 2ms/step - accuracy: 0.9722 - loss: 0.1852 - val_accuracy: 0.9726 - val_loss: 0.1776\n",
            "Epoch 7/150\n",
            "\u001b[1m2756/2756\u001b[0m \u001b[32m━━━━━━━━━━━━━━━━━━━━\u001b[0m\u001b[37m\u001b[0m \u001b[1m6s\u001b[0m 2ms/step - accuracy: 0.9727 - loss: 0.1755 - val_accuracy: 0.9728 - val_loss: 0.1684\n",
            "Epoch 8/150\n",
            "\u001b[1m2756/2756\u001b[0m \u001b[32m━━━━━━━━━━━━━━━━━━━━\u001b[0m\u001b[37m\u001b[0m \u001b[1m5s\u001b[0m 2ms/step - accuracy: 0.9731 - loss: 0.1659 - val_accuracy: 0.9733 - val_loss: 0.1602\n",
            "Epoch 9/150\n",
            "\u001b[1m2756/2756\u001b[0m \u001b[32m━━━━━━━━━━━━━━━━━━━━\u001b[0m\u001b[37m\u001b[0m \u001b[1m5s\u001b[0m 2ms/step - accuracy: 0.9733 - loss: 0.1578 - val_accuracy: 0.9730 - val_loss: 0.1529\n",
            "Epoch 10/150\n",
            "\u001b[1m2756/2756\u001b[0m \u001b[32m━━━━━━━━━━━━━━━━━━━━\u001b[0m\u001b[37m\u001b[0m \u001b[1m5s\u001b[0m 2ms/step - accuracy: 0.9737 - loss: 0.1506 - val_accuracy: 0.9732 - val_loss: 0.1467\n",
            "Epoch 11/150\n",
            "\u001b[1m2756/2756\u001b[0m \u001b[32m━━━━━━━━━━━━━━━━━━━━\u001b[0m\u001b[37m\u001b[0m \u001b[1m5s\u001b[0m 2ms/step - accuracy: 0.9735 - loss: 0.1442 - val_accuracy: 0.9736 - val_loss: 0.1403\n",
            "Epoch 12/150\n",
            "\u001b[1m2756/2756\u001b[0m \u001b[32m━━━━━━━━━━━━━━━━━━━━\u001b[0m\u001b[37m\u001b[0m \u001b[1m6s\u001b[0m 2ms/step - accuracy: 0.9736 - loss: 0.1383 - val_accuracy: 0.9734 - val_loss: 0.1352\n",
            "Epoch 13/150\n",
            "\u001b[1m2756/2756\u001b[0m \u001b[32m━━━━━━━━━━━━━━━━━━━━\u001b[0m\u001b[37m\u001b[0m \u001b[1m5s\u001b[0m 2ms/step - accuracy: 0.9739 - loss: 0.1330 - val_accuracy: 0.9742 - val_loss: 0.1302\n",
            "Epoch 14/150\n",
            "\u001b[1m2756/2756\u001b[0m \u001b[32m━━━━━━━━━━━━━━━━━━━━\u001b[0m\u001b[37m\u001b[0m \u001b[1m5s\u001b[0m 2ms/step - accuracy: 0.9739 - loss: 0.1290 - val_accuracy: 0.9735 - val_loss: 0.1283\n",
            "Epoch 15/150\n",
            "\u001b[1m2756/2756\u001b[0m \u001b[32m━━━━━━━━━━━━━━━━━━━━\u001b[0m\u001b[37m\u001b[0m \u001b[1m6s\u001b[0m 2ms/step - accuracy: 0.9741 - loss: 0.1244 - val_accuracy: 0.9738 - val_loss: 0.1219\n",
            "Epoch 16/150\n",
            "\u001b[1m2756/2756\u001b[0m \u001b[32m━━━━━━━━━━━━━━━━━━━━\u001b[0m\u001b[37m\u001b[0m \u001b[1m6s\u001b[0m 2ms/step - accuracy: 0.9740 - loss: 0.1213 - val_accuracy: 0.9747 - val_loss: 0.1183\n",
            "Epoch 17/150\n",
            "\u001b[1m2756/2756\u001b[0m \u001b[32m━━━━━━━━━━━━━━━━━━━━\u001b[0m\u001b[37m\u001b[0m \u001b[1m6s\u001b[0m 2ms/step - accuracy: 0.9743 - loss: 0.1172 - val_accuracy: 0.9748 - val_loss: 0.1149\n",
            "Epoch 18/150\n",
            "\u001b[1m2756/2756\u001b[0m \u001b[32m━━━━━━━━━━━━━━━━━━━━\u001b[0m\u001b[37m\u001b[0m \u001b[1m6s\u001b[0m 2ms/step - accuracy: 0.9749 - loss: 0.1134 - val_accuracy: 0.9754 - val_loss: 0.1141\n",
            "Epoch 19/150\n",
            "\u001b[1m2756/2756\u001b[0m \u001b[32m━━━━━━━━━━━━━━━━━━━━\u001b[0m\u001b[37m\u001b[0m \u001b[1m6s\u001b[0m 2ms/step - accuracy: 0.9754 - loss: 0.1094 - val_accuracy: 0.9752 - val_loss: 0.1096\n",
            "Epoch 20/150\n",
            "\u001b[1m2756/2756\u001b[0m \u001b[32m━━━━━━━━━━━━━━━━━━━━\u001b[0m\u001b[37m\u001b[0m \u001b[1m6s\u001b[0m 2ms/step - accuracy: 0.9746 - loss: 0.1085 - val_accuracy: 0.9745 - val_loss: 0.1083\n",
            "Epoch 21/150\n",
            "\u001b[1m2756/2756\u001b[0m \u001b[32m━━━━━━━━━━━━━━━━━━━━\u001b[0m\u001b[37m\u001b[0m \u001b[1m6s\u001b[0m 2ms/step - accuracy: 0.9749 - loss: 0.1065 - val_accuracy: 0.9744 - val_loss: 0.1067\n",
            "Epoch 22/150\n",
            "\u001b[1m2756/2756\u001b[0m \u001b[32m━━━━━━━━━━━━━━━━━━━━\u001b[0m\u001b[37m\u001b[0m \u001b[1m6s\u001b[0m 2ms/step - accuracy: 0.9751 - loss: 0.1040 - val_accuracy: 0.9750 - val_loss: 0.1035\n",
            "Epoch 23/150\n",
            "\u001b[1m2756/2756\u001b[0m \u001b[32m━━━━━━━━━━━━━━━━━━━━\u001b[0m\u001b[37m\u001b[0m \u001b[1m7s\u001b[0m 3ms/step - accuracy: 0.9748 - loss: 0.1030 - val_accuracy: 0.9752 - val_loss: 0.1019\n",
            "Epoch 24/150\n",
            "\u001b[1m2756/2756\u001b[0m \u001b[32m━━━━━━━━━━━━━━━━━━━━\u001b[0m\u001b[37m\u001b[0m \u001b[1m6s\u001b[0m 2ms/step - accuracy: 0.9755 - loss: 0.0999 - val_accuracy: 0.9751 - val_loss: 0.1018\n",
            "Epoch 25/150\n",
            "\u001b[1m2756/2756\u001b[0m \u001b[32m━━━━━━━━━━━━━━━━━━━━\u001b[0m\u001b[37m\u001b[0m \u001b[1m6s\u001b[0m 2ms/step - accuracy: 0.9757 - loss: 0.0988 - val_accuracy: 0.9751 - val_loss: 0.1007\n",
            "Epoch 26/150\n",
            "\u001b[1m2756/2756\u001b[0m \u001b[32m━━━━━━━━━━━━━━━━━━━━\u001b[0m\u001b[37m\u001b[0m \u001b[1m6s\u001b[0m 2ms/step - accuracy: 0.9759 - loss: 0.0972 - val_accuracy: 0.9753 - val_loss: 0.0985\n",
            "Epoch 27/150\n",
            "\u001b[1m2756/2756\u001b[0m \u001b[32m━━━━━━━━━━━━━━━━━━━━\u001b[0m\u001b[37m\u001b[0m \u001b[1m7s\u001b[0m 2ms/step - accuracy: 0.9759 - loss: 0.0958 - val_accuracy: 0.9760 - val_loss: 0.0973\n",
            "Epoch 28/150\n",
            "\u001b[1m2756/2756\u001b[0m \u001b[32m━━━━━━━━━━━━━━━━━━━━\u001b[0m\u001b[37m\u001b[0m \u001b[1m7s\u001b[0m 2ms/step - accuracy: 0.9760 - loss: 0.0945 - val_accuracy: 0.9757 - val_loss: 0.0960\n",
            "Epoch 29/150\n",
            "\u001b[1m2756/2756\u001b[0m \u001b[32m━━━━━━━━━━━━━━━━━━━━\u001b[0m\u001b[37m\u001b[0m \u001b[1m6s\u001b[0m 2ms/step - accuracy: 0.9755 - loss: 0.0950 - val_accuracy: 0.9744 - val_loss: 0.0981\n",
            "Epoch 30/150\n",
            "\u001b[1m2756/2756\u001b[0m \u001b[32m━━━━━━━━━━━━━━━━━━━━\u001b[0m\u001b[37m\u001b[0m \u001b[1m6s\u001b[0m 2ms/step - accuracy: 0.9758 - loss: 0.0939 - val_accuracy: 0.9748 - val_loss: 0.0970\n",
            "Epoch 31/150\n",
            "\u001b[1m2756/2756\u001b[0m \u001b[32m━━━━━━━━━━━━━━━━━━━━\u001b[0m\u001b[37m\u001b[0m \u001b[1m6s\u001b[0m 2ms/step - accuracy: 0.9762 - loss: 0.0928 - val_accuracy: 0.9758 - val_loss: 0.0940\n",
            "Epoch 32/150\n",
            "\u001b[1m2756/2756\u001b[0m \u001b[32m━━━━━━━━━━━━━━━━━━━━\u001b[0m\u001b[37m\u001b[0m \u001b[1m6s\u001b[0m 2ms/step - accuracy: 0.9761 - loss: 0.0920 - val_accuracy: 0.9742 - val_loss: 0.0963\n",
            "Epoch 33/150\n",
            "\u001b[1m2756/2756\u001b[0m \u001b[32m━━━━━━━━━━━━━━━━━━━━\u001b[0m\u001b[37m\u001b[0m \u001b[1m6s\u001b[0m 2ms/step - accuracy: 0.9766 - loss: 0.0898 - val_accuracy: 0.9761 - val_loss: 0.0918\n",
            "Epoch 34/150\n",
            "\u001b[1m2756/2756\u001b[0m \u001b[32m━━━━━━━━━━━━━━━━━━━━\u001b[0m\u001b[37m\u001b[0m \u001b[1m5s\u001b[0m 2ms/step - accuracy: 0.9762 - loss: 0.0902 - val_accuracy: 0.9750 - val_loss: 0.0942\n",
            "Epoch 35/150\n",
            "\u001b[1m2756/2756\u001b[0m \u001b[32m━━━━━━━━━━━━━━━━━━━━\u001b[0m\u001b[37m\u001b[0m \u001b[1m6s\u001b[0m 2ms/step - accuracy: 0.9765 - loss: 0.0896 - val_accuracy: 0.9764 - val_loss: 0.0906\n",
            "Epoch 36/150\n",
            "\u001b[1m2756/2756\u001b[0m \u001b[32m━━━━━━━━━━━━━━━━━━━━\u001b[0m\u001b[37m\u001b[0m \u001b[1m5s\u001b[0m 2ms/step - accuracy: 0.9772 - loss: 0.0868 - val_accuracy: 0.9764 - val_loss: 0.0919\n",
            "Epoch 37/150\n",
            "\u001b[1m2756/2756\u001b[0m \u001b[32m━━━━━━━━━━━━━━━━━━━━\u001b[0m\u001b[37m\u001b[0m \u001b[1m6s\u001b[0m 2ms/step - accuracy: 0.9768 - loss: 0.0877 - val_accuracy: 0.9769 - val_loss: 0.0924\n",
            "Epoch 38/150\n",
            "\u001b[1m2756/2756\u001b[0m \u001b[32m━━━━━━━━━━━━━━━━━━━━\u001b[0m\u001b[37m\u001b[0m \u001b[1m8s\u001b[0m 3ms/step - accuracy: 0.9771 - loss: 0.0870 - val_accuracy: 0.9773 - val_loss: 0.0908\n",
            "Epoch 39/150\n",
            "\u001b[1m2756/2756\u001b[0m \u001b[32m━━━━━━━━━━━━━━━━━━━━\u001b[0m\u001b[37m\u001b[0m \u001b[1m7s\u001b[0m 2ms/step - accuracy: 0.9768 - loss: 0.0864 - val_accuracy: 0.9769 - val_loss: 0.0895\n",
            "Epoch 40/150\n",
            "\u001b[1m2756/2756\u001b[0m \u001b[32m━━━━━━━━━━━━━━━━━━━━\u001b[0m\u001b[37m\u001b[0m \u001b[1m7s\u001b[0m 3ms/step - accuracy: 0.9771 - loss: 0.0867 - val_accuracy: 0.9769 - val_loss: 0.0917\n",
            "Epoch 41/150\n",
            "\u001b[1m2756/2756\u001b[0m \u001b[32m━━━━━━━━━━━━━━━━━━━━\u001b[0m\u001b[37m\u001b[0m \u001b[1m6s\u001b[0m 2ms/step - accuracy: 0.9775 - loss: 0.0854 - val_accuracy: 0.9769 - val_loss: 0.0878\n",
            "Epoch 42/150\n",
            "\u001b[1m2756/2756\u001b[0m \u001b[32m━━━━━━━━━━━━━━━━━━━━\u001b[0m\u001b[37m\u001b[0m \u001b[1m6s\u001b[0m 2ms/step - accuracy: 0.9770 - loss: 0.0863 - val_accuracy: 0.9769 - val_loss: 0.0909\n",
            "Epoch 43/150\n",
            "\u001b[1m2756/2756\u001b[0m \u001b[32m━━━━━━━━━━━━━━━━━━━━\u001b[0m\u001b[37m\u001b[0m \u001b[1m6s\u001b[0m 2ms/step - accuracy: 0.9770 - loss: 0.0866 - val_accuracy: 0.9765 - val_loss: 0.0919\n",
            "Epoch 44/150\n",
            "\u001b[1m2756/2756\u001b[0m \u001b[32m━━━━━━━━━━━━━━━━━━━━\u001b[0m\u001b[37m\u001b[0m \u001b[1m6s\u001b[0m 2ms/step - accuracy: 0.9775 - loss: 0.0848 - val_accuracy: 0.9764 - val_loss: 0.0898\n",
            "Epoch 45/150\n",
            "\u001b[1m2756/2756\u001b[0m \u001b[32m━━━━━━━━━━━━━━━━━━━━\u001b[0m\u001b[37m\u001b[0m \u001b[1m6s\u001b[0m 2ms/step - accuracy: 0.9773 - loss: 0.0854 - val_accuracy: 0.9764 - val_loss: 0.0906\n",
            "Epoch 46/150\n",
            "\u001b[1m2756/2756\u001b[0m \u001b[32m━━━━━━━━━━━━━━━━━━━━\u001b[0m\u001b[37m\u001b[0m \u001b[1m6s\u001b[0m 2ms/step - accuracy: 0.9774 - loss: 0.0847 - val_accuracy: 0.9774 - val_loss: 0.0889\n",
            "Epoch 47/150\n",
            "\u001b[1m2756/2756\u001b[0m \u001b[32m━━━━━━━━━━━━━━━━━━━━\u001b[0m\u001b[37m\u001b[0m \u001b[1m6s\u001b[0m 2ms/step - accuracy: 0.9774 - loss: 0.0849 - val_accuracy: 0.9753 - val_loss: 0.0939\n",
            "Epoch 48/150\n",
            "\u001b[1m2756/2756\u001b[0m \u001b[32m━━━━━━━━━━━━━━━━━━━━\u001b[0m\u001b[37m\u001b[0m \u001b[1m6s\u001b[0m 2ms/step - accuracy: 0.9777 - loss: 0.0839 - val_accuracy: 0.9774 - val_loss: 0.0868\n",
            "Epoch 49/150\n",
            "\u001b[1m2756/2756\u001b[0m \u001b[32m━━━━━━━━━━━━━━━━━━━━\u001b[0m\u001b[37m\u001b[0m \u001b[1m6s\u001b[0m 2ms/step - accuracy: 0.9778 - loss: 0.0833 - val_accuracy: 0.9768 - val_loss: 0.0883\n",
            "Epoch 50/150\n",
            "\u001b[1m2756/2756\u001b[0m \u001b[32m━━━━━━━━━━━━━━━━━━━━\u001b[0m\u001b[37m\u001b[0m \u001b[1m6s\u001b[0m 2ms/step - accuracy: 0.9780 - loss: 0.0829 - val_accuracy: 0.9769 - val_loss: 0.0890\n",
            "Epoch 51/150\n",
            "\u001b[1m2756/2756\u001b[0m \u001b[32m━━━━━━━━━━━━━━━━━━━━\u001b[0m\u001b[37m\u001b[0m \u001b[1m6s\u001b[0m 2ms/step - accuracy: 0.9778 - loss: 0.0832 - val_accuracy: 0.9773 - val_loss: 0.0868\n",
            "Epoch 52/150\n",
            "\u001b[1m2756/2756\u001b[0m \u001b[32m━━━━━━━━━━━━━━━━━━━━\u001b[0m\u001b[37m\u001b[0m \u001b[1m6s\u001b[0m 2ms/step - accuracy: 0.9777 - loss: 0.0837 - val_accuracy: 0.9740 - val_loss: 0.0975\n",
            "Epoch 53/150\n",
            "\u001b[1m2756/2756\u001b[0m \u001b[32m━━━━━━━━━━━━━━━━━━━━\u001b[0m\u001b[37m\u001b[0m \u001b[1m6s\u001b[0m 2ms/step - accuracy: 0.9783 - loss: 0.0817 - val_accuracy: 0.9770 - val_loss: 0.0883\n",
            "Epoch 54/150\n",
            "\u001b[1m2756/2756\u001b[0m \u001b[32m━━━━━━━━━━━━━━━━━━━━\u001b[0m\u001b[37m\u001b[0m \u001b[1m6s\u001b[0m 2ms/step - accuracy: 0.9777 - loss: 0.0833 - val_accuracy: 0.9771 - val_loss: 0.0889\n",
            "Epoch 55/150\n",
            "\u001b[1m2756/2756\u001b[0m \u001b[32m━━━━━━━━━━━━━━━━━━━━\u001b[0m\u001b[37m\u001b[0m \u001b[1m6s\u001b[0m 2ms/step - accuracy: 0.9781 - loss: 0.0819 - val_accuracy: 0.9746 - val_loss: 0.0955\n",
            "Epoch 56/150\n",
            "\u001b[1m2756/2756\u001b[0m \u001b[32m━━━━━━━━━━━━━━━━━━━━\u001b[0m\u001b[37m\u001b[0m \u001b[1m6s\u001b[0m 2ms/step - accuracy: 0.9783 - loss: 0.0815 - val_accuracy: 0.9771 - val_loss: 0.0881\n",
            "Epoch 57/150\n",
            "\u001b[1m2756/2756\u001b[0m \u001b[32m━━━━━━━━━━━━━━━━━━━━\u001b[0m\u001b[37m\u001b[0m \u001b[1m6s\u001b[0m 2ms/step - accuracy: 0.9782 - loss: 0.0822 - val_accuracy: 0.9771 - val_loss: 0.0887\n",
            "Epoch 58/150\n",
            "\u001b[1m2756/2756\u001b[0m \u001b[32m━━━━━━━━━━━━━━━━━━━━\u001b[0m\u001b[37m\u001b[0m \u001b[1m6s\u001b[0m 2ms/step - accuracy: 0.9783 - loss: 0.0811 - val_accuracy: 0.9772 - val_loss: 0.0877\n",
            "Epoch 59/150\n",
            "\u001b[1m2756/2756\u001b[0m \u001b[32m━━━━━━━━━━━━━━━━━━━━\u001b[0m\u001b[37m\u001b[0m \u001b[1m6s\u001b[0m 2ms/step - accuracy: 0.9779 - loss: 0.0822 - val_accuracy: 0.9774 - val_loss: 0.0864\n",
            "Epoch 60/150\n",
            "\u001b[1m2756/2756\u001b[0m \u001b[32m━━━━━━━━━━━━━━━━━━━━\u001b[0m\u001b[37m\u001b[0m \u001b[1m6s\u001b[0m 2ms/step - accuracy: 0.9785 - loss: 0.0804 - val_accuracy: 0.9779 - val_loss: 0.0861\n",
            "Epoch 61/150\n",
            "\u001b[1m2756/2756\u001b[0m \u001b[32m━━━━━━━━━━━━━━━━━━━━\u001b[0m\u001b[37m\u001b[0m \u001b[1m6s\u001b[0m 2ms/step - accuracy: 0.9787 - loss: 0.0795 - val_accuracy: 0.9766 - val_loss: 0.0894\n",
            "Epoch 62/150\n",
            "\u001b[1m2756/2756\u001b[0m \u001b[32m━━━━━━━━━━━━━━━━━━━━\u001b[0m\u001b[37m\u001b[0m \u001b[1m6s\u001b[0m 2ms/step - accuracy: 0.9791 - loss: 0.0793 - val_accuracy: 0.9773 - val_loss: 0.0891\n",
            "Epoch 63/150\n",
            "\u001b[1m2756/2756\u001b[0m \u001b[32m━━━━━━━━━━━━━━━━━━━━\u001b[0m\u001b[37m\u001b[0m \u001b[1m6s\u001b[0m 2ms/step - accuracy: 0.9784 - loss: 0.0807 - val_accuracy: 0.9771 - val_loss: 0.0885\n",
            "Epoch 64/150\n",
            "\u001b[1m2756/2756\u001b[0m \u001b[32m━━━━━━━━━━━━━━━━━━━━\u001b[0m\u001b[37m\u001b[0m \u001b[1m6s\u001b[0m 2ms/step - accuracy: 0.9787 - loss: 0.0797 - val_accuracy: 0.9767 - val_loss: 0.0900\n",
            "Epoch 65/150\n",
            "\u001b[1m2756/2756\u001b[0m \u001b[32m━━━━━━━━━━━━━━━━━━━━\u001b[0m\u001b[37m\u001b[0m \u001b[1m6s\u001b[0m 2ms/step - accuracy: 0.9788 - loss: 0.0796 - val_accuracy: 0.9779 - val_loss: 0.0856\n",
            "Epoch 66/150\n",
            "\u001b[1m2756/2756\u001b[0m \u001b[32m━━━━━━━━━━━━━━━━━━━━\u001b[0m\u001b[37m\u001b[0m \u001b[1m6s\u001b[0m 2ms/step - accuracy: 0.9790 - loss: 0.0786 - val_accuracy: 0.9769 - val_loss: 0.0885\n",
            "Epoch 67/150\n",
            "\u001b[1m2756/2756\u001b[0m \u001b[32m━━━━━━━━━━━━━━━━━━━━\u001b[0m\u001b[37m\u001b[0m \u001b[1m6s\u001b[0m 2ms/step - accuracy: 0.9787 - loss: 0.0798 - val_accuracy: 0.9776 - val_loss: 0.0865\n",
            "Epoch 68/150\n",
            "\u001b[1m2756/2756\u001b[0m \u001b[32m━━━━━━━━━━━━━━━━━━━━\u001b[0m\u001b[37m\u001b[0m \u001b[1m6s\u001b[0m 2ms/step - accuracy: 0.9788 - loss: 0.0799 - val_accuracy: 0.9777 - val_loss: 0.0869\n",
            "Epoch 69/150\n",
            "\u001b[1m2756/2756\u001b[0m \u001b[32m━━━━━━━━━━━━━━━━━━━━\u001b[0m\u001b[37m\u001b[0m \u001b[1m7s\u001b[0m 3ms/step - accuracy: 0.9787 - loss: 0.0797 - val_accuracy: 0.9765 - val_loss: 0.0899\n",
            "Epoch 70/150\n",
            "\u001b[1m2756/2756\u001b[0m \u001b[32m━━━━━━━━━━━━━━━━━━━━\u001b[0m\u001b[37m\u001b[0m \u001b[1m7s\u001b[0m 3ms/step - accuracy: 0.9791 - loss: 0.0787 - val_accuracy: 0.9783 - val_loss: 0.0864\n",
            "Epoch 71/150\n",
            "\u001b[1m2756/2756\u001b[0m \u001b[32m━━━━━━━━━━━━━━━━━━━━\u001b[0m\u001b[37m\u001b[0m \u001b[1m6s\u001b[0m 2ms/step - accuracy: 0.9791 - loss: 0.0794 - val_accuracy: 0.9775 - val_loss: 0.0872\n",
            "Epoch 72/150\n",
            "\u001b[1m2756/2756\u001b[0m \u001b[32m━━━━━━━━━━━━━━━━━━━━\u001b[0m\u001b[37m\u001b[0m \u001b[1m6s\u001b[0m 2ms/step - accuracy: 0.9795 - loss: 0.0779 - val_accuracy: 0.9784 - val_loss: 0.0856\n",
            "Epoch 73/150\n",
            "\u001b[1m2756/2756\u001b[0m \u001b[32m━━━━━━━━━━━━━━━━━━━━\u001b[0m\u001b[37m\u001b[0m \u001b[1m6s\u001b[0m 2ms/step - accuracy: 0.9793 - loss: 0.0790 - val_accuracy: 0.9764 - val_loss: 0.0908\n",
            "Epoch 74/150\n",
            "\u001b[1m2756/2756\u001b[0m \u001b[32m━━━━━━━━━━━━━━━━━━━━\u001b[0m\u001b[37m\u001b[0m \u001b[1m6s\u001b[0m 2ms/step - accuracy: 0.9788 - loss: 0.0795 - val_accuracy: 0.9781 - val_loss: 0.0870\n",
            "Epoch 75/150\n",
            "\u001b[1m2756/2756\u001b[0m \u001b[32m━━━━━━━━━━━━━━━━━━━━\u001b[0m\u001b[37m\u001b[0m \u001b[1m6s\u001b[0m 2ms/step - accuracy: 0.9794 - loss: 0.0787 - val_accuracy: 0.9784 - val_loss: 0.0884\n",
            "Epoch 76/150\n",
            "\u001b[1m2756/2756\u001b[0m \u001b[32m━━━━━━━━━━━━━━━━━━━━\u001b[0m\u001b[37m\u001b[0m \u001b[1m6s\u001b[0m 2ms/step - accuracy: 0.9794 - loss: 0.0783 - val_accuracy: 0.9783 - val_loss: 0.0871\n",
            "Epoch 77/150\n",
            "\u001b[1m2756/2756\u001b[0m \u001b[32m━━━━━━━━━━━━━━━━━━━━\u001b[0m\u001b[37m\u001b[0m \u001b[1m6s\u001b[0m 2ms/step - accuracy: 0.9791 - loss: 0.0782 - val_accuracy: 0.9782 - val_loss: 0.0877\n",
            "Epoch 78/150\n",
            "\u001b[1m2756/2756\u001b[0m \u001b[32m━━━━━━━━━━━━━━━━━━━━\u001b[0m\u001b[37m\u001b[0m \u001b[1m6s\u001b[0m 2ms/step - accuracy: 0.9799 - loss: 0.0767 - val_accuracy: 0.9784 - val_loss: 0.0849\n",
            "Epoch 79/150\n",
            "\u001b[1m2756/2756\u001b[0m \u001b[32m━━━━━━━━━━━━━━━━━━━━\u001b[0m\u001b[37m\u001b[0m \u001b[1m6s\u001b[0m 2ms/step - accuracy: 0.9799 - loss: 0.0769 - val_accuracy: 0.9782 - val_loss: 0.0853\n",
            "Epoch 80/150\n",
            "\u001b[1m2756/2756\u001b[0m \u001b[32m━━━━━━━━━━━━━━━━━━━━\u001b[0m\u001b[37m\u001b[0m \u001b[1m6s\u001b[0m 2ms/step - accuracy: 0.9798 - loss: 0.0767 - val_accuracy: 0.9784 - val_loss: 0.0853\n",
            "Epoch 81/150\n",
            "\u001b[1m2756/2756\u001b[0m \u001b[32m━━━━━━━━━━━━━━━━━━━━\u001b[0m\u001b[37m\u001b[0m \u001b[1m6s\u001b[0m 2ms/step - accuracy: 0.9796 - loss: 0.0769 - val_accuracy: 0.9782 - val_loss: 0.0863\n",
            "Epoch 82/150\n",
            "\u001b[1m2756/2756\u001b[0m \u001b[32m━━━━━━━━━━━━━━━━━━━━\u001b[0m\u001b[37m\u001b[0m \u001b[1m6s\u001b[0m 2ms/step - accuracy: 0.9800 - loss: 0.0758 - val_accuracy: 0.9788 - val_loss: 0.0845\n",
            "Epoch 83/150\n",
            "\u001b[1m2756/2756\u001b[0m \u001b[32m━━━━━━━━━━━━━━━━━━━━\u001b[0m\u001b[37m\u001b[0m \u001b[1m6s\u001b[0m 2ms/step - accuracy: 0.9800 - loss: 0.0767 - val_accuracy: 0.9768 - val_loss: 0.0910\n",
            "Epoch 84/150\n",
            "\u001b[1m2756/2756\u001b[0m \u001b[32m━━━━━━━━━━━━━━━━━━━━\u001b[0m\u001b[37m\u001b[0m \u001b[1m6s\u001b[0m 2ms/step - accuracy: 0.9794 - loss: 0.0778 - val_accuracy: 0.9785 - val_loss: 0.0850\n",
            "Epoch 85/150\n",
            "\u001b[1m2756/2756\u001b[0m \u001b[32m━━━━━━━━━━━━━━━━━━━━\u001b[0m\u001b[37m\u001b[0m \u001b[1m6s\u001b[0m 2ms/step - accuracy: 0.9797 - loss: 0.0771 - val_accuracy: 0.9786 - val_loss: 0.0860\n",
            "Epoch 86/150\n",
            "\u001b[1m2756/2756\u001b[0m \u001b[32m━━━━━━━━━━━━━━━━━━━━\u001b[0m\u001b[37m\u001b[0m \u001b[1m6s\u001b[0m 2ms/step - accuracy: 0.9800 - loss: 0.0761 - val_accuracy: 0.9763 - val_loss: 0.0903\n",
            "Epoch 87/150\n",
            "\u001b[1m2756/2756\u001b[0m \u001b[32m━━━━━━━━━━━━━━━━━━━━\u001b[0m\u001b[37m\u001b[0m \u001b[1m6s\u001b[0m 2ms/step - accuracy: 0.9800 - loss: 0.0764 - val_accuracy: 0.9772 - val_loss: 0.0893\n",
            "Epoch 88/150\n",
            "\u001b[1m2756/2756\u001b[0m \u001b[32m━━━━━━━━━━━━━━━━━━━━\u001b[0m\u001b[37m\u001b[0m \u001b[1m7s\u001b[0m 2ms/step - accuracy: 0.9800 - loss: 0.0767 - val_accuracy: 0.9779 - val_loss: 0.0871\n",
            "Epoch 89/150\n",
            "\u001b[1m2756/2756\u001b[0m \u001b[32m━━━━━━━━━━━━━━━━━━━━\u001b[0m\u001b[37m\u001b[0m \u001b[1m6s\u001b[0m 2ms/step - accuracy: 0.9802 - loss: 0.0756 - val_accuracy: 0.9784 - val_loss: 0.0843\n",
            "Epoch 90/150\n",
            "\u001b[1m2756/2756\u001b[0m \u001b[32m━━━━━━━━━━━━━━━━━━━━\u001b[0m\u001b[37m\u001b[0m \u001b[1m6s\u001b[0m 2ms/step - accuracy: 0.9794 - loss: 0.0779 - val_accuracy: 0.9776 - val_loss: 0.0876\n",
            "Epoch 91/150\n",
            "\u001b[1m2756/2756\u001b[0m \u001b[32m━━━━━━━━━━━━━━━━━━━━\u001b[0m\u001b[37m\u001b[0m \u001b[1m6s\u001b[0m 2ms/step - accuracy: 0.9800 - loss: 0.0770 - val_accuracy: 0.9777 - val_loss: 0.0876\n",
            "Epoch 92/150\n",
            "\u001b[1m2756/2756\u001b[0m \u001b[32m━━━━━━━━━━━━━━━━━━━━\u001b[0m\u001b[37m\u001b[0m \u001b[1m6s\u001b[0m 2ms/step - accuracy: 0.9798 - loss: 0.0770 - val_accuracy: 0.9786 - val_loss: 0.0858\n",
            "Epoch 93/150\n",
            "\u001b[1m2756/2756\u001b[0m \u001b[32m━━━━━━━━━━━━━━━━━━━━\u001b[0m\u001b[37m\u001b[0m \u001b[1m6s\u001b[0m 2ms/step - accuracy: 0.9797 - loss: 0.0758 - val_accuracy: 0.9775 - val_loss: 0.0901\n",
            "Epoch 94/150\n",
            "\u001b[1m2756/2756\u001b[0m \u001b[32m━━━━━━━━━━━━━━━━━━━━\u001b[0m\u001b[37m\u001b[0m \u001b[1m6s\u001b[0m 2ms/step - accuracy: 0.9804 - loss: 0.0749 - val_accuracy: 0.9786 - val_loss: 0.0852\n",
            "Epoch 95/150\n",
            "\u001b[1m2756/2756\u001b[0m \u001b[32m━━━━━━━━━━━━━━━━━━━━\u001b[0m\u001b[37m\u001b[0m \u001b[1m6s\u001b[0m 2ms/step - accuracy: 0.9804 - loss: 0.0745 - val_accuracy: 0.9760 - val_loss: 0.0912\n",
            "Epoch 96/150\n",
            "\u001b[1m2756/2756\u001b[0m \u001b[32m━━━━━━━━━━━━━━━━━━━━\u001b[0m\u001b[37m\u001b[0m \u001b[1m7s\u001b[0m 2ms/step - accuracy: 0.9800 - loss: 0.0755 - val_accuracy: 0.9780 - val_loss: 0.0899\n",
            "Epoch 97/150\n",
            "\u001b[1m2756/2756\u001b[0m \u001b[32m━━━━━━━━━━━━━━━━━━━━\u001b[0m\u001b[37m\u001b[0m \u001b[1m6s\u001b[0m 2ms/step - accuracy: 0.9803 - loss: 0.0746 - val_accuracy: 0.9781 - val_loss: 0.0859\n",
            "Epoch 98/150\n",
            "\u001b[1m2756/2756\u001b[0m \u001b[32m━━━━━━━━━━━━━━━━━━━━\u001b[0m\u001b[37m\u001b[0m \u001b[1m6s\u001b[0m 2ms/step - accuracy: 0.9803 - loss: 0.0760 - val_accuracy: 0.9784 - val_loss: 0.0862\n",
            "Epoch 99/150\n",
            "\u001b[1m2756/2756\u001b[0m \u001b[32m━━━━━━━━━━━━━━━━━━━━\u001b[0m\u001b[37m\u001b[0m \u001b[1m6s\u001b[0m 2ms/step - accuracy: 0.9802 - loss: 0.0752 - val_accuracy: 0.9787 - val_loss: 0.0864\n",
            "Epoch 100/150\n",
            "\u001b[1m2756/2756\u001b[0m \u001b[32m━━━━━━━━━━━━━━━━━━━━\u001b[0m\u001b[37m\u001b[0m \u001b[1m6s\u001b[0m 2ms/step - accuracy: 0.9808 - loss: 0.0749 - val_accuracy: 0.9788 - val_loss: 0.0864\n",
            "Epoch 101/150\n",
            "\u001b[1m2756/2756\u001b[0m \u001b[32m━━━━━━━━━━━━━━━━━━━━\u001b[0m\u001b[37m\u001b[0m \u001b[1m6s\u001b[0m 2ms/step - accuracy: 0.9804 - loss: 0.0752 - val_accuracy: 0.9789 - val_loss: 0.0861\n",
            "Epoch 102/150\n",
            "\u001b[1m2756/2756\u001b[0m \u001b[32m━━━━━━━━━━━━━━━━━━━━\u001b[0m\u001b[37m\u001b[0m \u001b[1m6s\u001b[0m 2ms/step - accuracy: 0.9805 - loss: 0.0753 - val_accuracy: 0.9785 - val_loss: 0.0854\n",
            "Epoch 103/150\n",
            "\u001b[1m2756/2756\u001b[0m \u001b[32m━━━━━━━━━━━━━━━━━━━━\u001b[0m\u001b[37m\u001b[0m \u001b[1m6s\u001b[0m 2ms/step - accuracy: 0.9806 - loss: 0.0745 - val_accuracy: 0.9790 - val_loss: 0.0848\n",
            "Epoch 104/150\n",
            "\u001b[1m2756/2756\u001b[0m \u001b[32m━━━━━━━━━━━━━━━━━━━━\u001b[0m\u001b[37m\u001b[0m \u001b[1m7s\u001b[0m 3ms/step - accuracy: 0.9806 - loss: 0.0743 - val_accuracy: 0.9793 - val_loss: 0.0840\n",
            "Epoch 105/150\n",
            "\u001b[1m2756/2756\u001b[0m \u001b[32m━━━━━━━━━━━━━━━━━━━━\u001b[0m\u001b[37m\u001b[0m \u001b[1m8s\u001b[0m 3ms/step - accuracy: 0.9809 - loss: 0.0736 - val_accuracy: 0.9746 - val_loss: 0.0956\n",
            "Epoch 106/150\n",
            "\u001b[1m2756/2756\u001b[0m \u001b[32m━━━━━━━━━━━━━━━━━━━━\u001b[0m\u001b[37m\u001b[0m \u001b[1m7s\u001b[0m 2ms/step - accuracy: 0.9808 - loss: 0.0734 - val_accuracy: 0.9782 - val_loss: 0.0865\n",
            "Epoch 107/150\n",
            "\u001b[1m2756/2756\u001b[0m \u001b[32m━━━━━━━━━━━━━━━━━━━━\u001b[0m\u001b[37m\u001b[0m \u001b[1m6s\u001b[0m 2ms/step - accuracy: 0.9809 - loss: 0.0741 - val_accuracy: 0.9786 - val_loss: 0.0858\n",
            "Epoch 108/150\n",
            "\u001b[1m2756/2756\u001b[0m \u001b[32m━━━━━━━━━━━━━━━━━━━━\u001b[0m\u001b[37m\u001b[0m \u001b[1m6s\u001b[0m 2ms/step - accuracy: 0.9807 - loss: 0.0746 - val_accuracy: 0.9791 - val_loss: 0.0847\n",
            "Epoch 109/150\n",
            "\u001b[1m2756/2756\u001b[0m \u001b[32m━━━━━━━━━━━━━━━━━━━━\u001b[0m\u001b[37m\u001b[0m \u001b[1m9s\u001b[0m 3ms/step - accuracy: 0.9808 - loss: 0.0743 - val_accuracy: 0.9786 - val_loss: 0.0855\n",
            "Epoch 110/150\n",
            "\u001b[1m2756/2756\u001b[0m \u001b[32m━━━━━━━━━━━━━━━━━━━━\u001b[0m\u001b[37m\u001b[0m \u001b[1m5s\u001b[0m 2ms/step - accuracy: 0.9807 - loss: 0.0744 - val_accuracy: 0.9790 - val_loss: 0.0849\n",
            "Epoch 111/150\n",
            "\u001b[1m2756/2756\u001b[0m \u001b[32m━━━━━━━━━━━━━━━━━━━━\u001b[0m\u001b[37m\u001b[0m \u001b[1m148s\u001b[0m 54ms/step - accuracy: 0.9813 - loss: 0.0727 - val_accuracy: 0.9785 - val_loss: 0.0858\n",
            "Epoch 112/150\n",
            "\u001b[1m2756/2756\u001b[0m \u001b[32m━━━━━━━━━━━━━━━━━━━━\u001b[0m\u001b[37m\u001b[0m \u001b[1m217s\u001b[0m 79ms/step - accuracy: 0.9805 - loss: 0.0745 - val_accuracy: 0.9792 - val_loss: 0.0859\n",
            "Epoch 113/150\n",
            "\u001b[1m2756/2756\u001b[0m \u001b[32m━━━━━━━━━━━━━━━━━━━━\u001b[0m\u001b[37m\u001b[0m \u001b[1m5s\u001b[0m 2ms/step - accuracy: 0.9813 - loss: 0.0729 - val_accuracy: 0.9781 - val_loss: 0.0859\n",
            "Epoch 114/150\n",
            "\u001b[1m2756/2756\u001b[0m \u001b[32m━━━━━━━━━━━━━━━━━━━━\u001b[0m\u001b[37m\u001b[0m \u001b[1m6s\u001b[0m 2ms/step - accuracy: 0.9813 - loss: 0.0726 - val_accuracy: 0.9790 - val_loss: 0.0839\n",
            "Epoch 115/150\n",
            "\u001b[1m2756/2756\u001b[0m \u001b[32m━━━━━━━━━━━━━━━━━━━━\u001b[0m\u001b[37m\u001b[0m \u001b[1m5s\u001b[0m 2ms/step - accuracy: 0.9814 - loss: 0.0727 - val_accuracy: 0.9762 - val_loss: 0.0930\n",
            "Epoch 116/150\n",
            "\u001b[1m2756/2756\u001b[0m \u001b[32m━━━━━━━━━━━━━━━━━━━━\u001b[0m\u001b[37m\u001b[0m \u001b[1m1518s\u001b[0m 551ms/step - accuracy: 0.9814 - loss: 0.0725 - val_accuracy: 0.9786 - val_loss: 0.0859\n",
            "Epoch 117/150\n",
            "\u001b[1m2756/2756\u001b[0m \u001b[32m━━━━━━━━━━━━━━━━━━━━\u001b[0m\u001b[37m\u001b[0m \u001b[1m5s\u001b[0m 2ms/step - accuracy: 0.9812 - loss: 0.0728 - val_accuracy: 0.9791 - val_loss: 0.0853\n",
            "Epoch 118/150\n",
            "\u001b[1m2756/2756\u001b[0m \u001b[32m━━━━━━━━━━━━━━━━━━━━\u001b[0m\u001b[37m\u001b[0m \u001b[1m7s\u001b[0m 3ms/step - accuracy: 0.9814 - loss: 0.0726 - val_accuracy: 0.9786 - val_loss: 0.0886\n",
            "Epoch 119/150\n",
            "\u001b[1m2756/2756\u001b[0m \u001b[32m━━━━━━━━━━━━━━━━━━━━\u001b[0m\u001b[37m\u001b[0m \u001b[1m7042s\u001b[0m 3s/step - accuracy: 0.9817 - loss: 0.0710 - val_accuracy: 0.9788 - val_loss: 0.0861\n",
            "Epoch 120/150\n",
            "\u001b[1m2756/2756\u001b[0m \u001b[32m━━━━━━━━━━━━━━━━━━━━\u001b[0m\u001b[37m\u001b[0m \u001b[1m5s\u001b[0m 2ms/step - accuracy: 0.9813 - loss: 0.0730 - val_accuracy: 0.9785 - val_loss: 0.0891\n",
            "Epoch 121/150\n",
            "\u001b[1m2756/2756\u001b[0m \u001b[32m━━━━━━━━━━━━━━━━━━━━\u001b[0m\u001b[37m\u001b[0m \u001b[1m2315s\u001b[0m 840ms/step - accuracy: 0.9815 - loss: 0.0721 - val_accuracy: 0.9790 - val_loss: 0.0856\n",
            "Epoch 122/150\n",
            "\u001b[1m2756/2756\u001b[0m \u001b[32m━━━━━━━━━━━━━━━━━━━━\u001b[0m\u001b[37m\u001b[0m \u001b[1m-134s\u001b[0m -48739us/step - accuracy: 0.9819 - loss: 0.0710 - val_accuracy: 0.9780 - val_loss: 0.0896\n",
            "Epoch 123/150\n",
            "\u001b[1m2756/2756\u001b[0m \u001b[32m━━━━━━━━━━━━━━━━━━━━\u001b[0m\u001b[37m\u001b[0m \u001b[1m7s\u001b[0m 3ms/step - accuracy: 0.9813 - loss: 0.0722 - val_accuracy: 0.9785 - val_loss: 0.0851\n",
            "Epoch 124/150\n",
            "\u001b[1m2756/2756\u001b[0m \u001b[32m━━━━━━━━━━━━━━━━━━━━\u001b[0m\u001b[37m\u001b[0m \u001b[1m5s\u001b[0m 2ms/step - accuracy: 0.9813 - loss: 0.0724 - val_accuracy: 0.9792 - val_loss: 0.0850\n",
            "Epoch 125/150\n",
            "\u001b[1m2756/2756\u001b[0m \u001b[32m━━━━━━━━━━━━━━━━━━━━\u001b[0m\u001b[37m\u001b[0m \u001b[1m5s\u001b[0m 2ms/step - accuracy: 0.9814 - loss: 0.0721 - val_accuracy: 0.9775 - val_loss: 0.0924\n",
            "Epoch 126/150\n",
            "\u001b[1m2756/2756\u001b[0m \u001b[32m━━━━━━━━━━━━━━━━━━━━\u001b[0m\u001b[37m\u001b[0m \u001b[1m5s\u001b[0m 2ms/step - accuracy: 0.9814 - loss: 0.0721 - val_accuracy: 0.9781 - val_loss: 0.0873\n",
            "Epoch 127/150\n",
            "\u001b[1m2756/2756\u001b[0m \u001b[32m━━━━━━━━━━━━━━━━━━━━\u001b[0m\u001b[37m\u001b[0m \u001b[1m1463s\u001b[0m 531ms/step - accuracy: 0.9816 - loss: 0.0716 - val_accuracy: 0.9760 - val_loss: 0.0923\n",
            "Epoch 128/150\n",
            "\u001b[1m2756/2756\u001b[0m \u001b[32m━━━━━━━━━━━━━━━━━━━━\u001b[0m\u001b[37m\u001b[0m \u001b[1m6s\u001b[0m 2ms/step - accuracy: 0.9816 - loss: 0.0714 - val_accuracy: 0.9794 - val_loss: 0.0840\n",
            "Epoch 129/150\n",
            "\u001b[1m2756/2756\u001b[0m \u001b[32m━━━━━━━━━━━━━━━━━━━━\u001b[0m\u001b[37m\u001b[0m \u001b[1m5s\u001b[0m 2ms/step - accuracy: 0.9818 - loss: 0.0713 - val_accuracy: 0.9792 - val_loss: 0.0847\n",
            "Epoch 130/150\n",
            "\u001b[1m2756/2756\u001b[0m \u001b[32m━━━━━━━━━━━━━━━━━━━━\u001b[0m\u001b[37m\u001b[0m \u001b[1m5s\u001b[0m 2ms/step - accuracy: 0.9818 - loss: 0.0710 - val_accuracy: 0.9795 - val_loss: 0.0869\n",
            "Epoch 131/150\n",
            "\u001b[1m2756/2756\u001b[0m \u001b[32m━━━━━━━━━━━━━━━━━━━━\u001b[0m\u001b[37m\u001b[0m \u001b[1m5s\u001b[0m 2ms/step - accuracy: 0.9818 - loss: 0.0710 - val_accuracy: 0.9783 - val_loss: 0.0866\n",
            "Epoch 132/150\n",
            "\u001b[1m2756/2756\u001b[0m \u001b[32m━━━━━━━━━━━━━━━━━━━━\u001b[0m\u001b[37m\u001b[0m \u001b[1m3647s\u001b[0m 1s/step - accuracy: 0.9817 - loss: 0.0717 - val_accuracy: 0.9786 - val_loss: 0.0853\n",
            "Epoch 133/150\n",
            "\u001b[1m2756/2756\u001b[0m \u001b[32m━━━━━━━━━━━━━━━━━━━━\u001b[0m\u001b[37m\u001b[0m \u001b[1m6s\u001b[0m 2ms/step - accuracy: 0.9818 - loss: 0.0710 - val_accuracy: 0.9791 - val_loss: 0.0856\n",
            "Epoch 134/150\n",
            "\u001b[1m2756/2756\u001b[0m \u001b[32m━━━━━━━━━━━━━━━━━━━━\u001b[0m\u001b[37m\u001b[0m \u001b[1m5s\u001b[0m 2ms/step - accuracy: 0.9819 - loss: 0.0711 - val_accuracy: 0.9793 - val_loss: 0.0857\n",
            "Epoch 135/150\n",
            "\u001b[1m2756/2756\u001b[0m \u001b[32m━━━━━━━━━━━━━━━━━━━━\u001b[0m\u001b[37m\u001b[0m \u001b[1m5s\u001b[0m 2ms/step - accuracy: 0.9813 - loss: 0.0724 - val_accuracy: 0.9764 - val_loss: 0.0895\n",
            "Epoch 136/150\n",
            "\u001b[1m2756/2756\u001b[0m \u001b[32m━━━━━━━━━━━━━━━━━━━━\u001b[0m\u001b[37m\u001b[0m \u001b[1m5s\u001b[0m 2ms/step - accuracy: 0.9815 - loss: 0.0721 - val_accuracy: 0.9785 - val_loss: 0.0866\n",
            "Epoch 137/150\n",
            "\u001b[1m2756/2756\u001b[0m \u001b[32m━━━━━━━━━━━━━━━━━━━━\u001b[0m\u001b[37m\u001b[0m \u001b[1m5s\u001b[0m 2ms/step - accuracy: 0.9815 - loss: 0.0712 - val_accuracy: 0.9787 - val_loss: 0.0869\n",
            "Epoch 138/150\n",
            "\u001b[1m2756/2756\u001b[0m \u001b[32m━━━━━━━━━━━━━━━━━━━━\u001b[0m\u001b[37m\u001b[0m \u001b[1m1168s\u001b[0m 424ms/step - accuracy: 0.9815 - loss: 0.0716 - val_accuracy: 0.9791 - val_loss: 0.0892\n",
            "Epoch 139/150\n",
            "\u001b[1m2756/2756\u001b[0m \u001b[32m━━━━━━━━━━━━━━━━━━━━\u001b[0m\u001b[37m\u001b[0m \u001b[1m12s\u001b[0m 4ms/step - accuracy: 0.9815 - loss: 0.0714 - val_accuracy: 0.9794 - val_loss: 0.0848\n",
            "Epoch 140/150\n",
            "\u001b[1m2756/2756\u001b[0m \u001b[32m━━━━━━━━━━━━━━━━━━━━\u001b[0m\u001b[37m\u001b[0m \u001b[1m11s\u001b[0m 4ms/step - accuracy: 0.9819 - loss: 0.0707 - val_accuracy: 0.9786 - val_loss: 0.0847\n",
            "Epoch 141/150\n",
            "\u001b[1m2756/2756\u001b[0m \u001b[32m━━━━━━━━━━━━━━━━━━━━\u001b[0m\u001b[37m\u001b[0m \u001b[1m8s\u001b[0m 3ms/step - accuracy: 0.9821 - loss: 0.0706 - val_accuracy: 0.9796 - val_loss: 0.0839\n",
            "Epoch 142/150\n",
            "\u001b[1m2756/2756\u001b[0m \u001b[32m━━━━━━━━━━━━━━━━━━━━\u001b[0m\u001b[37m\u001b[0m \u001b[1m12s\u001b[0m 4ms/step - accuracy: 0.9818 - loss: 0.0710 - val_accuracy: 0.9773 - val_loss: 0.0890\n",
            "Epoch 143/150\n",
            "\u001b[1m2756/2756\u001b[0m \u001b[32m━━━━━━━━━━━━━━━━━━━━\u001b[0m\u001b[37m\u001b[0m \u001b[1m12s\u001b[0m 4ms/step - accuracy: 0.9819 - loss: 0.0711 - val_accuracy: 0.9793 - val_loss: 0.0851\n",
            "Epoch 144/150\n",
            "\u001b[1m2756/2756\u001b[0m \u001b[32m━━━━━━━━━━━━━━━━━━━━\u001b[0m\u001b[37m\u001b[0m \u001b[1m8s\u001b[0m 3ms/step - accuracy: 0.9819 - loss: 0.0702 - val_accuracy: 0.9774 - val_loss: 0.0884\n",
            "Epoch 145/150\n",
            "\u001b[1m2756/2756\u001b[0m \u001b[32m━━━━━━━━━━━━━━━━━━━━\u001b[0m\u001b[37m\u001b[0m \u001b[1m9s\u001b[0m 3ms/step - accuracy: 0.9821 - loss: 0.0698 - val_accuracy: 0.9791 - val_loss: 0.0889\n",
            "Epoch 146/150\n",
            "\u001b[1m2756/2756\u001b[0m \u001b[32m━━━━━━━━━━━━━━━━━━━━\u001b[0m\u001b[37m\u001b[0m \u001b[1m9s\u001b[0m 3ms/step - accuracy: 0.9816 - loss: 0.0704 - val_accuracy: 0.9794 - val_loss: 0.0842\n",
            "Epoch 147/150\n",
            "\u001b[1m2756/2756\u001b[0m \u001b[32m━━━━━━━━━━━━━━━━━━━━\u001b[0m\u001b[37m\u001b[0m \u001b[1m7s\u001b[0m 2ms/step - accuracy: 0.9826 - loss: 0.0690 - val_accuracy: 0.9789 - val_loss: 0.0858\n",
            "Epoch 148/150\n",
            "\u001b[1m2756/2756\u001b[0m \u001b[32m━━━━━━━━━━━━━━━━━━━━\u001b[0m\u001b[37m\u001b[0m \u001b[1m8s\u001b[0m 3ms/step - accuracy: 0.9819 - loss: 0.0706 - val_accuracy: 0.9799 - val_loss: 0.0841\n",
            "Epoch 149/150\n",
            "\u001b[1m2756/2756\u001b[0m \u001b[32m━━━━━━━━━━━━━━━━━━━━\u001b[0m\u001b[37m\u001b[0m \u001b[1m7s\u001b[0m 2ms/step - accuracy: 0.9820 - loss: 0.0704 - val_accuracy: 0.9793 - val_loss: 0.0862\n",
            "Epoch 150/150\n",
            "\u001b[1m2756/2756\u001b[0m \u001b[32m━━━━━━━━━━━━━━━━━━━━\u001b[0m\u001b[37m\u001b[0m \u001b[1m8s\u001b[0m 3ms/step - accuracy: 0.9824 - loss: 0.0692 - val_accuracy: 0.9781 - val_loss: 0.0866\n"
          ]
        },
        {
          "name": "stderr",
          "output_type": "stream",
          "text": [
            "WARNING:absl:You are saving your model as an HDF5 file via `model.save()` or `keras.saving.save_model(model)`. This file format is considered legacy. We recommend using instead the native Keras format, e.g. `model.save('my_model.keras')` or `keras.saving.save_model(model, 'my_model.keras')`. \n"
          ]
        }
      ],
      "source": [
        "model_4 = Sequential([\n",
        "    Dense(256, activation='relu', input_shape=(X_train_processed.shape[1],), kernel_regularizer=l2(0.001)),\n",
        "    Dense(128, activation='relu'),\n",
        "    Dense(64, activation='relu'),\n",
        "    Dense(1, activation='sigmoid')\n",
        "])\n",
        "\n",
        "model_4.compile(optimizer=SGD(learning_rate=0.01), loss='binary_crossentropy', metrics=['accuracy'])\n",
        "early_stopping = EarlyStopping(monitor='val_loss', patience=10, restore_best_weights=True)\n",
        "history_4 = model_4.fit(X_train_processed, y_train, epochs=150, batch_size=150,\n",
        "                        validation_data=(X_val_processed, y_val), callbacks=[early_stopping],verbose=1)\n",
        "\n",
        "save_model(model_4, 'saved_models/nn_instance_4.h5')\n"
      ]
    },
    {
      "cell_type": "markdown",
      "metadata": {},
      "source": [
        "#### Neural Network Model Instance 4 Error Analysis:"
      ]
    },
    {
      "cell_type": "code",
      "execution_count": 65,
      "metadata": {},
      "outputs": [
        {
          "name": "stdout",
          "output_type": "stream",
          "text": [
            "\u001b[1m2769/2769\u001b[0m \u001b[32m━━━━━━━━━━━━━━━━━━━━\u001b[0m\u001b[37m\u001b[0m \u001b[1m3s\u001b[0m 1ms/step\n"
          ]
        },
        {
          "data": {
            "image/png": "[encoded data removed]",
            "text/plain": [
              "<Figure size 640x480 with 2 Axes>"
            ]
          },
          "metadata": {},
          "output_type": "display_data"
        },
        {
          "name": "stdout",
          "output_type": "stream",
          "text": [
            "=== Classification Report ===\n",
            "              precision    recall  f1-score   support\n",
            "\n",
            "   Not Fraud       0.98      0.99      0.99     85482\n",
            "       Fraud       0.76      0.53      0.63      3099\n",
            "\n",
            "    accuracy                           0.98     88581\n",
            "   macro avg       0.87      0.76      0.81     88581\n",
            "weighted avg       0.98      0.98      0.98     88581\n",
            "\n",
            "True Negatives (TN): 84968\n",
            "False Positives (FP): 514\n",
            "False Negatives (FN): 1452\n",
            "True Positives (TP): 1647\n"
          ]
        }
      ],
      "source": [
        "# Predict probabilities and convert to binary labels\n",
        "y_test_pred_prob = model_4.predict(X_test_processed)\n",
        "y_test_pred = (y_test_pred_prob > 0.5).astype(int).reshape(-1)\n",
        "y_test_true = y_test.values.reshape(-1)\n",
        "\n",
        "# Confusion matrix\n",
        "cm = confusion_matrix(y_test_true, y_test_pred)\n",
        "\n",
        "# Display with labels\n",
        "disp = ConfusionMatrixDisplay(confusion_matrix=cm, display_labels=[\"Not Fraud\", \"Fraud\"])\n",
        "disp.plot(cmap=\"Blues\")\n",
        "plt.title(\"Confusion Matrix - Test Set\")\n",
        "plt.show()\n",
        "\n",
        "# Detailed classification report\n",
        "report = classification_report(y_test_true, y_test_pred, target_names=[\"Not Fraud\", \"Fraud\"])\n",
        "print(\"=== Classification Report ===\")\n",
        "print(report)\n",
        "tn, fp, fn, tp = cm.ravel()\n",
        "print(f\"True Negatives (TN): {tn}\")\n",
        "print(f\"False Positives (FP): {fp}\")\n",
        "print(f\"False Negatives (FN): {fn}\")\n",
        "print(f\"True Positives (TP): {tp}\")\n"
      ]
    },
    {
      "cell_type": "markdown",
      "metadata": {},
      "source": [
        "### Neural Network Model Instance 5:\n",
        "A deep neural network with 6 hidden layers (256, 128, 64, 32, 16 and 8 units) and integrates both L1 and L2 regularization to reduce overfitting by penalizing large weights. To further stabilize and speed up training, Batch Normalization is applied after each hidden layer. The model is compiled using the Nadam optimizer, which combines RMSProp with momentum for adaptive and efficient gradient updates. EarlyStopping is used to halt training when the validation loss stops improving, ensuring the best model is retained."
      ]
    },
    {
      "cell_type": "code",
      "execution_count": 76,
      "metadata": {},
      "outputs": [
        {
          "name": "stderr",
          "output_type": "stream",
          "text": [
            "/Users/irakizagaius/Downloads/FraudDetection/.venv/lib/python3.10/site-packages/keras/src/layers/core/dense.py:93: UserWarning: Do not pass an `input_shape`/`input_dim` argument to a layer. When using Sequential models, prefer using an `Input(shape)` object as the first layer in the model instead.\n",
            "  super().__init__(activity_regularizer=activity_regularizer, **kwargs)\n"
          ]
        },
        {
          "name": "stdout",
          "output_type": "stream",
          "text": [
            "Epoch 1/300\n",
            "\u001b[1m4134/4134\u001b[0m \u001b[32m━━━━━━━━━━━━━━━━━━━━\u001b[0m\u001b[37m\u001b[0m \u001b[1m27s\u001b[0m 5ms/step - accuracy: 0.9328 - loss: 1.0033 - val_accuracy: 0.9672 - val_loss: 0.1294\n",
            "Epoch 2/300\n",
            "\u001b[1m4134/4134\u001b[0m \u001b[32m━━━━━━━━━━━━━━━━━━━━\u001b[0m\u001b[37m\u001b[0m \u001b[1m17s\u001b[0m 4ms/step - accuracy: 0.9696 - loss: 0.1197 - val_accuracy: 0.9686 - val_loss: 0.1188\n",
            "Epoch 3/300\n",
            "\u001b[1m4134/4134\u001b[0m \u001b[32m━━━━━━━━━━━━━━━━━━━━\u001b[0m\u001b[37m\u001b[0m \u001b[1m17s\u001b[0m 4ms/step - accuracy: 0.9706 - loss: 0.1138 - val_accuracy: 0.9675 - val_loss: 0.1239\n",
            "Epoch 4/300\n",
            "\u001b[1m4134/4134\u001b[0m \u001b[32m━━━━━━━━━━━━━━━━━━━━\u001b[0m\u001b[37m\u001b[0m \u001b[1m17s\u001b[0m 4ms/step - accuracy: 0.9712 - loss: 0.1116 - val_accuracy: 0.9699 - val_loss: 0.1142\n",
            "Epoch 5/300\n",
            "\u001b[1m4134/4134\u001b[0m \u001b[32m━━━━━━━━━━━━━━━━━━━━\u001b[0m\u001b[37m\u001b[0m \u001b[1m17s\u001b[0m 4ms/step - accuracy: 0.9715 - loss: 0.1105 - val_accuracy: 0.9725 - val_loss: 0.1078\n",
            "Epoch 6/300\n",
            "\u001b[1m4134/4134\u001b[0m \u001b[32m━━━━━━━━━━━━━━━━━━━━\u001b[0m\u001b[37m\u001b[0m \u001b[1m15s\u001b[0m 4ms/step - accuracy: 0.9718 - loss: 0.1106 - val_accuracy: 0.9717 - val_loss: 0.1103\n",
            "Epoch 7/300\n",
            "\u001b[1m4134/4134\u001b[0m \u001b[32m━━━━━━━━━━━━━━━━━━━━\u001b[0m\u001b[37m\u001b[0m \u001b[1m15s\u001b[0m 4ms/step - accuracy: 0.9710 - loss: 0.1135 - val_accuracy: 0.9717 - val_loss: 0.1084\n",
            "Epoch 8/300\n",
            "\u001b[1m4134/4134\u001b[0m \u001b[32m━━━━━━━━━━━━━━━━━━━━\u001b[0m\u001b[37m\u001b[0m \u001b[1m15s\u001b[0m 4ms/step - accuracy: 0.9711 - loss: 0.1119 - val_accuracy: 0.9718 - val_loss: 0.1104\n",
            "Epoch 9/300\n",
            "\u001b[1m4134/4134\u001b[0m \u001b[32m━━━━━━━━━━━━━━━━━━━━\u001b[0m\u001b[37m\u001b[0m \u001b[1m15s\u001b[0m 4ms/step - accuracy: 0.9717 - loss: 0.1098 - val_accuracy: 0.9731 - val_loss: 0.1088\n",
            "Epoch 10/300\n",
            "\u001b[1m4134/4134\u001b[0m \u001b[32m━━━━━━━━━━━━━━━━━━━━\u001b[0m\u001b[37m\u001b[0m \u001b[1m17s\u001b[0m 4ms/step - accuracy: 0.9715 - loss: 0.1118 - val_accuracy: 0.9679 - val_loss: 0.1185\n",
            "Epoch 11/300\n",
            "\u001b[1m4134/4134\u001b[0m \u001b[32m━━━━━━━━━━━━━━━━━━━━\u001b[0m\u001b[37m\u001b[0m \u001b[1m18s\u001b[0m 4ms/step - accuracy: 0.9715 - loss: 0.1112 - val_accuracy: 0.9723 - val_loss: 0.1091\n",
            "Epoch 12/300\n",
            "\u001b[1m4134/4134\u001b[0m \u001b[32m━━━━━━━━━━━━━━━━━━━━\u001b[0m\u001b[37m\u001b[0m \u001b[1m22s\u001b[0m 5ms/step - accuracy: 0.9716 - loss: 0.1102 - val_accuracy: 0.9722 - val_loss: 0.1117\n",
            "Epoch 13/300\n",
            "\u001b[1m4134/4134\u001b[0m \u001b[32m━━━━━━━━━━━━━━━━━━━━\u001b[0m\u001b[37m\u001b[0m \u001b[1m19s\u001b[0m 4ms/step - accuracy: 0.9717 - loss: 0.1097 - val_accuracy: 0.9689 - val_loss: 0.1192\n",
            "Epoch 14/300\n",
            "\u001b[1m4134/4134\u001b[0m \u001b[32m━━━━━━━━━━━━━━━━━━━━\u001b[0m\u001b[37m\u001b[0m \u001b[1m18s\u001b[0m 4ms/step - accuracy: 0.9716 - loss: 0.1103 - val_accuracy: 0.9692 - val_loss: 0.1138\n",
            "Epoch 15/300\n",
            "\u001b[1m4134/4134\u001b[0m \u001b[32m━━━━━━━━━━━━━━━━━━━━\u001b[0m\u001b[37m\u001b[0m \u001b[1m18s\u001b[0m 4ms/step - accuracy: 0.9710 - loss: 0.1122 - val_accuracy: 0.9718 - val_loss: 0.1111\n"
          ]
        },
        {
          "name": "stderr",
          "output_type": "stream",
          "text": [
            "WARNING:absl:You are saving your model as an HDF5 file via `model.save()` or `keras.saving.save_model(model)`. This file format is considered legacy. We recommend using instead the native Keras format, e.g. `model.save('my_model.keras')` or `keras.saving.save_model(model, 'my_model.keras')`. \n"
          ]
        }
      ],
      "source": [
        "# Defining the model\n",
        "model_5 = Sequential([\n",
        "    Dense(256, activation='relu', input_shape=(X_train_processed.shape[1],), kernel_regularizer=l1_l2(l1=1e-4, l2=1e-3)),\n",
        "    BatchNormalization(),\n",
        "    Dense(128, activation='relu', kernel_regularizer=l1_l2(l1=1e-3, l2=1e-3)),\n",
        "    BatchNormalization(),\n",
        "    Dense(64, activation='relu', kernel_regularizer=l1_l2(l1=1e-3, l2=1e-3)),\n",
        "    BatchNormalization(),\n",
        "    Dense(32, activation='relu', kernel_regularizer=l1_l2(l1=1e-3, l2=1e-3)),\n",
        "    BatchNormalization(),\n",
        "    Dense(16, activation='relu', kernel_regularizer=l1_l2(l1=1e-3, l2=1e-3)),\n",
        "    BatchNormalization(),\n",
        "    Dense(8, activation='relu', kernel_regularizer=l1_l2(l1=1e-3, l2=1e-3)),\n",
        "    BatchNormalization(),\n",
        "    Dense(1, activation='sigmoid')\n",
        "])\n",
        "\n",
        "# Nadam optimizer\n",
        "model_5.compile(optimizer=Nadam(learning_rate = 0.001), loss='binary_crossentropy', metrics=['accuracy'])\n",
        "\n",
        "# Add EarlyStopping\n",
        "early_stopping = EarlyStopping(monitor='val_loss', patience=10, restore_best_weights=True)\n",
        "\n",
        "# Fit the model\n",
        "history_5 = model_5.fit(X_train_processed, y_train,\n",
        "                        epochs=300,\n",
        "                        batch_size=100,\n",
        "                        validation_data=(X_val_processed, y_val),\n",
        "                        callbacks=[early_stopping],\n",
        "                        verbose=1)\n",
        "\n",
        "# Save model\n",
        "save_model(model_5, 'saved_models/nn_instance_5.h5')"
      ]
    },
    {
      "cell_type": "markdown",
      "metadata": {},
      "source": [
        "#### Neural Network Model Instance 5 Error Analysis:"
      ]
    },
    {
      "cell_type": "code",
      "execution_count": 75,
      "metadata": {},
      "outputs": [
        {
          "name": "stdout",
          "output_type": "stream",
          "text": [
            "\u001b[1m2769/2769\u001b[0m \u001b[32m━━━━━━━━━━━━━━━━━━━━\u001b[0m\u001b[37m\u001b[0m \u001b[1m5s\u001b[0m 2ms/step\n"
          ]
        },
        {
          "data": {
            "image/png": "[encoded data removed]",
            "text/plain": [
              "<Figure size 640x480 with 2 Axes>"
            ]
          },
          "metadata": {},
          "output_type": "display_data"
        },
        {
          "name": "stdout",
          "output_type": "stream",
          "text": [
            "=== Classification Report ===\n",
            "              precision    recall  f1-score   support\n",
            "\n",
            "   Not Fraud       0.97      1.00      0.99     85482\n",
            "       Fraud       0.79      0.27      0.41      3099\n",
            "\n",
            "    accuracy                           0.97     88581\n",
            "   macro avg       0.88      0.64      0.70     88581\n",
            "weighted avg       0.97      0.97      0.97     88581\n",
            "\n",
            "True Negatives (TN): 85257\n",
            "False Positives (FP): 225\n",
            "False Negatives (FN): 2253\n",
            "True Positives (TP): 846\n"
          ]
        }
      ],
      "source": [
        "# Predict probabilities and convert to binary labels\n",
        "y_test_pred_prob = model_5.predict(X_test_processed)\n",
        "y_test_pred = (y_test_pred_prob > 0.5).astype(int).reshape(-1)\n",
        "y_test_true = y_test.values.reshape(-1)\n",
        "\n",
        "# Confusion matrix\n",
        "cm = confusion_matrix(y_test_true, y_test_pred)\n",
        "\n",
        "# Display with labels\n",
        "disp = ConfusionMatrixDisplay(confusion_matrix=cm, display_labels=[\"Not Fraud\", \"Fraud\"])\n",
        "disp.plot(cmap=\"Blues\")\n",
        "plt.title(\"Confusion Matrix - Test Set\")\n",
        "plt.show()\n",
        "\n",
        "# Detailed classification report\n",
        "report = classification_report(y_test_true, y_test_pred, target_names=[\"Not Fraud\", \"Fraud\"])\n",
        "print(\"=== Classification Report ===\")\n",
        "print(report)\n",
        "tn, fp, fn, tp = cm.ravel()\n",
        "print(f\"True Negatives (TN): {tn}\")\n",
        "print(f\"False Positives (FP): {fp}\")\n",
        "print(f\"False Negatives (FN): {fn}\")\n",
        "print(f\"True Positives (TP): {tp}\")\n"
      ]
    },
    {
      "cell_type": "markdown",
      "metadata": {
        "id": "KJ9OXp1TSaXn"
      },
      "source": [
        "# Task: Print out the Final Model Accuracy and plot the Loss curve"
      ]
    },
    {
      "cell_type": "code",
      "execution_count": 77,
      "metadata": {
        "id": "fkihQBsaUxGh"
      },
      "outputs": [
        {
          "name": "stdout",
          "output_type": "stream",
          "text": [
            "\u001b[1m2769/2769\u001b[0m \u001b[32m━━━━━━━━━━━━━━━━━━━━\u001b[0m\u001b[37m\u001b[0m \u001b[1m2s\u001b[0m 761us/step\n",
            "\u001b[1m2769/2769\u001b[0m \u001b[32m━━━━━━━━━━━━━━━━━━━━\u001b[0m\u001b[37m\u001b[0m \u001b[1m2s\u001b[0m 725us/step\n",
            "\u001b[1m2769/2769\u001b[0m \u001b[32m━━━━━━━━━━━━━━━━━━━━\u001b[0m\u001b[37m\u001b[0m \u001b[1m2s\u001b[0m 634us/step\n",
            "\u001b[1m2769/2769\u001b[0m \u001b[32m━━━━━━━━━━━━━━━━━━━━\u001b[0m\u001b[37m\u001b[0m \u001b[1m2s\u001b[0m 625us/step\n",
            "\u001b[1m2769/2769\u001b[0m \u001b[32m━━━━━━━━━━━━━━━━━━━━\u001b[0m\u001b[37m\u001b[0m \u001b[1m2s\u001b[0m 794us/step\n"
          ]
        },
        {
          "name": "stderr",
          "output_type": "stream",
          "text": [
            "/Users/irakizagaius/Downloads/FraudDetection/.venv/lib/python3.10/site-packages/sklearn/utils/validation.py:2749: UserWarning: X does not have valid feature names, but LGBMClassifier was fitted with feature names\n",
            "  warnings.warn(\n"
          ]
        },
        {
          "name": "stdout",
          "output_type": "stream",
          "text": [
            "\u001b[1m2769/2769\u001b[0m \u001b[32m━━━━━━━━━━━━━━━━━━━━\u001b[0m\u001b[37m\u001b[0m \u001b[1m2s\u001b[0m 826us/step\n",
            "\u001b[1m2769/2769\u001b[0m \u001b[32m━━━━━━━━━━━━━━━━━━━━\u001b[0m\u001b[37m\u001b[0m \u001b[1m2s\u001b[0m 746us/step\n",
            "\u001b[1m2769/2769\u001b[0m \u001b[32m━━━━━━━━━━━━━━━━━━━━\u001b[0m\u001b[37m\u001b[0m \u001b[1m2s\u001b[0m 722us/step\n",
            "\u001b[1m2769/2769\u001b[0m \u001b[32m━━━━━━━━━━━━━━━━━━━━\u001b[0m\u001b[37m\u001b[0m \u001b[1m3s\u001b[0m 980us/step\n",
            "\u001b[1m2769/2769\u001b[0m \u001b[32m━━━━━━━━━━━━━━━━━━━━\u001b[0m\u001b[37m\u001b[0m \u001b[1m4s\u001b[0m 1ms/step\n"
          ]
        },
        {
          "name": "stderr",
          "output_type": "stream",
          "text": [
            "/Users/irakizagaius/Downloads/FraudDetection/.venv/lib/python3.10/site-packages/sklearn/utils/validation.py:2749: UserWarning: X does not have valid feature names, but LGBMClassifier was fitted with feature names\n",
            "  warnings.warn(\n"
          ]
        },
        {
          "ename": "ValueError",
          "evalue": "Found input variables with inconsistent numbers of samples: [88581, 88596]",
          "output_type": "error",
          "traceback": [
            "\u001b[0;31m---------------------------------------------------------------------------\u001b[0m",
            "\u001b[0;31mValueError\u001b[0m                                Traceback (most recent call last)",
            "Cell \u001b[0;32mIn[77], line 32\u001b[0m\n\u001b[1;32m     30\u001b[0m \u001b[38;5;66;03m# Evaluate\u001b[39;00m\n\u001b[1;32m     31\u001b[0m val_results \u001b[38;5;241m=\u001b[39m {k: evaluate_model(y_val, v) \u001b[38;5;28;01mfor\u001b[39;00m k, v \u001b[38;5;129;01min\u001b[39;00m val_preds\u001b[38;5;241m.\u001b[39mitems()}\n\u001b[0;32m---> 32\u001b[0m test_results \u001b[38;5;241m=\u001b[39m {k: evaluate_model(y_test, v) \u001b[38;5;28;01mfor\u001b[39;00m k, v \u001b[38;5;129;01min\u001b[39;00m test_preds\u001b[38;5;241m.\u001b[39mitems()}\n\u001b[1;32m     34\u001b[0m \u001b[38;5;66;03m# Function to print results\u001b[39;00m\n\u001b[1;32m     35\u001b[0m \u001b[38;5;28;01mdef\u001b[39;00m\u001b[38;5;250m \u001b[39m\u001b[38;5;21mprint_results\u001b[39m(title, results):\n",
            "Cell \u001b[0;32mIn[77], line 32\u001b[0m, in \u001b[0;36m<dictcomp>\u001b[0;34m(.0)\u001b[0m\n\u001b[1;32m     30\u001b[0m \u001b[38;5;66;03m# Evaluate\u001b[39;00m\n\u001b[1;32m     31\u001b[0m val_results \u001b[38;5;241m=\u001b[39m {k: evaluate_model(y_val, v) \u001b[38;5;28;01mfor\u001b[39;00m k, v \u001b[38;5;129;01min\u001b[39;00m val_preds\u001b[38;5;241m.\u001b[39mitems()}\n\u001b[0;32m---> 32\u001b[0m test_results \u001b[38;5;241m=\u001b[39m {k: \u001b[43mevaluate_model\u001b[49m\u001b[43m(\u001b[49m\u001b[43my_test\u001b[49m\u001b[43m,\u001b[49m\u001b[43m \u001b[49m\u001b[43mv\u001b[49m\u001b[43m)\u001b[49m \u001b[38;5;28;01mfor\u001b[39;00m k, v \u001b[38;5;129;01min\u001b[39;00m test_preds\u001b[38;5;241m.\u001b[39mitems()}\n\u001b[1;32m     34\u001b[0m \u001b[38;5;66;03m# Function to print results\u001b[39;00m\n\u001b[1;32m     35\u001b[0m \u001b[38;5;28;01mdef\u001b[39;00m\u001b[38;5;250m \u001b[39m\u001b[38;5;21mprint_results\u001b[39m(title, results):\n",
            "Cell \u001b[0;32mIn[77], line 4\u001b[0m, in \u001b[0;36mevaluate_model\u001b[0;34m(y_true, y_pred_prob)\u001b[0m\n\u001b[1;32m      1\u001b[0m \u001b[38;5;28;01mdef\u001b[39;00m\u001b[38;5;250m \u001b[39m\u001b[38;5;21mevaluate_model\u001b[39m(y_true, y_pred_prob):\n\u001b[1;32m      2\u001b[0m     y_pred \u001b[38;5;241m=\u001b[39m (y_pred_prob \u001b[38;5;241m>\u001b[39m \u001b[38;5;241m0.5\u001b[39m)\u001b[38;5;241m.\u001b[39mastype(\u001b[38;5;28mint\u001b[39m)\n\u001b[1;32m      3\u001b[0m     \u001b[38;5;28;01mreturn\u001b[39;00m {\n\u001b[0;32m----> 4\u001b[0m         \u001b[38;5;124m'\u001b[39m\u001b[38;5;124maccuracy\u001b[39m\u001b[38;5;124m'\u001b[39m: \u001b[43maccuracy_score\u001b[49m\u001b[43m(\u001b[49m\u001b[43my_true\u001b[49m\u001b[43m,\u001b[49m\u001b[43m \u001b[49m\u001b[43my_pred\u001b[49m\u001b[43m)\u001b[49m,\n\u001b[1;32m      5\u001b[0m         \u001b[38;5;124m'\u001b[39m\u001b[38;5;124mf1\u001b[39m\u001b[38;5;124m'\u001b[39m: f1_score(y_true, y_pred),\n\u001b[1;32m      6\u001b[0m         \u001b[38;5;124m'\u001b[39m\u001b[38;5;124mprecision\u001b[39m\u001b[38;5;124m'\u001b[39m: precision_score(y_true, y_pred),\n\u001b[1;32m      7\u001b[0m         \u001b[38;5;124m'\u001b[39m\u001b[38;5;124mrecall\u001b[39m\u001b[38;5;124m'\u001b[39m: recall_score(y_true, y_pred)\n\u001b[1;32m      8\u001b[0m     }\n",
            "File \u001b[0;32m~/Downloads/FraudDetection/.venv/lib/python3.10/site-packages/sklearn/utils/_param_validation.py:218\u001b[0m, in \u001b[0;36mvalidate_params.<locals>.decorator.<locals>.wrapper\u001b[0;34m(*args, **kwargs)\u001b[0m\n\u001b[1;32m    212\u001b[0m \u001b[38;5;28;01mtry\u001b[39;00m:\n\u001b[1;32m    213\u001b[0m     \u001b[38;5;28;01mwith\u001b[39;00m config_context(\n\u001b[1;32m    214\u001b[0m         skip_parameter_validation\u001b[38;5;241m=\u001b[39m(\n\u001b[1;32m    215\u001b[0m             prefer_skip_nested_validation \u001b[38;5;129;01mor\u001b[39;00m global_skip_validation\n\u001b[1;32m    216\u001b[0m         )\n\u001b[1;32m    217\u001b[0m     ):\n\u001b[0;32m--> 218\u001b[0m         \u001b[38;5;28;01mreturn\u001b[39;00m \u001b[43mfunc\u001b[49m\u001b[43m(\u001b[49m\u001b[38;5;241;43m*\u001b[39;49m\u001b[43margs\u001b[49m\u001b[43m,\u001b[49m\u001b[43m \u001b[49m\u001b[38;5;241;43m*\u001b[39;49m\u001b[38;5;241;43m*\u001b[39;49m\u001b[43mkwargs\u001b[49m\u001b[43m)\u001b[49m\n\u001b[1;32m    219\u001b[0m \u001b[38;5;28;01mexcept\u001b[39;00m InvalidParameterError \u001b[38;5;28;01mas\u001b[39;00m e:\n\u001b[1;32m    220\u001b[0m     \u001b[38;5;66;03m# When the function is just a wrapper around an estimator, we allow\u001b[39;00m\n\u001b[1;32m    221\u001b[0m     \u001b[38;5;66;03m# the function to delegate validation to the estimator, but we replace\u001b[39;00m\n\u001b[1;32m    222\u001b[0m     \u001b[38;5;66;03m# the name of the estimator by the name of the function in the error\u001b[39;00m\n\u001b[1;32m    223\u001b[0m     \u001b[38;5;66;03m# message to avoid confusion.\u001b[39;00m\n\u001b[1;32m    224\u001b[0m     msg \u001b[38;5;241m=\u001b[39m re\u001b[38;5;241m.\u001b[39msub(\n\u001b[1;32m    225\u001b[0m         \u001b[38;5;124mr\u001b[39m\u001b[38;5;124m\"\u001b[39m\u001b[38;5;124mparameter of \u001b[39m\u001b[38;5;124m\\\u001b[39m\u001b[38;5;124mw+ must be\u001b[39m\u001b[38;5;124m\"\u001b[39m,\n\u001b[1;32m    226\u001b[0m         \u001b[38;5;124mf\u001b[39m\u001b[38;5;124m\"\u001b[39m\u001b[38;5;124mparameter of \u001b[39m\u001b[38;5;132;01m{\u001b[39;00mfunc\u001b[38;5;241m.\u001b[39m\u001b[38;5;18m__qualname__\u001b[39m\u001b[38;5;132;01m}\u001b[39;00m\u001b[38;5;124m must be\u001b[39m\u001b[38;5;124m\"\u001b[39m,\n\u001b[1;32m    227\u001b[0m         \u001b[38;5;28mstr\u001b[39m(e),\n\u001b[1;32m    228\u001b[0m     )\n",
            "File \u001b[0;32m~/Downloads/FraudDetection/.venv/lib/python3.10/site-packages/sklearn/metrics/_classification.py:359\u001b[0m, in \u001b[0;36maccuracy_score\u001b[0;34m(y_true, y_pred, normalize, sample_weight)\u001b[0m\n\u001b[1;32m    357\u001b[0m \u001b[38;5;66;03m# Compute accuracy for each possible representation\u001b[39;00m\n\u001b[1;32m    358\u001b[0m y_true, y_pred \u001b[38;5;241m=\u001b[39m attach_unique(y_true, y_pred)\n\u001b[0;32m--> 359\u001b[0m y_type, y_true, y_pred \u001b[38;5;241m=\u001b[39m \u001b[43m_check_targets\u001b[49m\u001b[43m(\u001b[49m\u001b[43my_true\u001b[49m\u001b[43m,\u001b[49m\u001b[43m \u001b[49m\u001b[43my_pred\u001b[49m\u001b[43m)\u001b[49m\n\u001b[1;32m    360\u001b[0m check_consistent_length(y_true, y_pred, sample_weight)\n\u001b[1;32m    362\u001b[0m \u001b[38;5;28;01mif\u001b[39;00m y_type\u001b[38;5;241m.\u001b[39mstartswith(\u001b[38;5;124m\"\u001b[39m\u001b[38;5;124mmultilabel\u001b[39m\u001b[38;5;124m\"\u001b[39m):\n",
            "File \u001b[0;32m~/Downloads/FraudDetection/.venv/lib/python3.10/site-packages/sklearn/metrics/_classification.py:97\u001b[0m, in \u001b[0;36m_check_targets\u001b[0;34m(y_true, y_pred)\u001b[0m\n\u001b[1;32m     70\u001b[0m \u001b[38;5;250m\u001b[39m\u001b[38;5;124;03m\"\"\"Check that y_true and y_pred belong to the same classification task.\u001b[39;00m\n\u001b[1;32m     71\u001b[0m \n\u001b[1;32m     72\u001b[0m \u001b[38;5;124;03mThis converts multiclass or binary types to a common shape, and raises a\u001b[39;00m\n\u001b[0;32m   (...)\u001b[0m\n\u001b[1;32m     94\u001b[0m \u001b[38;5;124;03my_pred : array or indicator matrix\u001b[39;00m\n\u001b[1;32m     95\u001b[0m \u001b[38;5;124;03m\"\"\"\u001b[39;00m\n\u001b[1;32m     96\u001b[0m xp, _ \u001b[38;5;241m=\u001b[39m get_namespace(y_true, y_pred)\n\u001b[0;32m---> 97\u001b[0m \u001b[43mcheck_consistent_length\u001b[49m\u001b[43m(\u001b[49m\u001b[43my_true\u001b[49m\u001b[43m,\u001b[49m\u001b[43m \u001b[49m\u001b[43my_pred\u001b[49m\u001b[43m)\u001b[49m\n\u001b[1;32m     98\u001b[0m type_true \u001b[38;5;241m=\u001b[39m type_of_target(y_true, input_name\u001b[38;5;241m=\u001b[39m\u001b[38;5;124m\"\u001b[39m\u001b[38;5;124my_true\u001b[39m\u001b[38;5;124m\"\u001b[39m)\n\u001b[1;32m     99\u001b[0m type_pred \u001b[38;5;241m=\u001b[39m type_of_target(y_pred, input_name\u001b[38;5;241m=\u001b[39m\u001b[38;5;124m\"\u001b[39m\u001b[38;5;124my_pred\u001b[39m\u001b[38;5;124m\"\u001b[39m)\n",
            "File \u001b[0;32m~/Downloads/FraudDetection/.venv/lib/python3.10/site-packages/sklearn/utils/validation.py:473\u001b[0m, in \u001b[0;36mcheck_consistent_length\u001b[0;34m(*arrays)\u001b[0m\n\u001b[1;32m    471\u001b[0m lengths \u001b[38;5;241m=\u001b[39m [_num_samples(X) \u001b[38;5;28;01mfor\u001b[39;00m X \u001b[38;5;129;01min\u001b[39;00m arrays \u001b[38;5;28;01mif\u001b[39;00m X \u001b[38;5;129;01mis\u001b[39;00m \u001b[38;5;129;01mnot\u001b[39;00m \u001b[38;5;28;01mNone\u001b[39;00m]\n\u001b[1;32m    472\u001b[0m \u001b[38;5;28;01mif\u001b[39;00m \u001b[38;5;28mlen\u001b[39m(\u001b[38;5;28mset\u001b[39m(lengths)) \u001b[38;5;241m>\u001b[39m \u001b[38;5;241m1\u001b[39m:\n\u001b[0;32m--> 473\u001b[0m     \u001b[38;5;28;01mraise\u001b[39;00m \u001b[38;5;167;01mValueError\u001b[39;00m(\n\u001b[1;32m    474\u001b[0m         \u001b[38;5;124m\"\u001b[39m\u001b[38;5;124mFound input variables with inconsistent numbers of samples: \u001b[39m\u001b[38;5;132;01m%r\u001b[39;00m\u001b[38;5;124m\"\u001b[39m\n\u001b[1;32m    475\u001b[0m         \u001b[38;5;241m%\u001b[39m [\u001b[38;5;28mint\u001b[39m(l) \u001b[38;5;28;01mfor\u001b[39;00m l \u001b[38;5;129;01min\u001b[39;00m lengths]\n\u001b[1;32m    476\u001b[0m     )\n",
            "\u001b[0;31mValueError\u001b[0m: Found input variables with inconsistent numbers of samples: [88581, 88596]"
          ]
        }
      ],
      "source": [
        "def evaluate_model(y_true, y_pred_prob):\n",
        "    y_pred = (y_pred_prob > 0.5).astype(int)\n",
        "    return {\n",
        "        'accuracy': accuracy_score(y_true, y_pred),\n",
        "        'f1': f1_score(y_true, y_pred),\n",
        "        'precision': precision_score(y_true, y_pred),\n",
        "        'recall': recall_score(y_true, y_pred)\n",
        "    }\n",
        "\n",
        "# Get validation predictions\n",
        "val_preds = {\n",
        "    'Instance 1': model_1.predict(X_val_processed),\n",
        "    'Instance 2': model_2.predict(X_val_processed),\n",
        "    'Instance 3': model_3.predict(X_val_processed),\n",
        "    'Instance 4': model_4.predict(X_val_processed),\n",
        "    'Instance 5': model_5.predict(X_val_processed),\n",
        "    'Instance 6': lgb_model.predict_proba(X_val_processed)[:, 1],\n",
        "}\n",
        "\n",
        "# Get test predictions\n",
        "test_preds = {\n",
        "    'Instance 1': model_1.predict(X_test_processed),\n",
        "    'Instance 2': model_2.predict(X_test_processed),\n",
        "    'Instance 3': model_3.predict(X_test_processed),\n",
        "    'Instance 4': model_4.predict(X_test_processed),\n",
        "    'Instance 5': model_5.predict(X_val_processed),\n",
        "    'Instance 6': lgb_model.predict_proba(X_test_processed)[:, 1],\n",
        "}\n",
        "\n",
        "# Evaluate\n",
        "val_results = {k: evaluate_model(y_val, v) for k, v in val_preds.items()}\n",
        "test_results = {k: evaluate_model(y_test, v) for k, v in test_preds.items()}\n",
        "\n",
        "# Function to print results\n",
        "def print_results(title, results):\n",
        "    print(f\"\\n=== {title} ===\")\n",
        "    print(f\"{'Instance':<12} {'Accuracy':<10} {'F1 Score':<10} {'Precision':<10} {'Recall':<10}\")\n",
        "    print(\"=\" * 60)\n",
        "    for instance, metrics in results.items():\n",
        "        print(f\"{instance:<12} \"\n",
        "              f\"{metrics['accuracy']:<10.4f} \"\n",
        "              f\"{metrics['f1']:<10.4f} \"\n",
        "              f\"{metrics['precision']:<10.4f} \"\n",
        "              f\"{metrics['recall']:<10.4f}\")\n",
        "\n",
        "# Print both results\n",
        "print_results(\"Validation Set Evaluation\", val_results)\n",
        "print_results(\"Test Set Evaluation\", test_results)"
      ]
    },
    {
      "cell_type": "markdown",
      "metadata": {},
      "source": [
        "# SECTION 3: Predictions on The Best Model\n",
        "At this point you should now create models that combine various optimization techniques\n",
        "As done before make sure to plot out the loss curve and the accuracy and loss in verbose"
      ]
    },
    {
      "cell_type": "markdown",
      "metadata": {
        "id": "bO79SOsZYG-M"
      },
      "source": [
        "Finally, Make predictions using the best model. By the time you get to this cell you may realise at some point you needed to save the model so that you cal load it later"
      ]
    },
    {
      "cell_type": "code",
      "execution_count": null,
      "metadata": {
        "id": "Nqqe2PasUIAG"
      },
      "outputs": [],
      "source": [
        "def make_predictions(model_path, X):\n",
        "\n",
        "    # Load the model\n",
        "    model = load_model(None)\n",
        "    # Make predictions\n",
        "    predictions = None\n",
        "    # Convert probabilities to binary labels (0 or 1)\n",
        "\n",
        "    return predictions\n",
        "\n",
        "#Modify the code appropriately"
      ]
    },
    {
      "cell_type": "code",
      "execution_count": null,
      "metadata": {
        "id": "O_jwbvaAUMj4"
      },
      "outputs": [],
      "source": [
        "model_path = None\n",
        "make_predictions(None)"
      ]
    }
  ],
  "metadata": {
    "colab": {
      "provenance": []
    },
    "kernelspec": {
      "display_name": ".venv",
      "language": "python",
      "name": "python3"
    },
    "language_info": {
      "codemirror_mode": {
        "name": "ipython",
        "version": 3
      },
      "file_extension": ".py",
      "mimetype": "text/x-python",
      "name": "python",
      "nbconvert_exporter": "python",
      "pygments_lexer": "ipython3",
      "version": "3.10.17"
    }
  },
  "nbformat": 4,
  "nbformat_minor": 0
}
