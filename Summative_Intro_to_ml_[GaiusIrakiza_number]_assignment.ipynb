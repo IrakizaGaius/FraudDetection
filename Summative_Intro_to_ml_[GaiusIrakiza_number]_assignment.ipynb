{
  "cells": [
    {
      "cell_type": "markdown",
      "metadata": {
        "id": "ujuLMxSvoXbg"
      },
      "source": [
        "# Optimization Techniques in Machine Learning\n",
        "\n",
        "Objective: This assignment aims to explore implementation or Machine Learning Models with regularization, optimization and Error analysis  techniques used in machine learning to improve models' performance, convergence speed, and efficiency..\n",
        "\n",
        "A Notebook detailing the following\n",
        "\n",
        "* Project name\n",
        "* Clear out puts from cells\n",
        "\n",
        "\n",
        "\n",
        "\n",
        "\n",
        "\n",
        "**Instructions**\n",
        "\n",
        "1. Acquire a dataset suitable for ML tasks as per your proposal.\n",
        "2. Implement a simple machine learning model based on neural networks on the chosen dataset without any defined optimization techniques. (Check instructions)\n",
        "3. Implement and compare the model's performance after applying 3 to 4 disntict combinations regularization and optimization techniques.\n",
        "4. Discuss the results on the README file.\n",
        "5. Make predictions using test data\n",
        "7. Implement error analysis techniques and ensure there is: F1-Score, Recall, Precision, RUC a confusion matrix using plotting libraries (not verbose)\n",
        "\n",
        "Submit notebook to github repo\n",
        "\n"
      ]
    },
    {
      "cell_type": "markdown",
      "metadata": {
        "id": "keZmePwAWYgQ"
      },
      "source": [
        "# 1. Dataset Overview and PreProcessing\n"
      ]
    },
    {
      "cell_type": "code",
      "execution_count": null,
      "metadata": {},
      "outputs": [],
      "source": []
    },
    {
      "cell_type": "markdown",
      "metadata": {},
      "source": [
        "\n",
        "### Problem Statement:\n",
        "The task is to predict the probability that an online transaction is fraudulent using identity and transaction data.\n",
        "\n",
        "### Dataset Description:\n",
        "- **Target variable:** `isFraud` (1 = fraud, 0 = not fraud)\n",
        "- **Files:** `train_transaction.csv`, `train_identity.csv` (joined on `TransactionID`)\n",
        "- **Features:**  \n",
        "  - *Transaction Data:* ProductCD, card1–card6, addr1, addr2, M1–M9  \n",
        "  - *Identity Data:* DeviceType, DeviceInfo, id_12–id_38  \n",
        "- The feature `TransactionDT` is a relative timestamp.\n"
      ]
    },
    {
      "cell_type": "markdown",
      "metadata": {
        "id": "jKBHmqb87lNw"
      },
      "source": [
        "## 2. Defining all the Imports and necessary dependencies"
      ]
    },
    {
      "cell_type": "code",
      "execution_count": 88,
      "metadata": {
        "id": "oUtYNDjW7ugT"
      },
      "outputs": [],
      "source": [
        "import pandas as pd\n",
        "import numpy as np\n",
        "import os\n",
        "import matplotlib.pyplot as plt\n",
        "\n",
        "from sklearn.model_selection import train_test_split\n",
        "from sklearn.preprocessing import OneHotEncoder, StandardScaler\n",
        "from category_encoders.target_encoder import TargetEncoder\n",
        "from sklearn.impute import SimpleImputer\n",
        "\n",
        "from sklearn.compose import ColumnTransformer\n",
        "from sklearn.pipeline import Pipeline\n",
        "from sklearn.base import BaseEstimator, TransformerMixin\n",
        "from sklearn.feature_selection import VarianceThreshold\n",
        "from sklearn.linear_model import LogisticRegression\n",
        "from joblib import dump\n",
        "from sklearn.metrics import accuracy_score, f1_score, recall_score, precision_score\n",
        "from sklearn.metrics import confusion_matrix, ConfusionMatrixDisplay, classification_report\n",
        "\n",
        "from tensorflow.keras.models import Sequential, save_model\n",
        "from tensorflow.keras.layers import Dense, Dropout\n",
        "from tensorflow.keras.regularizers import l1, l2\n",
        "from tensorflow.keras.optimizers import Adam, RMSprop, SGD\n",
        "from tensorflow.keras.callbacks import EarlyStopping"
      ]
    },
    {
      "cell_type": "markdown",
      "metadata": {},
      "source": [
        "## Data PreProcessing"
      ]
    },
    {
      "cell_type": "markdown",
      "metadata": {
        "id": "clpMDEUs7MtB"
      },
      "source": [
        "### 1. Loading and Merge Data"
      ]
    },
    {
      "cell_type": "code",
      "execution_count": 68,
      "metadata": {
        "id": "8W5PSuVN7Kkn"
      },
      "outputs": [],
      "source": [
        "# Load datasets\n",
        "train_transaction = pd.read_csv('data/train_transaction.csv')\n",
        "train_identity = pd.read_csv('data/train_identity.csv')\n",
        "test_transaction = pd.read_csv('data/test_transaction.csv')\n",
        "test_identity = pd.read_csv('data/test_identity.csv')"
      ]
    },
    {
      "cell_type": "code",
      "execution_count": 69,
      "metadata": {},
      "outputs": [],
      "source": [
        "# Merge on TransactionID\n",
        "train_df = pd.merge(train_transaction, train_identity, on='TransactionID', how='left')\n",
        "test_df = pd.merge(test_transaction, test_identity, on='TransactionID', how='left')\n",
        "\n",
        "# Separate target\n",
        "y = train_df['isFraud']\n",
        "X = train_df.drop(columns=['isFraud', 'TransactionID'])"
      ]
    },
    {
      "cell_type": "markdown",
      "metadata": {},
      "source": [
        "### 2. Outlier Clipping"
      ]
    },
    {
      "cell_type": "code",
      "execution_count": 70,
      "metadata": {},
      "outputs": [],
      "source": [
        "class OutlierClipper(BaseEstimator, TransformerMixin):\n",
        "    def __init__(self, factor=1.5):\n",
        "        self.factor = factor\n",
        "\n",
        "    def fit(self, X, y=None):\n",
        "        # Convert to DataFrame if not already, so quantile works\n",
        "        if not isinstance(X, pd.DataFrame):\n",
        "            X = pd.DataFrame(X)\n",
        "        Q1 = X.quantile(0.25)\n",
        "        Q3 = X.quantile(0.75)\n",
        "        self.lower = Q1 - self.factor * (Q3 - Q1)\n",
        "        self.upper = Q3 + self.factor * (Q3 - Q1)\n",
        "        return self\n",
        "\n",
        "    def transform(self, X):\n",
        "        if not isinstance(X, pd.DataFrame):\n",
        "            X = pd.DataFrame(X)\n",
        "        # Clip values\n",
        "        X_clipped = X.clip(lower=self.lower, upper=self.upper, axis=1)\n",
        "        return X_clipped.values  # return NumPy array to keep pipeline consistent"
      ]
    },
    {
      "cell_type": "markdown",
      "metadata": {},
      "source": [
        "### 3. Feature Grouping"
      ]
    },
    {
      "cell_type": "code",
      "execution_count": 71,
      "metadata": {},
      "outputs": [],
      "source": [
        "# Identify features by type\n",
        "categorical = X.select_dtypes(include='object').columns.tolist()\n",
        "numerical = X.select_dtypes(include=[np.number]).columns.tolist()\n",
        "\n",
        "# Further split categorical\n",
        "low_card = [col for col in categorical if X[col].nunique() < 10]\n",
        "high_card = list(set(categorical) - set(low_card))"
      ]
    },
    {
      "cell_type": "markdown",
      "metadata": {},
      "source": [
        "### 4. PreProcessing Pipeline"
      ]
    },
    {
      "cell_type": "code",
      "execution_count": null,
      "metadata": {},
      "outputs": [],
      "source": [
        "# Pipelines\n",
        "num_pipeline = Pipeline([\n",
        "    ('imputer', SimpleImputer(strategy='median')),\n",
        "    ('clipper', OutlierClipper()),\n",
        "    ('scaler', StandardScaler())\n",
        "])\n",
        "\n",
        "low_cat_pipeline = Pipeline([\n",
        "    ('imputer', SimpleImputer(strategy='most_frequent')),  # For categorical, use most_frequent\n",
        "    ('encoder', OneHotEncoder(handle_unknown='ignore', sparse_output=False))\n",
        "])\n",
        "\n",
        "high_cat_pipeline = Pipeline([\n",
        "    ('imputer', SimpleImputer(strategy='most_frequent')),\n",
        "    ('encoder', TargetEncoder())\n",
        "])\n",
        "\n",
        "# Full transformer\n",
        "preprocessor = ColumnTransformer([\n",
        "    ('num', num_pipeline, numerical),\n",
        "    ('low_cat', low_cat_pipeline, low_card),\n",
        "    ('high_cat', high_cat_pipeline, high_card)\n",
        "])"
      ]
    },
    {
      "cell_type": "markdown",
      "metadata": {},
      "source": [
        "### 5. Data Splitting"
      ]
    },
    {
      "cell_type": "code",
      "execution_count": null,
      "metadata": {},
      "outputs": [],
      "source": [
        "X_temp, X_test, y_temp, y_test = train_test_split(X, y, test_size=0.15, stratify=y, random_state=42)\n",
        "\n",
        "X_train, X_val, y_train, y_val = train_test_split(X_temp, y_temp, test_size=0.1765, stratify=y_temp, random_state=42)\n",
        "\n",
        "X_train_processed = preprocessor.fit_transform(X_train, y_train)\n",
        "X_val_processed = preprocessor.transform(X_val)\n",
        "X_test_processed = preprocessor.transform(X_test)\n",
        "\n",
        "# Apply variance thresholding\n",
        "selector = VarianceThreshold(threshold=0.0001)\n",
        "X_train_processed = selector.fit_transform(X_train_processed)\n",
        "X_val_processed = selector.transform(X_val_processed)\n",
        "X_test_processed = selector.transform(X_test_processed)"
      ]
    },
    {
      "cell_type": "markdown",
      "metadata": {
        "id": "ve4AiQmGMzIN"
      },
      "source": [
        "# SECTION 1: Model Architecture\n",
        "\n",
        "\n",
        "\n",
        "```\n",
        "TODO: Insert an image with the Model architecture here.Replace the image Below\n",
        "```\n",
        "> <img src=\"https://miro.medium.com/v2/resize:fit:640/format:webp/1*v1ohAG82xmU6WGsG2hoE8g.png\" alt=\"?\" style=\"width:25px\"/>\n",
        "\n",
        "\n"
      ]
    },
    {
      "cell_type": "markdown",
      "metadata": {
        "id": "QR4BNYoUMzMP"
      },
      "source": [
        "## Task: Define a function that creates models without specified Optimization techniques\n"
      ]
    },
    {
      "cell_type": "markdown",
      "metadata": {},
      "source": [
        "### Model 1:\n",
        "A Logistic Regression model for classification, setting a regularization parameter (C=0.5) and increasing maximum iterations. It then fits the model to the training data and makes predictions on the validation set."
      ]
    },
    {
      "cell_type": "code",
      "execution_count": null,
      "metadata": {},
      "outputs": [
        {
          "data": {
            "text/plain": [
              "['saved_models/logistic_model.joblib']"
            ]
          },
          "execution_count": 75,
          "metadata": {},
          "output_type": "execute_result"
        }
      ],
      "source": [
        "log_model = LogisticRegression(C=0.5, max_iter=1000)\n",
        "log_model.fit(X_train_processed, y_train)\n",
        "y_pred_log = log_model.predict(X_val_processed)\n",
        "\n",
        "dump(log_model, 'saved_models/logistic_model.joblib')"
      ]
    },
    {
      "cell_type": "markdown",
      "metadata": {
        "id": "9hc6k2taT0_n"
      },
      "source": [
        "# SECTION 2: Optimization and Regularization Combinations\n",
        "At this point you should now create models that combine various optimization techniques\n",
        "As done before make sure to plot out the loss curve and the accuracy and loss in verbose"
      ]
    },
    {
      "cell_type": "markdown",
      "metadata": {},
      "source": [
        "### Model 2:\n",
        "A simple neural network with two hidden layers (64 and 32 neurons) for binary classification. It's then compiled using the Adam"
      ]
    },
    {
      "cell_type": "code",
      "execution_count": null,
      "metadata": {
        "id": "gGtPmYb_SDHy"
      },
      "outputs": [
        {
          "name": "stderr",
          "output_type": "stream",
          "text": [
            "/Users/irakizagaius/Downloads/FraudDetection/.venv/lib/python3.10/site-packages/keras/src/layers/core/dense.py:93: UserWarning: Do not pass an `input_shape`/`input_dim` argument to a layer. When using Sequential models, prefer using an `Input(shape)` object as the first layer in the model instead.\n",
            "  super().__init__(activity_regularizer=activity_regularizer, **kwargs)\n"
          ]
        },
        {
          "name": "stdout",
          "output_type": "stream",
          "text": [
            "Epoch 1/10\n",
            "\u001b[1m14764/14764\u001b[0m \u001b[32m━━━━━━━━━━━━━━━━━━━━\u001b[0m\u001b[37m\u001b[0m \u001b[1m23s\u001b[0m 1ms/step - accuracy: 0.9704 - loss: 0.1080 - val_accuracy: 0.9742 - val_loss: 0.0922\n",
            "Epoch 2/10\n",
            "\u001b[1m14764/14764\u001b[0m \u001b[32m━━━━━━━━━━━━━━━━━━━━\u001b[0m\u001b[37m\u001b[0m \u001b[1m21s\u001b[0m 1ms/step - accuracy: 0.9745 - loss: 0.0921 - val_accuracy: 0.9748 - val_loss: 0.0901\n",
            "Epoch 3/10\n",
            "\u001b[1m14764/14764\u001b[0m \u001b[32m━━━━━━━━━━━━━━━━━━━━\u001b[0m\u001b[37m\u001b[0m \u001b[1m21s\u001b[0m 1ms/step - accuracy: 0.9758 - loss: 0.0877 - val_accuracy: 0.9756 - val_loss: 0.0878\n",
            "Epoch 4/10\n",
            "\u001b[1m14764/14764\u001b[0m \u001b[32m━━━━━━━━━━━━━━━━━━━━\u001b[0m\u001b[37m\u001b[0m \u001b[1m20s\u001b[0m 1ms/step - accuracy: 0.9763 - loss: 0.0850 - val_accuracy: 0.9762 - val_loss: 0.0855\n",
            "Epoch 5/10\n",
            "\u001b[1m14764/14764\u001b[0m \u001b[32m━━━━━━━━━━━━━━━━━━━━\u001b[0m\u001b[37m\u001b[0m \u001b[1m21s\u001b[0m 1ms/step - accuracy: 0.9770 - loss: 0.0821 - val_accuracy: 0.9767 - val_loss: 0.0852\n",
            "Epoch 6/10\n",
            "\u001b[1m14764/14764\u001b[0m \u001b[32m━━━━━━━━━━━━━━━━━━━━\u001b[0m\u001b[37m\u001b[0m \u001b[1m21s\u001b[0m 1ms/step - accuracy: 0.9772 - loss: 0.0808 - val_accuracy: 0.9763 - val_loss: 0.0844\n",
            "Epoch 7/10\n",
            "\u001b[1m14764/14764\u001b[0m \u001b[32m━━━━━━━━━━━━━━━━━━━━\u001b[0m\u001b[37m\u001b[0m \u001b[1m21s\u001b[0m 1ms/step - accuracy: 0.9778 - loss: 0.0787 - val_accuracy: 0.9774 - val_loss: 0.0827\n",
            "Epoch 8/10\n",
            "\u001b[1m14764/14764\u001b[0m \u001b[32m━━━━━━━━━━━━━━━━━━━━\u001b[0m\u001b[37m\u001b[0m \u001b[1m20s\u001b[0m 1ms/step - accuracy: 0.9779 - loss: 0.0779 - val_accuracy: 0.9772 - val_loss: 0.0816\n",
            "Epoch 9/10\n",
            "\u001b[1m14764/14764\u001b[0m \u001b[32m━━━━━━━━━━━━━━━━━━━━\u001b[0m\u001b[37m\u001b[0m \u001b[1m21s\u001b[0m 1ms/step - accuracy: 0.9785 - loss: 0.0768 - val_accuracy: 0.9772 - val_loss: 0.0826\n",
            "Epoch 10/10\n",
            "\u001b[1m14764/14764\u001b[0m \u001b[32m━━━━━━━━━━━━━━━━━━━━\u001b[0m\u001b[37m\u001b[0m \u001b[1m21s\u001b[0m 1ms/step - accuracy: 0.9784 - loss: 0.0762 - val_accuracy: 0.9774 - val_loss: 0.0807\n"
          ]
        },
        {
          "name": "stderr",
          "output_type": "stream",
          "text": [
            "WARNING:absl:You are saving your model as an HDF5 file via `model.save()` or `keras.saving.save_model(model)`. This file format is considered legacy. We recommend using instead the native Keras format, e.g. `model.save('my_model.keras')` or `keras.saving.save_model(model, 'my_model.keras')`. \n"
          ]
        }
      ],
      "source": [
        "model_2 = Sequential([\n",
        "    Dense(64, activation='relu', input_shape=(X_train_processed.shape[1],)),\n",
        "    Dense(32, activation='relu'),\n",
        "    Dense(16, activation='relu'),\n",
        "    Dense(1, activation='sigmoid')\n",
        "])\n",
        "\n",
        "model_2.compile(optimizer='adam', loss='binary_crossentropy', metrics=['accuracy'])\n",
        "\n",
        "history_2 = model_2.fit(X_train_processed, y_train, epochs=100, batch_size=32,\n",
        "                        validation_data=(X_val_processed, y_val), verbose=1)\n",
        "\n",
        "save_model(model_2, 'saved_models/nn_instance_2.h5')"
      ]
    },
    {
      "cell_type": "code",
      "execution_count": 90,
      "metadata": {},
      "outputs": [
        {
          "name": "stdout",
          "output_type": "stream",
          "text": [
            "\u001b[1m2769/2769\u001b[0m \u001b[32m━━━━━━━━━━━━━━━━━━━━\u001b[0m\u001b[37m\u001b[0m \u001b[1m2s\u001b[0m 685us/step\n"
          ]
        },
        {
          "data": {
            "image/png": "[encoded data removed]",
            "text/plain": [
              "<Figure size 640x480 with 2 Axes>"
            ]
          },
          "metadata": {},
          "output_type": "display_data"
        },
        {
          "name": "stdout",
          "output_type": "stream",
          "text": [
            "=== Classification Report ===\n",
            "              precision    recall  f1-score   support\n",
            "\n",
            "   Not Fraud       0.98      1.00      0.99     85482\n",
            "       Fraud       0.82      0.44      0.57      3099\n",
            "\n",
            "    accuracy                           0.98     88581\n",
            "   macro avg       0.90      0.72      0.78     88581\n",
            "weighted avg       0.97      0.98      0.97     88581\n",
            "\n",
            "True Negatives (TN): 85183\n",
            "False Positives (FP): 299\n",
            "False Negatives (FN): 1728\n",
            "True Positives (TP): 1371\n"
          ]
        }
      ],
      "source": [
        "# Predict probabilities and convert to binary labels\n",
        "y_test_pred_prob = model_2.predict(X_test_processed)\n",
        "y_test_pred = (y_test_pred_prob > 0.5).astype(int).reshape(-1)\n",
        "y_test_true = y_test.values.reshape(-1)\n",
        "\n",
        "# Confusion matrix\n",
        "cm = confusion_matrix(y_test_true, y_test_pred)\n",
        "\n",
        "# Display with labels\n",
        "disp = ConfusionMatrixDisplay(confusion_matrix=cm, display_labels=[\"Not Fraud\", \"Fraud\"])\n",
        "disp.plot(cmap=\"Blues\")\n",
        "plt.title(\"Confusion Matrix - Test Set\")\n",
        "plt.show()\n",
        "\n",
        "# Detailed classification report\n",
        "report = classification_report(y_test_true, y_test_pred, target_names=[\"Not Fraud\", \"Fraud\"])\n",
        "print(\"=== Classification Report ===\")\n",
        "print(report)\n",
        "tn, fp, fn, tp = cm.ravel()\n",
        "print(f\"True Negatives (TN): {tn}\")\n",
        "print(f\"False Positives (FP): {fp}\")\n",
        "print(f\"False Negatives (FN): {fn}\")\n",
        "print(f\"True Positives (TP): {tp}\")\n"
      ]
    },
    {
      "cell_type": "markdown",
      "metadata": {},
      "source": [
        "### Model 3: \n",
        " A neural network with two hidden layers (128 and 64 neurons) including L2 regularization on the first layer for binary classification. It's compiled with an Adam optimizer and trained for up to 50 epochs using early stopping to capture the best weights."
      ]
    },
    {
      "cell_type": "code",
      "execution_count": 77,
      "metadata": {},
      "outputs": [
        {
          "name": "stdout",
          "output_type": "stream",
          "text": [
            "Epoch 1/50\n",
            "\u001b[1m4725/4725\u001b[0m \u001b[32m━━━━━━━━━━━━━━━━━━━━\u001b[0m\u001b[37m\u001b[0m \u001b[1m9s\u001b[0m 2ms/step - accuracy: 0.9697 - loss: 0.1388 - val_accuracy: 0.9711 - val_loss: 0.1073\n",
            "Epoch 2/50\n",
            "\u001b[1m4725/4725\u001b[0m \u001b[32m━━━━━━━━━━━━━━━━━━━━\u001b[0m\u001b[37m\u001b[0m \u001b[1m7s\u001b[0m 2ms/step - accuracy: 0.9724 - loss: 0.1036 - val_accuracy: 0.9728 - val_loss: 0.1020\n",
            "Epoch 3/50\n",
            "\u001b[1m4725/4725\u001b[0m \u001b[32m━━━━━━━━━━━━━━━━━━━━\u001b[0m\u001b[37m\u001b[0m \u001b[1m7s\u001b[0m 2ms/step - accuracy: 0.9728 - loss: 0.1012 - val_accuracy: 0.9735 - val_loss: 0.0985\n",
            "Epoch 4/50\n",
            "\u001b[1m4725/4725\u001b[0m \u001b[32m━━━━━━━━━━━━━━━━━━━━\u001b[0m\u001b[37m\u001b[0m \u001b[1m7s\u001b[0m 2ms/step - accuracy: 0.9731 - loss: 0.1008 - val_accuracy: 0.9730 - val_loss: 0.0997\n",
            "Epoch 5/50\n",
            "\u001b[1m4725/4725\u001b[0m \u001b[32m━━━━━━━━━━━━━━━━━━━━\u001b[0m\u001b[37m\u001b[0m \u001b[1m8s\u001b[0m 2ms/step - accuracy: 0.9736 - loss: 0.0987 - val_accuracy: 0.9735 - val_loss: 0.1016\n",
            "Epoch 6/50\n",
            "\u001b[1m4725/4725\u001b[0m \u001b[32m━━━━━━━━━━━━━━━━━━━━\u001b[0m\u001b[37m\u001b[0m \u001b[1m7s\u001b[0m 2ms/step - accuracy: 0.9738 - loss: 0.0980 - val_accuracy: 0.9736 - val_loss: 0.0988\n",
            "Epoch 7/50\n",
            "\u001b[1m4725/4725\u001b[0m \u001b[32m━━━━━━━━━━━━━━━━━━━━\u001b[0m\u001b[37m\u001b[0m \u001b[1m7s\u001b[0m 2ms/step - accuracy: 0.9735 - loss: 0.0997 - val_accuracy: 0.9732 - val_loss: 0.1014\n",
            "Epoch 8/50\n",
            "\u001b[1m4725/4725\u001b[0m \u001b[32m━━━━━━━━━━━━━━━━━━━━\u001b[0m\u001b[37m\u001b[0m \u001b[1m7s\u001b[0m 2ms/step - accuracy: 0.9737 - loss: 0.0987 - val_accuracy: 0.9739 - val_loss: 0.0980\n",
            "Epoch 9/50\n",
            "\u001b[1m4725/4725\u001b[0m \u001b[32m━━━━━━━━━━━━━━━━━━━━\u001b[0m\u001b[37m\u001b[0m \u001b[1m7s\u001b[0m 2ms/step - accuracy: 0.9736 - loss: 0.0992 - val_accuracy: 0.9737 - val_loss: 0.0997\n",
            "Epoch 10/50\n",
            "\u001b[1m4725/4725\u001b[0m \u001b[32m━━━━━━━━━━━━━━━━━━━━\u001b[0m\u001b[37m\u001b[0m \u001b[1m7s\u001b[0m 2ms/step - accuracy: 0.9735 - loss: 0.0992 - val_accuracy: 0.9740 - val_loss: 0.0981\n",
            "Epoch 11/50\n",
            "\u001b[1m4725/4725\u001b[0m \u001b[32m━━━━━━━━━━━━━━━━━━━━\u001b[0m\u001b[37m\u001b[0m \u001b[1m7s\u001b[0m 2ms/step - accuracy: 0.9733 - loss: 0.0992 - val_accuracy: 0.9742 - val_loss: 0.0968\n",
            "Epoch 12/50\n",
            "\u001b[1m4725/4725\u001b[0m \u001b[32m━━━━━━━━━━━━━━━━━━━━\u001b[0m\u001b[37m\u001b[0m \u001b[1m8s\u001b[0m 2ms/step - accuracy: 0.9738 - loss: 0.0974 - val_accuracy: 0.9738 - val_loss: 0.0976\n",
            "Epoch 13/50\n",
            "\u001b[1m4725/4725\u001b[0m \u001b[32m━━━━━━━━━━━━━━━━━━━━\u001b[0m\u001b[37m\u001b[0m \u001b[1m8s\u001b[0m 2ms/step - accuracy: 0.9739 - loss: 0.0984 - val_accuracy: 0.9739 - val_loss: 0.0991\n",
            "Epoch 14/50\n",
            "\u001b[1m4725/4725\u001b[0m \u001b[32m━━━━━━━━━━━━━━━━━━━━\u001b[0m\u001b[37m\u001b[0m \u001b[1m8s\u001b[0m 2ms/step - accuracy: 0.9736 - loss: 0.0986 - val_accuracy: 0.9744 - val_loss: 0.0971\n",
            "Epoch 15/50\n",
            "\u001b[1m4725/4725\u001b[0m \u001b[32m━━━━━━━━━━━━━━━━━━━━\u001b[0m\u001b[37m\u001b[0m \u001b[1m8s\u001b[0m 2ms/step - accuracy: 0.9735 - loss: 0.0986 - val_accuracy: 0.9742 - val_loss: 0.0964\n",
            "Epoch 16/50\n",
            "\u001b[1m4725/4725\u001b[0m \u001b[32m━━━━━━━━━━━━━━━━━━━━\u001b[0m\u001b[37m\u001b[0m \u001b[1m8s\u001b[0m 2ms/step - accuracy: 0.9742 - loss: 0.0966 - val_accuracy: 0.9740 - val_loss: 0.0979\n",
            "Epoch 17/50\n",
            "\u001b[1m4725/4725\u001b[0m \u001b[32m━━━━━━━━━━━━━━━━━━━━\u001b[0m\u001b[37m\u001b[0m \u001b[1m8s\u001b[0m 2ms/step - accuracy: 0.9737 - loss: 0.0977 - val_accuracy: 0.9736 - val_loss: 0.0990\n",
            "Epoch 18/50\n",
            "\u001b[1m4725/4725\u001b[0m \u001b[32m━━━━━━━━━━━━━━━━━━━━\u001b[0m\u001b[37m\u001b[0m \u001b[1m8s\u001b[0m 2ms/step - accuracy: 0.9738 - loss: 0.0976 - val_accuracy: 0.9729 - val_loss: 0.1006\n",
            "Epoch 19/50\n",
            "\u001b[1m4725/4725\u001b[0m \u001b[32m━━━━━━━━━━━━━━━━━━━━\u001b[0m\u001b[37m\u001b[0m \u001b[1m7s\u001b[0m 2ms/step - accuracy: 0.9740 - loss: 0.0972 - val_accuracy: 0.9740 - val_loss: 0.0970\n",
            "Epoch 20/50\n",
            "\u001b[1m4725/4725\u001b[0m \u001b[32m━━━━━━━━━━━━━━━━━━━━\u001b[0m\u001b[37m\u001b[0m \u001b[1m8s\u001b[0m 2ms/step - accuracy: 0.9742 - loss: 0.0964 - val_accuracy: 0.9736 - val_loss: 0.0976\n"
          ]
        },
        {
          "name": "stderr",
          "output_type": "stream",
          "text": [
            "WARNING:absl:You are saving your model as an HDF5 file via `model.save()` or `keras.saving.save_model(model)`. This file format is considered legacy. We recommend using instead the native Keras format, e.g. `model.save('my_model.keras')` or `keras.saving.save_model(model, 'my_model.keras')`. \n"
          ]
        }
      ],
      "source": [
        "model_3 = Sequential([\n",
        "    Dense(128, activation='relu', input_shape=(X_train_processed.shape[1],), kernel_regularizer=l2(0.001)),\n",
        "    Dense(64, activation='relu'),\n",
        "    Dense(1, activation='sigmoid')\n",
        "])\n",
        "\n",
        "model_3.compile(optimizer=Adam(learning_rate=0.001), loss='binary_crossentropy', metrics=['accuracy'])\n",
        "\n",
        "early_stopping = EarlyStopping(monitor='val_loss', patience=5, restore_best_weights=True)\n",
        "\n",
        "history_2 = model_3.fit(X_train_processed, y_train, epochs=50, batch_size=100,\n",
        "                        validation_data=(X_val_processed, y_val),\n",
        "                        callbacks=[early_stopping], verbose=1)\n",
        "\n",
        "save_model(model_3, 'saved_models/nn_instance_3.h5')\n"
      ]
    },
    {
      "cell_type": "code",
      "execution_count": 91,
      "metadata": {},
      "outputs": [
        {
          "name": "stdout",
          "output_type": "stream",
          "text": [
            "\u001b[1m2769/2769\u001b[0m \u001b[32m━━━━━━━━━━━━━━━━━━━━\u001b[0m\u001b[37m\u001b[0m \u001b[1m2s\u001b[0m 759us/step\n"
          ]
        },
        {
          "data": {
            "image/png": "[encoded data removed]",
            "text/plain": [
              "<Figure size 640x480 with 2 Axes>"
            ]
          },
          "metadata": {},
          "output_type": "display_data"
        },
        {
          "name": "stdout",
          "output_type": "stream",
          "text": [
            "=== Classification Report ===\n",
            "              precision    recall  f1-score   support\n",
            "\n",
            "   Not Fraud       0.98      1.00      0.99     85482\n",
            "       Fraud       0.80      0.35      0.49      3099\n",
            "\n",
            "    accuracy                           0.97     88581\n",
            "   macro avg       0.89      0.67      0.74     88581\n",
            "weighted avg       0.97      0.97      0.97     88581\n",
            "\n",
            "True Negatives (TN): 85203\n",
            "False Positives (FP): 279\n",
            "False Negatives (FN): 2016\n",
            "True Positives (TP): 1083\n"
          ]
        }
      ],
      "source": [
        "# Predict probabilities and convert to binary labels\n",
        "y_test_pred_prob = model_3.predict(X_test_processed)\n",
        "y_test_pred = (y_test_pred_prob > 0.5).astype(int).reshape(-1)\n",
        "y_test_true = y_test.values.reshape(-1)\n",
        "\n",
        "# Confusion matrix\n",
        "cm = confusion_matrix(y_test_true, y_test_pred)\n",
        "\n",
        "# Display with labels\n",
        "disp = ConfusionMatrixDisplay(confusion_matrix=cm, display_labels=[\"Not Fraud\", \"Fraud\"])\n",
        "disp.plot(cmap=\"Blues\")\n",
        "plt.title(\"Confusion Matrix - Test Set\")\n",
        "plt.show()\n",
        "\n",
        "# Detailed classification report\n",
        "report = classification_report(y_test_true, y_test_pred, target_names=[\"Not Fraud\", \"Fraud\"])\n",
        "print(\"=== Classification Report ===\")\n",
        "print(report)\n",
        "tn, fp, fn, tp = cm.ravel()\n",
        "print(f\"True Negatives (TN): {tn}\")\n",
        "print(f\"False Positives (FP): {fp}\")\n",
        "print(f\"False Negatives (FN): {fn}\")\n",
        "print(f\"True Positives (TP): {tp}\")\n"
      ]
    },
    {
      "cell_type": "markdown",
      "metadata": {},
      "source": [
        "### Model 4:\n",
        "  A neural network featuring L1 regularization and Dropout layers across its hidden architecture for binary classification. It's compiled with RMSprop and trained for 50 epochs, utilizing early stopping with a larger batch size."
      ]
    },
    {
      "cell_type": "code",
      "execution_count": 78,
      "metadata": {},
      "outputs": [
        {
          "name": "stdout",
          "output_type": "stream",
          "text": [
            "Epoch 1/50\n",
            "\u001b[1m7382/7382\u001b[0m \u001b[32m━━━━━━━━━━━━━━━━━━━━\u001b[0m\u001b[37m\u001b[0m \u001b[1m13s\u001b[0m 2ms/step - accuracy: 0.9682 - loss: 0.2894 - val_accuracy: 0.9715 - val_loss: 0.1236\n",
            "Epoch 2/50\n",
            "\u001b[1m7382/7382\u001b[0m \u001b[32m━━━━━━━━━━━━━━━━━━━━\u001b[0m\u001b[37m\u001b[0m \u001b[1m12s\u001b[0m 2ms/step - accuracy: 0.9702 - loss: 0.1300 - val_accuracy: 0.9718 - val_loss: 0.1215\n",
            "Epoch 3/50\n",
            "\u001b[1m7382/7382\u001b[0m \u001b[32m━━━━━━━━━━━━━━━━━━━━\u001b[0m\u001b[37m\u001b[0m \u001b[1m12s\u001b[0m 2ms/step - accuracy: 0.9703 - loss: 0.1292 - val_accuracy: 0.9710 - val_loss: 0.1239\n",
            "Epoch 4/50\n",
            "\u001b[1m7382/7382\u001b[0m \u001b[32m━━━━━━━━━━━━━━━━━━━━\u001b[0m\u001b[37m\u001b[0m \u001b[1m13s\u001b[0m 2ms/step - accuracy: 0.9703 - loss: 0.1282 - val_accuracy: 0.9707 - val_loss: 0.1254\n",
            "Epoch 5/50\n",
            "\u001b[1m7382/7382\u001b[0m \u001b[32m━━━━━━━━━━━━━━━━━━━━\u001b[0m\u001b[37m\u001b[0m \u001b[1m12s\u001b[0m 2ms/step - accuracy: 0.9704 - loss: 0.1273 - val_accuracy: 0.9721 - val_loss: 0.1208\n",
            "Epoch 6/50\n",
            "\u001b[1m7382/7382\u001b[0m \u001b[32m━━━━━━━━━━━━━━━━━━━━\u001b[0m\u001b[37m\u001b[0m \u001b[1m12s\u001b[0m 2ms/step - accuracy: 0.9703 - loss: 0.1285 - val_accuracy: 0.9720 - val_loss: 0.1220\n",
            "Epoch 7/50\n",
            "\u001b[1m7382/7382\u001b[0m \u001b[32m━━━━━━━━━━━━━━━━━━━━\u001b[0m\u001b[37m\u001b[0m \u001b[1m12s\u001b[0m 2ms/step - accuracy: 0.9709 - loss: 0.1268 - val_accuracy: 0.9717 - val_loss: 0.1227\n",
            "Epoch 8/50\n",
            "\u001b[1m7382/7382\u001b[0m \u001b[32m━━━━━━━━━━━━━━━━━━━━\u001b[0m\u001b[37m\u001b[0m \u001b[1m13s\u001b[0m 2ms/step - accuracy: 0.9706 - loss: 0.1279 - val_accuracy: 0.9723 - val_loss: 0.1203\n",
            "Epoch 9/50\n",
            "\u001b[1m7382/7382\u001b[0m \u001b[32m━━━━━━━━━━━━━━━━━━━━\u001b[0m\u001b[37m\u001b[0m \u001b[1m15s\u001b[0m 2ms/step - accuracy: 0.9702 - loss: 0.1282 - val_accuracy: 0.9718 - val_loss: 0.1254\n",
            "Epoch 10/50\n",
            "\u001b[1m7382/7382\u001b[0m \u001b[32m━━━━━━━━━━━━━━━━━━━━\u001b[0m\u001b[37m\u001b[0m \u001b[1m12s\u001b[0m 2ms/step - accuracy: 0.9706 - loss: 0.1277 - val_accuracy: 0.9687 - val_loss: 0.1335\n",
            "Epoch 11/50\n",
            "\u001b[1m7382/7382\u001b[0m \u001b[32m━━━━━━━━━━━━━━━━━━━━\u001b[0m\u001b[37m\u001b[0m \u001b[1m13s\u001b[0m 2ms/step - accuracy: 0.9703 - loss: 0.1293 - val_accuracy: 0.9715 - val_loss: 0.1226\n"
          ]
        },
        {
          "name": "stderr",
          "output_type": "stream",
          "text": [
            "WARNING:absl:You are saving your model as an HDF5 file via `model.save()` or `keras.saving.save_model(model)`. This file format is considered legacy. We recommend using instead the native Keras format, e.g. `model.save('my_model.keras')` or `keras.saving.save_model(model, 'my_model.keras')`. \n"
          ]
        }
      ],
      "source": [
        "model_4 = Sequential([\n",
        "    Dense(128, activation='relu', input_shape=(X_train_processed.shape[1],), kernel_regularizer=l1(0.001)),\n",
        "    Dropout(0.3),\n",
        "    Dense(64, activation='relu'),\n",
        "    Dropout(0.2),\n",
        "    Dense(1, activation='sigmoid')\n",
        "])\n",
        "\n",
        "model_4.compile(optimizer=RMSprop(learning_rate=0.0005), loss='binary_crossentropy', metrics=['accuracy'])\n",
        "\n",
        "early_stopping = EarlyStopping(monitor='val_loss', patience=3, restore_best_weights=True)\n",
        "\n",
        "history_4 = model_4.fit(X_train_processed, y_train, epochs=50, batch_size=64,\n",
        "                        validation_data=(X_val_processed, y_val),\n",
        "                        callbacks=[early_stopping], verbose=1)\n",
        "\n",
        "save_model(model_4, 'saved_models/nn_instance_4.h5')\n"
      ]
    },
    {
      "cell_type": "code",
      "execution_count": 92,
      "metadata": {},
      "outputs": [
        {
          "name": "stdout",
          "output_type": "stream",
          "text": [
            "\u001b[1m2769/2769\u001b[0m \u001b[32m━━━━━━━━━━━━━━━━━━━━\u001b[0m\u001b[37m\u001b[0m \u001b[1m2s\u001b[0m 673us/step\n"
          ]
        },
        {
          "data": {
            "image/png": "[encoded data removed]",
            "text/plain": [
              "<Figure size 640x480 with 2 Axes>"
            ]
          },
          "metadata": {},
          "output_type": "display_data"
        },
        {
          "name": "stdout",
          "output_type": "stream",
          "text": [
            "=== Classification Report ===\n",
            "              precision    recall  f1-score   support\n",
            "\n",
            "   Not Fraud       0.98      1.00      0.99     85482\n",
            "       Fraud       0.75      0.30      0.43      3099\n",
            "\n",
            "    accuracy                           0.97     88581\n",
            "   macro avg       0.86      0.65      0.71     88581\n",
            "weighted avg       0.97      0.97      0.97     88581\n",
            "\n",
            "True Negatives (TN): 85164\n",
            "False Positives (FP): 318\n",
            "False Negatives (FN): 2158\n",
            "True Positives (TP): 941\n"
          ]
        }
      ],
      "source": [
        "# Predict probabilities and convert to binary labels\n",
        "y_test_pred_prob = model_4.predict(X_test_processed)\n",
        "y_test_pred = (y_test_pred_prob > 0.5).astype(int).reshape(-1)\n",
        "y_test_true = y_test.values.reshape(-1)\n",
        "\n",
        "# Confusion matrix\n",
        "cm = confusion_matrix(y_test_true, y_test_pred)\n",
        "\n",
        "# Display with labels\n",
        "disp = ConfusionMatrixDisplay(confusion_matrix=cm, display_labels=[\"Not Fraud\", \"Fraud\"])\n",
        "disp.plot(cmap=\"Blues\")\n",
        "plt.title(\"Confusion Matrix - Test Set\")\n",
        "plt.show()\n",
        "\n",
        "# Detailed classification report\n",
        "report = classification_report(y_test_true, y_test_pred, target_names=[\"Not Fraud\", \"Fraud\"])\n",
        "print(\"=== Classification Report ===\")\n",
        "print(report)\n",
        "tn, fp, fn, tp = cm.ravel()\n",
        "print(f\"True Negatives (TN): {tn}\")\n",
        "print(f\"False Positives (FP): {fp}\")\n",
        "print(f\"False Negatives (FN): {fn}\")\n",
        "print(f\"True Positives (TP): {tp}\")\n"
      ]
    },
    {
      "cell_type": "markdown",
      "metadata": {},
      "source": [
        "### Model 5:\n",
        "A deep neural network with three hidden layers (256, 128, 64 neurons), applying L2 regularization on the first layer for binary classification. It's compiled using the SGD optimizer and trained for 30 epochs with a batch size of 64. The trained model is then saved to a file."
      ]
    },
    {
      "cell_type": "code",
      "execution_count": 79,
      "metadata": {},
      "outputs": [
        {
          "name": "stdout",
          "output_type": "stream",
          "text": [
            "Epoch 1/30\n",
            "\u001b[1m7382/7382\u001b[0m \u001b[32m━━━━━━━━━━━━━━━━━━━━\u001b[0m\u001b[37m\u001b[0m \u001b[1m13s\u001b[0m 2ms/step - accuracy: 0.9659 - loss: 0.1445 - val_accuracy: 0.9720 - val_loss: 0.1176\n",
            "Epoch 2/30\n",
            "\u001b[1m7382/7382\u001b[0m \u001b[32m━━━━━━━━━━━━━━━━━━━━\u001b[0m\u001b[37m\u001b[0m \u001b[1m13s\u001b[0m 2ms/step - accuracy: 0.9719 - loss: 0.1167 - val_accuracy: 0.9727 - val_loss: 0.1133\n",
            "Epoch 3/30\n",
            "\u001b[1m7382/7382\u001b[0m \u001b[32m━━━━━━━━━━━━━━━━━━━━\u001b[0m\u001b[37m\u001b[0m \u001b[1m13s\u001b[0m 2ms/step - accuracy: 0.9727 - loss: 0.1119 - val_accuracy: 0.9734 - val_loss: 0.1105\n",
            "Epoch 4/30\n",
            "\u001b[1m7382/7382\u001b[0m \u001b[32m━━━━━━━━━━━━━━━━━━━━\u001b[0m\u001b[37m\u001b[0m \u001b[1m13s\u001b[0m 2ms/step - accuracy: 0.9731 - loss: 0.1100 - val_accuracy: 0.9737 - val_loss: 0.1078\n",
            "Epoch 5/30\n",
            "\u001b[1m7382/7382\u001b[0m \u001b[32m━━━━━━━━━━━━━━━━━━━━\u001b[0m\u001b[37m\u001b[0m \u001b[1m13s\u001b[0m 2ms/step - accuracy: 0.9733 - loss: 0.1084 - val_accuracy: 0.9741 - val_loss: 0.1058\n",
            "Epoch 6/30\n",
            "\u001b[1m7382/7382\u001b[0m \u001b[32m━━━━━━━━━━━━━━━━━━━━\u001b[0m\u001b[37m\u001b[0m \u001b[1m13s\u001b[0m 2ms/step - accuracy: 0.9742 - loss: 0.1053 - val_accuracy: 0.9741 - val_loss: 0.1054\n",
            "Epoch 7/30\n",
            "\u001b[1m7382/7382\u001b[0m \u001b[32m━━━━━━━━━━━━━━━━━━━━\u001b[0m\u001b[37m\u001b[0m \u001b[1m13s\u001b[0m 2ms/step - accuracy: 0.9746 - loss: 0.1041 - val_accuracy: 0.9746 - val_loss: 0.1034\n",
            "Epoch 8/30\n",
            "\u001b[1m7382/7382\u001b[0m \u001b[32m━━━━━━━━━━━━━━━━━━━━\u001b[0m\u001b[37m\u001b[0m \u001b[1m13s\u001b[0m 2ms/step - accuracy: 0.9752 - loss: 0.1005 - val_accuracy: 0.9750 - val_loss: 0.1010\n",
            "Epoch 9/30\n",
            "\u001b[1m7382/7382\u001b[0m \u001b[32m━━━━━━━━━━━━━━━━━━━━\u001b[0m\u001b[37m\u001b[0m \u001b[1m13s\u001b[0m 2ms/step - accuracy: 0.9754 - loss: 0.0995 - val_accuracy: 0.9751 - val_loss: 0.1005\n",
            "Epoch 10/30\n",
            "\u001b[1m7382/7382\u001b[0m \u001b[32m━━━━━━━━━━━━━━━━━━━━\u001b[0m\u001b[37m\u001b[0m \u001b[1m13s\u001b[0m 2ms/step - accuracy: 0.9760 - loss: 0.0976 - val_accuracy: 0.9755 - val_loss: 0.0993\n",
            "Epoch 11/30\n",
            "\u001b[1m7382/7382\u001b[0m \u001b[32m━━━━━━━━━━━━━━━━━━━━\u001b[0m\u001b[37m\u001b[0m \u001b[1m13s\u001b[0m 2ms/step - accuracy: 0.9759 - loss: 0.0964 - val_accuracy: 0.9760 - val_loss: 0.0973\n",
            "Epoch 12/30\n",
            "\u001b[1m7382/7382\u001b[0m \u001b[32m━━━━━━━━━━━━━━━━━━━━\u001b[0m\u001b[37m\u001b[0m \u001b[1m13s\u001b[0m 2ms/step - accuracy: 0.9764 - loss: 0.0940 - val_accuracy: 0.9758 - val_loss: 0.0972\n",
            "Epoch 13/30\n",
            "\u001b[1m7382/7382\u001b[0m \u001b[32m━━━━━━━━━━━━━━━━━━━━\u001b[0m\u001b[37m\u001b[0m \u001b[1m13s\u001b[0m 2ms/step - accuracy: 0.9766 - loss: 0.0934 - val_accuracy: 0.9765 - val_loss: 0.0957\n",
            "Epoch 14/30\n",
            "\u001b[1m7382/7382\u001b[0m \u001b[32m━━━━━━━━━━━━━━━━━━━━\u001b[0m\u001b[37m\u001b[0m \u001b[1m13s\u001b[0m 2ms/step - accuracy: 0.9765 - loss: 0.0927 - val_accuracy: 0.9758 - val_loss: 0.0957\n",
            "Epoch 15/30\n",
            "\u001b[1m7382/7382\u001b[0m \u001b[32m━━━━━━━━━━━━━━━━━━━━\u001b[0m\u001b[37m\u001b[0m \u001b[1m13s\u001b[0m 2ms/step - accuracy: 0.9770 - loss: 0.0916 - val_accuracy: 0.9760 - val_loss: 0.0946\n",
            "Epoch 16/30\n",
            "\u001b[1m7382/7382\u001b[0m \u001b[32m━━━━━━━━━━━━━━━━━━━━\u001b[0m\u001b[37m\u001b[0m \u001b[1m13s\u001b[0m 2ms/step - accuracy: 0.9774 - loss: 0.0901 - val_accuracy: 0.9764 - val_loss: 0.0940\n",
            "Epoch 17/30\n",
            "\u001b[1m7382/7382\u001b[0m \u001b[32m━━━━━━━━━━━━━━━━━━━━\u001b[0m\u001b[37m\u001b[0m \u001b[1m13s\u001b[0m 2ms/step - accuracy: 0.9775 - loss: 0.0894 - val_accuracy: 0.9764 - val_loss: 0.0933\n",
            "Epoch 18/30\n",
            "\u001b[1m7382/7382\u001b[0m \u001b[32m━━━━━━━━━━━━━━━━━━━━\u001b[0m\u001b[37m\u001b[0m \u001b[1m13s\u001b[0m 2ms/step - accuracy: 0.9779 - loss: 0.0871 - val_accuracy: 0.9769 - val_loss: 0.0915\n",
            "Epoch 19/30\n",
            "\u001b[1m7382/7382\u001b[0m \u001b[32m━━━━━━━━━━━━━━━━━━━━\u001b[0m\u001b[37m\u001b[0m \u001b[1m13s\u001b[0m 2ms/step - accuracy: 0.9775 - loss: 0.0877 - val_accuracy: 0.9769 - val_loss: 0.0932\n",
            "Epoch 20/30\n",
            "\u001b[1m7382/7382\u001b[0m \u001b[32m━━━━━━━━━━━━━━━━━━━━\u001b[0m\u001b[37m\u001b[0m \u001b[1m13s\u001b[0m 2ms/step - accuracy: 0.9780 - loss: 0.0862 - val_accuracy: 0.9762 - val_loss: 0.0939\n",
            "Epoch 21/30\n",
            "\u001b[1m7382/7382\u001b[0m \u001b[32m━━━━━━━━━━━━━━━━━━━━\u001b[0m\u001b[37m\u001b[0m \u001b[1m13s\u001b[0m 2ms/step - accuracy: 0.9788 - loss: 0.0838 - val_accuracy: 0.9772 - val_loss: 0.0899\n",
            "Epoch 22/30\n",
            "\u001b[1m7382/7382\u001b[0m \u001b[32m━━━━━━━━━━━━━━━━━━━━\u001b[0m\u001b[37m\u001b[0m \u001b[1m13s\u001b[0m 2ms/step - accuracy: 0.9783 - loss: 0.0846 - val_accuracy: 0.9772 - val_loss: 0.0890\n",
            "Epoch 23/30\n",
            "\u001b[1m7382/7382\u001b[0m \u001b[32m━━━━━━━━━━━━━━━━━━━━\u001b[0m\u001b[37m\u001b[0m \u001b[1m13s\u001b[0m 2ms/step - accuracy: 0.9790 - loss: 0.0821 - val_accuracy: 0.9776 - val_loss: 0.0884\n",
            "Epoch 24/30\n",
            "\u001b[1m7382/7382\u001b[0m \u001b[32m━━━━━━━━━━━━━━━━━━━━\u001b[0m\u001b[37m\u001b[0m \u001b[1m13s\u001b[0m 2ms/step - accuracy: 0.9786 - loss: 0.0822 - val_accuracy: 0.9769 - val_loss: 0.0905\n",
            "Epoch 25/30\n",
            "\u001b[1m7382/7382\u001b[0m \u001b[32m━━━━━━━━━━━━━━━━━━━━\u001b[0m\u001b[37m\u001b[0m \u001b[1m14s\u001b[0m 2ms/step - accuracy: 0.9794 - loss: 0.0804 - val_accuracy: 0.9773 - val_loss: 0.0894\n",
            "Epoch 26/30\n",
            "\u001b[1m7382/7382\u001b[0m \u001b[32m━━━━━━━━━━━━━━━━━━━━\u001b[0m\u001b[37m\u001b[0m \u001b[1m15s\u001b[0m 2ms/step - accuracy: 0.9796 - loss: 0.0793 - val_accuracy: 0.9782 - val_loss: 0.0869\n",
            "Epoch 27/30\n",
            "\u001b[1m7382/7382\u001b[0m \u001b[32m━━━━━━━━━━━━━━━━━━━━\u001b[0m\u001b[37m\u001b[0m \u001b[1m14s\u001b[0m 2ms/step - accuracy: 0.9793 - loss: 0.0794 - val_accuracy: 0.9778 - val_loss: 0.0871\n",
            "Epoch 28/30\n",
            "\u001b[1m7382/7382\u001b[0m \u001b[32m━━━━━━━━━━━━━━━━━━━━\u001b[0m\u001b[37m\u001b[0m \u001b[1m13s\u001b[0m 2ms/step - accuracy: 0.9801 - loss: 0.0771 - val_accuracy: 0.9781 - val_loss: 0.0863\n",
            "Epoch 29/30\n",
            "\u001b[1m7382/7382\u001b[0m \u001b[32m━━━━━━━━━━━━━━━━━━━━\u001b[0m\u001b[37m\u001b[0m \u001b[1m13s\u001b[0m 2ms/step - accuracy: 0.9796 - loss: 0.0775 - val_accuracy: 0.9779 - val_loss: 0.0880\n",
            "Epoch 30/30\n",
            "\u001b[1m7382/7382\u001b[0m \u001b[32m━━━━━━━━━━━━━━━━━━━━\u001b[0m\u001b[37m\u001b[0m \u001b[1m13s\u001b[0m 2ms/step - accuracy: 0.9806 - loss: 0.0750 - val_accuracy: 0.9779 - val_loss: 0.0870\n"
          ]
        },
        {
          "name": "stderr",
          "output_type": "stream",
          "text": [
            "WARNING:absl:You are saving your model as an HDF5 file via `model.save()` or `keras.saving.save_model(model)`. This file format is considered legacy. We recommend using instead the native Keras format, e.g. `model.save('my_model.keras')` or `keras.saving.save_model(model, 'my_model.keras')`. \n"
          ]
        }
      ],
      "source": [
        "model_5 = Sequential([\n",
        "    Dense(256, activation='relu', input_shape=(X_train_processed.shape[1],), kernel_regularizer=l2(0.0001)),\n",
        "    Dense(128, activation='relu'),\n",
        "    Dense(64, activation='relu'),\n",
        "    Dense(1, activation='sigmoid')\n",
        "])\n",
        "\n",
        "model_5.compile(optimizer=SGD(learning_rate=0.01), loss='binary_crossentropy', metrics=['accuracy'])\n",
        "\n",
        "history_5 = model_5.fit(X_train_processed, y_train, epochs=30, batch_size=64,\n",
        "                        validation_data=(X_val_processed, y_val), verbose=1)\n",
        "\n",
        "save_model(model_5, 'saved_models/nn_instance_5.h5')\n"
      ]
    },
    {
      "cell_type": "code",
      "execution_count": 93,
      "metadata": {},
      "outputs": [
        {
          "name": "stdout",
          "output_type": "stream",
          "text": [
            "\u001b[1m2769/2769\u001b[0m \u001b[32m━━━━━━━━━━━━━━━━━━━━\u001b[0m\u001b[37m\u001b[0m \u001b[1m2s\u001b[0m 851us/step\n"
          ]
        },
        {
          "data": {
            "image/png": "[encoded data removed]",
            "text/plain": [
              "<Figure size 640x480 with 2 Axes>"
            ]
          },
          "metadata": {},
          "output_type": "display_data"
        },
        {
          "name": "stdout",
          "output_type": "stream",
          "text": [
            "=== Classification Report ===\n",
            "              precision    recall  f1-score   support\n",
            "\n",
            "   Not Fraud       0.98      0.99      0.99     85482\n",
            "       Fraud       0.78      0.50      0.61      3099\n",
            "\n",
            "    accuracy                           0.98     88581\n",
            "   macro avg       0.88      0.75      0.80     88581\n",
            "weighted avg       0.98      0.98      0.98     88581\n",
            "\n",
            "True Negatives (TN): 85046\n",
            "False Positives (FP): 436\n",
            "False Negatives (FN): 1547\n",
            "True Positives (TP): 1552\n"
          ]
        }
      ],
      "source": [
        "# Predict probabilities and convert to binary labels\n",
        "y_test_pred_prob = model_5.predict(X_test_processed)\n",
        "y_test_pred = (y_test_pred_prob > 0.5).astype(int).reshape(-1)\n",
        "y_test_true = y_test.values.reshape(-1)\n",
        "\n",
        "# Confusion matrix\n",
        "cm = confusion_matrix(y_test_true, y_test_pred)\n",
        "\n",
        "# Display with labels\n",
        "disp = ConfusionMatrixDisplay(confusion_matrix=cm, display_labels=[\"Not Fraud\", \"Fraud\"])\n",
        "disp.plot(cmap=\"Blues\")\n",
        "plt.title(\"Confusion Matrix - Test Set\")\n",
        "plt.show()\n",
        "\n",
        "# Detailed classification report\n",
        "report = classification_report(y_test_true, y_test_pred, target_names=[\"Not Fraud\", \"Fraud\"])\n",
        "print(\"=== Classification Report ===\")\n",
        "print(report)\n",
        "tn, fp, fn, tp = cm.ravel()\n",
        "print(f\"True Negatives (TN): {tn}\")\n",
        "print(f\"False Positives (FP): {fp}\")\n",
        "print(f\"False Negatives (FN): {fn}\")\n",
        "print(f\"True Positives (TP): {tp}\")\n"
      ]
    },
    {
      "cell_type": "markdown",
      "metadata": {
        "id": "KJ9OXp1TSaXn"
      },
      "source": [
        "# Task: Print out the Final Model Accuracy and plot the Loss curve"
      ]
    },
    {
      "cell_type": "code",
      "execution_count": 84,
      "metadata": {
        "id": "fkihQBsaUxGh"
      },
      "outputs": [
        {
          "name": "stdout",
          "output_type": "stream",
          "text": [
            "\u001b[1m2769/2769\u001b[0m \u001b[32m━━━━━━━━━━━━━━━━━━━━\u001b[0m\u001b[37m\u001b[0m \u001b[1m2s\u001b[0m 636us/step\n",
            "\u001b[1m2769/2769\u001b[0m \u001b[32m━━━━━━━━━━━━━━━━━━━━\u001b[0m\u001b[37m\u001b[0m \u001b[1m2s\u001b[0m 601us/step\n",
            "\u001b[1m2769/2769\u001b[0m \u001b[32m━━━━━━━━━━━━━━━━━━━━\u001b[0m\u001b[37m\u001b[0m \u001b[1m2s\u001b[0m 639us/step\n",
            "\u001b[1m2769/2769\u001b[0m \u001b[32m━━━━━━━━━━━━━━━━━━━━\u001b[0m\u001b[37m\u001b[0m \u001b[1m2s\u001b[0m 684us/step\n",
            "\u001b[1m2769/2769\u001b[0m \u001b[32m━━━━━━━━━━━━━━━━━━━━\u001b[0m\u001b[37m\u001b[0m \u001b[1m2s\u001b[0m 610us/step\n",
            "\u001b[1m2769/2769\u001b[0m \u001b[32m━━━━━━━━━━━━━━━━━━━━\u001b[0m\u001b[37m\u001b[0m \u001b[1m2s\u001b[0m 616us/step\n",
            "\u001b[1m2769/2769\u001b[0m \u001b[32m━━━━━━━━━━━━━━━━━━━━\u001b[0m\u001b[37m\u001b[0m \u001b[1m2s\u001b[0m 622us/step\n",
            "\u001b[1m2769/2769\u001b[0m \u001b[32m━━━━━━━━━━━━━━━━━━━━\u001b[0m\u001b[37m\u001b[0m \u001b[1m2s\u001b[0m 729us/step\n",
            "\n",
            "=== Validation Set Evaluation ===\n",
            "Instance     Accuracy   F1 Score   Precision  Recall    \n",
            "============================================================\n",
            "Instance 1   0.9794     0.6185     0.8778     0.4774    \n",
            "Instance 2   0.9747     0.4971     0.8159     0.3574    \n",
            "Instance 3   0.9722     0.4293     0.7605     0.2990    \n",
            "Instance 4   0.9809     0.6713     0.8445     0.5571    \n",
            "Instance 5   0.9713     0.3650     0.8035     0.2361    \n",
            "\n",
            "=== Test Set Evaluation ===\n",
            "Instance     Accuracy   F1 Score   Precision  Recall    \n",
            "============================================================\n",
            "Instance 1   0.9771     0.5750     0.8210     0.4424    \n",
            "Instance 2   0.9741     0.4855     0.7952     0.3495    \n",
            "Instance 3   0.9720     0.4318     0.7474     0.3036    \n",
            "Instance 4   0.9776     0.6102     0.7807     0.5008    \n",
            "Instance 5   0.9711     0.3691     0.7810     0.2417    \n"
          ]
        }
      ],
      "source": [
        "def evaluate_model(y_true, y_pred_prob):\n",
        "    y_pred = (y_pred_prob > 0.5).astype(int)\n",
        "    return {\n",
        "        'accuracy': accuracy_score(y_true, y_pred),\n",
        "        'f1': f1_score(y_true, y_pred),\n",
        "        'precision': precision_score(y_true, y_pred),\n",
        "        'recall': recall_score(y_true, y_pred)\n",
        "    }\n",
        "\n",
        "# Get validation predictions\n",
        "val_preds = {\n",
        "    'Instance 1': model_2.predict(X_val_processed),\n",
        "    'Instance 2': model_3.predict(X_val_processed),\n",
        "    'Instance 3': model_4.predict(X_val_processed),\n",
        "    'Instance 4': model_5.predict(X_val_processed),\n",
        "    'Instance 5': log_model.predict_proba(X_val_processed)[:, 1],\n",
        "}\n",
        "\n",
        "# Get test predictions\n",
        "test_preds = {\n",
        "    'Instance 1': model_2.predict(X_test_processed),\n",
        "    'Instance 2': model_3.predict(X_test_processed),\n",
        "    'Instance 3': model_4.predict(X_test_processed),\n",
        "    'Instance 4': model_5.predict(X_test_processed),\n",
        "    'Instance 5': log_model.predict_proba(X_test_processed)[:, 1],\n",
        "}\n",
        "\n",
        "# Evaluate\n",
        "val_results = {k: evaluate_model(y_val, v) for k, v in val_preds.items()}\n",
        "test_results = {k: evaluate_model(y_test, v) for k, v in test_preds.items()}\n",
        "\n",
        "# Function to print results\n",
        "def print_results(title, results):\n",
        "    print(f\"\\n=== {title} ===\")\n",
        "    print(f\"{'Instance':<12} {'Accuracy':<10} {'F1 Score':<10} {'Precision':<10} {'Recall':<10}\")\n",
        "    print(\"=\" * 60)\n",
        "    for instance, metrics in results.items():\n",
        "        print(f\"{instance:<12} \"\n",
        "              f\"{metrics['accuracy']:<10.4f} \"\n",
        "              f\"{metrics['f1']:<10.4f} \"\n",
        "              f\"{metrics['precision']:<10.4f} \"\n",
        "              f\"{metrics['recall']:<10.4f}\")\n",
        "\n",
        "# Print both results\n",
        "print_results(\"Validation Set Evaluation\", val_results)\n",
        "print_results(\"Test Set Evaluation\", test_results)"
      ]
    },
    {
      "cell_type": "markdown",
      "metadata": {},
      "source": [
        "# SECTION 3: Predictions on The Best Model\n",
        "At this point you should now create models that combine various optimization techniques\n",
        "As done before make sure to plot out the loss curve and the accuracy and loss in verbose"
      ]
    },
    {
      "cell_type": "markdown",
      "metadata": {
        "id": "bO79SOsZYG-M"
      },
      "source": [
        "Finally, Make predictions using the best model. By the time you get to this cell you may realise at some point you needed to save the model so that you cal load it later"
      ]
    },
    {
      "cell_type": "code",
      "execution_count": null,
      "metadata": {
        "id": "Nqqe2PasUIAG"
      },
      "outputs": [],
      "source": [
        "def make_predictions(model_path, X):\n",
        "\n",
        "    # Load the model\n",
        "    model = load_model(None)\n",
        "    # Make predictions\n",
        "    predictions = None\n",
        "    # Convert probabilities to binary labels (0 or 1)\n",
        "\n",
        "    return predictions\n",
        "\n",
        "#Modify the code appropriately"
      ]
    },
    {
      "cell_type": "code",
      "execution_count": null,
      "metadata": {
        "id": "O_jwbvaAUMj4"
      },
      "outputs": [],
      "source": [
        "model_path = None\n",
        "make_predictions(None)"
      ]
    }
  ],
  "metadata": {
    "colab": {
      "provenance": []
    },
    "kernelspec": {
      "display_name": ".venv",
      "language": "python",
      "name": "python3"
    },
    "language_info": {
      "codemirror_mode": {
        "name": "ipython",
        "version": 3
      },
      "file_extension": ".py",
      "mimetype": "text/x-python",
      "name": "python",
      "nbconvert_exporter": "python",
      "pygments_lexer": "ipython3",
      "version": "3.10.17"
    }
  },
  "nbformat": 4,
  "nbformat_minor": 0
}
