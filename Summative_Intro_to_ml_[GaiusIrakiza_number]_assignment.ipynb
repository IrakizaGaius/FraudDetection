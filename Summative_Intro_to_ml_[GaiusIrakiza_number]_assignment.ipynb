{
  "cells": [
    {
      "cell_type": "markdown",
      "metadata": {
        "id": "ujuLMxSvoXbg"
      },
      "source": [
        "# Optimization Techniques in Machine Learning\n",
        "\n",
        "Objective: This assignment aims to explore implementation or Machine Learning Models with regularization, optimization and Error analysis  techniques used in machine learning to improve models' performance, convergence speed, and efficiency..\n",
        "\n",
        "A Notebook detailing the following\n",
        "\n",
        "* Project name\n",
        "* Clear out puts from cells\n",
        "\n",
        "\n",
        "\n",
        "\n",
        "\n",
        "\n",
        "**Instructions**\n",
        "\n",
        "1. Acquire a dataset suitable for ML tasks as per your proposal.\n",
        "2. Implement a simple machine learning model based on neural networks on the chosen dataset without any defined optimization techniques. (Check instructions)\n",
        "3. Implement and compare the model's performance after applying 3 to 4 disntict combinations regularization and optimization techniques.\n",
        "4. Discuss the results on the README file.\n",
        "5. Make predictions using test data\n",
        "7. Implement error analysis techniques and ensure there is: F1-Score, Recall, Precision, RUC a confusion matrix using plotting libraries (not verbose)\n",
        "\n",
        "Submit notebook to github repo\n",
        "\n"
      ]
    },
    {
      "cell_type": "markdown",
      "metadata": {
        "id": "keZmePwAWYgQ"
      },
      "source": [
        "# 1. Dataset Overview and PreProcessing\n"
      ]
    },
    {
      "cell_type": "markdown",
      "metadata": {},
      "source": [
        "\n",
        "### Problem Statement:\n",
        "The task is to predict the probability that an online transaction is fraudulent using identity and transaction data.\n",
        "\n",
        "### Dataset Description:\n",
        "- **Target variable:** `isFraud` (1 = fraud, 0 = not fraud)\n",
        "- **Files:** `train_transaction.csv`, `train_identity.csv` (joined on `TransactionID`)\n",
        "- **Features:**  \n",
        "  - *Transaction Data:* ProductCD, card1–card6, addr1, addr2, M1–M9  \n",
        "  - *Identity Data:* DeviceType, DeviceInfo, id_12–id_38  \n",
        "- The feature `TransactionDT` is a relative timestamp.\n"
      ]
    },
    {
      "cell_type": "markdown",
      "metadata": {
        "id": "jKBHmqb87lNw"
      },
      "source": [
        "## 2. Defining all the Imports and necessary dependencies"
      ]
    },
    {
      "cell_type": "code",
      "execution_count": 94,
      "metadata": {
        "id": "oUtYNDjW7ugT"
      },
      "outputs": [],
      "source": [
        "import pandas as pd\n",
        "import numpy as np\n",
        "import os\n",
        "import matplotlib.pyplot as plt\n",
        "import lightgbm as lgb\n",
        "\n",
        "from sklearn.model_selection import train_test_split\n",
        "from sklearn.preprocessing import OneHotEncoder, StandardScaler\n",
        "from category_encoders.target_encoder import TargetEncoder\n",
        "from sklearn.impute import SimpleImputer\n",
        "\n",
        "from sklearn.compose import ColumnTransformer\n",
        "from sklearn.pipeline import Pipeline\n",
        "from sklearn.base import BaseEstimator, TransformerMixin\n",
        "from sklearn.feature_selection import VarianceThreshold\n",
        "from sklearn.linear_model import LogisticRegression\n",
        "from joblib import dump\n",
        "from sklearn.metrics import accuracy_score, f1_score, recall_score, precision_score\n",
        "from sklearn.metrics import confusion_matrix, ConfusionMatrixDisplay, classification_report\n",
        "\n",
        "from tensorflow.keras.models import Sequential, save_model, load_model\n",
        "from tensorflow.keras.layers import Dense, Dropout, BatchNormalization\n",
        "from tensorflow.keras.regularizers import Regularizer, l1, l2, l1_l2\n",
        "from tensorflow.keras.optimizers import Optimizer, Adam, SGD, RMSprop,Nadam\n",
        "from tensorflow.keras.callbacks import EarlyStopping"
      ]
    },
    {
      "cell_type": "markdown",
      "metadata": {},
      "source": [
        "## Data PreProcessing"
      ]
    },
    {
      "cell_type": "markdown",
      "metadata": {
        "id": "clpMDEUs7MtB"
      },
      "source": [
        "### 1. Loading and Merge Data"
      ]
    },
    {
      "cell_type": "code",
      "execution_count": 5,
      "metadata": {
        "id": "8W5PSuVN7Kkn"
      },
      "outputs": [],
      "source": [
        "# Load datasets\n",
        "train_transaction = pd.read_csv('data/train_transaction.csv')\n",
        "train_identity = pd.read_csv('data/train_identity.csv')\n",
        "test_transaction = pd.read_csv('data/test_transaction.csv')\n",
        "test_identity = pd.read_csv('data/test_identity.csv')"
      ]
    },
    {
      "cell_type": "code",
      "execution_count": 6,
      "metadata": {},
      "outputs": [],
      "source": [
        "# Merge on TransactionID\n",
        "train_df = pd.merge(train_transaction, train_identity, on='TransactionID', how='left')\n",
        "test_df = pd.merge(test_transaction, test_identity, on='TransactionID', how='left')\n",
        "\n",
        "# Separate target\n",
        "y = train_df['isFraud']\n",
        "X = train_df.drop(columns=['isFraud', 'TransactionID'])"
      ]
    },
    {
      "cell_type": "markdown",
      "metadata": {},
      "source": [
        "### 2. Outlier Clipping"
      ]
    },
    {
      "cell_type": "code",
      "execution_count": 7,
      "metadata": {},
      "outputs": [],
      "source": [
        "class OutlierClipper(BaseEstimator, TransformerMixin):\n",
        "    def __init__(self, factor=1.5):\n",
        "        self.factor = factor\n",
        "\n",
        "    def fit(self, X, y=None):\n",
        "        if not isinstance(X, pd.DataFrame):\n",
        "            X = pd.DataFrame(X)\n",
        "        Q1 = X.quantile(0.25)\n",
        "        Q3 = X.quantile(0.75)\n",
        "        self.lower = Q1 - self.factor * (Q3 - Q1)\n",
        "        self.upper = Q3 + self.factor * (Q3 - Q1)\n",
        "        return self\n",
        "\n",
        "    def transform(self, X):\n",
        "        if not isinstance(X, pd.DataFrame):\n",
        "            X = pd.DataFrame(X)\n",
        "        # Clip values\n",
        "        X_clipped = X.clip(lower=self.lower, upper=self.upper, axis=1)\n",
        "        return X_clipped.values"
      ]
    },
    {
      "cell_type": "markdown",
      "metadata": {},
      "source": [
        "### 3. Feature Grouping"
      ]
    },
    {
      "cell_type": "code",
      "execution_count": 8,
      "metadata": {},
      "outputs": [],
      "source": [
        "# Identifying features by type\n",
        "categorical = X.select_dtypes(include='object').columns.tolist()\n",
        "numerical = X.select_dtypes(include=[np.number]).columns.tolist()\n",
        "\n",
        "low_card = [col for col in categorical if X[col].nunique() < 10]\n",
        "high_card = list(set(categorical) - set(low_card))"
      ]
    },
    {
      "cell_type": "markdown",
      "metadata": {},
      "source": [
        "### 4. PreProcessing Pipeline"
      ]
    },
    {
      "cell_type": "code",
      "execution_count": 9,
      "metadata": {},
      "outputs": [],
      "source": [
        "# Pipelines\n",
        "num_pipeline = Pipeline([\n",
        "    ('imputer', SimpleImputer(strategy='median')),\n",
        "    ('clipper', OutlierClipper()),\n",
        "    ('scaler', StandardScaler())\n",
        "])\n",
        "\n",
        "low_cat_pipeline = Pipeline([\n",
        "    ('imputer', SimpleImputer(strategy='most_frequent')),\n",
        "    ('encoder', OneHotEncoder(handle_unknown='ignore', sparse_output=False))\n",
        "])\n",
        "\n",
        "high_cat_pipeline = Pipeline([\n",
        "    ('imputer', SimpleImputer(strategy='most_frequent')),\n",
        "    ('encoder', TargetEncoder())\n",
        "])\n",
        "\n",
        "# Full transformer\n",
        "preprocessor = ColumnTransformer([\n",
        "    ('num', num_pipeline, numerical),\n",
        "    ('low_cat', low_cat_pipeline, low_card),\n",
        "    ('high_cat', high_cat_pipeline, high_card)\n",
        "])"
      ]
    },
    {
      "cell_type": "markdown",
      "metadata": {},
      "source": [
        "### 5. Data Splitting"
      ]
    },
    {
      "cell_type": "code",
      "execution_count": 10,
      "metadata": {},
      "outputs": [],
      "source": [
        "X_temp, X_test, y_temp, y_test = train_test_split(X, y, test_size=0.15, stratify=y, random_state=42)\n",
        "\n",
        "X_train, X_val, y_train, y_val = train_test_split(X_temp, y_temp, test_size=0.1765, stratify=y_temp, random_state=42)\n",
        "\n",
        "X_train_processed = preprocessor.fit_transform(X_train, y_train)\n",
        "X_val_processed = preprocessor.transform(X_val)\n",
        "X_test_processed = preprocessor.transform(X_test)\n",
        "\n",
        "# variance thresholding\n",
        "selector = VarianceThreshold(threshold=0.0001)\n",
        "X_train_processed = selector.fit_transform(X_train_processed)\n",
        "X_val_processed = selector.transform(X_val_processed)\n",
        "X_test_processed = selector.transform(X_test_processed)"
      ]
    },
    {
      "cell_type": "markdown",
      "metadata": {
        "id": "ve4AiQmGMzIN"
      },
      "source": [
        "# SECTION 1: A Classification Model"
      ]
    },
    {
      "cell_type": "markdown",
      "metadata": {},
      "source": [
        "### Light GBM Classification Model 1:\n",
        "This LightGBM model is a gradient boosting classifier tailored for imbalanced fraud detection. It is trained using 5,500 boosting rounds (n_estimators) with a moderate learning rate of 0.05 to ensure stable convergence. The maximum depth is limited to 8, and 64 leaves per tree are allowed to control complexity and prevent overfitting. The class_weight='balanced' setting automatically compensates for class imbalance. It uses all available CPU cores for efficient training and sets a fixed random seed for reproducibility."
      ]
    },
    {
      "cell_type": "code",
      "execution_count": 11,
      "metadata": {},
      "outputs": [
        {
          "name": "stdout",
          "output_type": "stream",
          "text": [
            "[LightGBM] [Info] Number of positive: 14464, number of negative: 398899\n",
            "[LightGBM] [Info] Auto-choosing row-wise multi-threading, the overhead of testing was 0.056392 seconds.\n",
            "You can set `force_row_wise=true` to remove the overhead.\n",
            "And if memory is not enough, you can set `force_col_wise=true`.\n",
            "[LightGBM] [Info] Total Bins 4539\n",
            "[LightGBM] [Info] Number of data points in the train set: 413363, number of used features: 109\n",
            "[LightGBM] [Info] [binary:BoostFromScore]: pavg=0.500000 -> initscore=0.000000\n",
            "[LightGBM] [Info] Start training from score 0.000000\n",
            "[LightGBM] [Warning] No further splits with positive gain, best gain: -inf\n",
            "[LightGBM] [Warning] No further splits with positive gain, best gain: -inf\n",
            "[LightGBM] [Warning] No further splits with positive gain, best gain: -inf\n",
            "[LightGBM] [Warning] No further splits with positive gain, best gain: -inf\n",
            "[LightGBM] [Warning] No further splits with positive gain, best gain: -inf\n",
            "[LightGBM] [Warning] No further splits with positive gain, best gain: -inf\n",
            "[LightGBM] [Warning] No further splits with positive gain, best gain: -inf\n",
            "[LightGBM] [Warning] No further splits with positive gain, best gain: -inf\n",
            "[LightGBM] [Warning] No further splits with positive gain, best gain: -inf\n",
            "[LightGBM] [Warning] No further splits with positive gain, best gain: -inf\n",
            "[LightGBM] [Warning] No further splits with positive gain, best gain: -inf\n",
            "[LightGBM] [Warning] No further splits with positive gain, best gain: -inf\n",
            "[LightGBM] [Warning] No further splits with positive gain, best gain: -inf\n",
            "[LightGBM] [Warning] No further splits with positive gain, best gain: -inf\n",
            "[LightGBM] [Warning] No further splits with positive gain, best gain: -inf\n",
            "[LightGBM] [Warning] No further splits with positive gain, best gain: -inf\n",
            "[LightGBM] [Warning] No further splits with positive gain, best gain: -inf\n",
            "[LightGBM] [Warning] No further splits with positive gain, best gain: -inf\n",
            "[LightGBM] [Warning] No further splits with positive gain, best gain: -inf\n",
            "[LightGBM] [Warning] No further splits with positive gain, best gain: -inf\n",
            "[LightGBM] [Warning] No further splits with positive gain, best gain: -inf\n",
            "[LightGBM] [Warning] No further splits with positive gain, best gain: -inf\n",
            "[LightGBM] [Warning] No further splits with positive gain, best gain: -inf\n",
            "[LightGBM] [Warning] No further splits with positive gain, best gain: -inf\n",
            "[LightGBM] [Warning] No further splits with positive gain, best gain: -inf\n",
            "[LightGBM] [Warning] No further splits with positive gain, best gain: -inf\n",
            "[LightGBM] [Warning] No further splits with positive gain, best gain: -inf\n",
            "[LightGBM] [Warning] No further splits with positive gain, best gain: -inf\n",
            "[LightGBM] [Warning] No further splits with positive gain, best gain: -inf\n",
            "[LightGBM] [Warning] No further splits with positive gain, best gain: -inf\n",
            "[LightGBM] [Warning] No further splits with positive gain, best gain: -inf\n",
            "[LightGBM] [Warning] No further splits with positive gain, best gain: -inf\n",
            "[LightGBM] [Warning] No further splits with positive gain, best gain: -inf\n",
            "[LightGBM] [Warning] No further splits with positive gain, best gain: -inf\n",
            "[LightGBM] [Warning] No further splits with positive gain, best gain: -inf\n",
            "[LightGBM] [Warning] No further splits with positive gain, best gain: -inf\n",
            "[LightGBM] [Warning] No further splits with positive gain, best gain: -inf\n",
            "[LightGBM] [Warning] No further splits with positive gain, best gain: -inf\n",
            "[LightGBM] [Warning] No further splits with positive gain, best gain: -inf\n",
            "[LightGBM] [Warning] No further splits with positive gain, best gain: -inf\n",
            "[LightGBM] [Warning] No further splits with positive gain, best gain: -inf\n",
            "[LightGBM] [Warning] No further splits with positive gain, best gain: -inf\n",
            "[LightGBM] [Warning] No further splits with positive gain, best gain: -inf\n",
            "[LightGBM] [Warning] No further splits with positive gain, best gain: -inf\n",
            "[LightGBM] [Warning] No further splits with positive gain, best gain: -inf\n",
            "[LightGBM] [Warning] No further splits with positive gain, best gain: -inf\n",
            "[LightGBM] [Warning] No further splits with positive gain, best gain: -inf\n",
            "[LightGBM] [Warning] No further splits with positive gain, best gain: -inf\n",
            "[LightGBM] [Warning] No further splits with positive gain, best gain: -inf\n",
            "[LightGBM] [Warning] No further splits with positive gain, best gain: -inf\n",
            "[LightGBM] [Warning] No further splits with positive gain, best gain: -inf\n",
            "[LightGBM] [Warning] No further splits with positive gain, best gain: -inf\n",
            "[LightGBM] [Warning] No further splits with positive gain, best gain: -inf\n"
          ]
        },
        {
          "data": {
            "text/plain": [
              "['saved_models/lightgbm_model.joblib']"
            ]
          },
          "execution_count": 11,
          "metadata": {},
          "output_type": "execute_result"
        }
      ],
      "source": [
        "# A LightGBM model with tuned hyperparameters\n",
        "lgb_model = lgb.LGBMClassifier(\n",
        "    n_estimators=5500,# Number of boosting rounds (trees).\n",
        "    learning_rate=0.05,# Step size shrinkage used to prevent overfitting.\n",
        "    max_depth=8,# Maximum depth of each tree. Controls model complexity;\n",
        "    num_leaves=64, # Maximum number of leaves per tree.\n",
        "    class_weight='balanced',# Automatically adjusts weights inversely proportional to class frequencies, helping with class imbalance.\n",
        "    random_state=42,# Sets seed for reproducibility so results are consistent across runs.\n",
        "    n_jobs=-1 # Uses all available CPU cores for training (parallel processing).\n",
        ")\n",
        "\n",
        "lgb_model.fit(X_train_processed, y_train)\n",
        "\n",
        "# Saving the trained model\n",
        "dump(lgb_model, 'saved_models/lightgbm_model.joblib')"
      ]
    },
    {
      "cell_type": "markdown",
      "metadata": {},
      "source": [
        "#### Model 1 Error analysis:"
      ]
    },
    {
      "cell_type": "code",
      "execution_count": 12,
      "metadata": {},
      "outputs": [
        {
          "name": "stderr",
          "output_type": "stream",
          "text": [
            "/Users/irakizagaius/Downloads/FraudDetection/.venv/lib/python3.10/site-packages/sklearn/utils/validation.py:2749: UserWarning: X does not have valid feature names, but LGBMClassifier was fitted with feature names\n",
            "  warnings.warn(\n"
          ]
        },
        {
          "data": {
            "image/png": "[encoded data removed]",
            "text/plain": [
              "<Figure size 640x480 with 2 Axes>"
            ]
          },
          "metadata": {},
          "output_type": "display_data"
        },
        {
          "name": "stdout",
          "output_type": "stream",
          "text": [
            "=== Classification Report (LightGBM - Test Set) ===\n",
            "              precision    recall  f1-score   support\n",
            "\n",
            "   Not Fraud       0.99      0.99      0.99     85482\n",
            "       Fraud       0.84      0.78      0.81      3099\n",
            "\n",
            "    accuracy                           0.99     88581\n",
            "   macro avg       0.92      0.89      0.90     88581\n",
            "weighted avg       0.99      0.99      0.99     88581\n",
            "\n",
            "True Negatives (TN): 85036\n",
            "False Positives (FP): 446\n",
            "False Negatives (FN): 676\n",
            "True Positives (TP): 2423\n"
          ]
        }
      ],
      "source": [
        "# Predict probabilities and convert to binary labels (Test Set)\n",
        "y_test_pred_prob = lgb_model.predict_proba(X_test_processed)[:, 1]\n",
        "y_test_pred = (y_test_pred_prob > 0.5).astype(int).reshape(-1)\n",
        "y_test_true = y_test.values.reshape(-1)\n",
        "\n",
        "# Confusion matrix\n",
        "cm = confusion_matrix(y_test_true, y_test_pred)\n",
        "\n",
        "# Display with labels\n",
        "disp = ConfusionMatrixDisplay(confusion_matrix=cm, display_labels=[\"Not Fraud\", \"Fraud\"])\n",
        "disp.plot(cmap=\"Blues\")\n",
        "plt.title(\"Confusion Matrix - LightGBM (Test Set)\")\n",
        "plt.show()\n",
        "\n",
        "# Detailed classification report\n",
        "report = classification_report(y_test_true, y_test_pred, target_names=[\"Not Fraud\", \"Fraud\"])\n",
        "print(\"=== Classification Report (LightGBM - Test Set) ===\")\n",
        "print(report)\n",
        "\n",
        "tn, fp, fn, tp = cm.ravel()\n",
        "print(f\"True Negatives (TN): {tn}\")\n",
        "print(f\"False Positives (FP): {fp}\")\n",
        "print(f\"False Negatives (FN): {fn}\")\n",
        "print(f\"True Positives (TP): {tp}\")\n"
      ]
    },
    {
      "cell_type": "markdown",
      "metadata": {
        "id": "9hc6k2taT0_n"
      },
      "source": [
        "# SECTION 2: Optimization and Regularization Combinations\n",
        "At this point you should now create models that combine various optimization techniques\n",
        "As done before make sure to plot out the loss curve and the accuracy and loss in verbose"
      ]
    },
    {
      "cell_type": "markdown",
      "metadata": {},
      "source": [
        "## Model Architecture:"
      ]
    },
    {
      "cell_type": "markdown",
      "metadata": {},
      "source": [
        "This is a deep neural Network Architecture that my model instances will all use each instance will have its own regularizers, optimization techiques but the core sturcture of the neural network will be the same. 6 hidden layers all using relu activation and one output layer using sigmoid activation to classify the data into either FRAUD or NOT FRAUD."
      ]
    },
    {
      "cell_type": "code",
      "execution_count": 65,
      "metadata": {},
      "outputs": [],
      "source": [
        "def build_model(input_dim, optimizer: Optimizer = None, regularizer: Regularizer = None, dropout_rates=None, use_batch_norm=False):\n",
        "    \"\"\"\n",
        "    Builds a feedforward neural network with optional regularization, optimizer, dropout, and batch normalization.\n",
        "\n",
        "    Parameters:\n",
        "    - input_dim: int, number of input features\n",
        "    - optimizer: keras.optimizers object (optional)\n",
        "    - regularizer: keras.regularizers object (optional)\n",
        "    - dropout_rates: list of float values or None. Length must match number of hidden layers.\n",
        "    - use_batch_norm: bool, whether to apply BatchNormalization after each Dense layer.\n",
        "\n",
        "    Returns:\n",
        "    - Compiled Keras model\n",
        "    \"\"\"\n",
        "    model = Sequential()\n",
        "    hidden_layers = [128, 64, 32, 16, 8]\n",
        "\n",
        "    for i, units in enumerate(hidden_layers):\n",
        "        if i == 0:\n",
        "            model.add(Dense(units, activation='relu', input_shape=(input_dim,), kernel_regularizer=regularizer))\n",
        "        else:\n",
        "            model.add(Dense(units, activation='relu', kernel_regularizer=regularizer))\n",
        "        \n",
        "        if use_batch_norm:\n",
        "            model.add(BatchNormalization())\n",
        "\n",
        "        if dropout_rates and i < len(dropout_rates) and dropout_rates[i] > 0:\n",
        "            model.add(Dropout(dropout_rates[i]))\n",
        "\n",
        "    model.add(Dense(1, activation='sigmoid'))\n",
        "\n",
        "    if optimizer:\n",
        "        model.compile(optimizer=optimizer, loss='binary_crossentropy', metrics=['accuracy'])\n",
        "    else:\n",
        "        model.compile(loss='binary_crossentropy', metrics=['accuracy'])\n",
        "\n",
        "    return model\n"
      ]
    },
    {
      "cell_type": "markdown",
      "metadata": {},
      "source": [
        "## Task: Define a function that creates models with or without specified Optimization techniques\n"
      ]
    },
    {
      "cell_type": "markdown",
      "metadata": {},
      "source": [
        "### Neural Network Model Instance 1:\n",
        "This is the first instance of the deep neura Network with no regularizers applied and Default optimizers applied."
      ]
    },
    {
      "cell_type": "code",
      "execution_count": 37,
      "metadata": {
        "id": "gGtPmYb_SDHy"
      },
      "outputs": [
        {
          "name": "stderr",
          "output_type": "stream",
          "text": [
            "/Users/irakizagaius/Downloads/FraudDetection/.venv/lib/python3.10/site-packages/keras/src/layers/core/dense.py:93: UserWarning: Do not pass an `input_shape`/`input_dim` argument to a layer. When using Sequential models, prefer using an `Input(shape)` object as the first layer in the model instead.\n",
            "  super().__init__(activity_regularizer=activity_regularizer, **kwargs)\n"
          ]
        },
        {
          "name": "stdout",
          "output_type": "stream",
          "text": [
            "\u001b[1m12918/12918\u001b[0m \u001b[32m━━━━━━━━━━━━━━━━━━━━\u001b[0m\u001b[37m\u001b[0m \u001b[1m22s\u001b[0m 2ms/step - accuracy: 0.9704 - loss: 0.1131 - val_accuracy: 0.9728 - val_loss: 0.1044\n"
          ]
        }
      ],
      "source": [
        "model_1 = build_model(input_dim=X_train_processed.shape[1])\n",
        "\n",
        "\n",
        "model_1.fit(\n",
        "    X_train_processed, y_train,\n",
        "    validation_data=(X_val_processed, y_val),\n",
        "    verbose=1\n",
        ")\n",
        "\n",
        "save_model(model_1, 'saved_models/nn_instance_1.keras')"
      ]
    },
    {
      "cell_type": "markdown",
      "metadata": {},
      "source": [
        "#### Neural Network Model Instance 1 Error analysis:"
      ]
    },
    {
      "cell_type": "code",
      "execution_count": 34,
      "metadata": {},
      "outputs": [
        {
          "name": "stdout",
          "output_type": "stream",
          "text": [
            "\u001b[1m2769/2769\u001b[0m \u001b[32m━━━━━━━━━━━━━━━━━━━━\u001b[0m\u001b[37m\u001b[0m \u001b[1m3s\u001b[0m 963us/step\n"
          ]
        },
        {
          "data": {
            "image/png": "[encoded data removed]",
            "text/plain": [
              "<Figure size 640x480 with 2 Axes>"
            ]
          },
          "metadata": {},
          "output_type": "display_data"
        },
        {
          "name": "stdout",
          "output_type": "stream",
          "text": [
            "=== Classification Report ===\n",
            "              precision    recall  f1-score   support\n",
            "\n",
            "   Not Fraud       0.97      1.00      0.99     85482\n",
            "       Fraud       0.87      0.24      0.38      3099\n",
            "\n",
            "    accuracy                           0.97     88581\n",
            "   macro avg       0.92      0.62      0.68     88581\n",
            "weighted avg       0.97      0.97      0.96     88581\n",
            "\n",
            "True Negatives (TN): 85375\n",
            "False Positives (FP): 107\n",
            "False Negatives (FN): 2356\n",
            "True Positives (TP): 743\n"
          ]
        }
      ],
      "source": [
        "# Predict probabilities and convert to binary labels\n",
        "y_test_pred_prob = model_1.predict(X_test_processed)\n",
        "y_test_pred = (y_test_pred_prob > 0.5).astype(int).reshape(-1)\n",
        "y_test_true = y_test.values.reshape(-1)\n",
        "\n",
        "# Confusion matrix\n",
        "cm = confusion_matrix(y_test_true, y_test_pred)\n",
        "\n",
        "# Display with labels\n",
        "disp = ConfusionMatrixDisplay(confusion_matrix=cm, display_labels=[\"Not Fraud\", \"Fraud\"])\n",
        "disp.plot(cmap=\"Blues\")\n",
        "plt.title(\"Confusion Matrix - Test Set\")\n",
        "plt.show()\n",
        "\n",
        "# Detailed classification report\n",
        "report = classification_report(y_test_true, y_test_pred, target_names=[\"Not Fraud\", \"Fraud\"])\n",
        "print(\"=== Classification Report ===\")\n",
        "print(report)\n",
        "tn, fp, fn, tp = cm.ravel()\n",
        "print(f\"True Negatives (TN): {tn}\")\n",
        "print(f\"False Positives (FP): {fp}\")\n",
        "print(f\"False Negatives (FN): {fn}\")\n",
        "print(f\"True Positives (TP): {tp}\")\n"
      ]
    },
    {
      "cell_type": "markdown",
      "metadata": {},
      "source": [
        "### Neural Network Model Instance 2:\n",
        "Second instance now with my defined parameters and Hyperparameters. Used ADAM for optimization with a learning rate of 0.0001 and l2 regularization with a 0.0001 penalty also added early stopping on the valloss with a patience of 10. I also trained the model for 100 epochs with a 100 batch size."
      ]
    },
    {
      "cell_type": "code",
      "execution_count": 71,
      "metadata": {},
      "outputs": [
        {
          "name": "stderr",
          "output_type": "stream",
          "text": [
            "/Users/irakizagaius/Downloads/FraudDetection/.venv/lib/python3.10/site-packages/keras/src/layers/core/dense.py:93: UserWarning: Do not pass an `input_shape`/`input_dim` argument to a layer. When using Sequential models, prefer using an `Input(shape)` object as the first layer in the model instead.\n",
            "  super().__init__(activity_regularizer=activity_regularizer, **kwargs)\n"
          ]
        },
        {
          "name": "stdout",
          "output_type": "stream",
          "text": [
            "Epoch 1/100\n",
            "\u001b[1m4134/4134\u001b[0m \u001b[32m━━━━━━━━━━━━━━━━━━━━\u001b[0m\u001b[37m\u001b[0m \u001b[1m10s\u001b[0m 2ms/step - accuracy: 0.9473 - loss: 0.1913 - val_accuracy: 0.9722 - val_loss: 0.1193\n",
            "Epoch 2/100\n",
            "\u001b[1m4134/4134\u001b[0m \u001b[32m━━━━━━━━━━━━━━━━━━━━\u001b[0m\u001b[37m\u001b[0m \u001b[1m7s\u001b[0m 2ms/step - accuracy: 0.9730 - loss: 0.1167 - val_accuracy: 0.9740 - val_loss: 0.1124\n",
            "Epoch 3/100\n",
            "\u001b[1m4134/4134\u001b[0m \u001b[32m━━━━━━━━━━━━━━━━━━━━\u001b[0m\u001b[37m\u001b[0m \u001b[1m8s\u001b[0m 2ms/step - accuracy: 0.9741 - loss: 0.1101 - val_accuracy: 0.9743 - val_loss: 0.1082\n",
            "Epoch 4/100\n",
            "\u001b[1m4134/4134\u001b[0m \u001b[32m━━━━━━━━━━━━━━━━━━━━\u001b[0m\u001b[37m\u001b[0m \u001b[1m7s\u001b[0m 2ms/step - accuracy: 0.9743 - loss: 0.1076 - val_accuracy: 0.9744 - val_loss: 0.1058\n",
            "Epoch 5/100\n",
            "\u001b[1m4134/4134\u001b[0m \u001b[32m━━━━━━━━━━━━━━━━━━━━\u001b[0m\u001b[37m\u001b[0m \u001b[1m7s\u001b[0m 2ms/step - accuracy: 0.9745 - loss: 0.1057 - val_accuracy: 0.9750 - val_loss: 0.1034\n",
            "Epoch 6/100\n",
            "\u001b[1m4134/4134\u001b[0m \u001b[32m━━━━━━━━━━━━━━━━━━━━\u001b[0m\u001b[37m\u001b[0m \u001b[1m6s\u001b[0m 1ms/step - accuracy: 0.9749 - loss: 0.1033 - val_accuracy: 0.9757 - val_loss: 0.1024\n",
            "Epoch 7/100\n",
            "\u001b[1m4134/4134\u001b[0m \u001b[32m━━━━━━━━━━━━━━━━━━━━\u001b[0m\u001b[37m\u001b[0m \u001b[1m6s\u001b[0m 2ms/step - accuracy: 0.9755 - loss: 0.1012 - val_accuracy: 0.9755 - val_loss: 0.1011\n",
            "Epoch 8/100\n",
            "\u001b[1m4134/4134\u001b[0m \u001b[32m━━━━━━━━━━━━━━━━━━━━\u001b[0m\u001b[37m\u001b[0m \u001b[1m6s\u001b[0m 1ms/step - accuracy: 0.9761 - loss: 0.0986 - val_accuracy: 0.9757 - val_loss: 0.0992\n",
            "Epoch 9/100\n",
            "\u001b[1m4134/4134\u001b[0m \u001b[32m━━━━━━━━━━━━━━━━━━━━\u001b[0m\u001b[37m\u001b[0m \u001b[1m6s\u001b[0m 2ms/step - accuracy: 0.9762 - loss: 0.0976 - val_accuracy: 0.9760 - val_loss: 0.0982\n",
            "Epoch 10/100\n",
            "\u001b[1m4134/4134\u001b[0m \u001b[32m━━━━━━━━━━━━━━━━━━━━\u001b[0m\u001b[37m\u001b[0m \u001b[1m6s\u001b[0m 2ms/step - accuracy: 0.9765 - loss: 0.0952 - val_accuracy: 0.9768 - val_loss: 0.0969\n",
            "Epoch 11/100\n",
            "\u001b[1m4134/4134\u001b[0m \u001b[32m━━━━━━━━━━━━━━━━━━━━\u001b[0m\u001b[37m\u001b[0m \u001b[1m6s\u001b[0m 2ms/step - accuracy: 0.9773 - loss: 0.0940 - val_accuracy: 0.9754 - val_loss: 0.0984\n",
            "Epoch 12/100\n",
            "\u001b[1m4134/4134\u001b[0m \u001b[32m━━━━━━━━━━━━━━━━━━━━\u001b[0m\u001b[37m\u001b[0m \u001b[1m6s\u001b[0m 2ms/step - accuracy: 0.9773 - loss: 0.0931 - val_accuracy: 0.9768 - val_loss: 0.0956\n",
            "Epoch 13/100\n",
            "\u001b[1m4134/4134\u001b[0m \u001b[32m━━━━━━━━━━━━━━━━━━━━\u001b[0m\u001b[37m\u001b[0m \u001b[1m6s\u001b[0m 1ms/step - accuracy: 0.9779 - loss: 0.0917 - val_accuracy: 0.9770 - val_loss: 0.0956\n",
            "Epoch 14/100\n",
            "\u001b[1m4134/4134\u001b[0m \u001b[32m━━━━━━━━━━━━━━━━━━━━\u001b[0m\u001b[37m\u001b[0m \u001b[1m6s\u001b[0m 2ms/step - accuracy: 0.9777 - loss: 0.0922 - val_accuracy: 0.9770 - val_loss: 0.0939\n",
            "Epoch 15/100\n",
            "\u001b[1m4134/4134\u001b[0m \u001b[32m━━━━━━━━━━━━━━━━━━━━\u001b[0m\u001b[37m\u001b[0m \u001b[1m7s\u001b[0m 2ms/step - accuracy: 0.9785 - loss: 0.0886 - val_accuracy: 0.9771 - val_loss: 0.0938\n",
            "Epoch 16/100\n",
            "\u001b[1m4134/4134\u001b[0m \u001b[32m━━━━━━━━━━━━━━━━━━━━\u001b[0m\u001b[37m\u001b[0m \u001b[1m6s\u001b[0m 2ms/step - accuracy: 0.9785 - loss: 0.0878 - val_accuracy: 0.9775 - val_loss: 0.0928\n",
            "Epoch 17/100\n",
            "\u001b[1m4134/4134\u001b[0m \u001b[32m━━━━━━━━━━━━━━━━━━━━\u001b[0m\u001b[37m\u001b[0m \u001b[1m6s\u001b[0m 2ms/step - accuracy: 0.9790 - loss: 0.0868 - val_accuracy: 0.9772 - val_loss: 0.0926\n",
            "Epoch 18/100\n",
            "\u001b[1m4134/4134\u001b[0m \u001b[32m━━━━━━━━━━━━━━━━━━━━\u001b[0m\u001b[37m\u001b[0m \u001b[1m6s\u001b[0m 2ms/step - accuracy: 0.9790 - loss: 0.0860 - val_accuracy: 0.9775 - val_loss: 0.0922\n",
            "Epoch 19/100\n",
            "\u001b[1m4134/4134\u001b[0m \u001b[32m━━━━━━━━━━━━━━━━━━━━\u001b[0m\u001b[37m\u001b[0m \u001b[1m6s\u001b[0m 1ms/step - accuracy: 0.9792 - loss: 0.0864 - val_accuracy: 0.9775 - val_loss: 0.0916\n",
            "Epoch 20/100\n",
            "\u001b[1m4134/4134\u001b[0m \u001b[32m━━━━━━━━━━━━━━━━━━━━\u001b[0m\u001b[37m\u001b[0m \u001b[1m6s\u001b[0m 2ms/step - accuracy: 0.9795 - loss: 0.0850 - val_accuracy: 0.9773 - val_loss: 0.0918\n",
            "Epoch 21/100\n",
            "\u001b[1m4134/4134\u001b[0m \u001b[32m━━━━━━━━━━━━━━━━━━━━\u001b[0m\u001b[37m\u001b[0m \u001b[1m6s\u001b[0m 2ms/step - accuracy: 0.9799 - loss: 0.0828 - val_accuracy: 0.9770 - val_loss: 0.0925\n",
            "Epoch 22/100\n",
            "\u001b[1m4134/4134\u001b[0m \u001b[32m━━━━━━━━━━━━━━━━━━━━\u001b[0m\u001b[37m\u001b[0m \u001b[1m6s\u001b[0m 2ms/step - accuracy: 0.9798 - loss: 0.0838 - val_accuracy: 0.9780 - val_loss: 0.0903\n",
            "Epoch 23/100\n",
            "\u001b[1m4134/4134\u001b[0m \u001b[32m━━━━━━━━━━━━━━━━━━━━\u001b[0m\u001b[37m\u001b[0m \u001b[1m6s\u001b[0m 2ms/step - accuracy: 0.9803 - loss: 0.0816 - val_accuracy: 0.9781 - val_loss: 0.0897\n",
            "Epoch 24/100\n",
            "\u001b[1m4134/4134\u001b[0m \u001b[32m━━━━━━━━━━━━━━━━━━━━\u001b[0m\u001b[37m\u001b[0m \u001b[1m6s\u001b[0m 2ms/step - accuracy: 0.9801 - loss: 0.0823 - val_accuracy: 0.9783 - val_loss: 0.0907\n",
            "Epoch 25/100\n",
            "\u001b[1m4134/4134\u001b[0m \u001b[32m━━━━━━━━━━━━━━━━━━━━\u001b[0m\u001b[37m\u001b[0m \u001b[1m6s\u001b[0m 2ms/step - accuracy: 0.9804 - loss: 0.0814 - val_accuracy: 0.9778 - val_loss: 0.0911\n",
            "Epoch 26/100\n",
            "\u001b[1m4134/4134\u001b[0m \u001b[32m━━━━━━━━━━━━━━━━━━━━\u001b[0m\u001b[37m\u001b[0m \u001b[1m6s\u001b[0m 2ms/step - accuracy: 0.9806 - loss: 0.0806 - val_accuracy: 0.9782 - val_loss: 0.0899\n",
            "Epoch 27/100\n",
            "\u001b[1m4134/4134\u001b[0m \u001b[32m━━━━━━━━━━━━━━━━━━━━\u001b[0m\u001b[37m\u001b[0m \u001b[1m6s\u001b[0m 2ms/step - accuracy: 0.9806 - loss: 0.0801 - val_accuracy: 0.9781 - val_loss: 0.0915\n",
            "Epoch 28/100\n",
            "\u001b[1m4134/4134\u001b[0m \u001b[32m━━━━━━━━━━━━━━━━━━━━\u001b[0m\u001b[37m\u001b[0m \u001b[1m6s\u001b[0m 2ms/step - accuracy: 0.9808 - loss: 0.0804 - val_accuracy: 0.9778 - val_loss: 0.0915\n",
            "Epoch 29/100\n",
            "\u001b[1m4134/4134\u001b[0m \u001b[32m━━━━━━━━━━━━━━━━━━━━\u001b[0m\u001b[37m\u001b[0m \u001b[1m6s\u001b[0m 1ms/step - accuracy: 0.9812 - loss: 0.0785 - val_accuracy: 0.9788 - val_loss: 0.0887\n",
            "Epoch 30/100\n",
            "\u001b[1m4134/4134\u001b[0m \u001b[32m━━━━━━━━━━━━━━━━━━━━\u001b[0m\u001b[37m\u001b[0m \u001b[1m6s\u001b[0m 2ms/step - accuracy: 0.9816 - loss: 0.0766 - val_accuracy: 0.9782 - val_loss: 0.0882\n",
            "Epoch 31/100\n",
            "\u001b[1m4134/4134\u001b[0m \u001b[32m━━━━━━━━━━━━━━━━━━━━\u001b[0m\u001b[37m\u001b[0m \u001b[1m6s\u001b[0m 2ms/step - accuracy: 0.9813 - loss: 0.0779 - val_accuracy: 0.9767 - val_loss: 0.0962\n",
            "Epoch 32/100\n",
            "\u001b[1m4134/4134\u001b[0m \u001b[32m━━━━━━━━━━━━━━━━━━━━\u001b[0m\u001b[37m\u001b[0m \u001b[1m6s\u001b[0m 1ms/step - accuracy: 0.9819 - loss: 0.0763 - val_accuracy: 0.9777 - val_loss: 0.0893\n",
            "Epoch 33/100\n",
            "\u001b[1m4134/4134\u001b[0m \u001b[32m━━━━━━━━━━━━━━━━━━━━\u001b[0m\u001b[37m\u001b[0m \u001b[1m6s\u001b[0m 2ms/step - accuracy: 0.9811 - loss: 0.0781 - val_accuracy: 0.9787 - val_loss: 0.0885\n",
            "Epoch 34/100\n",
            "\u001b[1m4134/4134\u001b[0m \u001b[32m━━━━━━━━━━━━━━━━━━━━\u001b[0m\u001b[37m\u001b[0m \u001b[1m6s\u001b[0m 2ms/step - accuracy: 0.9816 - loss: 0.0771 - val_accuracy: 0.9786 - val_loss: 0.0884\n",
            "Epoch 35/100\n",
            "\u001b[1m4134/4134\u001b[0m \u001b[32m━━━━━━━━━━━━━━━━━━━━\u001b[0m\u001b[37m\u001b[0m \u001b[1m6s\u001b[0m 2ms/step - accuracy: 0.9817 - loss: 0.0763 - val_accuracy: 0.9788 - val_loss: 0.0891\n",
            "Epoch 36/100\n",
            "\u001b[1m4134/4134\u001b[0m \u001b[32m━━━━━━━━━━━━━━━━━━━━\u001b[0m\u001b[37m\u001b[0m \u001b[1m6s\u001b[0m 2ms/step - accuracy: 0.9820 - loss: 0.0755 - val_accuracy: 0.9768 - val_loss: 0.0911\n",
            "Epoch 37/100\n",
            "\u001b[1m4134/4134\u001b[0m \u001b[32m━━━━━━━━━━━━━━━━━━━━\u001b[0m\u001b[37m\u001b[0m \u001b[1m6s\u001b[0m 2ms/step - accuracy: 0.9825 - loss: 0.0737 - val_accuracy: 0.9784 - val_loss: 0.0894\n",
            "Epoch 38/100\n",
            "\u001b[1m4134/4134\u001b[0m \u001b[32m━━━━━━━━━━━━━━━━━━━━\u001b[0m\u001b[37m\u001b[0m \u001b[1m6s\u001b[0m 2ms/step - accuracy: 0.9823 - loss: 0.0745 - val_accuracy: 0.9782 - val_loss: 0.0888\n",
            "Epoch 39/100\n",
            "\u001b[1m4134/4134\u001b[0m \u001b[32m━━━━━━━━━━━━━━━━━━━━\u001b[0m\u001b[37m\u001b[0m \u001b[1m6s\u001b[0m 2ms/step - accuracy: 0.9824 - loss: 0.0741 - val_accuracy: 0.9789 - val_loss: 0.0863\n",
            "Epoch 40/100\n",
            "\u001b[1m4134/4134\u001b[0m \u001b[32m━━━━━━━━━━━━━━━━━━━━\u001b[0m\u001b[37m\u001b[0m \u001b[1m6s\u001b[0m 2ms/step - accuracy: 0.9827 - loss: 0.0734 - val_accuracy: 0.9772 - val_loss: 0.0901\n",
            "Epoch 41/100\n",
            "\u001b[1m4134/4134\u001b[0m \u001b[32m━━━━━━━━━━━━━━━━━━━━\u001b[0m\u001b[37m\u001b[0m \u001b[1m6s\u001b[0m 2ms/step - accuracy: 0.9827 - loss: 0.0738 - val_accuracy: 0.9791 - val_loss: 0.0862\n",
            "Epoch 42/100\n",
            "\u001b[1m4134/4134\u001b[0m \u001b[32m━━━━━━━━━━━━━━━━━━━━\u001b[0m\u001b[37m\u001b[0m \u001b[1m6s\u001b[0m 2ms/step - accuracy: 0.9827 - loss: 0.0729 - val_accuracy: 0.9787 - val_loss: 0.0873\n",
            "Epoch 43/100\n",
            "\u001b[1m4134/4134\u001b[0m \u001b[32m━━━━━━━━━━━━━━━━━━━━\u001b[0m\u001b[37m\u001b[0m \u001b[1m6s\u001b[0m 2ms/step - accuracy: 0.9829 - loss: 0.0723 - val_accuracy: 0.9773 - val_loss: 0.0895\n",
            "Epoch 44/100\n",
            "\u001b[1m4134/4134\u001b[0m \u001b[32m━━━━━━━━━━━━━━━━━━━━\u001b[0m\u001b[37m\u001b[0m \u001b[1m6s\u001b[0m 1ms/step - accuracy: 0.9829 - loss: 0.0725 - val_accuracy: 0.9787 - val_loss: 0.0877\n",
            "Epoch 45/100\n",
            "\u001b[1m4134/4134\u001b[0m \u001b[32m━━━━━━━━━━━━━━━━━━━━\u001b[0m\u001b[37m\u001b[0m \u001b[1m6s\u001b[0m 2ms/step - accuracy: 0.9834 - loss: 0.0711 - val_accuracy: 0.9778 - val_loss: 0.0882\n",
            "Epoch 46/100\n",
            "\u001b[1m4134/4134\u001b[0m \u001b[32m━━━━━━━━━━━━━━━━━━━━\u001b[0m\u001b[37m\u001b[0m \u001b[1m6s\u001b[0m 2ms/step - accuracy: 0.9829 - loss: 0.0718 - val_accuracy: 0.9787 - val_loss: 0.0886\n",
            "Epoch 47/100\n",
            "\u001b[1m4134/4134\u001b[0m \u001b[32m━━━━━━━━━━━━━━━━━━━━\u001b[0m\u001b[37m\u001b[0m \u001b[1m6s\u001b[0m 2ms/step - accuracy: 0.9833 - loss: 0.0714 - val_accuracy: 0.9790 - val_loss: 0.0866\n",
            "Epoch 48/100\n",
            "\u001b[1m4134/4134\u001b[0m \u001b[32m━━━━━━━━━━━━━━━━━━━━\u001b[0m\u001b[37m\u001b[0m \u001b[1m6s\u001b[0m 2ms/step - accuracy: 0.9833 - loss: 0.0712 - val_accuracy: 0.9790 - val_loss: 0.0864\n",
            "Epoch 49/100\n",
            "\u001b[1m4134/4134\u001b[0m \u001b[32m━━━━━━━━━━━━━━━━━━━━\u001b[0m\u001b[37m\u001b[0m \u001b[1m6s\u001b[0m 1ms/step - accuracy: 0.9831 - loss: 0.0712 - val_accuracy: 0.9785 - val_loss: 0.0871\n",
            "Epoch 50/100\n",
            "\u001b[1m4134/4134\u001b[0m \u001b[32m━━━━━━━━━━━━━━━━━━━━\u001b[0m\u001b[37m\u001b[0m \u001b[1m6s\u001b[0m 2ms/step - accuracy: 0.9831 - loss: 0.0712 - val_accuracy: 0.9789 - val_loss: 0.0856\n",
            "Epoch 51/100\n",
            "\u001b[1m4134/4134\u001b[0m \u001b[32m━━━━━━━━━━━━━━━━━━━━\u001b[0m\u001b[37m\u001b[0m \u001b[1m6s\u001b[0m 1ms/step - accuracy: 0.9836 - loss: 0.0696 - val_accuracy: 0.9792 - val_loss: 0.0881\n",
            "Epoch 52/100\n",
            "\u001b[1m4134/4134\u001b[0m \u001b[32m━━━━━━━━━━━━━━━━━━━━\u001b[0m\u001b[37m\u001b[0m \u001b[1m6s\u001b[0m 2ms/step - accuracy: 0.9833 - loss: 0.0706 - val_accuracy: 0.9784 - val_loss: 0.0882\n",
            "Epoch 53/100\n",
            "\u001b[1m4134/4134\u001b[0m \u001b[32m━━━━━━━━━━━━━━━━━━━━\u001b[0m\u001b[37m\u001b[0m \u001b[1m7s\u001b[0m 2ms/step - accuracy: 0.9839 - loss: 0.0695 - val_accuracy: 0.9784 - val_loss: 0.0873\n",
            "Epoch 54/100\n",
            "\u001b[1m4134/4134\u001b[0m \u001b[32m━━━━━━━━━━━━━━━━━━━━\u001b[0m\u001b[37m\u001b[0m \u001b[1m7s\u001b[0m 2ms/step - accuracy: 0.9836 - loss: 0.0695 - val_accuracy: 0.9791 - val_loss: 0.0864\n",
            "Epoch 55/100\n",
            "\u001b[1m4134/4134\u001b[0m \u001b[32m━━━━━━━━━━━━━━━━━━━━\u001b[0m\u001b[37m\u001b[0m \u001b[1m9s\u001b[0m 2ms/step - accuracy: 0.9836 - loss: 0.0694 - val_accuracy: 0.9786 - val_loss: 0.0897\n",
            "Epoch 56/100\n",
            "\u001b[1m4134/4134\u001b[0m \u001b[32m━━━━━━━━━━━━━━━━━━━━\u001b[0m\u001b[37m\u001b[0m \u001b[1m8s\u001b[0m 2ms/step - accuracy: 0.9840 - loss: 0.0689 - val_accuracy: 0.9791 - val_loss: 0.0881\n",
            "Epoch 57/100\n",
            "\u001b[1m4134/4134\u001b[0m \u001b[32m━━━━━━━━━━━━━━━━━━━━\u001b[0m\u001b[37m\u001b[0m \u001b[1m8s\u001b[0m 2ms/step - accuracy: 0.9838 - loss: 0.0685 - val_accuracy: 0.9789 - val_loss: 0.0871\n",
            "Epoch 58/100\n",
            "\u001b[1m4134/4134\u001b[0m \u001b[32m━━━━━━━━━━━━━━━━━━━━\u001b[0m\u001b[37m\u001b[0m \u001b[1m8s\u001b[0m 2ms/step - accuracy: 0.9839 - loss: 0.0682 - val_accuracy: 0.9789 - val_loss: 0.0863\n",
            "Epoch 59/100\n",
            "\u001b[1m4134/4134\u001b[0m \u001b[32m━━━━━━━━━━━━━━━━━━━━\u001b[0m\u001b[37m\u001b[0m \u001b[1m8s\u001b[0m 2ms/step - accuracy: 0.9839 - loss: 0.0679 - val_accuracy: 0.9790 - val_loss: 0.0867\n",
            "Epoch 60/100\n",
            "\u001b[1m4134/4134\u001b[0m \u001b[32m━━━━━━━━━━━━━━━━━━━━\u001b[0m\u001b[37m\u001b[0m \u001b[1m8s\u001b[0m 2ms/step - accuracy: 0.9841 - loss: 0.0678 - val_accuracy: 0.9787 - val_loss: 0.0863\n"
          ]
        }
      ],
      "source": [
        "model_2 = build_model(\n",
        "    input_dim=X_train_processed.shape[1],\n",
        "    optimizer=Adam(learning_rate=0.0001),\n",
        "    regularizer=l2(0.0001)\n",
        ")\n",
        "\n",
        "history_2 = model_2.fit(\n",
        "    X_train_processed, y_train,\n",
        "    epochs=100,\n",
        "    batch_size=100,\n",
        "    validation_data=(X_val_processed, y_val),\n",
        "    callbacks=[EarlyStopping(monitor='val_loss', patience=10, restore_best_weights=True)],\n",
        "    verbose=1\n",
        ")\n",
        "\n",
        "save_model(model_2, 'saved_models/nn_instance_2.keras')"
      ]
    },
    {
      "cell_type": "markdown",
      "metadata": {},
      "source": [
        "#### Neural Network Model Instance 2 Error Analysis:"
      ]
    },
    {
      "cell_type": "code",
      "execution_count": 72,
      "metadata": {},
      "outputs": [
        {
          "name": "stdout",
          "output_type": "stream",
          "text": [
            "\u001b[1m2769/2769\u001b[0m \u001b[32m━━━━━━━━━━━━━━━━━━━━\u001b[0m\u001b[37m\u001b[0m \u001b[1m2s\u001b[0m 844us/step\n"
          ]
        },
        {
          "data": {
            "image/png": "[encoded data removed]",
            "text/plain": [
              "<Figure size 640x480 with 2 Axes>"
            ]
          },
          "metadata": {},
          "output_type": "display_data"
        },
        {
          "name": "stdout",
          "output_type": "stream",
          "text": [
            "=== Classification Report ===\n",
            "              precision    recall  f1-score   support\n",
            "\n",
            "   Not Fraud       0.98      0.99      0.99     85482\n",
            "       Fraud       0.77      0.54      0.63      3099\n",
            "\n",
            "    accuracy                           0.98     88581\n",
            "   macro avg       0.88      0.77      0.81     88581\n",
            "weighted avg       0.98      0.98      0.98     88581\n",
            "\n",
            "True Negatives (TN): 84989\n",
            "False Positives (FP): 493\n",
            "False Negatives (FN): 1436\n",
            "True Positives (TP): 1663\n"
          ]
        }
      ],
      "source": [
        "# Predict probabilities and convert to binary labels\n",
        "y_test_pred_prob = model_2.predict(X_test_processed)\n",
        "y_test_pred = (y_test_pred_prob > 0.5).astype(int).reshape(-1)\n",
        "y_test_true = y_test.values.reshape(-1)\n",
        "\n",
        "# Confusion matrix\n",
        "cm = confusion_matrix(y_test_true, y_test_pred)\n",
        "\n",
        "# Display with labels\n",
        "disp = ConfusionMatrixDisplay(confusion_matrix=cm, display_labels=[\"Not Fraud\", \"Fraud\"])\n",
        "disp.plot(cmap=\"Blues\")\n",
        "plt.title(\"Confusion Matrix - Test Set\")\n",
        "plt.show()\n",
        "\n",
        "# Detailed classification report\n",
        "report = classification_report(y_test_true, y_test_pred, target_names=[\"Not Fraud\", \"Fraud\"])\n",
        "print(\"=== Classification Report ===\")\n",
        "print(report)\n",
        "tn, fp, fn, tp = cm.ravel()\n",
        "print(f\"True Negatives (TN): {tn}\")\n",
        "print(f\"False Positives (FP): {fp}\")\n",
        "print(f\"False Negatives (FN): {fn}\")\n",
        "print(f\"True Positives (TP): {tp}\")"
      ]
    },
    {
      "cell_type": "markdown",
      "metadata": {},
      "source": [
        "### Neural Network Model Instance 3:\n",
        "  A deep neural network featuring L1 regularization and Dropout decreases exponentially across its hidden layers for binary classification. It's compiled with RMSprop and trained for 100 epochs, utilized an early stopping with a larger batch size."
      ]
    },
    {
      "cell_type": "code",
      "execution_count": 84,
      "metadata": {},
      "outputs": [
        {
          "name": "stderr",
          "output_type": "stream",
          "text": [
            "/Users/irakizagaius/Downloads/FraudDetection/.venv/lib/python3.10/site-packages/keras/src/layers/core/dense.py:93: UserWarning: Do not pass an `input_shape`/`input_dim` argument to a layer. When using Sequential models, prefer using an `Input(shape)` object as the first layer in the model instead.\n",
            "  super().__init__(activity_regularizer=activity_regularizer, **kwargs)\n"
          ]
        },
        {
          "name": "stdout",
          "output_type": "stream",
          "text": [
            "Epoch 1/100\n",
            "\u001b[1m4134/4134\u001b[0m \u001b[32m━━━━━━━━━━━━━━━━━━━━\u001b[0m\u001b[37m\u001b[0m \u001b[1m11s\u001b[0m 2ms/step - accuracy: 0.9437 - loss: 0.3727 - val_accuracy: 0.9719 - val_loss: 0.2144\n",
            "Epoch 2/100\n",
            "\u001b[1m4134/4134\u001b[0m \u001b[32m━━━━━━━━━━━━━━━━━━━━\u001b[0m\u001b[37m\u001b[0m \u001b[1m12s\u001b[0m 3ms/step - accuracy: 0.9698 - loss: 0.2030 - val_accuracy: 0.9721 - val_loss: 0.1634\n",
            "Epoch 3/100\n",
            "\u001b[1m4134/4134\u001b[0m \u001b[32m━━━━━━━━━━━━━━━━━━━━\u001b[0m\u001b[37m\u001b[0m \u001b[1m12s\u001b[0m 3ms/step - accuracy: 0.9709 - loss: 0.1620 - val_accuracy: 0.9722 - val_loss: 0.1447\n",
            "Epoch 4/100\n",
            "\u001b[1m4134/4134\u001b[0m \u001b[32m━━━━━━━━━━━━━━━━━━━━\u001b[0m\u001b[37m\u001b[0m \u001b[1m13s\u001b[0m 3ms/step - accuracy: 0.9712 - loss: 0.1462 - val_accuracy: 0.9726 - val_loss: 0.1342\n",
            "Epoch 5/100\n",
            "\u001b[1m4134/4134\u001b[0m \u001b[32m━━━━━━━━━━━━━━━━━━━━\u001b[0m\u001b[37m\u001b[0m \u001b[1m14s\u001b[0m 3ms/step - accuracy: 0.9715 - loss: 0.1372 - val_accuracy: 0.9729 - val_loss: 0.1281\n",
            "Epoch 6/100\n",
            "\u001b[1m4134/4134\u001b[0m \u001b[32m━━━━━━━━━━━━━━━━━━━━\u001b[0m\u001b[37m\u001b[0m \u001b[1m14s\u001b[0m 3ms/step - accuracy: 0.9714 - loss: 0.1323 - val_accuracy: 0.9725 - val_loss: 0.1260\n",
            "Epoch 7/100\n",
            "\u001b[1m4134/4134\u001b[0m \u001b[32m━━━━━━━━━━━━━━━━━━━━\u001b[0m\u001b[37m\u001b[0m \u001b[1m12s\u001b[0m 3ms/step - accuracy: 0.9717 - loss: 0.1282 - val_accuracy: 0.9732 - val_loss: 0.1215\n",
            "Epoch 8/100\n",
            "\u001b[1m4134/4134\u001b[0m \u001b[32m━━━━━━━━━━━━━━━━━━━━\u001b[0m\u001b[37m\u001b[0m \u001b[1m10s\u001b[0m 2ms/step - accuracy: 0.9719 - loss: 0.1252 - val_accuracy: 0.9729 - val_loss: 0.1199\n",
            "Epoch 9/100\n",
            "\u001b[1m4134/4134\u001b[0m \u001b[32m━━━━━━━━━━━━━━━━━━━━\u001b[0m\u001b[37m\u001b[0m \u001b[1m12s\u001b[0m 3ms/step - accuracy: 0.9721 - loss: 0.1235 - val_accuracy: 0.9731 - val_loss: 0.1184\n",
            "Epoch 10/100\n",
            "\u001b[1m4134/4134\u001b[0m \u001b[32m━━━━━━━━━━━━━━━━━━━━\u001b[0m\u001b[37m\u001b[0m \u001b[1m10s\u001b[0m 2ms/step - accuracy: 0.9723 - loss: 0.1219 - val_accuracy: 0.9732 - val_loss: 0.1168\n",
            "Epoch 11/100\n",
            "\u001b[1m4134/4134\u001b[0m \u001b[32m━━━━━━━━━━━━━━━━━━━━\u001b[0m\u001b[37m\u001b[0m \u001b[1m9s\u001b[0m 2ms/step - accuracy: 0.9722 - loss: 0.1209 - val_accuracy: 0.9733 - val_loss: 0.1165\n",
            "Epoch 12/100\n",
            "\u001b[1m4134/4134\u001b[0m \u001b[32m━━━━━━━━━━━━━━━━━━━━\u001b[0m\u001b[37m\u001b[0m \u001b[1m12s\u001b[0m 3ms/step - accuracy: 0.9724 - loss: 0.1203 - val_accuracy: 0.9735 - val_loss: 0.1150\n",
            "Epoch 13/100\n",
            "\u001b[1m4134/4134\u001b[0m \u001b[32m━━━━━━━━━━━━━━━━━━━━\u001b[0m\u001b[37m\u001b[0m \u001b[1m12s\u001b[0m 3ms/step - accuracy: 0.9723 - loss: 0.1200 - val_accuracy: 0.9734 - val_loss: 0.1148\n",
            "Epoch 14/100\n",
            "\u001b[1m4134/4134\u001b[0m \u001b[32m━━━━━━━━━━━━━━━━━━━━\u001b[0m\u001b[37m\u001b[0m \u001b[1m11s\u001b[0m 3ms/step - accuracy: 0.9725 - loss: 0.1183 - val_accuracy: 0.9738 - val_loss: 0.1142\n",
            "Epoch 15/100\n",
            "\u001b[1m4134/4134\u001b[0m \u001b[32m━━━━━━━━━━━━━━━━━━━━\u001b[0m\u001b[37m\u001b[0m \u001b[1m9s\u001b[0m 2ms/step - accuracy: 0.9724 - loss: 0.1191 - val_accuracy: 0.9735 - val_loss: 0.1152\n",
            "Epoch 16/100\n",
            "\u001b[1m4134/4134\u001b[0m \u001b[32m━━━━━━━━━━━━━━━━━━━━\u001b[0m\u001b[37m\u001b[0m \u001b[1m11s\u001b[0m 3ms/step - accuracy: 0.9728 - loss: 0.1176 - val_accuracy: 0.9738 - val_loss: 0.1134\n",
            "Epoch 17/100\n",
            "\u001b[1m4134/4134\u001b[0m \u001b[32m━━━━━━━━━━━━━━━━━━━━\u001b[0m\u001b[37m\u001b[0m \u001b[1m13s\u001b[0m 3ms/step - accuracy: 0.9727 - loss: 0.1170 - val_accuracy: 0.9737 - val_loss: 0.1134\n",
            "Epoch 18/100\n",
            "\u001b[1m4134/4134\u001b[0m \u001b[32m━━━━━━━━━━━━━━━━━━━━\u001b[0m\u001b[37m\u001b[0m \u001b[1m10s\u001b[0m 2ms/step - accuracy: 0.9723 - loss: 0.1184 - val_accuracy: 0.9739 - val_loss: 0.1134\n",
            "Epoch 19/100\n",
            "\u001b[1m4134/4134\u001b[0m \u001b[32m━━━━━━━━━━━━━━━━━━━━\u001b[0m\u001b[37m\u001b[0m \u001b[1m11s\u001b[0m 3ms/step - accuracy: 0.9721 - loss: 0.1186 - val_accuracy: 0.9738 - val_loss: 0.1134\n",
            "Epoch 20/100\n",
            "\u001b[1m4134/4134\u001b[0m \u001b[32m━━━━━━━━━━━━━━━━━━━━\u001b[0m\u001b[37m\u001b[0m \u001b[1m12s\u001b[0m 3ms/step - accuracy: 0.9724 - loss: 0.1179 - val_accuracy: 0.9739 - val_loss: 0.1130\n",
            "Epoch 21/100\n",
            "\u001b[1m4134/4134\u001b[0m \u001b[32m━━━━━━━━━━━━━━━━━━━━\u001b[0m\u001b[37m\u001b[0m \u001b[1m10s\u001b[0m 2ms/step - accuracy: 0.9730 - loss: 0.1163 - val_accuracy: 0.9736 - val_loss: 0.1139\n",
            "Epoch 22/100\n",
            "\u001b[1m4134/4134\u001b[0m \u001b[32m━━━━━━━━━━━━━━━━━━━━\u001b[0m\u001b[37m\u001b[0m \u001b[1m12s\u001b[0m 3ms/step - accuracy: 0.9728 - loss: 0.1166 - val_accuracy: 0.9737 - val_loss: 0.1137\n",
            "Epoch 23/100\n",
            "\u001b[1m4134/4134\u001b[0m \u001b[32m━━━━━━━━━━━━━━━━━━━━\u001b[0m\u001b[37m\u001b[0m \u001b[1m10s\u001b[0m 2ms/step - accuracy: 0.9724 - loss: 0.1184 - val_accuracy: 0.9738 - val_loss: 0.1132\n",
            "Epoch 24/100\n",
            "\u001b[1m4134/4134\u001b[0m \u001b[32m━━━━━━━━━━━━━━━━━━━━\u001b[0m\u001b[37m\u001b[0m \u001b[1m10s\u001b[0m 2ms/step - accuracy: 0.9723 - loss: 0.1180 - val_accuracy: 0.9739 - val_loss: 0.1128\n",
            "Epoch 25/100\n",
            "\u001b[1m4134/4134\u001b[0m \u001b[32m━━━━━━━━━━━━━━━━━━━━\u001b[0m\u001b[37m\u001b[0m \u001b[1m11s\u001b[0m 3ms/step - accuracy: 0.9723 - loss: 0.1185 - val_accuracy: 0.9740 - val_loss: 0.1131\n",
            "Epoch 26/100\n",
            "\u001b[1m4134/4134\u001b[0m \u001b[32m━━━━━━━━━━━━━━━━━━━━\u001b[0m\u001b[37m\u001b[0m \u001b[1m10s\u001b[0m 2ms/step - accuracy: 0.9727 - loss: 0.1174 - val_accuracy: 0.9740 - val_loss: 0.1131\n",
            "Epoch 27/100\n",
            "\u001b[1m4134/4134\u001b[0m \u001b[32m━━━━━━━━━━━━━━━━━━━━\u001b[0m\u001b[37m\u001b[0m \u001b[1m11s\u001b[0m 3ms/step - accuracy: 0.9726 - loss: 0.1176 - val_accuracy: 0.9740 - val_loss: 0.1129\n",
            "Epoch 28/100\n",
            "\u001b[1m4134/4134\u001b[0m \u001b[32m━━━━━━━━━━━━━━━━━━━━\u001b[0m\u001b[37m\u001b[0m \u001b[1m10s\u001b[0m 3ms/step - accuracy: 0.9725 - loss: 0.1176 - val_accuracy: 0.9739 - val_loss: 0.1139\n",
            "Epoch 29/100\n",
            "\u001b[1m4134/4134\u001b[0m \u001b[32m━━━━━━━━━━━━━━━━━━━━\u001b[0m\u001b[37m\u001b[0m \u001b[1m10s\u001b[0m 2ms/step - accuracy: 0.9726 - loss: 0.1178 - val_accuracy: 0.9742 - val_loss: 0.1127\n",
            "Epoch 30/100\n",
            "\u001b[1m4134/4134\u001b[0m \u001b[32m━━━━━━━━━━━━━━━━━━━━\u001b[0m\u001b[37m\u001b[0m \u001b[1m11s\u001b[0m 3ms/step - accuracy: 0.9724 - loss: 0.1185 - val_accuracy: 0.9735 - val_loss: 0.1155\n",
            "Epoch 31/100\n",
            "\u001b[1m4134/4134\u001b[0m \u001b[32m━━━━━━━━━━━━━━━━━━━━\u001b[0m\u001b[37m\u001b[0m \u001b[1m10s\u001b[0m 2ms/step - accuracy: 0.9722 - loss: 0.1197 - val_accuracy: 0.9739 - val_loss: 0.1133\n",
            "Epoch 32/100\n",
            "\u001b[1m4134/4134\u001b[0m \u001b[32m━━━━━━━━━━━━━━━━━━━━\u001b[0m\u001b[37m\u001b[0m \u001b[1m8s\u001b[0m 2ms/step - accuracy: 0.9729 - loss: 0.1173 - val_accuracy: 0.9743 - val_loss: 0.1129\n",
            "Epoch 33/100\n",
            "\u001b[1m4134/4134\u001b[0m \u001b[32m━━━━━━━━━━━━━━━━━━━━\u001b[0m\u001b[37m\u001b[0m \u001b[1m9s\u001b[0m 2ms/step - accuracy: 0.9723 - loss: 0.1184 - val_accuracy: 0.9738 - val_loss: 0.1136\n",
            "Epoch 34/100\n",
            "\u001b[1m4134/4134\u001b[0m \u001b[32m━━━━━━━━━━━━━━━━━━━━\u001b[0m\u001b[37m\u001b[0m \u001b[1m9s\u001b[0m 2ms/step - accuracy: 0.9723 - loss: 0.1192 - val_accuracy: 0.9739 - val_loss: 0.1144\n",
            "Epoch 35/100\n",
            "\u001b[1m4134/4134\u001b[0m \u001b[32m━━━━━━━━━━━━━━━━━━━━\u001b[0m\u001b[37m\u001b[0m \u001b[1m9s\u001b[0m 2ms/step - accuracy: 0.9727 - loss: 0.1182 - val_accuracy: 0.9740 - val_loss: 0.1141\n",
            "Epoch 36/100\n",
            "\u001b[1m4134/4134\u001b[0m \u001b[32m━━━━━━━━━━━━━━━━━━━━\u001b[0m\u001b[37m\u001b[0m \u001b[1m9s\u001b[0m 2ms/step - accuracy: 0.9723 - loss: 0.1187 - val_accuracy: 0.9738 - val_loss: 0.1145\n",
            "Epoch 37/100\n",
            "\u001b[1m4134/4134\u001b[0m \u001b[32m━━━━━━━━━━━━━━━━━━━━\u001b[0m\u001b[37m\u001b[0m \u001b[1m11s\u001b[0m 3ms/step - accuracy: 0.9722 - loss: 0.1197 - val_accuracy: 0.9741 - val_loss: 0.1141\n",
            "Epoch 38/100\n",
            "\u001b[1m4134/4134\u001b[0m \u001b[32m━━━━━━━━━━━━━━━━━━━━\u001b[0m\u001b[37m\u001b[0m \u001b[1m10s\u001b[0m 2ms/step - accuracy: 0.9728 - loss: 0.1191 - val_accuracy: 0.9739 - val_loss: 0.1147\n",
            "Epoch 39/100\n",
            "\u001b[1m4134/4134\u001b[0m \u001b[32m━━━━━━━━━━━━━━━━━━━━\u001b[0m\u001b[37m\u001b[0m \u001b[1m10s\u001b[0m 2ms/step - accuracy: 0.9725 - loss: 0.1190 - val_accuracy: 0.9743 - val_loss: 0.1141\n"
          ]
        }
      ],
      "source": [
        "dropout_rates = [0.2, 0.1, 0.1, 0.05, 0.0]\n",
        "\n",
        "model_3 = build_model(\n",
        "    input_dim=X_train_processed.shape[1],\n",
        "    optimizer=RMSprop(learning_rate=0.0001),\n",
        "    regularizer=l1(0.0001),\n",
        "    dropout_rates=dropout_rates,\n",
        ")\n",
        "\n",
        "early_stopping = EarlyStopping(monitor='val_loss', patience=10, restore_best_weights=True)\n",
        "\n",
        "history_3 = model_3.fit(\n",
        "    X_train_processed, y_train,\n",
        "    epochs=100,\n",
        "    batch_size=100,\n",
        "    validation_data=(X_val_processed, y_val),\n",
        "    callbacks=[early_stopping],\n",
        "    verbose=1\n",
        ")\n",
        "\n",
        "save_model(model_3, 'saved_models/nn_instance_3.keras')"
      ]
    },
    {
      "cell_type": "markdown",
      "metadata": {},
      "source": [
        "#### Neural Network Model Instance 3 Error Analysis:"
      ]
    },
    {
      "cell_type": "code",
      "execution_count": 85,
      "metadata": {},
      "outputs": [
        {
          "name": "stdout",
          "output_type": "stream",
          "text": [
            "\u001b[1m2769/2769\u001b[0m \u001b[32m━━━━━━━━━━━━━━━━━━━━\u001b[0m\u001b[37m\u001b[0m \u001b[1m3s\u001b[0m 880us/step\n"
          ]
        },
        {
          "data": {
            "image/png": "[encoded data removed]",
            "text/plain": [
              "<Figure size 640x480 with 2 Axes>"
            ]
          },
          "metadata": {},
          "output_type": "display_data"
        },
        {
          "name": "stdout",
          "output_type": "stream",
          "text": [
            "=== Classification Report ===\n",
            "              precision    recall  f1-score   support\n",
            "\n",
            "   Not Fraud       0.98      1.00      0.99     85482\n",
            "       Fraud       0.80      0.33      0.47      3099\n",
            "\n",
            "    accuracy                           0.97     88581\n",
            "   macro avg       0.89      0.66      0.73     88581\n",
            "weighted avg       0.97      0.97      0.97     88581\n",
            "\n",
            "True Negatives (TN): 85226\n",
            "False Positives (FP): 256\n",
            "False Negatives (FN): 2071\n",
            "True Positives (TP): 1028\n"
          ]
        }
      ],
      "source": [
        "# Predict probabilities and convert to binary labels\n",
        "y_test_pred_prob = model_3.predict(X_test_processed)\n",
        "y_test_pred = (y_test_pred_prob > 0.5).astype(int).reshape(-1)\n",
        "y_test_true = y_test.values.reshape(-1)\n",
        "\n",
        "# Confusion matrix\n",
        "cm = confusion_matrix(y_test_true, y_test_pred)\n",
        "\n",
        "# Display with labels\n",
        "disp = ConfusionMatrixDisplay(confusion_matrix=cm, display_labels=[\"Not Fraud\", \"Fraud\"])\n",
        "disp.plot(cmap=\"Blues\")\n",
        "plt.title(\"Confusion Matrix - Test Set\")\n",
        "plt.show()\n",
        "\n",
        "# Detailed classification report\n",
        "report = classification_report(y_test_true, y_test_pred, target_names=[\"Not Fraud\", \"Fraud\"])\n",
        "print(\"=== Classification Report ===\")\n",
        "print(report)\n",
        "tn, fp, fn, tp = cm.ravel()\n",
        "print(f\"True Negatives (TN): {tn}\")\n",
        "print(f\"False Positives (FP): {fp}\")\n",
        "print(f\"False Negatives (FN): {fn}\")\n",
        "print(f\"True Positives (TP): {tp}\")"
      ]
    },
    {
      "cell_type": "markdown",
      "metadata": {},
      "source": [
        "### Neural Network Model Instance 4:\n",
        "A deep neural network experimenting with SDG optimization and an L2 regularizer. no dropout rates but applied early_stoppping with 10 patience on val_loss."
      ]
    },
    {
      "cell_type": "code",
      "execution_count": 86,
      "metadata": {},
      "outputs": [
        {
          "name": "stderr",
          "output_type": "stream",
          "text": [
            "/Users/irakizagaius/Downloads/FraudDetection/.venv/lib/python3.10/site-packages/keras/src/layers/core/dense.py:93: UserWarning: Do not pass an `input_shape`/`input_dim` argument to a layer. When using Sequential models, prefer using an `Input(shape)` object as the first layer in the model instead.\n",
            "  super().__init__(activity_regularizer=activity_regularizer, **kwargs)\n"
          ]
        },
        {
          "name": "stdout",
          "output_type": "stream",
          "text": [
            "Epoch 1/150\n",
            "\u001b[1m2756/2756\u001b[0m \u001b[32m━━━━━━━━━━━━━━━━━━━━\u001b[0m\u001b[37m\u001b[0m \u001b[1m8s\u001b[0m 2ms/step - accuracy: 0.9617 - loss: 0.4397 - val_accuracy: 0.9691 - val_loss: 0.3615\n",
            "Epoch 2/150\n",
            "\u001b[1m2756/2756\u001b[0m \u001b[32m━━━━━━━━━━━━━━━━━━━━\u001b[0m\u001b[37m\u001b[0m \u001b[1m6s\u001b[0m 2ms/step - accuracy: 0.9699 - loss: 0.3532 - val_accuracy: 0.9717 - val_loss: 0.3305\n",
            "Epoch 3/150\n",
            "\u001b[1m2756/2756\u001b[0m \u001b[32m━━━━━━━━━━━━━━━━━━━━\u001b[0m\u001b[37m\u001b[0m \u001b[1m6s\u001b[0m 2ms/step - accuracy: 0.9712 - loss: 0.3243 - val_accuracy: 0.9720 - val_loss: 0.3054\n",
            "Epoch 4/150\n",
            "\u001b[1m2756/2756\u001b[0m \u001b[32m━━━━━━━━━━━━━━━━━━━━\u001b[0m\u001b[37m\u001b[0m \u001b[1m6s\u001b[0m 2ms/step - accuracy: 0.9717 - loss: 0.2995 - val_accuracy: 0.9722 - val_loss: 0.2840\n",
            "Epoch 5/150\n",
            "\u001b[1m2756/2756\u001b[0m \u001b[32m━━━━━━━━━━━━━━━━━━━━\u001b[0m\u001b[37m\u001b[0m \u001b[1m6s\u001b[0m 2ms/step - accuracy: 0.9717 - loss: 0.2799 - val_accuracy: 0.9722 - val_loss: 0.2659\n",
            "Epoch 6/150\n",
            "\u001b[1m2756/2756\u001b[0m \u001b[32m━━━━━━━━━━━━━━━━━━━━\u001b[0m\u001b[37m\u001b[0m \u001b[1m7s\u001b[0m 2ms/step - accuracy: 0.9723 - loss: 0.2593 - val_accuracy: 0.9727 - val_loss: 0.2479\n",
            "Epoch 7/150\n",
            "\u001b[1m2756/2756\u001b[0m \u001b[32m━━━━━━━━━━━━━━━━━━━━\u001b[0m\u001b[37m\u001b[0m \u001b[1m6s\u001b[0m 2ms/step - accuracy: 0.9721 - loss: 0.2446 - val_accuracy: 0.9727 - val_loss: 0.2323\n",
            "Epoch 8/150\n",
            "\u001b[1m2756/2756\u001b[0m \u001b[32m━━━━━━━━━━━━━━━━━━━━\u001b[0m\u001b[37m\u001b[0m \u001b[1m5s\u001b[0m 2ms/step - accuracy: 0.9725 - loss: 0.2296 - val_accuracy: 0.9729 - val_loss: 0.2188\n",
            "Epoch 9/150\n",
            "\u001b[1m2756/2756\u001b[0m \u001b[32m━━━━━━━━━━━━━━━━━━━━\u001b[0m\u001b[37m\u001b[0m \u001b[1m7s\u001b[0m 2ms/step - accuracy: 0.9725 - loss: 0.2164 - val_accuracy: 0.9730 - val_loss: 0.2064\n",
            "Epoch 10/150\n",
            "\u001b[1m2756/2756\u001b[0m \u001b[32m━━━━━━━━━━━━━━━━━━━━\u001b[0m\u001b[37m\u001b[0m \u001b[1m6s\u001b[0m 2ms/step - accuracy: 0.9727 - loss: 0.2044 - val_accuracy: 0.9731 - val_loss: 0.1956\n",
            "Epoch 11/150\n",
            "\u001b[1m2756/2756\u001b[0m \u001b[32m━━━━━━━━━━━━━━━━━━━━\u001b[0m\u001b[37m\u001b[0m \u001b[1m5s\u001b[0m 2ms/step - accuracy: 0.9734 - loss: 0.1922 - val_accuracy: 0.9734 - val_loss: 0.1859\n",
            "Epoch 12/150\n",
            "\u001b[1m2756/2756\u001b[0m \u001b[32m━━━━━━━━━━━━━━━━━━━━\u001b[0m\u001b[37m\u001b[0m \u001b[1m5s\u001b[0m 2ms/step - accuracy: 0.9738 - loss: 0.1828 - val_accuracy: 0.9731 - val_loss: 0.1781\n",
            "Epoch 13/150\n",
            "\u001b[1m2756/2756\u001b[0m \u001b[32m━━━━━━━━━━━━━━━━━━━━\u001b[0m\u001b[37m\u001b[0m \u001b[1m5s\u001b[0m 2ms/step - accuracy: 0.9737 - loss: 0.1743 - val_accuracy: 0.9735 - val_loss: 0.1689\n",
            "Epoch 14/150\n",
            "\u001b[1m2756/2756\u001b[0m \u001b[32m━━━━━━━━━━━━━━━━━━━━\u001b[0m\u001b[37m\u001b[0m \u001b[1m6s\u001b[0m 2ms/step - accuracy: 0.9736 - loss: 0.1670 - val_accuracy: 0.9736 - val_loss: 0.1630\n",
            "Epoch 15/150\n",
            "\u001b[1m2756/2756\u001b[0m \u001b[32m━━━━━━━━━━━━━━━━━━━━\u001b[0m\u001b[37m\u001b[0m \u001b[1m7s\u001b[0m 2ms/step - accuracy: 0.9736 - loss: 0.1603 - val_accuracy: 0.9734 - val_loss: 0.1558\n",
            "Epoch 16/150\n",
            "\u001b[1m2756/2756\u001b[0m \u001b[32m━━━━━━━━━━━━━━━━━━━━\u001b[0m\u001b[37m\u001b[0m \u001b[1m7s\u001b[0m 2ms/step - accuracy: 0.9735 - loss: 0.1551 - val_accuracy: 0.9742 - val_loss: 0.1498\n",
            "Epoch 17/150\n",
            "\u001b[1m2756/2756\u001b[0m \u001b[32m━━━━━━━━━━━━━━━━━━━━\u001b[0m\u001b[37m\u001b[0m \u001b[1m6s\u001b[0m 2ms/step - accuracy: 0.9739 - loss: 0.1486 - val_accuracy: 0.9743 - val_loss: 0.1450\n",
            "Epoch 18/150\n",
            "\u001b[1m2756/2756\u001b[0m \u001b[32m━━━━━━━━━━━━━━━━━━━━\u001b[0m\u001b[37m\u001b[0m \u001b[1m5s\u001b[0m 2ms/step - accuracy: 0.9741 - loss: 0.1438 - val_accuracy: 0.9742 - val_loss: 0.1400\n",
            "Epoch 19/150\n",
            "\u001b[1m2756/2756\u001b[0m \u001b[32m━━━━━━━━━━━━━━━━━━━━\u001b[0m\u001b[37m\u001b[0m \u001b[1m6s\u001b[0m 2ms/step - accuracy: 0.9745 - loss: 0.1385 - val_accuracy: 0.9745 - val_loss: 0.1358\n",
            "Epoch 20/150\n",
            "\u001b[1m2756/2756\u001b[0m \u001b[32m━━━━━━━━━━━━━━━━━━━━\u001b[0m\u001b[37m\u001b[0m \u001b[1m6s\u001b[0m 2ms/step - accuracy: 0.9743 - loss: 0.1346 - val_accuracy: 0.9742 - val_loss: 0.1321\n",
            "Epoch 21/150\n",
            "\u001b[1m2756/2756\u001b[0m \u001b[32m━━━━━━━━━━━━━━━━━━━━\u001b[0m\u001b[37m\u001b[0m \u001b[1m7s\u001b[0m 3ms/step - accuracy: 0.9742 - loss: 0.1316 - val_accuracy: 0.9748 - val_loss: 0.1293\n",
            "Epoch 22/150\n",
            "\u001b[1m2756/2756\u001b[0m \u001b[32m━━━━━━━━━━━━━━━━━━━━\u001b[0m\u001b[37m\u001b[0m \u001b[1m6s\u001b[0m 2ms/step - accuracy: 0.9747 - loss: 0.1274 - val_accuracy: 0.9749 - val_loss: 0.1255\n",
            "Epoch 23/150\n",
            "\u001b[1m2756/2756\u001b[0m \u001b[32m━━━━━━━━━━━━━━━━━━━━\u001b[0m\u001b[37m\u001b[0m \u001b[1m7s\u001b[0m 3ms/step - accuracy: 0.9747 - loss: 0.1246 - val_accuracy: 0.9745 - val_loss: 0.1233\n",
            "Epoch 24/150\n",
            "\u001b[1m2756/2756\u001b[0m \u001b[32m━━━━━━━━━━━━━━━━━━━━\u001b[0m\u001b[37m\u001b[0m \u001b[1m7s\u001b[0m 2ms/step - accuracy: 0.9747 - loss: 0.1217 - val_accuracy: 0.9738 - val_loss: 0.1225\n",
            "Epoch 25/150\n",
            "\u001b[1m2756/2756\u001b[0m \u001b[32m━━━━━━━━━━━━━━━━━━━━\u001b[0m\u001b[37m\u001b[0m \u001b[1m5s\u001b[0m 2ms/step - accuracy: 0.9746 - loss: 0.1201 - val_accuracy: 0.9745 - val_loss: 0.1192\n",
            "Epoch 26/150\n",
            "\u001b[1m2756/2756\u001b[0m \u001b[32m━━━━━━━━━━━━━━━━━━━━\u001b[0m\u001b[37m\u001b[0m \u001b[1m6s\u001b[0m 2ms/step - accuracy: 0.9749 - loss: 0.1178 - val_accuracy: 0.9750 - val_loss: 0.1167\n",
            "Epoch 27/150\n",
            "\u001b[1m2756/2756\u001b[0m \u001b[32m━━━━━━━━━━━━━━━━━━━━\u001b[0m\u001b[37m\u001b[0m \u001b[1m5s\u001b[0m 2ms/step - accuracy: 0.9750 - loss: 0.1153 - val_accuracy: 0.9743 - val_loss: 0.1152\n",
            "Epoch 28/150\n",
            "\u001b[1m2756/2756\u001b[0m \u001b[32m━━━━━━━━━━━━━━━━━━━━\u001b[0m\u001b[37m\u001b[0m \u001b[1m6s\u001b[0m 2ms/step - accuracy: 0.9747 - loss: 0.1150 - val_accuracy: 0.9751 - val_loss: 0.1133\n",
            "Epoch 29/150\n",
            "\u001b[1m2756/2756\u001b[0m \u001b[32m━━━━━━━━━━━━━━━━━━━━\u001b[0m\u001b[37m\u001b[0m \u001b[1m5s\u001b[0m 2ms/step - accuracy: 0.9751 - loss: 0.1125 - val_accuracy: 0.9751 - val_loss: 0.1115\n",
            "Epoch 30/150\n",
            "\u001b[1m2756/2756\u001b[0m \u001b[32m━━━━━━━━━━━━━━━━━━━━\u001b[0m\u001b[37m\u001b[0m \u001b[1m5s\u001b[0m 2ms/step - accuracy: 0.9753 - loss: 0.1106 - val_accuracy: 0.9742 - val_loss: 0.1123\n",
            "Epoch 31/150\n",
            "\u001b[1m2756/2756\u001b[0m \u001b[32m━━━━━━━━━━━━━━━━━━━━\u001b[0m\u001b[37m\u001b[0m \u001b[1m4s\u001b[0m 2ms/step - accuracy: 0.9751 - loss: 0.1096 - val_accuracy: 0.9754 - val_loss: 0.1094\n",
            "Epoch 32/150\n",
            "\u001b[1m2756/2756\u001b[0m \u001b[32m━━━━━━━━━━━━━━━━━━━━\u001b[0m\u001b[37m\u001b[0m \u001b[1m4s\u001b[0m 2ms/step - accuracy: 0.9751 - loss: 0.1090 - val_accuracy: 0.9744 - val_loss: 0.1092\n",
            "Epoch 33/150\n",
            "\u001b[1m2756/2756\u001b[0m \u001b[32m━━━━━━━━━━━━━━━━━━━━\u001b[0m\u001b[37m\u001b[0m \u001b[1m4s\u001b[0m 1ms/step - accuracy: 0.9754 - loss: 0.1070 - val_accuracy: 0.9755 - val_loss: 0.1071\n",
            "Epoch 34/150\n",
            "\u001b[1m2756/2756\u001b[0m \u001b[32m━━━━━━━━━━━━━━━━━━━━\u001b[0m\u001b[37m\u001b[0m \u001b[1m4s\u001b[0m 2ms/step - accuracy: 0.9753 - loss: 0.1059 - val_accuracy: 0.9760 - val_loss: 0.1068\n",
            "Epoch 35/150\n",
            "\u001b[1m2756/2756\u001b[0m \u001b[32m━━━━━━━━━━━━━━━━━━━━\u001b[0m\u001b[37m\u001b[0m \u001b[1m5s\u001b[0m 2ms/step - accuracy: 0.9756 - loss: 0.1053 - val_accuracy: 0.9760 - val_loss: 0.1052\n",
            "Epoch 36/150\n",
            "\u001b[1m2756/2756\u001b[0m \u001b[32m━━━━━━━━━━━━━━━━━━━━\u001b[0m\u001b[37m\u001b[0m \u001b[1m4s\u001b[0m 2ms/step - accuracy: 0.9755 - loss: 0.1045 - val_accuracy: 0.9763 - val_loss: 0.1057\n",
            "Epoch 37/150\n",
            "\u001b[1m2756/2756\u001b[0m \u001b[32m━━━━━━━━━━━━━━━━━━━━\u001b[0m\u001b[37m\u001b[0m \u001b[1m4s\u001b[0m 2ms/step - accuracy: 0.9752 - loss: 0.1057 - val_accuracy: 0.9756 - val_loss: 0.1060\n",
            "Epoch 38/150\n",
            "\u001b[1m2756/2756\u001b[0m \u001b[32m━━━━━━━━━━━━━━━━━━━━\u001b[0m\u001b[37m\u001b[0m \u001b[1m4s\u001b[0m 2ms/step - accuracy: 0.9753 - loss: 0.1037 - val_accuracy: 0.9757 - val_loss: 0.1056\n",
            "Epoch 39/150\n",
            "\u001b[1m2756/2756\u001b[0m \u001b[32m━━━━━━━━━━━━━━━━━━━━\u001b[0m\u001b[37m\u001b[0m \u001b[1m5s\u001b[0m 2ms/step - accuracy: 0.9758 - loss: 0.1024 - val_accuracy: 0.9751 - val_loss: 0.1043\n",
            "Epoch 40/150\n",
            "\u001b[1m2756/2756\u001b[0m \u001b[32m━━━━━━━━━━━━━━━━━━━━\u001b[0m\u001b[37m\u001b[0m \u001b[1m5s\u001b[0m 2ms/step - accuracy: 0.9758 - loss: 0.1019 - val_accuracy: 0.9760 - val_loss: 0.1014\n",
            "Epoch 41/150\n",
            "\u001b[1m2756/2756\u001b[0m \u001b[32m━━━━━━━━━━━━━━━━━━━━\u001b[0m\u001b[37m\u001b[0m \u001b[1m4s\u001b[0m 2ms/step - accuracy: 0.9763 - loss: 0.1009 - val_accuracy: 0.9739 - val_loss: 0.1078\n",
            "Epoch 42/150\n",
            "\u001b[1m2756/2756\u001b[0m \u001b[32m━━━━━━━━━━━━━━━━━━━━\u001b[0m\u001b[37m\u001b[0m \u001b[1m4s\u001b[0m 1ms/step - accuracy: 0.9758 - loss: 0.1015 - val_accuracy: 0.9766 - val_loss: 0.1030\n",
            "Epoch 43/150\n",
            "\u001b[1m2756/2756\u001b[0m \u001b[32m━━━━━━━━━━━━━━━━━━━━\u001b[0m\u001b[37m\u001b[0m \u001b[1m4s\u001b[0m 2ms/step - accuracy: 0.9758 - loss: 0.1002 - val_accuracy: 0.9755 - val_loss: 0.1012\n",
            "Epoch 44/150\n",
            "\u001b[1m2756/2756\u001b[0m \u001b[32m━━━━━━━━━━━━━━━━━━━━\u001b[0m\u001b[37m\u001b[0m \u001b[1m5s\u001b[0m 2ms/step - accuracy: 0.9760 - loss: 0.1000 - val_accuracy: 0.9751 - val_loss: 0.1023\n",
            "Epoch 45/150\n",
            "\u001b[1m2756/2756\u001b[0m \u001b[32m━━━━━━━━━━━━━━━━━━━━\u001b[0m\u001b[37m\u001b[0m \u001b[1m5s\u001b[0m 2ms/step - accuracy: 0.9760 - loss: 0.1001 - val_accuracy: 0.9760 - val_loss: 0.1004\n",
            "Epoch 46/150\n",
            "\u001b[1m2756/2756\u001b[0m \u001b[32m━━━━━━━━━━━━━━━━━━━━\u001b[0m\u001b[37m\u001b[0m \u001b[1m5s\u001b[0m 2ms/step - accuracy: 0.9762 - loss: 0.0992 - val_accuracy: 0.9755 - val_loss: 0.1005\n",
            "Epoch 47/150\n",
            "\u001b[1m2756/2756\u001b[0m \u001b[32m━━━━━━━━━━━━━━━━━━━━\u001b[0m\u001b[37m\u001b[0m \u001b[1m5s\u001b[0m 2ms/step - accuracy: 0.9761 - loss: 0.0992 - val_accuracy: 0.9750 - val_loss: 0.1040\n",
            "Epoch 48/150\n",
            "\u001b[1m2756/2756\u001b[0m \u001b[32m━━━━━━━━━━━━━━━━━━━━\u001b[0m\u001b[37m\u001b[0m \u001b[1m6s\u001b[0m 2ms/step - accuracy: 0.9762 - loss: 0.0975 - val_accuracy: 0.9760 - val_loss: 0.1011\n",
            "Epoch 49/150\n",
            "\u001b[1m2756/2756\u001b[0m \u001b[32m━━━━━━━━━━━━━━━━━━━━\u001b[0m\u001b[37m\u001b[0m \u001b[1m6s\u001b[0m 2ms/step - accuracy: 0.9764 - loss: 0.0978 - val_accuracy: 0.9765 - val_loss: 0.0993\n",
            "Epoch 50/150\n",
            "\u001b[1m2756/2756\u001b[0m \u001b[32m━━━━━━━━━━━━━━━━━━━━\u001b[0m\u001b[37m\u001b[0m \u001b[1m4s\u001b[0m 2ms/step - accuracy: 0.9765 - loss: 0.0975 - val_accuracy: 0.9757 - val_loss: 0.1010\n",
            "Epoch 51/150\n",
            "\u001b[1m2756/2756\u001b[0m \u001b[32m━━━━━━━━━━━━━━━━━━━━\u001b[0m\u001b[37m\u001b[0m \u001b[1m4s\u001b[0m 2ms/step - accuracy: 0.9758 - loss: 0.0988 - val_accuracy: 0.9757 - val_loss: 0.0997\n",
            "Epoch 52/150\n",
            "\u001b[1m2756/2756\u001b[0m \u001b[32m━━━━━━━━━━━━━━━━━━━━\u001b[0m\u001b[37m\u001b[0m \u001b[1m5s\u001b[0m 2ms/step - accuracy: 0.9764 - loss: 0.0972 - val_accuracy: 0.9765 - val_loss: 0.0989\n",
            "Epoch 53/150\n",
            "\u001b[1m2756/2756\u001b[0m \u001b[32m━━━━━━━━━━━━━━━━━━━━\u001b[0m\u001b[37m\u001b[0m \u001b[1m5s\u001b[0m 2ms/step - accuracy: 0.9764 - loss: 0.0968 - val_accuracy: 0.9765 - val_loss: 0.1005\n",
            "Epoch 54/150\n",
            "\u001b[1m2756/2756\u001b[0m \u001b[32m━━━━━━━━━━━━━━━━━━━━\u001b[0m\u001b[37m\u001b[0m \u001b[1m5s\u001b[0m 2ms/step - accuracy: 0.9764 - loss: 0.0966 - val_accuracy: 0.9763 - val_loss: 0.0988\n",
            "Epoch 55/150\n",
            "\u001b[1m2756/2756\u001b[0m \u001b[32m━━━━━━━━━━━━━━━━━━━━\u001b[0m\u001b[37m\u001b[0m \u001b[1m6s\u001b[0m 2ms/step - accuracy: 0.9767 - loss: 0.0964 - val_accuracy: 0.9761 - val_loss: 0.1023\n",
            "Epoch 56/150\n",
            "\u001b[1m2756/2756\u001b[0m \u001b[32m━━━━━━━━━━━━━━━━━━━━\u001b[0m\u001b[37m\u001b[0m \u001b[1m7s\u001b[0m 2ms/step - accuracy: 0.9763 - loss: 0.0976 - val_accuracy: 0.9769 - val_loss: 0.0984\n",
            "Epoch 57/150\n",
            "\u001b[1m2756/2756\u001b[0m \u001b[32m━━━━━━━━━━━━━━━━━━━━\u001b[0m\u001b[37m\u001b[0m \u001b[1m6s\u001b[0m 2ms/step - accuracy: 0.9765 - loss: 0.0968 - val_accuracy: 0.9760 - val_loss: 0.0985\n",
            "Epoch 58/150\n",
            "\u001b[1m2756/2756\u001b[0m \u001b[32m━━━━━━━━━━━━━━━━━━━━\u001b[0m\u001b[37m\u001b[0m \u001b[1m6s\u001b[0m 2ms/step - accuracy: 0.9762 - loss: 0.0979 - val_accuracy: 0.9756 - val_loss: 0.0995\n",
            "Epoch 59/150\n",
            "\u001b[1m2756/2756\u001b[0m \u001b[32m━━━━━━━━━━━━━━━━━━━━\u001b[0m\u001b[37m\u001b[0m \u001b[1m7s\u001b[0m 2ms/step - accuracy: 0.9762 - loss: 0.0973 - val_accuracy: 0.9768 - val_loss: 0.0983\n",
            "Epoch 60/150\n",
            "\u001b[1m2756/2756\u001b[0m \u001b[32m━━━━━━━━━━━━━━━━━━━━\u001b[0m\u001b[37m\u001b[0m \u001b[1m7s\u001b[0m 2ms/step - accuracy: 0.9768 - loss: 0.0967 - val_accuracy: 0.9766 - val_loss: 0.0995\n",
            "Epoch 61/150\n",
            "\u001b[1m2756/2756\u001b[0m \u001b[32m━━━━━━━━━━━━━━━━━━━━\u001b[0m\u001b[37m\u001b[0m \u001b[1m6s\u001b[0m 2ms/step - accuracy: 0.9768 - loss: 0.0965 - val_accuracy: 0.9755 - val_loss: 0.1025\n",
            "Epoch 62/150\n",
            "\u001b[1m2756/2756\u001b[0m \u001b[32m━━━━━━━━━━━━━━━━━━━━\u001b[0m\u001b[37m\u001b[0m \u001b[1m6s\u001b[0m 2ms/step - accuracy: 0.9766 - loss: 0.0955 - val_accuracy: 0.9765 - val_loss: 0.1011\n",
            "Epoch 63/150\n",
            "\u001b[1m2756/2756\u001b[0m \u001b[32m━━━━━━━━━━━━━━━━━━━━\u001b[0m\u001b[37m\u001b[0m \u001b[1m6s\u001b[0m 2ms/step - accuracy: 0.9765 - loss: 0.0970 - val_accuracy: 0.9760 - val_loss: 0.0999\n",
            "Epoch 64/150\n",
            "\u001b[1m2756/2756\u001b[0m \u001b[32m━━━━━━━━━━━━━━━━━━━━\u001b[0m\u001b[37m\u001b[0m \u001b[1m5s\u001b[0m 2ms/step - accuracy: 0.9771 - loss: 0.0944 - val_accuracy: 0.9764 - val_loss: 0.0970\n",
            "Epoch 65/150\n",
            "\u001b[1m2756/2756\u001b[0m \u001b[32m━━━━━━━━━━━━━━━━━━━━\u001b[0m\u001b[37m\u001b[0m \u001b[1m6s\u001b[0m 2ms/step - accuracy: 0.9770 - loss: 0.0952 - val_accuracy: 0.9768 - val_loss: 0.0976\n",
            "Epoch 66/150\n",
            "\u001b[1m2756/2756\u001b[0m \u001b[32m━━━━━━━━━━━━━━━━━━━━\u001b[0m\u001b[37m\u001b[0m \u001b[1m6s\u001b[0m 2ms/step - accuracy: 0.9767 - loss: 0.0957 - val_accuracy: 0.9755 - val_loss: 0.0990\n",
            "Epoch 67/150\n",
            "\u001b[1m2756/2756\u001b[0m \u001b[32m━━━━━━━━━━━━━━━━━━━━\u001b[0m\u001b[37m\u001b[0m \u001b[1m5s\u001b[0m 2ms/step - accuracy: 0.9769 - loss: 0.0948 - val_accuracy: 0.9770 - val_loss: 0.0971\n",
            "Epoch 68/150\n",
            "\u001b[1m2756/2756\u001b[0m \u001b[32m━━━━━━━━━━━━━━━━━━━━\u001b[0m\u001b[37m\u001b[0m \u001b[1m5s\u001b[0m 2ms/step - accuracy: 0.9771 - loss: 0.0946 - val_accuracy: 0.9759 - val_loss: 0.0992\n",
            "Epoch 69/150\n",
            "\u001b[1m2756/2756\u001b[0m \u001b[32m━━━━━━━━━━━━━━━━━━━━\u001b[0m\u001b[37m\u001b[0m \u001b[1m5s\u001b[0m 2ms/step - accuracy: 0.9767 - loss: 0.0960 - val_accuracy: 0.9758 - val_loss: 0.0990\n",
            "Epoch 70/150\n",
            "\u001b[1m2756/2756\u001b[0m \u001b[32m━━━━━━━━━━━━━━━━━━━━\u001b[0m\u001b[37m\u001b[0m \u001b[1m5s\u001b[0m 2ms/step - accuracy: 0.9772 - loss: 0.0934 - val_accuracy: 0.9736 - val_loss: 0.1100\n",
            "Epoch 71/150\n",
            "\u001b[1m2756/2756\u001b[0m \u001b[32m━━━━━━━━━━━━━━━━━━━━\u001b[0m\u001b[37m\u001b[0m \u001b[1m6s\u001b[0m 2ms/step - accuracy: 0.9771 - loss: 0.0948 - val_accuracy: 0.9770 - val_loss: 0.0971\n",
            "Epoch 72/150\n",
            "\u001b[1m2756/2756\u001b[0m \u001b[32m━━━━━━━━━━━━━━━━━━━━\u001b[0m\u001b[37m\u001b[0m \u001b[1m6s\u001b[0m 2ms/step - accuracy: 0.9770 - loss: 0.0958 - val_accuracy: 0.9768 - val_loss: 0.0971\n",
            "Epoch 73/150\n",
            "\u001b[1m2756/2756\u001b[0m \u001b[32m━━━━━━━━━━━━━━━━━━━━\u001b[0m\u001b[37m\u001b[0m \u001b[1m5s\u001b[0m 2ms/step - accuracy: 0.9768 - loss: 0.0958 - val_accuracy: 0.9772 - val_loss: 0.0967\n",
            "Epoch 74/150\n",
            "\u001b[1m2756/2756\u001b[0m \u001b[32m━━━━━━━━━━━━━━━━━━━━\u001b[0m\u001b[37m\u001b[0m \u001b[1m5s\u001b[0m 2ms/step - accuracy: 0.9773 - loss: 0.0939 - val_accuracy: 0.9765 - val_loss: 0.0973\n",
            "Epoch 75/150\n",
            "\u001b[1m2756/2756\u001b[0m \u001b[32m━━━━━━━━━━━━━━━━━━━━\u001b[0m\u001b[37m\u001b[0m \u001b[1m5s\u001b[0m 2ms/step - accuracy: 0.9771 - loss: 0.0942 - val_accuracy: 0.9771 - val_loss: 0.0962\n",
            "Epoch 76/150\n",
            "\u001b[1m2756/2756\u001b[0m \u001b[32m━━━━━━━━━━━━━━━━━━━━\u001b[0m\u001b[37m\u001b[0m \u001b[1m5s\u001b[0m 2ms/step - accuracy: 0.9770 - loss: 0.0949 - val_accuracy: 0.9763 - val_loss: 0.0979\n",
            "Epoch 77/150\n",
            "\u001b[1m2756/2756\u001b[0m \u001b[32m━━━━━━━━━━━━━━━━━━━━\u001b[0m\u001b[37m\u001b[0m \u001b[1m5s\u001b[0m 2ms/step - accuracy: 0.9772 - loss: 0.0943 - val_accuracy: 0.9771 - val_loss: 0.0980\n",
            "Epoch 78/150\n",
            "\u001b[1m2756/2756\u001b[0m \u001b[32m━━━━━━━━━━━━━━━━━━━━\u001b[0m\u001b[37m\u001b[0m \u001b[1m6s\u001b[0m 2ms/step - accuracy: 0.9775 - loss: 0.0940 - val_accuracy: 0.9762 - val_loss: 0.0982\n",
            "Epoch 79/150\n",
            "\u001b[1m2756/2756\u001b[0m \u001b[32m━━━━━━━━━━━━━━━━━━━━\u001b[0m\u001b[37m\u001b[0m \u001b[1m6s\u001b[0m 2ms/step - accuracy: 0.9770 - loss: 0.0942 - val_accuracy: 0.9768 - val_loss: 0.0976\n",
            "Epoch 80/150\n",
            "\u001b[1m2756/2756\u001b[0m \u001b[32m━━━━━━━━━━━━━━━━━━━━\u001b[0m\u001b[37m\u001b[0m \u001b[1m5s\u001b[0m 2ms/step - accuracy: 0.9774 - loss: 0.0938 - val_accuracy: 0.9766 - val_loss: 0.0966\n",
            "Epoch 81/150\n",
            "\u001b[1m2756/2756\u001b[0m \u001b[32m━━━━━━━━━━━━━━━━━━━━\u001b[0m\u001b[37m\u001b[0m \u001b[1m5s\u001b[0m 2ms/step - accuracy: 0.9771 - loss: 0.0949 - val_accuracy: 0.9763 - val_loss: 0.0987\n",
            "Epoch 82/150\n",
            "\u001b[1m2756/2756\u001b[0m \u001b[32m━━━━━━━━━━━━━━━━━━━━\u001b[0m\u001b[37m\u001b[0m \u001b[1m6s\u001b[0m 2ms/step - accuracy: 0.9771 - loss: 0.0940 - val_accuracy: 0.9760 - val_loss: 0.0983\n",
            "Epoch 83/150\n",
            "\u001b[1m2756/2756\u001b[0m \u001b[32m━━━━━━━━━━━━━━━━━━━━\u001b[0m\u001b[37m\u001b[0m \u001b[1m9s\u001b[0m 3ms/step - accuracy: 0.9777 - loss: 0.0927 - val_accuracy: 0.9760 - val_loss: 0.1041\n",
            "Epoch 84/150\n",
            "\u001b[1m2756/2756\u001b[0m \u001b[32m━━━━━━━━━━━━━━━━━━━━\u001b[0m\u001b[37m\u001b[0m \u001b[1m14s\u001b[0m 5ms/step - accuracy: 0.9773 - loss: 0.0941 - val_accuracy: 0.9768 - val_loss: 0.0975\n",
            "Epoch 85/150\n",
            "\u001b[1m2756/2756\u001b[0m \u001b[32m━━━━━━━━━━━━━━━━━━━━\u001b[0m\u001b[37m\u001b[0m \u001b[1m16s\u001b[0m 6ms/step - accuracy: 0.9773 - loss: 0.0942 - val_accuracy: 0.9759 - val_loss: 0.0995\n"
          ]
        },
        {
          "name": "stderr",
          "output_type": "stream",
          "text": [
            "WARNING:absl:You are saving your model as an HDF5 file via `model.save()` or `keras.saving.save_model(model)`. This file format is considered legacy. We recommend using instead the native Keras format, e.g. `model.save('my_model.keras')` or `keras.saving.save_model(model, 'my_model.keras')`. \n"
          ]
        }
      ],
      "source": [
        "model_4 = build_model(\n",
        "    input_dim=X_train_processed.shape[1],\n",
        "    optimizer=SGD(learning_rate=0.01),\n",
        "    regularizer=l2(0.001),\n",
        "    dropout_rates=None,\n",
        "    use_batch_norm=False\n",
        ")\n",
        "\n",
        "# Define early stopping\n",
        "early_stopping = EarlyStopping(monitor='val_loss', patience=10, restore_best_weights=True)\n",
        "\n",
        "# Train the model\n",
        "history_4 = model_4.fit(\n",
        "    X_train_processed, y_train,\n",
        "    epochs=150,\n",
        "    batch_size=150,\n",
        "    validation_data=(X_val_processed, y_val),\n",
        "    callbacks=[early_stopping],\n",
        "    verbose=1\n",
        ")\n",
        "\n",
        "# Save the trained model\n",
        "save_model(model_4, 'saved_models/nn_instance_4.keras')"
      ]
    },
    {
      "cell_type": "markdown",
      "metadata": {},
      "source": [
        "#### Neural Network Model Instance 4 Error Analysis:"
      ]
    },
    {
      "cell_type": "code",
      "execution_count": 87,
      "metadata": {},
      "outputs": [
        {
          "name": "stdout",
          "output_type": "stream",
          "text": [
            "\u001b[1m2769/2769\u001b[0m \u001b[32m━━━━━━━━━━━━━━━━━━━━\u001b[0m\u001b[37m\u001b[0m \u001b[1m4s\u001b[0m 1ms/step\n"
          ]
        },
        {
          "data": {
            "image/png": "[encoded data removed]",
            "text/plain": [
              "<Figure size 640x480 with 2 Axes>"
            ]
          },
          "metadata": {},
          "output_type": "display_data"
        },
        {
          "name": "stdout",
          "output_type": "stream",
          "text": [
            "=== Classification Report ===\n",
            "              precision    recall  f1-score   support\n",
            "\n",
            "   Not Fraud       0.98      1.00      0.99     85482\n",
            "       Fraud       0.81      0.42      0.55      3099\n",
            "\n",
            "    accuracy                           0.98     88581\n",
            "   macro avg       0.89      0.71      0.77     88581\n",
            "weighted avg       0.97      0.98      0.97     88581\n",
            "\n",
            "True Negatives (TN): 85165\n",
            "False Positives (FP): 317\n",
            "False Negatives (FN): 1787\n",
            "True Positives (TP): 1312\n"
          ]
        }
      ],
      "source": [
        "# Predict probabilities and convert to binary labels\n",
        "y_test_pred_prob = model_4.predict(X_test_processed)\n",
        "y_test_pred = (y_test_pred_prob > 0.5).astype(int).reshape(-1)\n",
        "y_test_true = y_test.values.reshape(-1)\n",
        "\n",
        "# Confusion matrix\n",
        "cm = confusion_matrix(y_test_true, y_test_pred)\n",
        "\n",
        "# Display with labels\n",
        "disp = ConfusionMatrixDisplay(confusion_matrix=cm, display_labels=[\"Not Fraud\", \"Fraud\"])\n",
        "disp.plot(cmap=\"Blues\")\n",
        "plt.title(\"Confusion Matrix - Test Set\")\n",
        "plt.show()\n",
        "\n",
        "# Detailed classification report\n",
        "report = classification_report(y_test_true, y_test_pred, target_names=[\"Not Fraud\", \"Fraud\"])\n",
        "print(\"=== Classification Report ===\")\n",
        "print(report)\n",
        "tn, fp, fn, tp = cm.ravel()\n",
        "print(f\"True Negatives (TN): {tn}\")\n",
        "print(f\"False Positives (FP): {fp}\")\n",
        "print(f\"False Negatives (FN): {fn}\")\n",
        "print(f\"True Positives (TP): {tp}\")\n"
      ]
    },
    {
      "cell_type": "markdown",
      "metadata": {},
      "source": [
        "### Neural Network Model Instance 5:\n",
        "A deep neural network Experimenting using Nadam optimization with a 0.001 learning rate used batchnormalization bewtween  each layer to normalize activation inputs and also no dropout applied and l2 regularization was used to prevent overfitting and finally early stopping was also applied same as in the previous models."
      ]
    },
    {
      "cell_type": "code",
      "execution_count": 98,
      "metadata": {},
      "outputs": [
        {
          "name": "stderr",
          "output_type": "stream",
          "text": [
            "/Users/irakizagaius/Downloads/FraudDetection/.venv/lib/python3.10/site-packages/keras/src/layers/core/dense.py:93: UserWarning: Do not pass an `input_shape`/`input_dim` argument to a layer. When using Sequential models, prefer using an `Input(shape)` object as the first layer in the model instead.\n",
            "  super().__init__(activity_regularizer=activity_regularizer, **kwargs)\n"
          ]
        },
        {
          "name": "stdout",
          "output_type": "stream",
          "text": [
            "Epoch 1/300\n",
            "\u001b[1m4134/4134\u001b[0m \u001b[32m━━━━━━━━━━━━━━━━━━━━\u001b[0m\u001b[37m\u001b[0m \u001b[1m16s\u001b[0m 3ms/step - accuracy: 0.7857 - loss: 0.5566 - val_accuracy: 0.9734 - val_loss: 0.1714\n",
            "Epoch 2/300\n",
            "\u001b[1m4134/4134\u001b[0m \u001b[32m━━━━━━━━━━━━━━━━━━━━\u001b[0m\u001b[37m\u001b[0m \u001b[1m11s\u001b[0m 3ms/step - accuracy: 0.9728 - loss: 0.1497 - val_accuracy: 0.9741 - val_loss: 0.1179\n",
            "Epoch 3/300\n",
            "\u001b[1m4134/4134\u001b[0m \u001b[32m━━━━━━━━━━━━━━━━━━━━\u001b[0m\u001b[37m\u001b[0m \u001b[1m11s\u001b[0m 3ms/step - accuracy: 0.9734 - loss: 0.1187 - val_accuracy: 0.9750 - val_loss: 0.1122\n",
            "Epoch 4/300\n",
            "\u001b[1m4134/4134\u001b[0m \u001b[32m━━━━━━━━━━━━━━━━━━━━\u001b[0m\u001b[37m\u001b[0m \u001b[1m12s\u001b[0m 3ms/step - accuracy: 0.9742 - loss: 0.1126 - val_accuracy: 0.9756 - val_loss: 0.1091\n",
            "Epoch 5/300\n",
            "\u001b[1m4134/4134\u001b[0m \u001b[32m━━━━━━━━━━━━━━━━━━━━\u001b[0m\u001b[37m\u001b[0m \u001b[1m12s\u001b[0m 3ms/step - accuracy: 0.9752 - loss: 0.1087 - val_accuracy: 0.9759 - val_loss: 0.1065\n",
            "Epoch 6/300\n",
            "\u001b[1m4134/4134\u001b[0m \u001b[32m━━━━━━━━━━━━━━━━━━━━\u001b[0m\u001b[37m\u001b[0m \u001b[1m13s\u001b[0m 3ms/step - accuracy: 0.9759 - loss: 0.1058 - val_accuracy: 0.9762 - val_loss: 0.1050\n",
            "Epoch 7/300\n",
            "\u001b[1m4134/4134\u001b[0m \u001b[32m━━━━━━━━━━━━━━━━━━━━\u001b[0m\u001b[37m\u001b[0m \u001b[1m13s\u001b[0m 3ms/step - accuracy: 0.9762 - loss: 0.1031 - val_accuracy: 0.9767 - val_loss: 0.1030\n",
            "Epoch 8/300\n",
            "\u001b[1m4134/4134\u001b[0m \u001b[32m━━━━━━━━━━━━━━━━━━━━\u001b[0m\u001b[37m\u001b[0m \u001b[1m13s\u001b[0m 3ms/step - accuracy: 0.9769 - loss: 0.1005 - val_accuracy: 0.9765 - val_loss: 0.1022\n",
            "Epoch 9/300\n",
            "\u001b[1m4134/4134\u001b[0m \u001b[32m━━━━━━━━━━━━━━━━━━━━\u001b[0m\u001b[37m\u001b[0m \u001b[1m13s\u001b[0m 3ms/step - accuracy: 0.9769 - loss: 0.0990 - val_accuracy: 0.9766 - val_loss: 0.1008\n",
            "Epoch 10/300\n",
            "\u001b[1m4134/4134\u001b[0m \u001b[32m━━━━━━━━━━━━━━━━━━━━\u001b[0m\u001b[37m\u001b[0m \u001b[1m13s\u001b[0m 3ms/step - accuracy: 0.9769 - loss: 0.0981 - val_accuracy: 0.9767 - val_loss: 0.1004\n",
            "Epoch 11/300\n",
            "\u001b[1m4134/4134\u001b[0m \u001b[32m━━━━━━━━━━━━━━━━━━━━\u001b[0m\u001b[37m\u001b[0m \u001b[1m14s\u001b[0m 3ms/step - accuracy: 0.9771 - loss: 0.0960 - val_accuracy: 0.9773 - val_loss: 0.0982\n",
            "Epoch 12/300\n",
            "\u001b[1m4134/4134\u001b[0m \u001b[32m━━━━━━━━━━━━━━━━━━━━\u001b[0m\u001b[37m\u001b[0m \u001b[1m13s\u001b[0m 3ms/step - accuracy: 0.9775 - loss: 0.0938 - val_accuracy: 0.9774 - val_loss: 0.0974\n",
            "Epoch 13/300\n",
            "\u001b[1m4134/4134\u001b[0m \u001b[32m━━━━━━━━━━━━━━━━━━━━\u001b[0m\u001b[37m\u001b[0m \u001b[1m13s\u001b[0m 3ms/step - accuracy: 0.9782 - loss: 0.0924 - val_accuracy: 0.9773 - val_loss: 0.0967\n",
            "Epoch 14/300\n",
            "\u001b[1m4134/4134\u001b[0m \u001b[32m━━━━━━━━━━━━━━━━━━━━\u001b[0m\u001b[37m\u001b[0m \u001b[1m13s\u001b[0m 3ms/step - accuracy: 0.9779 - loss: 0.0917 - val_accuracy: 0.9773 - val_loss: 0.0961\n",
            "Epoch 15/300\n",
            "\u001b[1m4134/4134\u001b[0m \u001b[32m━━━━━━━━━━━━━━━━━━━━\u001b[0m\u001b[37m\u001b[0m \u001b[1m13s\u001b[0m 3ms/step - accuracy: 0.9786 - loss: 0.0905 - val_accuracy: 0.9778 - val_loss: 0.0956\n",
            "Epoch 16/300\n",
            "\u001b[1m4134/4134\u001b[0m \u001b[32m━━━━━━━━━━━━━━━━━━━━\u001b[0m\u001b[37m\u001b[0m \u001b[1m14s\u001b[0m 3ms/step - accuracy: 0.9787 - loss: 0.0883 - val_accuracy: 0.9776 - val_loss: 0.0954\n",
            "Epoch 17/300\n",
            "\u001b[1m4134/4134\u001b[0m \u001b[32m━━━━━━━━━━━━━━━━━━━━\u001b[0m\u001b[37m\u001b[0m \u001b[1m13s\u001b[0m 3ms/step - accuracy: 0.9786 - loss: 0.0879 - val_accuracy: 0.9780 - val_loss: 0.0945\n",
            "Epoch 18/300\n",
            "\u001b[1m4134/4134\u001b[0m \u001b[32m━━━━━━━━━━━━━━━━━━━━\u001b[0m\u001b[37m\u001b[0m \u001b[1m13s\u001b[0m 3ms/step - accuracy: 0.9788 - loss: 0.0873 - val_accuracy: 0.9780 - val_loss: 0.0945\n",
            "Epoch 19/300\n",
            "\u001b[1m4134/4134\u001b[0m \u001b[32m━━━━━━━━━━━━━━━━━━━━\u001b[0m\u001b[37m\u001b[0m \u001b[1m13s\u001b[0m 3ms/step - accuracy: 0.9794 - loss: 0.0851 - val_accuracy: 0.9782 - val_loss: 0.0929\n",
            "Epoch 20/300\n",
            "\u001b[1m4134/4134\u001b[0m \u001b[32m━━━━━━━━━━━━━━━━━━━━\u001b[0m\u001b[37m\u001b[0m \u001b[1m13s\u001b[0m 3ms/step - accuracy: 0.9797 - loss: 0.0840 - val_accuracy: 0.9780 - val_loss: 0.0929\n",
            "Epoch 21/300\n",
            "\u001b[1m4134/4134\u001b[0m \u001b[32m━━━━━━━━━━━━━━━━━━━━\u001b[0m\u001b[37m\u001b[0m \u001b[1m13s\u001b[0m 3ms/step - accuracy: 0.9796 - loss: 0.0836 - val_accuracy: 0.9781 - val_loss: 0.0931\n",
            "Epoch 22/300\n",
            "\u001b[1m4134/4134\u001b[0m \u001b[32m━━━━━━━━━━━━━━━━━━━━\u001b[0m\u001b[37m\u001b[0m \u001b[1m13s\u001b[0m 3ms/step - accuracy: 0.9800 - loss: 0.0818 - val_accuracy: 0.9781 - val_loss: 0.0924\n",
            "Epoch 23/300\n",
            "\u001b[1m4134/4134\u001b[0m \u001b[32m━━━━━━━━━━━━━━━━━━━━\u001b[0m\u001b[37m\u001b[0m \u001b[1m14s\u001b[0m 3ms/step - accuracy: 0.9801 - loss: 0.0819 - val_accuracy: 0.9780 - val_loss: 0.0926\n",
            "Epoch 24/300\n",
            "\u001b[1m4134/4134\u001b[0m \u001b[32m━━━━━━━━━━━━━━━━━━━━\u001b[0m\u001b[37m\u001b[0m \u001b[1m13s\u001b[0m 3ms/step - accuracy: 0.9799 - loss: 0.0814 - val_accuracy: 0.9781 - val_loss: 0.0920\n",
            "Epoch 25/300\n",
            "\u001b[1m4134/4134\u001b[0m \u001b[32m━━━━━━━━━━━━━━━━━━━━\u001b[0m\u001b[37m\u001b[0m \u001b[1m13s\u001b[0m 3ms/step - accuracy: 0.9797 - loss: 0.0814 - val_accuracy: 0.9784 - val_loss: 0.0913\n",
            "Epoch 26/300\n",
            "\u001b[1m4134/4134\u001b[0m \u001b[32m━━━━━━━━━━━━━━━━━━━━\u001b[0m\u001b[37m\u001b[0m \u001b[1m14s\u001b[0m 3ms/step - accuracy: 0.9808 - loss: 0.0785 - val_accuracy: 0.9786 - val_loss: 0.0913\n",
            "Epoch 27/300\n",
            "\u001b[1m4134/4134\u001b[0m \u001b[32m━━━━━━━━━━━━━━━━━━━━\u001b[0m\u001b[37m\u001b[0m \u001b[1m14s\u001b[0m 3ms/step - accuracy: 0.9806 - loss: 0.0795 - val_accuracy: 0.9782 - val_loss: 0.0916\n",
            "Epoch 28/300\n",
            "\u001b[1m4134/4134\u001b[0m \u001b[32m━━━━━━━━━━━━━━━━━━━━\u001b[0m\u001b[37m\u001b[0m \u001b[1m13s\u001b[0m 3ms/step - accuracy: 0.9805 - loss: 0.0790 - val_accuracy: 0.9777 - val_loss: 0.0913\n",
            "Epoch 29/300\n",
            "\u001b[1m4134/4134\u001b[0m \u001b[32m━━━━━━━━━━━━━━━━━━━━\u001b[0m\u001b[37m\u001b[0m \u001b[1m13s\u001b[0m 3ms/step - accuracy: 0.9808 - loss: 0.0781 - val_accuracy: 0.9785 - val_loss: 0.0905\n",
            "Epoch 30/300\n",
            "\u001b[1m4134/4134\u001b[0m \u001b[32m━━━━━━━━━━━━━━━━━━━━\u001b[0m\u001b[37m\u001b[0m \u001b[1m13s\u001b[0m 3ms/step - accuracy: 0.9810 - loss: 0.0767 - val_accuracy: 0.9785 - val_loss: 0.0909\n",
            "Epoch 31/300\n",
            "\u001b[1m4134/4134\u001b[0m \u001b[32m━━━━━━━━━━━━━━━━━━━━\u001b[0m\u001b[37m\u001b[0m \u001b[1m13s\u001b[0m 3ms/step - accuracy: 0.9810 - loss: 0.0765 - val_accuracy: 0.9783 - val_loss: 0.0903\n",
            "Epoch 32/300\n",
            "\u001b[1m4134/4134\u001b[0m \u001b[32m━━━━━━━━━━━━━━━━━━━━\u001b[0m\u001b[37m\u001b[0m \u001b[1m13s\u001b[0m 3ms/step - accuracy: 0.9809 - loss: 0.0775 - val_accuracy: 0.9786 - val_loss: 0.0895\n",
            "Epoch 33/300\n",
            "\u001b[1m4134/4134\u001b[0m \u001b[32m━━━━━━━━━━━━━━━━━━━━\u001b[0m\u001b[37m\u001b[0m \u001b[1m14s\u001b[0m 3ms/step - accuracy: 0.9809 - loss: 0.0766 - val_accuracy: 0.9780 - val_loss: 0.0907\n",
            "Epoch 34/300\n",
            "\u001b[1m4134/4134\u001b[0m \u001b[32m━━━━━━━━━━━━━━━━━━━━\u001b[0m\u001b[37m\u001b[0m \u001b[1m13s\u001b[0m 3ms/step - accuracy: 0.9813 - loss: 0.0761 - val_accuracy: 0.9786 - val_loss: 0.0900\n",
            "Epoch 35/300\n",
            "\u001b[1m4134/4134\u001b[0m \u001b[32m━━━━━━━━━━━━━━━━━━━━\u001b[0m\u001b[37m\u001b[0m \u001b[1m13s\u001b[0m 3ms/step - accuracy: 0.9811 - loss: 0.0755 - val_accuracy: 0.9786 - val_loss: 0.0902\n",
            "Epoch 36/300\n",
            "\u001b[1m4134/4134\u001b[0m \u001b[32m━━━━━━━━━━━━━━━━━━━━\u001b[0m\u001b[37m\u001b[0m \u001b[1m13s\u001b[0m 3ms/step - accuracy: 0.9815 - loss: 0.0739 - val_accuracy: 0.9781 - val_loss: 0.0900\n",
            "Epoch 37/300\n",
            "\u001b[1m4134/4134\u001b[0m \u001b[32m━━━━━━━━━━━━━━━━━━━━\u001b[0m\u001b[37m\u001b[0m \u001b[1m13s\u001b[0m 3ms/step - accuracy: 0.9815 - loss: 0.0739 - val_accuracy: 0.9782 - val_loss: 0.0895\n",
            "Epoch 38/300\n",
            "\u001b[1m4134/4134\u001b[0m \u001b[32m━━━━━━━━━━━━━━━━━━━━\u001b[0m\u001b[37m\u001b[0m \u001b[1m13s\u001b[0m 3ms/step - accuracy: 0.9816 - loss: 0.0733 - val_accuracy: 0.9791 - val_loss: 0.0880\n",
            "Epoch 39/300\n",
            "\u001b[1m4134/4134\u001b[0m \u001b[32m━━━━━━━━━━━━━━━━━━━━\u001b[0m\u001b[37m\u001b[0m \u001b[1m13s\u001b[0m 3ms/step - accuracy: 0.9815 - loss: 0.0743 - val_accuracy: 0.9787 - val_loss: 0.0883\n",
            "Epoch 40/300\n",
            "\u001b[1m4134/4134\u001b[0m \u001b[32m━━━━━━━━━━━━━━━━━━━━\u001b[0m\u001b[37m\u001b[0m \u001b[1m13s\u001b[0m 3ms/step - accuracy: 0.9819 - loss: 0.0726 - val_accuracy: 0.9790 - val_loss: 0.0887\n",
            "Epoch 41/300\n",
            "\u001b[1m4134/4134\u001b[0m \u001b[32m━━━━━━━━━━━━━━━━━━━━\u001b[0m\u001b[37m\u001b[0m \u001b[1m13s\u001b[0m 3ms/step - accuracy: 0.9821 - loss: 0.0718 - val_accuracy: 0.9788 - val_loss: 0.0895\n",
            "Epoch 42/300\n",
            "\u001b[1m4134/4134\u001b[0m \u001b[32m━━━━━━━━━━━━━━━━━━━━\u001b[0m\u001b[37m\u001b[0m \u001b[1m13s\u001b[0m 3ms/step - accuracy: 0.9820 - loss: 0.0719 - val_accuracy: 0.9787 - val_loss: 0.0884\n",
            "Epoch 43/300\n",
            "\u001b[1m4134/4134\u001b[0m \u001b[32m━━━━━━━━━━━━━━━━━━━━\u001b[0m\u001b[37m\u001b[0m \u001b[1m13s\u001b[0m 3ms/step - accuracy: 0.9818 - loss: 0.0716 - val_accuracy: 0.9784 - val_loss: 0.0888\n",
            "Epoch 44/300\n",
            "\u001b[1m4134/4134\u001b[0m \u001b[32m━━━━━━━━━━━━━━━━━━━━\u001b[0m\u001b[37m\u001b[0m \u001b[1m13s\u001b[0m 3ms/step - accuracy: 0.9822 - loss: 0.0702 - val_accuracy: 0.9788 - val_loss: 0.0888\n",
            "Epoch 45/300\n",
            "\u001b[1m4134/4134\u001b[0m \u001b[32m━━━━━━━━━━━━━━━━━━━━\u001b[0m\u001b[37m\u001b[0m \u001b[1m13s\u001b[0m 3ms/step - accuracy: 0.9819 - loss: 0.0711 - val_accuracy: 0.9793 - val_loss: 0.0873\n",
            "Epoch 46/300\n",
            "\u001b[1m4134/4134\u001b[0m \u001b[32m━━━━━━━━━━━━━━━━━━━━\u001b[0m\u001b[37m\u001b[0m \u001b[1m13s\u001b[0m 3ms/step - accuracy: 0.9822 - loss: 0.0705 - val_accuracy: 0.9790 - val_loss: 0.0874\n",
            "Epoch 47/300\n",
            "\u001b[1m4134/4134\u001b[0m \u001b[32m━━━━━━━━━━━━━━━━━━━━\u001b[0m\u001b[37m\u001b[0m \u001b[1m13s\u001b[0m 3ms/step - accuracy: 0.9820 - loss: 0.0704 - val_accuracy: 0.9788 - val_loss: 0.0879\n",
            "Epoch 48/300\n",
            "\u001b[1m4134/4134\u001b[0m \u001b[32m━━━━━━━━━━━━━━━━━━━━\u001b[0m\u001b[37m\u001b[0m \u001b[1m13s\u001b[0m 3ms/step - accuracy: 0.9826 - loss: 0.0685 - val_accuracy: 0.9792 - val_loss: 0.0877\n",
            "Epoch 49/300\n",
            "\u001b[1m4134/4134\u001b[0m \u001b[32m━━━━━━━━━━━━━━━━━━━━\u001b[0m\u001b[37m\u001b[0m \u001b[1m12s\u001b[0m 3ms/step - accuracy: 0.9823 - loss: 0.0693 - val_accuracy: 0.9788 - val_loss: 0.0879\n",
            "Epoch 50/300\n",
            "\u001b[1m4134/4134\u001b[0m \u001b[32m━━━━━━━━━━━━━━━━━━━━\u001b[0m\u001b[37m\u001b[0m \u001b[1m13s\u001b[0m 3ms/step - accuracy: 0.9828 - loss: 0.0685 - val_accuracy: 0.9786 - val_loss: 0.0887\n",
            "Epoch 51/300\n",
            "\u001b[1m4134/4134\u001b[0m \u001b[32m━━━━━━━━━━━━━━━━━━━━\u001b[0m\u001b[37m\u001b[0m \u001b[1m13s\u001b[0m 3ms/step - accuracy: 0.9820 - loss: 0.0696 - val_accuracy: 0.9788 - val_loss: 0.0874\n",
            "Epoch 52/300\n",
            "\u001b[1m4134/4134\u001b[0m \u001b[32m━━━━━━━━━━━━━━━━━━━━\u001b[0m\u001b[37m\u001b[0m \u001b[1m13s\u001b[0m 3ms/step - accuracy: 0.9825 - loss: 0.0681 - val_accuracy: 0.9790 - val_loss: 0.0873\n",
            "Epoch 53/300\n",
            "\u001b[1m4134/4134\u001b[0m \u001b[32m━━━━━━━━━━━━━━━━━━━━\u001b[0m\u001b[37m\u001b[0m \u001b[1m12s\u001b[0m 3ms/step - accuracy: 0.9827 - loss: 0.0686 - val_accuracy: 0.9786 - val_loss: 0.0866\n",
            "Epoch 54/300\n",
            "\u001b[1m4134/4134\u001b[0m \u001b[32m━━━━━━━━━━━━━━━━━━━━\u001b[0m\u001b[37m\u001b[0m \u001b[1m12s\u001b[0m 3ms/step - accuracy: 0.9828 - loss: 0.0671 - val_accuracy: 0.9792 - val_loss: 0.0866\n",
            "Epoch 55/300\n",
            "\u001b[1m4134/4134\u001b[0m \u001b[32m━━━━━━━━━━━━━━━━━━━━\u001b[0m\u001b[37m\u001b[0m \u001b[1m12s\u001b[0m 3ms/step - accuracy: 0.9827 - loss: 0.0675 - val_accuracy: 0.9790 - val_loss: 0.0875\n",
            "Epoch 56/300\n",
            "\u001b[1m4134/4134\u001b[0m \u001b[32m━━━━━━━━━━━━━━━━━━━━\u001b[0m\u001b[37m\u001b[0m \u001b[1m15s\u001b[0m 4ms/step - accuracy: 0.9827 - loss: 0.0681 - val_accuracy: 0.9794 - val_loss: 0.0863\n",
            "Epoch 57/300\n",
            "\u001b[1m4134/4134\u001b[0m \u001b[32m━━━━━━━━━━━━━━━━━━━━\u001b[0m\u001b[37m\u001b[0m \u001b[1m13s\u001b[0m 3ms/step - accuracy: 0.9826 - loss: 0.0675 - val_accuracy: 0.9786 - val_loss: 0.0882\n",
            "Epoch 58/300\n",
            "\u001b[1m4134/4134\u001b[0m \u001b[32m━━━━━━━━━━━━━━━━━━━━\u001b[0m\u001b[37m\u001b[0m \u001b[1m14s\u001b[0m 3ms/step - accuracy: 0.9827 - loss: 0.0679 - val_accuracy: 0.9790 - val_loss: 0.0866\n",
            "Epoch 59/300\n",
            "\u001b[1m4134/4134\u001b[0m \u001b[32m━━━━━━━━━━━━━━━━━━━━\u001b[0m\u001b[37m\u001b[0m \u001b[1m13s\u001b[0m 3ms/step - accuracy: 0.9830 - loss: 0.0668 - val_accuracy: 0.9789 - val_loss: 0.0877\n",
            "Epoch 60/300\n",
            "\u001b[1m4134/4134\u001b[0m \u001b[32m━━━━━━━━━━━━━━━━━━━━\u001b[0m\u001b[37m\u001b[0m \u001b[1m13s\u001b[0m 3ms/step - accuracy: 0.9832 - loss: 0.0657 - val_accuracy: 0.9795 - val_loss: 0.0860\n",
            "Epoch 61/300\n",
            "\u001b[1m4134/4134\u001b[0m \u001b[32m━━━━━━━━━━━━━━━━━━━━\u001b[0m\u001b[37m\u001b[0m \u001b[1m13s\u001b[0m 3ms/step - accuracy: 0.9828 - loss: 0.0675 - val_accuracy: 0.9792 - val_loss: 0.0858\n",
            "Epoch 62/300\n",
            "\u001b[1m4134/4134\u001b[0m \u001b[32m━━━━━━━━━━━━━━━━━━━━\u001b[0m\u001b[37m\u001b[0m \u001b[1m12s\u001b[0m 3ms/step - accuracy: 0.9832 - loss: 0.0658 - val_accuracy: 0.9781 - val_loss: 0.0880\n",
            "Epoch 63/300\n",
            "\u001b[1m4134/4134\u001b[0m \u001b[32m━━━━━━━━━━━━━━━━━━━━\u001b[0m\u001b[37m\u001b[0m \u001b[1m12s\u001b[0m 3ms/step - accuracy: 0.9833 - loss: 0.0656 - val_accuracy: 0.9792 - val_loss: 0.0865\n",
            "Epoch 64/300\n",
            "\u001b[1m4134/4134\u001b[0m \u001b[32m━━━━━━━━━━━━━━━━━━━━\u001b[0m\u001b[37m\u001b[0m \u001b[1m12s\u001b[0m 3ms/step - accuracy: 0.9837 - loss: 0.0644 - val_accuracy: 0.9790 - val_loss: 0.0861\n",
            "Epoch 65/300\n",
            "\u001b[1m4134/4134\u001b[0m \u001b[32m━━━━━━━━━━━━━━━━━━━━\u001b[0m\u001b[37m\u001b[0m \u001b[1m13s\u001b[0m 3ms/step - accuracy: 0.9833 - loss: 0.0657 - val_accuracy: 0.9789 - val_loss: 0.0863\n",
            "Epoch 66/300\n",
            "\u001b[1m4134/4134\u001b[0m \u001b[32m━━━━━━━━━━━━━━━━━━━━\u001b[0m\u001b[37m\u001b[0m \u001b[1m12s\u001b[0m 3ms/step - accuracy: 0.9837 - loss: 0.0648 - val_accuracy: 0.9788 - val_loss: 0.0869\n",
            "Epoch 67/300\n",
            "\u001b[1m4134/4134\u001b[0m \u001b[32m━━━━━━━━━━━━━━━━━━━━\u001b[0m\u001b[37m\u001b[0m \u001b[1m12s\u001b[0m 3ms/step - accuracy: 0.9830 - loss: 0.0657 - val_accuracy: 0.9792 - val_loss: 0.0868\n",
            "Epoch 68/300\n",
            "\u001b[1m4134/4134\u001b[0m \u001b[32m━━━━━━━━━━━━━━━━━━━━\u001b[0m\u001b[37m\u001b[0m \u001b[1m12s\u001b[0m 3ms/step - accuracy: 0.9836 - loss: 0.0650 - val_accuracy: 0.9779 - val_loss: 0.0881\n",
            "Epoch 69/300\n",
            "\u001b[1m4134/4134\u001b[0m \u001b[32m━━━━━━━━━━━━━━━━━━━━\u001b[0m\u001b[37m\u001b[0m \u001b[1m12s\u001b[0m 3ms/step - accuracy: 0.9836 - loss: 0.0639 - val_accuracy: 0.9790 - val_loss: 0.0874\n",
            "Epoch 70/300\n",
            "\u001b[1m4134/4134\u001b[0m \u001b[32m━━━━━━━━━━━━━━━━━━━━\u001b[0m\u001b[37m\u001b[0m \u001b[1m13s\u001b[0m 3ms/step - accuracy: 0.9837 - loss: 0.0634 - val_accuracy: 0.9787 - val_loss: 0.0874\n",
            "Epoch 71/300\n",
            "\u001b[1m4134/4134\u001b[0m \u001b[32m━━━━━━━━━━━━━━━━━━━━\u001b[0m\u001b[37m\u001b[0m \u001b[1m13s\u001b[0m 3ms/step - accuracy: 0.9835 - loss: 0.0639 - val_accuracy: 0.9792 - val_loss: 0.0863\n"
          ]
        }
      ],
      "source": [
        "model_5 = build_model(\n",
        "    input_dim=X_train_processed.shape[1],\n",
        "    optimizer=Nadam(learning_rate=0.0001),\n",
        "    regularizer=l2(0.0001),\n",
        "    use_batch_norm=True\n",
        ")\n",
        "\n",
        "# Early stopping callback\n",
        "early_stopping = EarlyStopping(monitor='val_loss', patience=10, restore_best_weights=True)\n",
        "\n",
        "# Train the model\n",
        "history_5 = model_5.fit(\n",
        "    X_train_processed, y_train,\n",
        "    epochs=300,\n",
        "    batch_size=100,\n",
        "    validation_data=(X_val_processed, y_val),\n",
        "    callbacks=[early_stopping],\n",
        "    verbose=1\n",
        ")\n",
        "\n",
        "# Save the model\n",
        "save_model(model_5, 'saved_models/nn_instance_5.keras')"
      ]
    },
    {
      "cell_type": "markdown",
      "metadata": {},
      "source": [
        "#### Neural Network Model Instance 5 Error Analysis:"
      ]
    },
    {
      "cell_type": "code",
      "execution_count": 101,
      "metadata": {},
      "outputs": [
        {
          "name": "stdout",
          "output_type": "stream",
          "text": [
            "\u001b[1m2769/2769\u001b[0m \u001b[32m━━━━━━━━━━━━━━━━━━━━\u001b[0m\u001b[37m\u001b[0m \u001b[1m2s\u001b[0m 859us/step\n"
          ]
        },
        {
          "data": {
            "image/png": "[encoded data removed]",
            "text/plain": [
              "<Figure size 640x480 with 2 Axes>"
            ]
          },
          "metadata": {},
          "output_type": "display_data"
        },
        {
          "name": "stdout",
          "output_type": "stream",
          "text": [
            "=== Classification Report ===\n",
            "              precision    recall  f1-score   support\n",
            "\n",
            "   Not Fraud       0.98      1.00      0.99     85482\n",
            "       Fraud       0.80      0.53      0.64      3099\n",
            "\n",
            "    accuracy                           0.98     88581\n",
            "   macro avg       0.89      0.76      0.81     88581\n",
            "weighted avg       0.98      0.98      0.98     88581\n",
            "\n",
            "True Negatives (TN): 85077\n",
            "False Positives (FP): 405\n",
            "False Negatives (FN): 1466\n",
            "True Positives (TP): 1633\n"
          ]
        }
      ],
      "source": [
        "# Predict probabilities and convert to binary labels\n",
        "y_test_pred_prob = model_5.predict(X_test_processed)\n",
        "y_test_pred = (y_test_pred_prob > 0.5).astype(int).reshape(-1)\n",
        "y_test_true = y_test.values.reshape(-1)\n",
        "\n",
        "# Confusion matrix\n",
        "cm = confusion_matrix(y_test_true, y_test_pred)\n",
        "\n",
        "# Display with labels\n",
        "disp = ConfusionMatrixDisplay(confusion_matrix=cm, display_labels=[\"Not Fraud\", \"Fraud\"])\n",
        "disp.plot(cmap=\"Blues\")\n",
        "plt.title(\"Confusion Matrix - Test Set\")\n",
        "plt.show()\n",
        "\n",
        "# Detailed classification report\n",
        "report = classification_report(y_test_true, y_test_pred, target_names=[\"Not Fraud\", \"Fraud\"])\n",
        "print(\"=== Classification Report ===\")\n",
        "print(report)\n",
        "tn, fp, fn, tp = cm.ravel()\n",
        "print(f\"True Negatives (TN): {tn}\")\n",
        "print(f\"False Positives (FP): {fp}\")\n",
        "print(f\"False Negatives (FN): {fn}\")\n",
        "print(f\"True Positives (TP): {tp}\")\n"
      ]
    },
    {
      "cell_type": "markdown",
      "metadata": {
        "id": "KJ9OXp1TSaXn"
      },
      "source": [
        "# Task: Print out the Final Model Accuracy and plot the Loss curve"
      ]
    },
    {
      "cell_type": "code",
      "execution_count": 100,
      "metadata": {
        "id": "fkihQBsaUxGh"
      },
      "outputs": [
        {
          "name": "stdout",
          "output_type": "stream",
          "text": [
            "\u001b[1m2769/2769\u001b[0m \u001b[32m━━━━━━━━━━━━━━━━━━━━\u001b[0m\u001b[37m\u001b[0m \u001b[1m2s\u001b[0m 761us/step\n",
            "\u001b[1m2769/2769\u001b[0m \u001b[32m━━━━━━━━━━━━━━━━━━━━\u001b[0m\u001b[37m\u001b[0m \u001b[1m2s\u001b[0m 790us/step\n",
            "\u001b[1m2769/2769\u001b[0m \u001b[32m━━━━━━━━━━━━━━━━━━━━\u001b[0m\u001b[37m\u001b[0m \u001b[1m2s\u001b[0m 626us/step\n",
            "\u001b[1m2769/2769\u001b[0m \u001b[32m━━━━━━━━━━━━━━━━━━━━\u001b[0m\u001b[37m\u001b[0m \u001b[1m2s\u001b[0m 691us/step\n",
            "\u001b[1m2769/2769\u001b[0m \u001b[32m━━━━━━━━━━━━━━━━━━━━\u001b[0m\u001b[37m\u001b[0m \u001b[1m3s\u001b[0m 960us/step\n"
          ]
        },
        {
          "name": "stderr",
          "output_type": "stream",
          "text": [
            "/Users/irakizagaius/Downloads/FraudDetection/.venv/lib/python3.10/site-packages/sklearn/utils/validation.py:2749: UserWarning: X does not have valid feature names, but LGBMClassifier was fitted with feature names\n",
            "  warnings.warn(\n"
          ]
        },
        {
          "name": "stdout",
          "output_type": "stream",
          "text": [
            "\u001b[1m2769/2769\u001b[0m \u001b[32m━━━━━━━━━━━━━━━━━━━━\u001b[0m\u001b[37m\u001b[0m \u001b[1m2s\u001b[0m 642us/step\n",
            "\u001b[1m2769/2769\u001b[0m \u001b[32m━━━━━━━━━━━━━━━━━━━━\u001b[0m\u001b[37m\u001b[0m \u001b[1m2s\u001b[0m 656us/step\n",
            "\u001b[1m2769/2769\u001b[0m \u001b[32m━━━━━━━━━━━━━━━━━━━━\u001b[0m\u001b[37m\u001b[0m \u001b[1m2s\u001b[0m 685us/step\n",
            "\u001b[1m2769/2769\u001b[0m \u001b[32m━━━━━━━━━━━━━━━━━━━━\u001b[0m\u001b[37m\u001b[0m \u001b[1m2s\u001b[0m 744us/step\n",
            "\u001b[1m2769/2769\u001b[0m \u001b[32m━━━━━━━━━━━━━━━━━━━━\u001b[0m\u001b[37m\u001b[0m \u001b[1m2s\u001b[0m 673us/step\n"
          ]
        },
        {
          "name": "stderr",
          "output_type": "stream",
          "text": [
            "/Users/irakizagaius/Downloads/FraudDetection/.venv/lib/python3.10/site-packages/sklearn/utils/validation.py:2749: UserWarning: X does not have valid feature names, but LGBMClassifier was fitted with feature names\n",
            "  warnings.warn(\n"
          ]
        },
        {
          "name": "stdout",
          "output_type": "stream",
          "text": [
            "\n",
            "=== Validation Set Evaluation ===\n",
            "Instance     Accuracy   F1 Score   Precision  Recall    \n",
            "============================================================\n",
            "Instance 1   0.9728     0.4755     0.7288     0.3529    \n",
            "Instance 2   0.9789     0.6423     0.7903     0.5410    \n",
            "Instance 3   0.9742     0.4724     0.8310     0.3300    \n",
            "Instance 4   0.9771     0.5683     0.8354     0.4306    \n",
            "Instance 5   0.9792     0.6405     0.8108     0.5294    \n",
            "Instance 6   0.9878     0.8188     0.8516     0.7884    \n",
            "\n",
            "=== Test Set Evaluation ===\n",
            "Instance     Accuracy   F1 Score   Precision  Recall    \n",
            "============================================================\n",
            "Instance 1   0.9723     0.4723     0.7079     0.3543    \n",
            "Instance 2   0.9782     0.6329     0.7713     0.5366    \n",
            "Instance 3   0.9737     0.4691     0.8006     0.3317    \n",
            "Instance 4   0.9762     0.5550     0.8054     0.4234    \n",
            "Instance 5   0.9789     0.6358     0.8013     0.5269    \n",
            "Instance 6   0.9873     0.8120     0.8445     0.7819    \n"
          ]
        }
      ],
      "source": [
        "# Evaluation function\n",
        "def evaluate_model(y_true, y_pred_prob):\n",
        "    y_pred = (y_pred_prob > 0.5).astype(int)\n",
        "    return {\n",
        "        'accuracy': accuracy_score(y_true, y_pred),\n",
        "        'f1': f1_score(y_true, y_pred),\n",
        "        'precision': precision_score(y_true, y_pred),\n",
        "        'recall': recall_score(y_true, y_pred)\n",
        "    }\n",
        "\n",
        "# Get validation predictions\n",
        "val_preds = {\n",
        "    'Instance 1': model_1.predict(X_val_processed),\n",
        "    'Instance 2': model_2.predict(X_val_processed),\n",
        "    'Instance 3': model_3.predict(X_val_processed),\n",
        "    'Instance 4': model_4.predict(X_val_processed),\n",
        "    'Instance 5': model_5.predict(X_val_processed),\n",
        "    'Instance 6': lgb_model.predict_proba(X_val_processed)[:, 1],\n",
        "}\n",
        "\n",
        "# Get test predictions (FIX: Instance 5 was using validation data)\n",
        "test_preds = {\n",
        "    'Instance 1': model_1.predict(X_test_processed),\n",
        "    'Instance 2': model_2.predict(X_test_processed),\n",
        "    'Instance 3': model_3.predict(X_test_processed),\n",
        "    'Instance 4': model_4.predict(X_test_processed),\n",
        "    'Instance 5': model_5.predict(X_test_processed),\n",
        "    'Instance 6': lgb_model.predict_proba(X_test_processed)[:, 1],\n",
        "}\n",
        "\n",
        "# Evaluate\n",
        "val_results = {k: evaluate_model(y_val, np.ravel(v)) for k, v in val_preds.items()}\n",
        "test_results = {k: evaluate_model(y_test, np.ravel(v)) for k, v in test_preds.items()}\n",
        "\n",
        "# Results printing function\n",
        "def print_results(title, results):\n",
        "    print(f\"\\n=== {title} ===\")\n",
        "    print(f\"{'Instance':<12} {'Accuracy':<10} {'F1 Score':<10} {'Precision':<10} {'Recall':<10}\")\n",
        "    print(\"=\" * 60)\n",
        "    for instance, metrics in results.items():\n",
        "        print(f\"{instance:<12} \"\n",
        "              f\"{metrics['accuracy']:<10.4f} \"\n",
        "              f\"{metrics['f1']:<10.4f} \"\n",
        "              f\"{metrics['precision']:<10.4f} \"\n",
        "              f\"{metrics['recall']:<10.4f}\")\n",
        "\n",
        "# Print evaluation results\n",
        "print_results(\"Validation Set Evaluation\", val_results)\n",
        "print_results(\"Test Set Evaluation\", test_results)\n"
      ]
    },
    {
      "cell_type": "markdown",
      "metadata": {},
      "source": [
        "# SECTION 3: Predictions on The Best Model\n",
        "At this point you should now create models that combine various optimization techniques\n",
        "As done before make sure to plot out the loss curve and the accuracy and loss in verbose"
      ]
    },
    {
      "cell_type": "markdown",
      "metadata": {
        "id": "bO79SOsZYG-M"
      },
      "source": [
        "Finally, Make predictions using the best model. By the time you get to this cell you may realise at some point you needed to save the model so that you cal load it later"
      ]
    },
    {
      "cell_type": "code",
      "execution_count": 95,
      "metadata": {
        "id": "Nqqe2PasUIAG"
      },
      "outputs": [],
      "source": [
        "def make_predictions(model_path, X):\n",
        "    \"\"\"\n",
        "    Loads a model from the given path and makes binary predictions on X.\n",
        "\n",
        "    Parameters:\n",
        "    - model_path: str, path to the saved Keras model (e.g., .h5 or .keras)\n",
        "    - X: np.array or DataFrame, preprocessed input features\n",
        "\n",
        "    Returns:\n",
        "    - predictions: np.array of binary class labels (0 or 1)\n",
        "    \"\"\"\n",
        "\n",
        "    # Load the model\n",
        "    model = load_model(model_path)\n",
        "\n",
        "    # Make probability predictions\n",
        "    probas = model.predict(X)\n",
        "\n",
        "    # Convert probabilities to binary labels (threshold 0.5)\n",
        "    predictions = (probas > 0.5).astype(int).ravel()\n",
        "\n",
        "    return predictions"
      ]
    },
    {
      "cell_type": "code",
      "execution_count": 97,
      "metadata": {
        "id": "O_jwbvaAUMj4"
      },
      "outputs": [
        {
          "name": "stdout",
          "output_type": "stream",
          "text": [
            "\u001b[1m2769/2769\u001b[0m \u001b[32m━━━━━━━━━━━━━━━━━━━━\u001b[0m\u001b[37m\u001b[0m \u001b[1m2s\u001b[0m 717us/step\n",
            "              precision    recall  f1-score   support\n",
            "\n",
            "           0       0.98      0.99      0.99     85482\n",
            "           1       0.77      0.54      0.63      3099\n",
            "\n",
            "    accuracy                           0.98     88581\n",
            "   macro avg       0.88      0.77      0.81     88581\n",
            "weighted avg       0.98      0.98      0.98     88581\n",
            "\n"
          ]
        }
      ],
      "source": [
        "best_model_path = 'saved_models/nn_instance_2.keras'\n",
        "y_pred_test = make_predictions(best_model_path, X_test_processed)\n",
        "\n",
        "print(classification_report(y_test, y_pred_test))"
      ]
    }
  ],
  "metadata": {
    "colab": {
      "provenance": []
    },
    "kernelspec": {
      "display_name": ".venv",
      "language": "python",
      "name": "python3"
    },
    "language_info": {
      "codemirror_mode": {
        "name": "ipython",
        "version": 3
      },
      "file_extension": ".py",
      "mimetype": "text/x-python",
      "name": "python",
      "nbconvert_exporter": "python",
      "pygments_lexer": "ipython3",
      "version": "3.10.17"
    }
  },
  "nbformat": 4,
  "nbformat_minor": 0
}
