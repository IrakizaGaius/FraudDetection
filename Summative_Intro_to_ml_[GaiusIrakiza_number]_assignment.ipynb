{
  "cells": [
    {
      "cell_type": "markdown",
      "metadata": {
        "id": "ujuLMxSvoXbg"
      },
      "source": [
        "# Optimization Techniques in Machine Learning\n",
        "\n",
        "Objective: This assignment aims to explore implementation or Machine Learning Models with regularization, optimization and Error analysis  techniques used in machine learning to improve models' performance, convergence speed, and efficiency..\n",
        "\n",
        "A Notebook detailing the following\n",
        "\n",
        "* Project name\n",
        "* Clear out puts from cells\n",
        "\n",
        "\n",
        "\n",
        "\n",
        "\n",
        "\n",
        "**Instructions**\n",
        "\n",
        "1. Acquire a dataset suitable for ML tasks as per your proposal.\n",
        "2. Implement a simple machine learning model based on neural networks on the chosen dataset without any defined optimization techniques. (Check instructions)\n",
        "3. Implement and compare the model's performance after applying 3 to 4 disntict combinations regularization and optimization techniques.\n",
        "4. Discuss the results on the README file.\n",
        "5. Make predictions using test data\n",
        "7. Implement error analysis techniques and ensure there is: F1-Score, Recall, Precision, RUC a confusion matrix using plotting libraries (not verbose)\n",
        "\n",
        "Submit notebook to github repo\n",
        "\n"
      ]
    },
    {
      "cell_type": "markdown",
      "metadata": {
        "id": "keZmePwAWYgQ"
      },
      "source": [
        "# 1. Dataset Overview and PreProcessing\n"
      ]
    },
    {
      "cell_type": "code",
      "execution_count": null,
      "metadata": {},
      "outputs": [],
      "source": []
    },
    {
      "cell_type": "markdown",
      "metadata": {},
      "source": [
        "\n",
        "### Problem Statement:\n",
        "The task is to predict the probability that an online transaction is fraudulent using identity and transaction data.\n",
        "\n",
        "### Dataset Description:\n",
        "- **Target variable:** `isFraud` (1 = fraud, 0 = not fraud)\n",
        "- **Files:** `train_transaction.csv`, `train_identity.csv` (joined on `TransactionID`)\n",
        "- **Features:**  \n",
        "  - *Transaction Data:* ProductCD, card1–card6, addr1, addr2, M1–M9  \n",
        "  - *Identity Data:* DeviceType, DeviceInfo, id_12–id_38  \n",
        "- The feature `TransactionDT` is a relative timestamp.\n"
      ]
    },
    {
      "cell_type": "markdown",
      "metadata": {
        "id": "jKBHmqb87lNw"
      },
      "source": [
        "## 2. Defining all the Imports and necessary dependencies"
      ]
    },
    {
      "cell_type": "code",
      "execution_count": 1,
      "metadata": {
        "id": "oUtYNDjW7ugT"
      },
      "outputs": [
        {
          "name": "stderr",
          "output_type": "stream",
          "text": [
            "2025-06-16 15:42:25.637845: I tensorflow/core/platform/cpu_feature_guard.cc:210] This TensorFlow binary is optimized to use available CPU instructions in performance-critical operations.\n",
            "To enable the following instructions: AVX2 FMA, in other operations, rebuild TensorFlow with the appropriate compiler flags.\n"
          ]
        }
      ],
      "source": [
        "import pandas as pd\n",
        "import numpy as np\n",
        "import os\n",
        "import matplotlib.pyplot as plt\n",
        "import lightgbm as lgb\n",
        "\n",
        "from sklearn.model_selection import train_test_split\n",
        "from sklearn.preprocessing import OneHotEncoder, StandardScaler\n",
        "from category_encoders.target_encoder import TargetEncoder\n",
        "from sklearn.impute import SimpleImputer\n",
        "\n",
        "from sklearn.compose import ColumnTransformer\n",
        "from sklearn.pipeline import Pipeline\n",
        "from sklearn.base import BaseEstimator, TransformerMixin\n",
        "from sklearn.feature_selection import VarianceThreshold\n",
        "from sklearn.linear_model import LogisticRegression\n",
        "from joblib import dump\n",
        "from sklearn.metrics import accuracy_score, f1_score, recall_score, precision_score\n",
        "from sklearn.metrics import confusion_matrix, ConfusionMatrixDisplay, classification_report\n",
        "\n",
        "from tensorflow.keras.models import Sequential, save_model\n",
        "from tensorflow.keras.layers import Dense, Dropout\n",
        "from tensorflow.keras.regularizers import l1, l2\n",
        "from tensorflow.keras.optimizers import Adam, RMSprop, SGD\n",
        "from tensorflow.keras.callbacks import EarlyStopping"
      ]
    },
    {
      "cell_type": "markdown",
      "metadata": {},
      "source": [
        "## Data PreProcessing"
      ]
    },
    {
      "cell_type": "markdown",
      "metadata": {
        "id": "clpMDEUs7MtB"
      },
      "source": [
        "### 1. Loading and Merge Data"
      ]
    },
    {
      "cell_type": "code",
      "execution_count": 2,
      "metadata": {
        "id": "8W5PSuVN7Kkn"
      },
      "outputs": [],
      "source": [
        "# Load datasets\n",
        "train_transaction = pd.read_csv('data/train_transaction.csv')\n",
        "train_identity = pd.read_csv('data/train_identity.csv')\n",
        "test_transaction = pd.read_csv('data/test_transaction.csv')\n",
        "test_identity = pd.read_csv('data/test_identity.csv')"
      ]
    },
    {
      "cell_type": "code",
      "execution_count": 3,
      "metadata": {},
      "outputs": [],
      "source": [
        "# Merge on TransactionID\n",
        "train_df = pd.merge(train_transaction, train_identity, on='TransactionID', how='left')\n",
        "test_df = pd.merge(test_transaction, test_identity, on='TransactionID', how='left')\n",
        "\n",
        "# Separate target\n",
        "y = train_df['isFraud']\n",
        "X = train_df.drop(columns=['isFraud', 'TransactionID'])"
      ]
    },
    {
      "cell_type": "markdown",
      "metadata": {},
      "source": [
        "### 2. Outlier Clipping"
      ]
    },
    {
      "cell_type": "code",
      "execution_count": null,
      "metadata": {},
      "outputs": [],
      "source": [
        "class OutlierClipper(BaseEstimator, TransformerMixin):\n",
        "    def __init__(self, factor=1.5):\n",
        "        self.factor = factor\n",
        "\n",
        "    def fit(self, X, y=None):\n",
        "        if not isinstance(X, pd.DataFrame):\n",
        "            X = pd.DataFrame(X)\n",
        "        Q1 = X.quantile(0.25)\n",
        "        Q3 = X.quantile(0.75)\n",
        "        self.lower = Q1 - self.factor * (Q3 - Q1)\n",
        "        self.upper = Q3 + self.factor * (Q3 - Q1)\n",
        "        return self\n",
        "\n",
        "    def transform(self, X):\n",
        "        if not isinstance(X, pd.DataFrame):\n",
        "            X = pd.DataFrame(X)\n",
        "        # Clip values\n",
        "        X_clipped = X.clip(lower=self.lower, upper=self.upper, axis=1)\n",
        "        return X_clipped.values"
      ]
    },
    {
      "cell_type": "markdown",
      "metadata": {},
      "source": [
        "### 3. Feature Grouping"
      ]
    },
    {
      "cell_type": "code",
      "execution_count": null,
      "metadata": {},
      "outputs": [],
      "source": [
        "# Identifying features by type\n",
        "categorical = X.select_dtypes(include='object').columns.tolist()\n",
        "numerical = X.select_dtypes(include=[np.number]).columns.tolist()\n",
        "\n",
        "low_card = [col for col in categorical if X[col].nunique() < 10]\n",
        "high_card = list(set(categorical) - set(low_card))"
      ]
    },
    {
      "cell_type": "markdown",
      "metadata": {},
      "source": [
        "### 4. PreProcessing Pipeline"
      ]
    },
    {
      "cell_type": "code",
      "execution_count": null,
      "metadata": {},
      "outputs": [],
      "source": [
        "# Pipelines\n",
        "num_pipeline = Pipeline([\n",
        "    ('imputer', SimpleImputer(strategy='median')),\n",
        "    ('clipper', OutlierClipper()),\n",
        "    ('scaler', StandardScaler())\n",
        "])\n",
        "\n",
        "low_cat_pipeline = Pipeline([\n",
        "    ('imputer', SimpleImputer(strategy='most_frequent')),\n",
        "    ('encoder', OneHotEncoder(handle_unknown='ignore', sparse_output=False))\n",
        "])\n",
        "\n",
        "high_cat_pipeline = Pipeline([\n",
        "    ('imputer', SimpleImputer(strategy='most_frequent')),\n",
        "    ('encoder', TargetEncoder())\n",
        "])\n",
        "\n",
        "# Full transformer\n",
        "preprocessor = ColumnTransformer([\n",
        "    ('num', num_pipeline, numerical),\n",
        "    ('low_cat', low_cat_pipeline, low_card),\n",
        "    ('high_cat', high_cat_pipeline, high_card)\n",
        "])"
      ]
    },
    {
      "cell_type": "markdown",
      "metadata": {},
      "source": [
        "### 5. Data Splitting"
      ]
    },
    {
      "cell_type": "code",
      "execution_count": 7,
      "metadata": {},
      "outputs": [],
      "source": [
        "X_temp, X_test, y_temp, y_test = train_test_split(X, y, test_size=0.15, stratify=y, random_state=42)\n",
        "\n",
        "X_train, X_val, y_train, y_val = train_test_split(X_temp, y_temp, test_size=0.1765, stratify=y_temp, random_state=42)\n",
        "\n",
        "X_train_processed = preprocessor.fit_transform(X_train, y_train)\n",
        "X_val_processed = preprocessor.transform(X_val)\n",
        "X_test_processed = preprocessor.transform(X_test)\n",
        "\n",
        "# variance thresholding\n",
        "selector = VarianceThreshold(threshold=0.0001)\n",
        "X_train_processed = selector.fit_transform(X_train_processed)\n",
        "X_val_processed = selector.transform(X_val_processed)\n",
        "X_test_processed = selector.transform(X_test_processed)"
      ]
    },
    {
      "cell_type": "markdown",
      "metadata": {
        "id": "ve4AiQmGMzIN"
      },
      "source": [
        "# SECTION 1: Model Architecture\n",
        "\n",
        "\n",
        "\n",
        "```\n",
        "TODO: Insert an image with the Model architecture here.Replace the image Below\n",
        "```\n",
        "> <img src=\"https://miro.medium.com/v2/resize:fit:640/format:webp/1*v1ohAG82xmU6WGsG2hoE8g.png\" alt=\"?\" style=\"width:25px\"/>\n",
        "\n",
        "\n"
      ]
    },
    {
      "cell_type": "markdown",
      "metadata": {
        "id": "QR4BNYoUMzMP"
      },
      "source": [
        "## Task: Define a function that creates models without specified Optimization techniques\n"
      ]
    },
    {
      "cell_type": "markdown",
      "metadata": {},
      "source": [
        "### Model 1:\n",
        "A Logistic Regression model for classification, setting a regularization parameter (C=0.5) and increasing maximum iterations. It then fits the model to the training data and makes predictions on the validation set."
      ]
    },
    {
      "cell_type": "code",
      "execution_count": 41,
      "metadata": {},
      "outputs": [
        {
          "name": "stdout",
          "output_type": "stream",
          "text": [
            "[LightGBM] [Info] Number of positive: 14464, number of negative: 398899\n",
            "[LightGBM] [Info] Auto-choosing row-wise multi-threading, the overhead of testing was 0.060406 seconds.\n",
            "You can set `force_row_wise=true` to remove the overhead.\n",
            "And if memory is not enough, you can set `force_col_wise=true`.\n",
            "[LightGBM] [Info] Total Bins 4539\n",
            "[LightGBM] [Info] Number of data points in the train set: 413363, number of used features: 109\n",
            "[LightGBM] [Info] [binary:BoostFromScore]: pavg=0.500000 -> initscore=0.000000\n",
            "[LightGBM] [Info] Start training from score 0.000000\n",
            "[LightGBM] [Warning] No further splits with positive gain, best gain: -inf\n",
            "[LightGBM] [Warning] No further splits with positive gain, best gain: -inf\n",
            "[LightGBM] [Warning] No further splits with positive gain, best gain: -inf\n",
            "[LightGBM] [Warning] No further splits with positive gain, best gain: -inf\n",
            "[LightGBM] [Warning] No further splits with positive gain, best gain: -inf\n",
            "[LightGBM] [Warning] No further splits with positive gain, best gain: -inf\n",
            "[LightGBM] [Warning] No further splits with positive gain, best gain: -inf\n",
            "[LightGBM] [Warning] No further splits with positive gain, best gain: -inf\n",
            "[LightGBM] [Warning] No further splits with positive gain, best gain: -inf\n",
            "[LightGBM] [Warning] No further splits with positive gain, best gain: -inf\n",
            "[LightGBM] [Warning] No further splits with positive gain, best gain: -inf\n",
            "[LightGBM] [Warning] No further splits with positive gain, best gain: -inf\n",
            "[LightGBM] [Warning] No further splits with positive gain, best gain: -inf\n",
            "[LightGBM] [Warning] No further splits with positive gain, best gain: -inf\n",
            "[LightGBM] [Warning] No further splits with positive gain, best gain: -inf\n",
            "[LightGBM] [Warning] No further splits with positive gain, best gain: -inf\n",
            "[LightGBM] [Warning] No further splits with positive gain, best gain: -inf\n",
            "[LightGBM] [Warning] No further splits with positive gain, best gain: -inf\n",
            "[LightGBM] [Warning] No further splits with positive gain, best gain: -inf\n",
            "[LightGBM] [Warning] No further splits with positive gain, best gain: -inf\n",
            "[LightGBM] [Warning] No further splits with positive gain, best gain: -inf\n",
            "[LightGBM] [Warning] No further splits with positive gain, best gain: -inf\n",
            "[LightGBM] [Warning] No further splits with positive gain, best gain: -inf\n",
            "[LightGBM] [Warning] No further splits with positive gain, best gain: -inf\n",
            "[LightGBM] [Warning] No further splits with positive gain, best gain: -inf\n",
            "[LightGBM] [Warning] No further splits with positive gain, best gain: -inf\n",
            "[LightGBM] [Warning] No further splits with positive gain, best gain: -inf\n",
            "[LightGBM] [Warning] No further splits with positive gain, best gain: -inf\n",
            "[LightGBM] [Warning] No further splits with positive gain, best gain: -inf\n",
            "[LightGBM] [Warning] No further splits with positive gain, best gain: -inf\n",
            "[LightGBM] [Warning] No further splits with positive gain, best gain: -inf\n",
            "[LightGBM] [Warning] No further splits with positive gain, best gain: -inf\n",
            "[LightGBM] [Warning] No further splits with positive gain, best gain: -inf\n",
            "[LightGBM] [Warning] No further splits with positive gain, best gain: -inf\n",
            "[LightGBM] [Warning] No further splits with positive gain, best gain: -inf\n",
            "[LightGBM] [Warning] No further splits with positive gain, best gain: -inf\n",
            "[LightGBM] [Warning] No further splits with positive gain, best gain: -inf\n",
            "[LightGBM] [Warning] No further splits with positive gain, best gain: -inf\n",
            "[LightGBM] [Warning] No further splits with positive gain, best gain: -inf\n",
            "[LightGBM] [Warning] No further splits with positive gain, best gain: -inf\n",
            "[LightGBM] [Warning] No further splits with positive gain, best gain: -inf\n",
            "[LightGBM] [Warning] No further splits with positive gain, best gain: -inf\n",
            "[LightGBM] [Warning] No further splits with positive gain, best gain: -inf\n",
            "[LightGBM] [Warning] No further splits with positive gain, best gain: -inf\n",
            "[LightGBM] [Warning] No further splits with positive gain, best gain: -inf\n",
            "[LightGBM] [Warning] No further splits with positive gain, best gain: -inf\n",
            "[LightGBM] [Warning] No further splits with positive gain, best gain: -inf\n",
            "[LightGBM] [Warning] No further splits with positive gain, best gain: -inf\n",
            "[LightGBM] [Warning] No further splits with positive gain, best gain: -inf\n",
            "[LightGBM] [Warning] No further splits with positive gain, best gain: -inf\n",
            "[LightGBM] [Warning] No further splits with positive gain, best gain: -inf\n",
            "[LightGBM] [Warning] No further splits with positive gain, best gain: -inf\n",
            "[LightGBM] [Warning] No further splits with positive gain, best gain: -inf\n"
          ]
        },
        {
          "data": {
            "text/plain": [
              "['saved_models/lightgbm_model.joblib']"
            ]
          },
          "execution_count": 41,
          "metadata": {},
          "output_type": "execute_result"
        }
      ],
      "source": [
        "# A LightGBM model with tuned hyperparameters\n",
        "lgb_model = lgb.LGBMClassifier(\n",
        "    n_estimators=5500,# Number of boosting rounds (trees).\n",
        "    learning_rate=0.05,# Step size shrinkage used to prevent overfitting.\n",
        "    max_depth=8,# Maximum depth of each tree. Controls model complexity;\n",
        "    num_leaves=64, # Maximum number of leaves per tree.\n",
        "    class_weight='balanced',# Automatically adjusts weights inversely proportional to class frequencies, helping with class imbalance.\n",
        "    random_state=42,# Sets seed for reproducibility so results are consistent across runs.\n",
        "    n_jobs=-1 # Uses all available CPU cores for training (parallel processing).\n",
        ")\n",
        "\n",
        "lgb_model.fit(X_train_processed, y_train)\n",
        "\n",
        "# Saving the trained model\n",
        "dump(lgb_model, 'saved_models/lightgbm_model.joblib')"
      ]
    },
    {
      "cell_type": "markdown",
      "metadata": {},
      "source": [
        "### Model 1 Error analysis:"
      ]
    },
    {
      "cell_type": "code",
      "execution_count": 42,
      "metadata": {},
      "outputs": [
        {
          "name": "stderr",
          "output_type": "stream",
          "text": [
            "/Users/irakizagaius/Downloads/FraudDetection/.venv/lib/python3.10/site-packages/sklearn/utils/validation.py:2749: UserWarning: X does not have valid feature names, but LGBMClassifier was fitted with feature names\n",
            "  warnings.warn(\n"
          ]
        },
        {
          "data": {
            "image/png": "[encoded data removed]",
            "text/plain": [
              "<Figure size 640x480 with 2 Axes>"
            ]
          },
          "metadata": {},
          "output_type": "display_data"
        },
        {
          "name": "stdout",
          "output_type": "stream",
          "text": [
            "=== Classification Report (LightGBM - Test Set) ===\n",
            "              precision    recall  f1-score   support\n",
            "\n",
            "   Not Fraud       0.99      0.99      0.99     85482\n",
            "       Fraud       0.84      0.78      0.81      3099\n",
            "\n",
            "    accuracy                           0.99     88581\n",
            "   macro avg       0.92      0.89      0.90     88581\n",
            "weighted avg       0.99      0.99      0.99     88581\n",
            "\n",
            "True Negatives (TN): 85036\n",
            "False Positives (FP): 446\n",
            "False Negatives (FN): 676\n",
            "True Positives (TP): 2423\n"
          ]
        }
      ],
      "source": [
        "# Predict probabilities and convert to binary labels (Test Set)\n",
        "y_test_pred_prob = lgb_model.predict_proba(X_test_processed)[:, 1]\n",
        "y_test_pred = (y_test_pred_prob > 0.5).astype(int).reshape(-1)\n",
        "y_test_true = y_test.values.reshape(-1)\n",
        "\n",
        "# Confusion matrix\n",
        "cm = confusion_matrix(y_test_true, y_test_pred)\n",
        "\n",
        "# Display with labels\n",
        "disp = ConfusionMatrixDisplay(confusion_matrix=cm, display_labels=[\"Not Fraud\", \"Fraud\"])\n",
        "disp.plot(cmap=\"Blues\")\n",
        "plt.title(\"Confusion Matrix - LightGBM (Test Set)\")\n",
        "plt.show()\n",
        "\n",
        "# Detailed classification report\n",
        "report = classification_report(y_test_true, y_test_pred, target_names=[\"Not Fraud\", \"Fraud\"])\n",
        "print(\"=== Classification Report (LightGBM - Test Set) ===\")\n",
        "print(report)\n",
        "\n",
        "tn, fp, fn, tp = cm.ravel()\n",
        "print(f\"True Negatives (TN): {tn}\")\n",
        "print(f\"False Positives (FP): {fp}\")\n",
        "print(f\"False Negatives (FN): {fn}\")\n",
        "print(f\"True Positives (TP): {tp}\")\n"
      ]
    },
    {
      "cell_type": "markdown",
      "metadata": {
        "id": "9hc6k2taT0_n"
      },
      "source": [
        "# SECTION 2: Optimization and Regularization Combinations\n",
        "At this point you should now create models that combine various optimization techniques\n",
        "As done before make sure to plot out the loss curve and the accuracy and loss in verbose"
      ]
    },
    {
      "cell_type": "markdown",
      "metadata": {},
      "source": [
        "### Model 2:\n",
        "A simple neural network with two hidden layers (64 and 32 neurons) for binary classification. It's then compiled using the Adam"
      ]
    },
    {
      "cell_type": "code",
      "execution_count": 9,
      "metadata": {
        "id": "gGtPmYb_SDHy"
      },
      "outputs": [
        {
          "name": "stderr",
          "output_type": "stream",
          "text": [
            "/Users/irakizagaius/Downloads/FraudDetection/.venv/lib/python3.10/site-packages/keras/src/layers/core/dense.py:93: UserWarning: Do not pass an `input_shape`/`input_dim` argument to a layer. When using Sequential models, prefer using an `Input(shape)` object as the first layer in the model instead.\n",
            "  super().__init__(activity_regularizer=activity_regularizer, **kwargs)\n"
          ]
        },
        {
          "name": "stdout",
          "output_type": "stream",
          "text": [
            "Epoch 1/100\n",
            "\u001b[1m12918/12918\u001b[0m \u001b[32m━━━━━━━━━━━━━━━━━━━━\u001b[0m\u001b[37m\u001b[0m \u001b[1m39s\u001b[0m 3ms/step - accuracy: 0.9708 - loss: 0.1075 - val_accuracy: 0.9743 - val_loss: 0.0932\n",
            "Epoch 2/100\n",
            "\u001b[1m12918/12918\u001b[0m \u001b[32m━━━━━━━━━━━━━━━━━━━━\u001b[0m\u001b[37m\u001b[0m \u001b[1m39s\u001b[0m 3ms/step - accuracy: 0.9743 - loss: 0.0925 - val_accuracy: 0.9748 - val_loss: 0.0905\n",
            "Epoch 3/100\n",
            "\u001b[1m12918/12918\u001b[0m \u001b[32m━━━━━━━━━━━━━━━━━━━━\u001b[0m\u001b[37m\u001b[0m \u001b[1m35s\u001b[0m 3ms/step - accuracy: 0.9750 - loss: 0.0893 - val_accuracy: 0.9747 - val_loss: 0.0900\n",
            "Epoch 4/100\n",
            "\u001b[1m12918/12918\u001b[0m \u001b[32m━━━━━━━━━━━━━━━━━━━━\u001b[0m\u001b[37m\u001b[0m \u001b[1m34s\u001b[0m 3ms/step - accuracy: 0.9761 - loss: 0.0862 - val_accuracy: 0.9763 - val_loss: 0.0848\n",
            "Epoch 5/100\n",
            "\u001b[1m12918/12918\u001b[0m \u001b[32m━━━━━━━━━━━━━━━━━━━━\u001b[0m\u001b[37m\u001b[0m \u001b[1m36s\u001b[0m 3ms/step - accuracy: 0.9764 - loss: 0.0843 - val_accuracy: 0.9756 - val_loss: 0.0899\n",
            "Epoch 6/100\n",
            "\u001b[1m12918/12918\u001b[0m \u001b[32m━━━━━━━━━━━━━━━━━━━━\u001b[0m\u001b[37m\u001b[0m \u001b[1m34s\u001b[0m 3ms/step - accuracy: 0.9770 - loss: 0.0822 - val_accuracy: 0.9767 - val_loss: 0.0843\n",
            "Epoch 7/100\n",
            "\u001b[1m12918/12918\u001b[0m \u001b[32m━━━━━━━━━━━━━━━━━━━━\u001b[0m\u001b[37m\u001b[0m \u001b[1m30s\u001b[0m 2ms/step - accuracy: 0.9769 - loss: 0.0817 - val_accuracy: 0.9769 - val_loss: 0.0830\n",
            "Epoch 8/100\n",
            "\u001b[1m12918/12918\u001b[0m \u001b[32m━━━━━━━━━━━━━━━━━━━━\u001b[0m\u001b[37m\u001b[0m \u001b[1m27s\u001b[0m 2ms/step - accuracy: 0.9774 - loss: 0.0798 - val_accuracy: 0.9771 - val_loss: 0.0813\n",
            "Epoch 9/100\n",
            "\u001b[1m12918/12918\u001b[0m \u001b[32m━━━━━━━━━━━━━━━━━━━━\u001b[0m\u001b[37m\u001b[0m \u001b[1m29s\u001b[0m 2ms/step - accuracy: 0.9781 - loss: 0.0784 - val_accuracy: 0.9771 - val_loss: 0.0820\n",
            "Epoch 10/100\n",
            "\u001b[1m12918/12918\u001b[0m \u001b[32m━━━━━━━━━━━━━━━━━━━━\u001b[0m\u001b[37m\u001b[0m \u001b[1m28s\u001b[0m 2ms/step - accuracy: 0.9782 - loss: 0.0772 - val_accuracy: 0.9775 - val_loss: 0.0804\n",
            "Epoch 11/100\n",
            "\u001b[1m12918/12918\u001b[0m \u001b[32m━━━━━━━━━━━━━━━━━━━━\u001b[0m\u001b[37m\u001b[0m \u001b[1m29s\u001b[0m 2ms/step - accuracy: 0.9783 - loss: 0.0771 - val_accuracy: 0.9773 - val_loss: 0.0812\n",
            "Epoch 12/100\n",
            "\u001b[1m12918/12918\u001b[0m \u001b[32m━━━━━━━━━━━━━━━━━━━━\u001b[0m\u001b[37m\u001b[0m \u001b[1m29s\u001b[0m 2ms/step - accuracy: 0.9791 - loss: 0.0747 - val_accuracy: 0.9777 - val_loss: 0.0799\n",
            "Epoch 13/100\n",
            "\u001b[1m12918/12918\u001b[0m \u001b[32m━━━━━━━━━━━━━━━━━━━━\u001b[0m\u001b[37m\u001b[0m \u001b[1m28s\u001b[0m 2ms/step - accuracy: 0.9790 - loss: 0.0739 - val_accuracy: 0.9775 - val_loss: 0.0794\n",
            "Epoch 14/100\n",
            "\u001b[1m12918/12918\u001b[0m \u001b[32m━━━━━━━━━━━━━━━━━━━━\u001b[0m\u001b[37m\u001b[0m \u001b[1m30s\u001b[0m 2ms/step - accuracy: 0.9792 - loss: 0.0727 - val_accuracy: 0.9783 - val_loss: 0.0797\n",
            "Epoch 15/100\n",
            "\u001b[1m12918/12918\u001b[0m \u001b[32m━━━━━━━━━━━━━━━━━━━━\u001b[0m\u001b[37m\u001b[0m \u001b[1m38s\u001b[0m 3ms/step - accuracy: 0.9792 - loss: 0.0733 - val_accuracy: 0.9779 - val_loss: 0.0792\n",
            "Epoch 16/100\n",
            "\u001b[1m12918/12918\u001b[0m \u001b[32m━━━━━━━━━━━━━━━━━━━━\u001b[0m\u001b[37m\u001b[0m \u001b[1m40s\u001b[0m 3ms/step - accuracy: 0.9797 - loss: 0.0718 - val_accuracy: 0.9779 - val_loss: 0.0801\n",
            "Epoch 17/100\n",
            "\u001b[1m12918/12918\u001b[0m \u001b[32m━━━━━━━━━━━━━━━━━━━━\u001b[0m\u001b[37m\u001b[0m \u001b[1m43s\u001b[0m 3ms/step - accuracy: 0.9795 - loss: 0.0725 - val_accuracy: 0.9779 - val_loss: 0.0785\n",
            "Epoch 18/100\n",
            "\u001b[1m12918/12918\u001b[0m \u001b[32m━━━━━━━━━━━━━━━━━━━━\u001b[0m\u001b[37m\u001b[0m \u001b[1m55s\u001b[0m 4ms/step - accuracy: 0.9793 - loss: 0.0716 - val_accuracy: 0.9778 - val_loss: 0.0815\n",
            "Epoch 19/100\n",
            "\u001b[1m12918/12918\u001b[0m \u001b[32m━━━━━━━━━━━━━━━━━━━━\u001b[0m\u001b[37m\u001b[0m \u001b[1m26s\u001b[0m 2ms/step - accuracy: 0.9798 - loss: 0.0705 - val_accuracy: 0.9781 - val_loss: 0.0793\n",
            "Epoch 20/100\n",
            "\u001b[1m12918/12918\u001b[0m \u001b[32m━━━━━━━━━━━━━━━━━━━━\u001b[0m\u001b[37m\u001b[0m \u001b[1m140s\u001b[0m 11ms/step - accuracy: 0.9799 - loss: 0.0711 - val_accuracy: 0.9785 - val_loss: 0.0786\n",
            "Epoch 21/100\n",
            "\u001b[1m12918/12918\u001b[0m \u001b[32m━━━━━━━━━━━━━━━━━━━━\u001b[0m\u001b[37m\u001b[0m \u001b[1m24s\u001b[0m 2ms/step - accuracy: 0.9799 - loss: 0.0703 - val_accuracy: 0.9783 - val_loss: 0.0800\n",
            "Epoch 22/100\n",
            "\u001b[1m12918/12918\u001b[0m \u001b[32m━━━━━━━━━━━━━━━━━━━━\u001b[0m\u001b[37m\u001b[0m \u001b[1m22s\u001b[0m 2ms/step - accuracy: 0.9798 - loss: 0.0703 - val_accuracy: 0.9782 - val_loss: 0.0772\n",
            "Epoch 23/100\n",
            "\u001b[1m12918/12918\u001b[0m \u001b[32m━━━━━━━━━━━━━━━━━━━━\u001b[0m\u001b[37m\u001b[0m \u001b[1m1785s\u001b[0m 138ms/step - accuracy: 0.9800 - loss: 0.0701 - val_accuracy: 0.9778 - val_loss: 0.0809\n",
            "Epoch 24/100\n",
            "\u001b[1m12918/12918\u001b[0m \u001b[32m━━━━━━━━━━━━━━━━━━━━\u001b[0m\u001b[37m\u001b[0m \u001b[1m5423s\u001b[0m 420ms/step - accuracy: 0.9802 - loss: 0.0691 - val_accuracy: 0.9779 - val_loss: 0.0805\n",
            "Epoch 25/100\n",
            "\u001b[1m12918/12918\u001b[0m \u001b[32m━━━━━━━━━━━━━━━━━━━━\u001b[0m\u001b[37m\u001b[0m \u001b[1m3681s\u001b[0m 285ms/step - accuracy: 0.9803 - loss: 0.0690 - val_accuracy: 0.9781 - val_loss: 0.0786\n",
            "Epoch 26/100\n",
            "\u001b[1m12918/12918\u001b[0m \u001b[32m━━━━━━━━━━━━━━━━━━━━\u001b[0m\u001b[37m\u001b[0m \u001b[1m3653s\u001b[0m 283ms/step - accuracy: 0.9800 - loss: 0.0700 - val_accuracy: 0.9783 - val_loss: 0.0786\n",
            "Epoch 27/100\n",
            "\u001b[1m12918/12918\u001b[0m \u001b[32m━━━━━━━━━━━━━━━━━━━━\u001b[0m\u001b[37m\u001b[0m \u001b[1m16s\u001b[0m 1ms/step - accuracy: 0.9808 - loss: 0.0684 - val_accuracy: 0.9775 - val_loss: 0.0812\n",
            "Epoch 28/100\n",
            "\u001b[1m12918/12918\u001b[0m \u001b[32m━━━━━━━━━━━━━━━━━━━━\u001b[0m\u001b[37m\u001b[0m \u001b[1m3655s\u001b[0m 283ms/step - accuracy: 0.9806 - loss: 0.0684 - val_accuracy: 0.9782 - val_loss: 0.0802\n",
            "Epoch 29/100\n",
            "\u001b[1m12918/12918\u001b[0m \u001b[32m━━━━━━━━━━━━━━━━━━━━\u001b[0m\u001b[37m\u001b[0m \u001b[1m16s\u001b[0m 1ms/step - accuracy: 0.9809 - loss: 0.0670 - val_accuracy: 0.9779 - val_loss: 0.0794\n",
            "Epoch 30/100\n",
            "\u001b[1m12918/12918\u001b[0m \u001b[32m━━━━━━━━━━━━━━━━━━━━\u001b[0m\u001b[37m\u001b[0m \u001b[1m3656s\u001b[0m 283ms/step - accuracy: 0.9809 - loss: 0.0674 - val_accuracy: 0.9784 - val_loss: 0.0797\n",
            "Epoch 31/100\n",
            "\u001b[1m12918/12918\u001b[0m \u001b[32m━━━━━━━━━━━━━━━━━━━━\u001b[0m\u001b[37m\u001b[0m \u001b[1m15s\u001b[0m 1ms/step - accuracy: 0.9810 - loss: 0.0672 - val_accuracy: 0.9777 - val_loss: 0.0807\n",
            "Epoch 32/100\n",
            "\u001b[1m12918/12918\u001b[0m \u001b[32m━━━━━━━━━━━━━━━━━━━━\u001b[0m\u001b[37m\u001b[0m \u001b[1m3656s\u001b[0m 283ms/step - accuracy: 0.9812 - loss: 0.0658 - val_accuracy: 0.9777 - val_loss: 0.0813\n",
            "Epoch 33/100\n",
            "\u001b[1m12918/12918\u001b[0m \u001b[32m━━━━━━━━━━━━━━━━━━━━\u001b[0m\u001b[37m\u001b[0m \u001b[1m6342s\u001b[0m 491ms/step - accuracy: 0.9809 - loss: 0.0671 - val_accuracy: 0.9781 - val_loss: 0.0809\n",
            "Epoch 34/100\n",
            "\u001b[1m12918/12918\u001b[0m \u001b[32m━━━━━━━━━━━━━━━━━━━━\u001b[0m\u001b[37m\u001b[0m \u001b[1m17s\u001b[0m 1ms/step - accuracy: 0.9813 - loss: 0.0661 - val_accuracy: 0.9782 - val_loss: 0.0805\n",
            "Epoch 35/100\n",
            "\u001b[1m12918/12918\u001b[0m \u001b[32m━━━━━━━━━━━━━━━━━━━━\u001b[0m\u001b[37m\u001b[0m \u001b[1m2937s\u001b[0m 227ms/step - accuracy: 0.9811 - loss: 0.0665 - val_accuracy: 0.9782 - val_loss: 0.0819\n",
            "Epoch 36/100\n",
            "\u001b[1m12918/12918\u001b[0m \u001b[32m━━━━━━━━━━━━━━━━━━━━\u001b[0m\u001b[37m\u001b[0m \u001b[1m16s\u001b[0m 1ms/step - accuracy: 0.9812 - loss: 0.0656 - val_accuracy: 0.9784 - val_loss: 0.0805\n",
            "Epoch 37/100\n",
            "\u001b[1m12918/12918\u001b[0m \u001b[32m━━━━━━━━━━━━━━━━━━━━\u001b[0m\u001b[37m\u001b[0m \u001b[1m7204s\u001b[0m 558ms/step - accuracy: 0.9812 - loss: 0.0660 - val_accuracy: 0.9780 - val_loss: 0.0817\n",
            "Epoch 38/100\n",
            "\u001b[1m12918/12918\u001b[0m \u001b[32m━━━━━━━━━━━━━━━━━━━━\u001b[0m\u001b[37m\u001b[0m \u001b[1m15s\u001b[0m 1ms/step - accuracy: 0.9815 - loss: 0.0647 - val_accuracy: 0.9783 - val_loss: 0.0831\n",
            "Epoch 39/100\n",
            "\u001b[1m12918/12918\u001b[0m \u001b[32m━━━━━━━━━━━━━━━━━━━━\u001b[0m\u001b[37m\u001b[0m \u001b[1m1191s\u001b[0m 92ms/step - accuracy: 0.9814 - loss: 0.0651 - val_accuracy: 0.9784 - val_loss: 0.0803\n",
            "Epoch 40/100\n",
            "\u001b[1m12918/12918\u001b[0m \u001b[32m━━━━━━━━━━━━━━━━━━━━\u001b[0m\u001b[37m\u001b[0m \u001b[1m15s\u001b[0m 1ms/step - accuracy: 0.9816 - loss: 0.0648 - val_accuracy: 0.9782 - val_loss: 0.0831\n",
            "Epoch 41/100\n",
            "\u001b[1m12918/12918\u001b[0m \u001b[32m━━━━━━━━━━━━━━━━━━━━\u001b[0m\u001b[37m\u001b[0m \u001b[1m10226s\u001b[0m 792ms/step - accuracy: 0.9814 - loss: 0.0649 - val_accuracy: 0.9779 - val_loss: 0.0827\n",
            "Epoch 42/100\n",
            "\u001b[1m12918/12918\u001b[0m \u001b[32m━━━━━━━━━━━━━━━━━━━━\u001b[0m\u001b[37m\u001b[0m \u001b[1m15s\u001b[0m 1ms/step - accuracy: 0.9816 - loss: 0.0651 - val_accuracy: 0.9779 - val_loss: 0.0818\n",
            "Epoch 43/100\n",
            "\u001b[1m12918/12918\u001b[0m \u001b[32m━━━━━━━━━━━━━━━━━━━━\u001b[0m\u001b[37m\u001b[0m \u001b[1m554s\u001b[0m 43ms/step - accuracy: 0.9816 - loss: 0.0639 - val_accuracy: 0.9777 - val_loss: 0.0836\n",
            "Epoch 44/100\n",
            "\u001b[1m12918/12918\u001b[0m \u001b[32m━━━━━━━━━━━━━━━━━━━━\u001b[0m\u001b[37m\u001b[0m \u001b[1m15s\u001b[0m 1ms/step - accuracy: 0.9821 - loss: 0.0633 - val_accuracy: 0.9778 - val_loss: 0.0839\n",
            "Epoch 45/100\n",
            "\u001b[1m12918/12918\u001b[0m \u001b[32m━━━━━━━━━━━━━━━━━━━━\u001b[0m\u001b[37m\u001b[0m \u001b[1m10325s\u001b[0m 799ms/step - accuracy: 0.9818 - loss: 0.0641 - val_accuracy: 0.9779 - val_loss: 0.0834\n",
            "Epoch 46/100\n",
            "\u001b[1m12918/12918\u001b[0m \u001b[32m━━━━━━━━━━━━━━━━━━━━\u001b[0m\u001b[37m\u001b[0m \u001b[1m3665s\u001b[0m 284ms/step - accuracy: 0.9819 - loss: 0.0638 - val_accuracy: 0.9781 - val_loss: 0.0809\n",
            "Epoch 47/100\n",
            "\u001b[1m12918/12918\u001b[0m \u001b[32m━━━━━━━━━━━━━━━━━━━━\u001b[0m\u001b[37m\u001b[0m \u001b[1m3669s\u001b[0m 284ms/step - accuracy: 0.9818 - loss: 0.0631 - val_accuracy: 0.9784 - val_loss: 0.0830\n",
            "Epoch 48/100\n",
            "\u001b[1m12918/12918\u001b[0m \u001b[32m━━━━━━━━━━━━━━━━━━━━\u001b[0m\u001b[37m\u001b[0m \u001b[1m7313s\u001b[0m 566ms/step - accuracy: 0.9821 - loss: 0.0631 - val_accuracy: 0.9786 - val_loss: 0.0812\n",
            "Epoch 49/100\n",
            "\u001b[1m12918/12918\u001b[0m \u001b[32m━━━━━━━━━━━━━━━━━━━━\u001b[0m\u001b[37m\u001b[0m \u001b[1m3666s\u001b[0m 284ms/step - accuracy: 0.9819 - loss: 0.0630 - val_accuracy: 0.9782 - val_loss: 0.0825\n",
            "Epoch 50/100\n",
            "\u001b[1m12918/12918\u001b[0m \u001b[32m━━━━━━━━━━━━━━━━━━━━\u001b[0m\u001b[37m\u001b[0m \u001b[1m151s\u001b[0m 12ms/step - accuracy: 0.9814 - loss: 0.0644 - val_accuracy: 0.9784 - val_loss: 0.0838\n",
            "Epoch 51/100\n",
            "\u001b[1m12918/12918\u001b[0m \u001b[32m━━━━━━━━━━━━━━━━━━━━\u001b[0m\u001b[37m\u001b[0m \u001b[1m7181s\u001b[0m 556ms/step - accuracy: 0.9820 - loss: 0.0632 - val_accuracy: 0.9778 - val_loss: 0.0868\n",
            "Epoch 52/100\n",
            "\u001b[1m12918/12918\u001b[0m \u001b[32m━━━━━━━━━━━━━━━━━━━━\u001b[0m\u001b[37m\u001b[0m \u001b[1m16s\u001b[0m 1ms/step - accuracy: 0.9820 - loss: 0.0633 - val_accuracy: 0.9782 - val_loss: 0.0829\n",
            "Epoch 53/100\n",
            "\u001b[1m12918/12918\u001b[0m \u001b[32m━━━━━━━━━━━━━━━━━━━━\u001b[0m\u001b[37m\u001b[0m \u001b[1m3658s\u001b[0m 283ms/step - accuracy: 0.9821 - loss: 0.0627 - val_accuracy: 0.9781 - val_loss: 0.0850\n",
            "Epoch 54/100\n",
            "\u001b[1m12918/12918\u001b[0m \u001b[32m━━━━━━━━━━━━━━━━━━━━\u001b[0m\u001b[37m\u001b[0m \u001b[1m15s\u001b[0m 1ms/step - accuracy: 0.9822 - loss: 0.0624 - val_accuracy: 0.9780 - val_loss: 0.0847\n",
            "Epoch 55/100\n",
            "\u001b[1m12918/12918\u001b[0m \u001b[32m━━━━━━━━━━━━━━━━━━━━\u001b[0m\u001b[37m\u001b[0m \u001b[1m260s\u001b[0m 20ms/step - accuracy: 0.9824 - loss: 0.0623 - val_accuracy: 0.9784 - val_loss: 0.0839\n",
            "Epoch 56/100\n",
            "\u001b[1m12918/12918\u001b[0m \u001b[32m━━━━━━━━━━━━━━━━━━━━\u001b[0m\u001b[37m\u001b[0m \u001b[1m15s\u001b[0m 1ms/step - accuracy: 0.9826 - loss: 0.0617 - val_accuracy: 0.9784 - val_loss: 0.0831\n",
            "Epoch 57/100\n",
            "\u001b[1m12918/12918\u001b[0m \u001b[32m━━━━━━━━━━━━━━━━━━━━\u001b[0m\u001b[37m\u001b[0m \u001b[1m3384s\u001b[0m 262ms/step - accuracy: 0.9826 - loss: 0.0608 - val_accuracy: 0.9786 - val_loss: 0.0851\n",
            "Epoch 58/100\n",
            "\u001b[1m12918/12918\u001b[0m \u001b[32m━━━━━━━━━━━━━━━━━━━━\u001b[0m\u001b[37m\u001b[0m \u001b[1m3652s\u001b[0m 283ms/step - accuracy: 0.9822 - loss: 0.0617 - val_accuracy: 0.9786 - val_loss: 0.0884\n",
            "Epoch 59/100\n",
            "\u001b[1m12918/12918\u001b[0m \u001b[32m━━━━━━━━━━━━━━━━━━━━\u001b[0m\u001b[37m\u001b[0m \u001b[1m17s\u001b[0m 1ms/step - accuracy: 0.9818 - loss: 0.0631 - val_accuracy: 0.9786 - val_loss: 0.0889\n",
            "Epoch 60/100\n",
            "\u001b[1m12918/12918\u001b[0m \u001b[32m━━━━━━━━━━━━━━━━━━━━\u001b[0m\u001b[37m\u001b[0m \u001b[1m16s\u001b[0m 1ms/step - accuracy: 0.9820 - loss: 0.0626 - val_accuracy: 0.9784 - val_loss: 0.0844\n",
            "Epoch 61/100\n",
            "\u001b[1m12918/12918\u001b[0m \u001b[32m━━━━━━━━━━━━━━━━━━━━\u001b[0m\u001b[37m\u001b[0m \u001b[1m3649s\u001b[0m 282ms/step - accuracy: 0.9823 - loss: 0.0614 - val_accuracy: 0.9781 - val_loss: 0.0858\n",
            "Epoch 62/100\n",
            "\u001b[1m12918/12918\u001b[0m \u001b[32m━━━━━━━━━━━━━━━━━━━━\u001b[0m\u001b[37m\u001b[0m \u001b[1m3655s\u001b[0m 283ms/step - accuracy: 0.9826 - loss: 0.0615 - val_accuracy: 0.9786 - val_loss: 0.0838\n",
            "Epoch 63/100\n",
            "\u001b[1m12918/12918\u001b[0m \u001b[32m━━━━━━━━━━━━━━━━━━━━\u001b[0m\u001b[37m\u001b[0m \u001b[1m16s\u001b[0m 1ms/step - accuracy: 0.9826 - loss: 0.0611 - val_accuracy: 0.9782 - val_loss: 0.0864\n",
            "Epoch 64/100\n",
            "\u001b[1m12918/12918\u001b[0m \u001b[32m━━━━━━━━━━━━━━━━━━━━\u001b[0m\u001b[37m\u001b[0m \u001b[1m3657s\u001b[0m 283ms/step - accuracy: 0.9825 - loss: 0.0612 - val_accuracy: 0.9783 - val_loss: 0.0856\n",
            "Epoch 65/100\n",
            "\u001b[1m12918/12918\u001b[0m \u001b[32m━━━━━━━━━━━━━━━━━━━━\u001b[0m\u001b[37m\u001b[0m \u001b[1m16s\u001b[0m 1ms/step - accuracy: 0.9821 - loss: 0.0621 - val_accuracy: 0.9782 - val_loss: 0.0867\n",
            "Epoch 66/100\n",
            "\u001b[1m12918/12918\u001b[0m \u001b[32m━━━━━━━━━━━━━━━━━━━━\u001b[0m\u001b[37m\u001b[0m \u001b[1m6023s\u001b[0m 466ms/step - accuracy: 0.9823 - loss: 0.0619 - val_accuracy: 0.9778 - val_loss: 0.0858\n",
            "Epoch 67/100\n",
            "\u001b[1m12918/12918\u001b[0m \u001b[32m━━━━━━━━━━━━━━━━━━━━\u001b[0m\u001b[37m\u001b[0m \u001b[1m15s\u001b[0m 1ms/step - accuracy: 0.9823 - loss: 0.0615 - val_accuracy: 0.9785 - val_loss: 0.0845\n",
            "Epoch 68/100\n",
            "\u001b[1m12918/12918\u001b[0m \u001b[32m━━━━━━━━━━━━━━━━━━━━\u001b[0m\u001b[37m\u001b[0m \u001b[1m5473s\u001b[0m 424ms/step - accuracy: 0.9826 - loss: 0.0611 - val_accuracy: 0.9780 - val_loss: 0.0886\n",
            "Epoch 69/100\n",
            "\u001b[1m12918/12918\u001b[0m \u001b[32m━━━━━━━━━━━━━━━━━━━━\u001b[0m\u001b[37m\u001b[0m \u001b[1m16s\u001b[0m 1ms/step - accuracy: 0.9823 - loss: 0.0617 - val_accuracy: 0.9780 - val_loss: 0.0871\n",
            "Epoch 70/100\n",
            "\u001b[1m12918/12918\u001b[0m \u001b[32m━━━━━━━━━━━━━━━━━━━━\u001b[0m\u001b[37m\u001b[0m \u001b[1m16650s\u001b[0m 1s/step - accuracy: 0.9825 - loss: 0.0611 - val_accuracy: 0.9786 - val_loss: 0.0885\n",
            "Epoch 71/100\n",
            "\u001b[1m12918/12918\u001b[0m \u001b[32m━━━━━━━━━━━━━━━━━━━━\u001b[0m\u001b[37m\u001b[0m \u001b[1m7256s\u001b[0m 562ms/step - accuracy: 0.9825 - loss: 0.0618 - val_accuracy: 0.9784 - val_loss: 0.0867\n",
            "Epoch 72/100\n",
            "\u001b[1m12918/12918\u001b[0m \u001b[32m━━━━━━━━━━━━━━━━━━━━\u001b[0m\u001b[37m\u001b[0m \u001b[1m17s\u001b[0m 1ms/step - accuracy: 0.9823 - loss: 0.0612 - val_accuracy: 0.9788 - val_loss: 0.0857\n",
            "Epoch 73/100\n",
            "\u001b[1m12918/12918\u001b[0m \u001b[32m━━━━━━━━━━━━━━━━━━━━\u001b[0m\u001b[37m\u001b[0m \u001b[1m3653s\u001b[0m 283ms/step - accuracy: 0.9825 - loss: 0.0610 - val_accuracy: 0.9787 - val_loss: 0.0850\n",
            "Epoch 74/100\n",
            "\u001b[1m12918/12918\u001b[0m \u001b[32m━━━━━━━━━━━━━━━━━━━━\u001b[0m\u001b[37m\u001b[0m \u001b[1m16s\u001b[0m 1ms/step - accuracy: 0.9825 - loss: 0.0605 - val_accuracy: 0.9787 - val_loss: 0.0874\n",
            "Epoch 75/100\n",
            "\u001b[1m12918/12918\u001b[0m \u001b[32m━━━━━━━━━━━━━━━━━━━━\u001b[0m\u001b[37m\u001b[0m \u001b[1m1970s\u001b[0m 153ms/step - accuracy: 0.9823 - loss: 0.0621 - val_accuracy: 0.9782 - val_loss: 0.0899\n",
            "Epoch 76/100\n",
            "\u001b[1m12918/12918\u001b[0m \u001b[32m━━━━━━━━━━━━━━━━━━━━\u001b[0m\u001b[37m\u001b[0m \u001b[1m16s\u001b[0m 1ms/step - accuracy: 0.9827 - loss: 0.0602 - val_accuracy: 0.9786 - val_loss: 0.0856\n",
            "Epoch 77/100\n",
            "\u001b[1m12918/12918\u001b[0m \u001b[32m━━━━━━━━━━━━━━━━━━━━\u001b[0m\u001b[37m\u001b[0m \u001b[1m1663s\u001b[0m 129ms/step - accuracy: 0.9828 - loss: 0.0598 - val_accuracy: 0.9781 - val_loss: 0.0890\n",
            "Epoch 78/100\n",
            "\u001b[1m12918/12918\u001b[0m \u001b[32m━━━━━━━━━━━━━━━━━━━━\u001b[0m\u001b[37m\u001b[0m \u001b[1m17s\u001b[0m 1ms/step - accuracy: 0.9825 - loss: 0.0610 - val_accuracy: 0.9780 - val_loss: 0.0882\n",
            "Epoch 79/100\n",
            "\u001b[1m12918/12918\u001b[0m \u001b[32m━━━━━━━━━━━━━━━━━━━━\u001b[0m\u001b[37m\u001b[0m \u001b[1m3655s\u001b[0m 283ms/step - accuracy: 0.9826 - loss: 0.0604 - val_accuracy: 0.9779 - val_loss: 0.0867\n",
            "Epoch 80/100\n",
            "\u001b[1m12918/12918\u001b[0m \u001b[32m━━━━━━━━━━━━━━━━━━━━\u001b[0m\u001b[37m\u001b[0m \u001b[1m16s\u001b[0m 1ms/step - accuracy: 0.9826 - loss: 0.0602 - val_accuracy: 0.9782 - val_loss: 0.0891\n",
            "Epoch 81/100\n",
            "\u001b[1m12918/12918\u001b[0m \u001b[32m━━━━━━━━━━━━━━━━━━━━\u001b[0m\u001b[37m\u001b[0m \u001b[1m3523s\u001b[0m 273ms/step - accuracy: 0.9829 - loss: 0.0606 - val_accuracy: 0.9787 - val_loss: 0.0889\n",
            "Epoch 82/100\n",
            "\u001b[1m12918/12918\u001b[0m \u001b[32m━━━━━━━━━━━━━━━━━━━━\u001b[0m\u001b[37m\u001b[0m \u001b[1m17s\u001b[0m 1ms/step - accuracy: 0.9829 - loss: 0.0589 - val_accuracy: 0.9787 - val_loss: 0.0863\n",
            "Epoch 83/100\n",
            "\u001b[1m12918/12918\u001b[0m \u001b[32m━━━━━━━━━━━━━━━━━━━━\u001b[0m\u001b[37m\u001b[0m \u001b[1m115s\u001b[0m 9ms/step - accuracy: 0.9827 - loss: 0.0605 - val_accuracy: 0.9786 - val_loss: 0.0895\n",
            "Epoch 84/100\n",
            "\u001b[1m12918/12918\u001b[0m \u001b[32m━━━━━━━━━━━━━━━━━━━━\u001b[0m\u001b[37m\u001b[0m \u001b[1m16s\u001b[0m 1ms/step - accuracy: 0.9830 - loss: 0.0592 - val_accuracy: 0.9788 - val_loss: 0.0892\n",
            "Epoch 85/100\n",
            "\u001b[1m12918/12918\u001b[0m \u001b[32m━━━━━━━━━━━━━━━━━━━━\u001b[0m\u001b[37m\u001b[0m \u001b[1m3654s\u001b[0m 283ms/step - accuracy: 0.9828 - loss: 0.0598 - val_accuracy: 0.9785 - val_loss: 0.0889\n",
            "Epoch 86/100\n",
            "\u001b[1m12918/12918\u001b[0m \u001b[32m━━━━━━━━━━━━━━━━━━━━\u001b[0m\u001b[37m\u001b[0m \u001b[1m3665s\u001b[0m 284ms/step - accuracy: 0.9829 - loss: 0.0589 - val_accuracy: 0.9785 - val_loss: 0.0913\n",
            "Epoch 87/100\n",
            "\u001b[1m12918/12918\u001b[0m \u001b[32m━━━━━━━━━━━━━━━━━━━━\u001b[0m\u001b[37m\u001b[0m \u001b[1m16s\u001b[0m 1ms/step - accuracy: 0.9833 - loss: 0.0591 - val_accuracy: 0.9782 - val_loss: 0.0927\n",
            "Epoch 88/100\n",
            "\u001b[1m12918/12918\u001b[0m \u001b[32m━━━━━━━━━━━━━━━━━━━━\u001b[0m\u001b[37m\u001b[0m \u001b[1m3661s\u001b[0m 283ms/step - accuracy: 0.9833 - loss: 0.0590 - val_accuracy: 0.9786 - val_loss: 0.0861\n",
            "Epoch 89/100\n",
            "\u001b[1m12918/12918\u001b[0m \u001b[32m━━━━━━━━━━━━━━━━━━━━\u001b[0m\u001b[37m\u001b[0m \u001b[1m16s\u001b[0m 1ms/step - accuracy: 0.9827 - loss: 0.0606 - val_accuracy: 0.9785 - val_loss: 0.0890\n",
            "Epoch 90/100\n",
            "\u001b[1m12918/12918\u001b[0m \u001b[32m━━━━━━━━━━━━━━━━━━━━\u001b[0m\u001b[37m\u001b[0m \u001b[1m3651s\u001b[0m 283ms/step - accuracy: 0.9834 - loss: 0.0585 - val_accuracy: 0.9783 - val_loss: 0.0892\n",
            "Epoch 91/100\n",
            "\u001b[1m12918/12918\u001b[0m \u001b[32m━━━━━━━━━━━━━━━━━━━━\u001b[0m\u001b[37m\u001b[0m \u001b[1m3654s\u001b[0m 283ms/step - accuracy: 0.9829 - loss: 0.0594 - val_accuracy: 0.9786 - val_loss: 0.0890\n",
            "Epoch 92/100\n",
            "\u001b[1m12918/12918\u001b[0m \u001b[32m━━━━━━━━━━━━━━━━━━━━\u001b[0m\u001b[37m\u001b[0m \u001b[1m18s\u001b[0m 1ms/step - accuracy: 0.9827 - loss: 0.0601 - val_accuracy: 0.9783 - val_loss: 0.0912\n",
            "Epoch 93/100\n",
            "\u001b[1m12918/12918\u001b[0m \u001b[32m━━━━━━━━━━━━━━━━━━━━\u001b[0m\u001b[37m\u001b[0m \u001b[1m2214s\u001b[0m 171ms/step - accuracy: 0.9828 - loss: 0.0597 - val_accuracy: 0.9786 - val_loss: 0.0909\n",
            "Epoch 94/100\n",
            "\u001b[1m12918/12918\u001b[0m \u001b[32m━━━━━━━━━━━━━━━━━━━━\u001b[0m\u001b[37m\u001b[0m \u001b[1m17s\u001b[0m 1ms/step - accuracy: 0.9832 - loss: 0.0589 - val_accuracy: 0.9779 - val_loss: 0.0883\n",
            "Epoch 95/100\n",
            "\u001b[1m12918/12918\u001b[0m \u001b[32m━━━━━━━━━━━━━━━━━━━━\u001b[0m\u001b[37m\u001b[0m \u001b[1m1426s\u001b[0m 110ms/step - accuracy: 0.9829 - loss: 0.0596 - val_accuracy: 0.9785 - val_loss: 0.0917\n",
            "Epoch 96/100\n",
            "\u001b[1m12918/12918\u001b[0m \u001b[32m━━━━━━━━━━━━━━━━━━━━\u001b[0m\u001b[37m\u001b[0m \u001b[1m16s\u001b[0m 1ms/step - accuracy: 0.9831 - loss: 0.0592 - val_accuracy: 0.9785 - val_loss: 0.0897\n",
            "Epoch 97/100\n",
            "\u001b[1m12918/12918\u001b[0m \u001b[32m━━━━━━━━━━━━━━━━━━━━\u001b[0m\u001b[37m\u001b[0m \u001b[1m3655s\u001b[0m 283ms/step - accuracy: 0.9830 - loss: 0.0585 - val_accuracy: 0.9777 - val_loss: 0.0975\n",
            "Epoch 98/100\n",
            "\u001b[1m12918/12918\u001b[0m \u001b[32m━━━━━━━━━━━━━━━━━━━━\u001b[0m\u001b[37m\u001b[0m \u001b[1m15s\u001b[0m 1ms/step - accuracy: 0.9833 - loss: 0.0583 - val_accuracy: 0.9781 - val_loss: 0.0916\n",
            "Epoch 99/100\n",
            "\u001b[1m12918/12918\u001b[0m \u001b[32m━━━━━━━━━━━━━━━━━━━━\u001b[0m\u001b[37m\u001b[0m \u001b[1m3658s\u001b[0m 283ms/step - accuracy: 0.9831 - loss: 0.0595 - val_accuracy: 0.9776 - val_loss: 0.0939\n",
            "Epoch 100/100\n",
            "\u001b[1m12918/12918\u001b[0m \u001b[32m━━━━━━━━━━━━━━━━━━━━\u001b[0m\u001b[37m\u001b[0m \u001b[1m3655s\u001b[0m 283ms/step - accuracy: 0.9827 - loss: 0.0601 - val_accuracy: 0.9784 - val_loss: 0.0908\n"
          ]
        },
        {
          "name": "stderr",
          "output_type": "stream",
          "text": [
            "WARNING:absl:You are saving your model as an HDF5 file via `model.save()` or `keras.saving.save_model(model)`. This file format is considered legacy. We recommend using instead the native Keras format, e.g. `model.save('my_model.keras')` or `keras.saving.save_model(model, 'my_model.keras')`. \n"
          ]
        }
      ],
      "source": [
        "model_2 = Sequential([\n",
        "    Dense(64, activation='relu', input_shape=(X_train_processed.shape[1],)),\n",
        "    Dense(32, activation='relu'),\n",
        "    Dense(16, activation='relu'),\n",
        "    Dense(1, activation='sigmoid')\n",
        "])\n",
        "\n",
        "model_2.compile(optimizer='adam', loss='binary_crossentropy', metrics=['accuracy'])\n",
        "\n",
        "history_2 = model_2.fit(X_train_processed, y_train, epochs=100, batch_size=32,\n",
        "                        validation_data=(X_val_processed, y_val), verbose=1)\n",
        "\n",
        "save_model(model_2, 'saved_models/nn_instance_2.h5')"
      ]
    },
    {
      "cell_type": "markdown",
      "metadata": {},
      "source": [
        "### Model 2 Error analysis:"
      ]
    },
    {
      "cell_type": "code",
      "execution_count": 10,
      "metadata": {},
      "outputs": [
        {
          "name": "stdout",
          "output_type": "stream",
          "text": [
            "\u001b[1m2769/2769\u001b[0m \u001b[32m━━━━━━━━━━━━━━━━━━━━\u001b[0m\u001b[37m\u001b[0m \u001b[1m2s\u001b[0m 582us/step\n"
          ]
        },
        {
          "data": {
            "image/png": "[encoded data removed]",
            "text/plain": [
              "<Figure size 640x480 with 2 Axes>"
            ]
          },
          "metadata": {},
          "output_type": "display_data"
        },
        {
          "name": "stdout",
          "output_type": "stream",
          "text": [
            "=== Classification Report ===\n",
            "              precision    recall  f1-score   support\n",
            "\n",
            "   Not Fraud       0.98      1.00      0.99     85482\n",
            "       Fraud       0.81      0.48      0.60      3099\n",
            "\n",
            "    accuracy                           0.98     88581\n",
            "   macro avg       0.90      0.74      0.80     88581\n",
            "weighted avg       0.98      0.98      0.98     88581\n",
            "\n",
            "True Negatives (TN): 85135\n",
            "False Positives (FP): 347\n",
            "False Negatives (FN): 1614\n",
            "True Positives (TP): 1485\n"
          ]
        }
      ],
      "source": [
        "# Predict probabilities and convert to binary labels\n",
        "y_test_pred_prob = model_2.predict(X_test_processed)\n",
        "y_test_pred = (y_test_pred_prob > 0.5).astype(int).reshape(-1)\n",
        "y_test_true = y_test.values.reshape(-1)\n",
        "\n",
        "# Confusion matrix\n",
        "cm = confusion_matrix(y_test_true, y_test_pred)\n",
        "\n",
        "# Display with labels\n",
        "disp = ConfusionMatrixDisplay(confusion_matrix=cm, display_labels=[\"Not Fraud\", \"Fraud\"])\n",
        "disp.plot(cmap=\"Blues\")\n",
        "plt.title(\"Confusion Matrix - Test Set\")\n",
        "plt.show()\n",
        "\n",
        "# Detailed classification report\n",
        "report = classification_report(y_test_true, y_test_pred, target_names=[\"Not Fraud\", \"Fraud\"])\n",
        "print(\"=== Classification Report ===\")\n",
        "print(report)\n",
        "tn, fp, fn, tp = cm.ravel()\n",
        "print(f\"True Negatives (TN): {tn}\")\n",
        "print(f\"False Positives (FP): {fp}\")\n",
        "print(f\"False Negatives (FN): {fn}\")\n",
        "print(f\"True Positives (TP): {tp}\")\n"
      ]
    },
    {
      "cell_type": "markdown",
      "metadata": {},
      "source": [
        "### Model 3: \n",
        " A neural network with two hidden layers (128 and 64 neurons) including L2 regularization on the first layer for binary classification. It's compiled with an Adam optimizer and trained for up to 50 epochs using early stopping to capture the best weights."
      ]
    },
    {
      "cell_type": "code",
      "execution_count": 11,
      "metadata": {},
      "outputs": [
        {
          "name": "stderr",
          "output_type": "stream",
          "text": [
            "/Users/irakizagaius/Downloads/FraudDetection/.venv/lib/python3.10/site-packages/keras/src/layers/core/dense.py:93: UserWarning: Do not pass an `input_shape`/`input_dim` argument to a layer. When using Sequential models, prefer using an `Input(shape)` object as the first layer in the model instead.\n",
            "  super().__init__(activity_regularizer=activity_regularizer, **kwargs)\n"
          ]
        },
        {
          "name": "stdout",
          "output_type": "stream",
          "text": [
            "Epoch 1/50\n",
            "\u001b[1m4134/4134\u001b[0m \u001b[32m━━━━━━━━━━━━━━━━━━━━\u001b[0m\u001b[37m\u001b[0m \u001b[1m7s\u001b[0m 2ms/step - accuracy: 0.9646 - loss: 0.1518 - val_accuracy: 0.9729 - val_loss: 0.1039\n",
            "Epoch 2/50\n",
            "\u001b[1m4134/4134\u001b[0m \u001b[32m━━━━━━━━━━━━━━━━━━━━\u001b[0m\u001b[37m\u001b[0m \u001b[1m5s\u001b[0m 1ms/step - accuracy: 0.9727 - loss: 0.1046 - val_accuracy: 0.9735 - val_loss: 0.1016\n",
            "Epoch 3/50\n",
            "\u001b[1m4134/4134\u001b[0m \u001b[32m━━━━━━━━━━━━━━━━━━━━\u001b[0m\u001b[37m\u001b[0m \u001b[1m5s\u001b[0m 1ms/step - accuracy: 0.9729 - loss: 0.1016 - val_accuracy: 0.9729 - val_loss: 0.1021\n",
            "Epoch 4/50\n",
            "\u001b[1m4134/4134\u001b[0m \u001b[32m━━━━━━━━━━━━━━━━━━━━\u001b[0m\u001b[37m\u001b[0m \u001b[1m5s\u001b[0m 1ms/step - accuracy: 0.9729 - loss: 0.1015 - val_accuracy: 0.9731 - val_loss: 0.1025\n",
            "Epoch 5/50\n",
            "\u001b[1m4134/4134\u001b[0m \u001b[32m━━━━━━━━━━━━━━━━━━━━\u001b[0m\u001b[37m\u001b[0m \u001b[1m3639s\u001b[0m 880ms/step - accuracy: 0.9729 - loss: 0.1018 - val_accuracy: 0.9733 - val_loss: 0.0988\n",
            "Epoch 6/50\n",
            "\u001b[1m4134/4134\u001b[0m \u001b[32m━━━━━━━━━━━━━━━━━━━━\u001b[0m\u001b[37m\u001b[0m \u001b[1m6s\u001b[0m 2ms/step - accuracy: 0.9733 - loss: 0.0996 - val_accuracy: 0.9742 - val_loss: 0.0976\n",
            "Epoch 7/50\n",
            "\u001b[1m4134/4134\u001b[0m \u001b[32m━━━━━━━━━━━━━━━━━━━━\u001b[0m\u001b[37m\u001b[0m \u001b[1m6s\u001b[0m 1ms/step - accuracy: 0.9738 - loss: 0.0984 - val_accuracy: 0.9736 - val_loss: 0.1007\n",
            "Epoch 8/50\n",
            "\u001b[1m4134/4134\u001b[0m \u001b[32m━━━━━━━━━━━━━━━━━━━━\u001b[0m\u001b[37m\u001b[0m \u001b[1m6s\u001b[0m 1ms/step - accuracy: 0.9730 - loss: 0.1011 - val_accuracy: 0.9739 - val_loss: 0.0985\n",
            "Epoch 9/50\n",
            "\u001b[1m4134/4134\u001b[0m \u001b[32m━━━━━━━━━━━━━━━━━━━━\u001b[0m\u001b[37m\u001b[0m \u001b[1m6s\u001b[0m 1ms/step - accuracy: 0.9736 - loss: 0.0995 - val_accuracy: 0.9733 - val_loss: 0.0983\n",
            "Epoch 10/50\n",
            "\u001b[1m4134/4134\u001b[0m \u001b[32m━━━━━━━━━━━━━━━━━━━━\u001b[0m\u001b[37m\u001b[0m \u001b[1m5613s\u001b[0m 1s/step - accuracy: 0.9734 - loss: 0.0999 - val_accuracy: 0.9739 - val_loss: 0.0979\n",
            "Epoch 11/50\n",
            "\u001b[1m4134/4134\u001b[0m \u001b[32m━━━━━━━━━━━━━━━━━━━━\u001b[0m\u001b[37m\u001b[0m \u001b[1m6s\u001b[0m 2ms/step - accuracy: 0.9736 - loss: 0.0988 - val_accuracy: 0.9743 - val_loss: 0.0971\n",
            "Epoch 12/50\n",
            "\u001b[1m4134/4134\u001b[0m \u001b[32m━━━━━━━━━━━━━━━━━━━━\u001b[0m\u001b[37m\u001b[0m \u001b[1m6s\u001b[0m 1ms/step - accuracy: 0.9735 - loss: 0.0993 - val_accuracy: 0.9741 - val_loss: 0.0977\n",
            "Epoch 13/50\n",
            "\u001b[1m4134/4134\u001b[0m \u001b[32m━━━━━━━━━━━━━━━━━━━━\u001b[0m\u001b[37m\u001b[0m \u001b[1m5s\u001b[0m 1ms/step - accuracy: 0.9737 - loss: 0.0988 - val_accuracy: 0.9738 - val_loss: 0.0976\n",
            "Epoch 14/50\n",
            "\u001b[1m4134/4134\u001b[0m \u001b[32m━━━━━━━━━━━━━━━━━━━━\u001b[0m\u001b[37m\u001b[0m \u001b[1m5s\u001b[0m 1ms/step - accuracy: 0.9736 - loss: 0.0987 - val_accuracy: 0.9746 - val_loss: 0.0967\n",
            "Epoch 15/50\n",
            "\u001b[1m4134/4134\u001b[0m \u001b[32m━━━━━━━━━━━━━━━━━━━━\u001b[0m\u001b[37m\u001b[0m \u001b[1m7820s\u001b[0m 2s/step - accuracy: 0.9742 - loss: 0.0977 - val_accuracy: 0.9739 - val_loss: 0.0983\n",
            "Epoch 16/50\n",
            "\u001b[1m4134/4134\u001b[0m \u001b[32m━━━━━━━━━━━━━━━━━━━━\u001b[0m\u001b[37m\u001b[0m \u001b[1m6s\u001b[0m 1ms/step - accuracy: 0.9739 - loss: 0.0985 - val_accuracy: 0.9739 - val_loss: 0.0971\n",
            "Epoch 17/50\n",
            "\u001b[1m4134/4134\u001b[0m \u001b[32m━━━━━━━━━━━━━━━━━━━━\u001b[0m\u001b[37m\u001b[0m \u001b[1m5s\u001b[0m 1ms/step - accuracy: 0.9737 - loss: 0.0979 - val_accuracy: 0.9741 - val_loss: 0.0972\n",
            "Epoch 18/50\n",
            "\u001b[1m4134/4134\u001b[0m \u001b[32m━━━━━━━━━━━━━━━━━━━━\u001b[0m\u001b[37m\u001b[0m \u001b[1m5s\u001b[0m 1ms/step - accuracy: 0.9738 - loss: 0.0981 - val_accuracy: 0.9744 - val_loss: 0.0962\n",
            "Epoch 19/50\n",
            "\u001b[1m4134/4134\u001b[0m \u001b[32m━━━━━━━━━━━━━━━━━━━━\u001b[0m\u001b[37m\u001b[0m \u001b[1m5s\u001b[0m 1ms/step - accuracy: 0.9737 - loss: 0.0989 - val_accuracy: 0.9736 - val_loss: 0.0975\n",
            "Epoch 20/50\n",
            "\u001b[1m4134/4134\u001b[0m \u001b[32m━━━━━━━━━━━━━━━━━━━━\u001b[0m\u001b[37m\u001b[0m \u001b[1m794s\u001b[0m 192ms/step - accuracy: 0.9742 - loss: 0.0975 - val_accuracy: 0.9739 - val_loss: 0.0985\n",
            "Epoch 21/50\n",
            "\u001b[1m4134/4134\u001b[0m \u001b[32m━━━━━━━━━━━━━━━━━━━━\u001b[0m\u001b[37m\u001b[0m \u001b[1m6s\u001b[0m 1ms/step - accuracy: 0.9740 - loss: 0.0981 - val_accuracy: 0.9745 - val_loss: 0.0966\n",
            "Epoch 22/50\n",
            "\u001b[1m4134/4134\u001b[0m \u001b[32m━━━━━━━━━━━━━━━━━━━━\u001b[0m\u001b[37m\u001b[0m \u001b[1m6s\u001b[0m 1ms/step - accuracy: 0.9741 - loss: 0.0969 - val_accuracy: 0.9746 - val_loss: 0.0966\n",
            "Epoch 23/50\n",
            "\u001b[1m4134/4134\u001b[0m \u001b[32m━━━━━━━━━━━━━━━━━━━━\u001b[0m\u001b[37m\u001b[0m \u001b[1m5s\u001b[0m 1ms/step - accuracy: 0.9737 - loss: 0.0981 - val_accuracy: 0.9750 - val_loss: 0.0953\n",
            "Epoch 24/50\n",
            "\u001b[1m4134/4134\u001b[0m \u001b[32m━━━━━━━━━━━━━━━━━━━━\u001b[0m\u001b[37m\u001b[0m \u001b[1m5s\u001b[0m 1ms/step - accuracy: 0.9741 - loss: 0.0966 - val_accuracy: 0.9744 - val_loss: 0.0953\n",
            "Epoch 25/50\n",
            "\u001b[1m4134/4134\u001b[0m \u001b[32m━━━━━━━━━━━━━━━━━━━━\u001b[0m\u001b[37m\u001b[0m \u001b[1m7245s\u001b[0m 2s/step - accuracy: 0.9742 - loss: 0.0967 - val_accuracy: 0.9746 - val_loss: 0.0962\n",
            "Epoch 26/50\n",
            "\u001b[1m4134/4134\u001b[0m \u001b[32m━━━━━━━━━━━━━━━━━━━━\u001b[0m\u001b[37m\u001b[0m \u001b[1m6s\u001b[0m 1ms/step - accuracy: 0.9743 - loss: 0.0972 - val_accuracy: 0.9742 - val_loss: 0.0970\n",
            "Epoch 27/50\n",
            "\u001b[1m4134/4134\u001b[0m \u001b[32m━━━━━━━━━━━━━━━━━━━━\u001b[0m\u001b[37m\u001b[0m \u001b[1m6s\u001b[0m 1ms/step - accuracy: 0.9738 - loss: 0.0978 - val_accuracy: 0.9743 - val_loss: 0.0963\n",
            "Epoch 28/50\n",
            "\u001b[1m4134/4134\u001b[0m \u001b[32m━━━━━━━━━━━━━━━━━━━━\u001b[0m\u001b[37m\u001b[0m \u001b[1m6s\u001b[0m 1ms/step - accuracy: 0.9739 - loss: 0.0974 - val_accuracy: 0.9740 - val_loss: 0.0987\n"
          ]
        },
        {
          "name": "stderr",
          "output_type": "stream",
          "text": [
            "WARNING:absl:You are saving your model as an HDF5 file via `model.save()` or `keras.saving.save_model(model)`. This file format is considered legacy. We recommend using instead the native Keras format, e.g. `model.save('my_model.keras')` or `keras.saving.save_model(model, 'my_model.keras')`. \n"
          ]
        }
      ],
      "source": [
        "model_3 = Sequential([\n",
        "    Dense(128, activation='relu', input_shape=(X_train_processed.shape[1],), kernel_regularizer=l2(0.001)),\n",
        "    Dense(64, activation='relu'),\n",
        "    Dense(1, activation='sigmoid')\n",
        "])\n",
        "\n",
        "model_3.compile(optimizer=Adam(learning_rate=0.001), loss='binary_crossentropy', metrics=['accuracy'])\n",
        "\n",
        "early_stopping = EarlyStopping(monitor='val_loss', patience=5, restore_best_weights=True)\n",
        "\n",
        "history_2 = model_3.fit(X_train_processed, y_train, epochs=50, batch_size=100,\n",
        "                        validation_data=(X_val_processed, y_val),\n",
        "                        callbacks=[early_stopping], verbose=1)\n",
        "\n",
        "save_model(model_3, 'saved_models/nn_instance_3.h5')\n"
      ]
    },
    {
      "cell_type": "markdown",
      "metadata": {},
      "source": [
        "### Model 3 Error analysis:"
      ]
    },
    {
      "cell_type": "code",
      "execution_count": 12,
      "metadata": {},
      "outputs": [
        {
          "name": "stdout",
          "output_type": "stream",
          "text": [
            "\u001b[1m2769/2769\u001b[0m \u001b[32m━━━━━━━━━━━━━━━━━━━━\u001b[0m\u001b[37m\u001b[0m \u001b[1m2s\u001b[0m 545us/step\n"
          ]
        },
        {
          "data": {
            "image/png": "[encoded data removed]",
            "text/plain": [
              "<Figure size 640x480 with 2 Axes>"
            ]
          },
          "metadata": {},
          "output_type": "display_data"
        },
        {
          "name": "stdout",
          "output_type": "stream",
          "text": [
            "=== Classification Report ===\n",
            "              precision    recall  f1-score   support\n",
            "\n",
            "   Not Fraud       0.98      1.00      0.99     85482\n",
            "       Fraud       0.81      0.35      0.49      3099\n",
            "\n",
            "    accuracy                           0.97     88581\n",
            "   macro avg       0.89      0.67      0.74     88581\n",
            "weighted avg       0.97      0.97      0.97     88581\n",
            "\n",
            "True Negatives (TN): 85225\n",
            "False Positives (FP): 257\n",
            "False Negatives (FN): 2021\n",
            "True Positives (TP): 1078\n"
          ]
        }
      ],
      "source": [
        "# Predict probabilities and convert to binary labels\n",
        "y_test_pred_prob = model_3.predict(X_test_processed)\n",
        "y_test_pred = (y_test_pred_prob > 0.5).astype(int).reshape(-1)\n",
        "y_test_true = y_test.values.reshape(-1)\n",
        "\n",
        "# Confusion matrix\n",
        "cm = confusion_matrix(y_test_true, y_test_pred)\n",
        "\n",
        "# Display with labels\n",
        "disp = ConfusionMatrixDisplay(confusion_matrix=cm, display_labels=[\"Not Fraud\", \"Fraud\"])\n",
        "disp.plot(cmap=\"Blues\")\n",
        "plt.title(\"Confusion Matrix - Test Set\")\n",
        "plt.show()\n",
        "\n",
        "# Detailed classification report\n",
        "report = classification_report(y_test_true, y_test_pred, target_names=[\"Not Fraud\", \"Fraud\"])\n",
        "print(\"=== Classification Report ===\")\n",
        "print(report)\n",
        "tn, fp, fn, tp = cm.ravel()\n",
        "print(f\"True Negatives (TN): {tn}\")\n",
        "print(f\"False Positives (FP): {fp}\")\n",
        "print(f\"False Negatives (FN): {fn}\")\n",
        "print(f\"True Positives (TP): {tp}\")\n"
      ]
    },
    {
      "cell_type": "markdown",
      "metadata": {},
      "source": [
        "### Model 4:\n",
        "  A neural network featuring L1 regularization and Dropout layers across its hidden architecture for binary classification. It's compiled with RMSprop and trained for 50 epochs, utilizing early stopping with a larger batch size."
      ]
    },
    {
      "cell_type": "code",
      "execution_count": 13,
      "metadata": {},
      "outputs": [
        {
          "name": "stderr",
          "output_type": "stream",
          "text": [
            "/Users/irakizagaius/Downloads/FraudDetection/.venv/lib/python3.10/site-packages/keras/src/layers/core/dense.py:93: UserWarning: Do not pass an `input_shape`/`input_dim` argument to a layer. When using Sequential models, prefer using an `Input(shape)` object as the first layer in the model instead.\n",
            "  super().__init__(activity_regularizer=activity_regularizer, **kwargs)\n"
          ]
        },
        {
          "name": "stdout",
          "output_type": "stream",
          "text": [
            "Epoch 1/50\n",
            "\u001b[1m6459/6459\u001b[0m \u001b[32m━━━━━━━━━━━━━━━━━━━━\u001b[0m\u001b[37m\u001b[0m \u001b[1m3653s\u001b[0m 565ms/step - accuracy: 0.9681 - loss: 0.2977 - val_accuracy: 0.9700 - val_loss: 0.1287\n",
            "Epoch 2/50\n",
            "\u001b[1m6459/6459\u001b[0m \u001b[32m━━━━━━━━━━━━━━━━━━━━\u001b[0m\u001b[37m\u001b[0m \u001b[1m9s\u001b[0m 1ms/step - accuracy: 0.9705 - loss: 0.1290 - val_accuracy: 0.9719 - val_loss: 0.1218\n",
            "Epoch 3/50\n",
            "\u001b[1m6459/6459\u001b[0m \u001b[32m━━━━━━━━━━━━━━━━━━━━\u001b[0m\u001b[37m\u001b[0m \u001b[1m9s\u001b[0m 1ms/step - accuracy: 0.9698 - loss: 0.1299 - val_accuracy: 0.9718 - val_loss: 0.1224\n",
            "Epoch 4/50\n",
            "\u001b[1m6459/6459\u001b[0m \u001b[32m━━━━━━━━━━━━━━━━━━━━\u001b[0m\u001b[37m\u001b[0m \u001b[1m5694s\u001b[0m 882ms/step - accuracy: 0.9699 - loss: 0.1292 - val_accuracy: 0.9721 - val_loss: 0.1253\n",
            "Epoch 5/50\n",
            "\u001b[1m4916/6459\u001b[0m \u001b[32m━━━━━━━━━━━━━━━\u001b[0m\u001b[37m━━━━━\u001b[0m \u001b[1m5s\u001b[0m 3ms/step - accuracy: 0.9702 - loss: 0.1283"
          ]
        },
        {
          "ename": "KeyboardInterrupt",
          "evalue": "",
          "output_type": "error",
          "traceback": [
            "\u001b[0;31m---------------------------------------------------------------------------\u001b[0m",
            "\u001b[0;31mKeyboardInterrupt\u001b[0m                         Traceback (most recent call last)",
            "Cell \u001b[0;32mIn[13], line 13\u001b[0m\n\u001b[1;32m      9\u001b[0m model_4\u001b[38;5;241m.\u001b[39mcompile(optimizer\u001b[38;5;241m=\u001b[39mRMSprop(learning_rate\u001b[38;5;241m=\u001b[39m\u001b[38;5;241m0.0005\u001b[39m), loss\u001b[38;5;241m=\u001b[39m\u001b[38;5;124m'\u001b[39m\u001b[38;5;124mbinary_crossentropy\u001b[39m\u001b[38;5;124m'\u001b[39m, metrics\u001b[38;5;241m=\u001b[39m[\u001b[38;5;124m'\u001b[39m\u001b[38;5;124maccuracy\u001b[39m\u001b[38;5;124m'\u001b[39m])\n\u001b[1;32m     11\u001b[0m early_stopping \u001b[38;5;241m=\u001b[39m EarlyStopping(monitor\u001b[38;5;241m=\u001b[39m\u001b[38;5;124m'\u001b[39m\u001b[38;5;124mval_loss\u001b[39m\u001b[38;5;124m'\u001b[39m, patience\u001b[38;5;241m=\u001b[39m\u001b[38;5;241m3\u001b[39m, restore_best_weights\u001b[38;5;241m=\u001b[39m\u001b[38;5;28;01mTrue\u001b[39;00m)\n\u001b[0;32m---> 13\u001b[0m history_4 \u001b[38;5;241m=\u001b[39m \u001b[43mmodel_4\u001b[49m\u001b[38;5;241;43m.\u001b[39;49m\u001b[43mfit\u001b[49m\u001b[43m(\u001b[49m\u001b[43mX_train_processed\u001b[49m\u001b[43m,\u001b[49m\u001b[43m \u001b[49m\u001b[43my_train\u001b[49m\u001b[43m,\u001b[49m\u001b[43m \u001b[49m\u001b[43mepochs\u001b[49m\u001b[38;5;241;43m=\u001b[39;49m\u001b[38;5;241;43m50\u001b[39;49m\u001b[43m,\u001b[49m\u001b[43m \u001b[49m\u001b[43mbatch_size\u001b[49m\u001b[38;5;241;43m=\u001b[39;49m\u001b[38;5;241;43m64\u001b[39;49m\u001b[43m,\u001b[49m\n\u001b[1;32m     14\u001b[0m \u001b[43m                        \u001b[49m\u001b[43mvalidation_data\u001b[49m\u001b[38;5;241;43m=\u001b[39;49m\u001b[43m(\u001b[49m\u001b[43mX_val_processed\u001b[49m\u001b[43m,\u001b[49m\u001b[43m \u001b[49m\u001b[43my_val\u001b[49m\u001b[43m)\u001b[49m\u001b[43m,\u001b[49m\n\u001b[1;32m     15\u001b[0m \u001b[43m                        \u001b[49m\u001b[43mcallbacks\u001b[49m\u001b[38;5;241;43m=\u001b[39;49m\u001b[43m[\u001b[49m\u001b[43mearly_stopping\u001b[49m\u001b[43m]\u001b[49m\u001b[43m,\u001b[49m\u001b[43m \u001b[49m\u001b[43mverbose\u001b[49m\u001b[38;5;241;43m=\u001b[39;49m\u001b[38;5;241;43m1\u001b[39;49m\u001b[43m)\u001b[49m\n\u001b[1;32m     17\u001b[0m save_model(model_4, \u001b[38;5;124m'\u001b[39m\u001b[38;5;124msaved_models/nn_instance_4.h5\u001b[39m\u001b[38;5;124m'\u001b[39m)\n",
            "File \u001b[0;32m~/Downloads/FraudDetection/.venv/lib/python3.10/site-packages/keras/src/utils/traceback_utils.py:117\u001b[0m, in \u001b[0;36mfilter_traceback.<locals>.error_handler\u001b[0;34m(*args, **kwargs)\u001b[0m\n\u001b[1;32m    115\u001b[0m filtered_tb \u001b[38;5;241m=\u001b[39m \u001b[38;5;28;01mNone\u001b[39;00m\n\u001b[1;32m    116\u001b[0m \u001b[38;5;28;01mtry\u001b[39;00m:\n\u001b[0;32m--> 117\u001b[0m     \u001b[38;5;28;01mreturn\u001b[39;00m \u001b[43mfn\u001b[49m\u001b[43m(\u001b[49m\u001b[38;5;241;43m*\u001b[39;49m\u001b[43margs\u001b[49m\u001b[43m,\u001b[49m\u001b[43m \u001b[49m\u001b[38;5;241;43m*\u001b[39;49m\u001b[38;5;241;43m*\u001b[39;49m\u001b[43mkwargs\u001b[49m\u001b[43m)\u001b[49m\n\u001b[1;32m    118\u001b[0m \u001b[38;5;28;01mexcept\u001b[39;00m \u001b[38;5;167;01mException\u001b[39;00m \u001b[38;5;28;01mas\u001b[39;00m e:\n\u001b[1;32m    119\u001b[0m     filtered_tb \u001b[38;5;241m=\u001b[39m _process_traceback_frames(e\u001b[38;5;241m.\u001b[39m__traceback__)\n",
            "File \u001b[0;32m~/Downloads/FraudDetection/.venv/lib/python3.10/site-packages/keras/src/backend/tensorflow/trainer.py:377\u001b[0m, in \u001b[0;36mTensorFlowTrainer.fit\u001b[0;34m(self, x, y, batch_size, epochs, verbose, callbacks, validation_split, validation_data, shuffle, class_weight, sample_weight, initial_epoch, steps_per_epoch, validation_steps, validation_batch_size, validation_freq)\u001b[0m\n\u001b[1;32m    375\u001b[0m \u001b[38;5;28;01mfor\u001b[39;00m step, iterator \u001b[38;5;129;01min\u001b[39;00m epoch_iterator:\n\u001b[1;32m    376\u001b[0m     callbacks\u001b[38;5;241m.\u001b[39mon_train_batch_begin(step)\n\u001b[0;32m--> 377\u001b[0m     logs \u001b[38;5;241m=\u001b[39m \u001b[38;5;28;43mself\u001b[39;49m\u001b[38;5;241;43m.\u001b[39;49m\u001b[43mtrain_function\u001b[49m\u001b[43m(\u001b[49m\u001b[43miterator\u001b[49m\u001b[43m)\u001b[49m\n\u001b[1;32m    378\u001b[0m     callbacks\u001b[38;5;241m.\u001b[39mon_train_batch_end(step, logs)\n\u001b[1;32m    379\u001b[0m     \u001b[38;5;28;01mif\u001b[39;00m \u001b[38;5;28mself\u001b[39m\u001b[38;5;241m.\u001b[39mstop_training:\n",
            "File \u001b[0;32m~/Downloads/FraudDetection/.venv/lib/python3.10/site-packages/keras/src/backend/tensorflow/trainer.py:220\u001b[0m, in \u001b[0;36mTensorFlowTrainer._make_function.<locals>.function\u001b[0;34m(iterator)\u001b[0m\n\u001b[1;32m    216\u001b[0m \u001b[38;5;28;01mdef\u001b[39;00m\u001b[38;5;250m \u001b[39m\u001b[38;5;21mfunction\u001b[39m(iterator):\n\u001b[1;32m    217\u001b[0m     \u001b[38;5;28;01mif\u001b[39;00m \u001b[38;5;28misinstance\u001b[39m(\n\u001b[1;32m    218\u001b[0m         iterator, (tf\u001b[38;5;241m.\u001b[39mdata\u001b[38;5;241m.\u001b[39mIterator, tf\u001b[38;5;241m.\u001b[39mdistribute\u001b[38;5;241m.\u001b[39mDistributedIterator)\n\u001b[1;32m    219\u001b[0m     ):\n\u001b[0;32m--> 220\u001b[0m         opt_outputs \u001b[38;5;241m=\u001b[39m \u001b[43mmulti_step_on_iterator\u001b[49m\u001b[43m(\u001b[49m\u001b[43miterator\u001b[49m\u001b[43m)\u001b[49m\n\u001b[1;32m    221\u001b[0m         \u001b[38;5;28;01mif\u001b[39;00m \u001b[38;5;129;01mnot\u001b[39;00m opt_outputs\u001b[38;5;241m.\u001b[39mhas_value():\n\u001b[1;32m    222\u001b[0m             \u001b[38;5;28;01mraise\u001b[39;00m \u001b[38;5;167;01mStopIteration\u001b[39;00m\n",
            "File \u001b[0;32m~/Downloads/FraudDetection/.venv/lib/python3.10/site-packages/tensorflow/python/util/traceback_utils.py:150\u001b[0m, in \u001b[0;36mfilter_traceback.<locals>.error_handler\u001b[0;34m(*args, **kwargs)\u001b[0m\n\u001b[1;32m    148\u001b[0m filtered_tb \u001b[38;5;241m=\u001b[39m \u001b[38;5;28;01mNone\u001b[39;00m\n\u001b[1;32m    149\u001b[0m \u001b[38;5;28;01mtry\u001b[39;00m:\n\u001b[0;32m--> 150\u001b[0m   \u001b[38;5;28;01mreturn\u001b[39;00m \u001b[43mfn\u001b[49m\u001b[43m(\u001b[49m\u001b[38;5;241;43m*\u001b[39;49m\u001b[43margs\u001b[49m\u001b[43m,\u001b[49m\u001b[43m \u001b[49m\u001b[38;5;241;43m*\u001b[39;49m\u001b[38;5;241;43m*\u001b[39;49m\u001b[43mkwargs\u001b[49m\u001b[43m)\u001b[49m\n\u001b[1;32m    151\u001b[0m \u001b[38;5;28;01mexcept\u001b[39;00m \u001b[38;5;167;01mException\u001b[39;00m \u001b[38;5;28;01mas\u001b[39;00m e:\n\u001b[1;32m    152\u001b[0m   filtered_tb \u001b[38;5;241m=\u001b[39m _process_traceback_frames(e\u001b[38;5;241m.\u001b[39m__traceback__)\n",
            "File \u001b[0;32m~/Downloads/FraudDetection/.venv/lib/python3.10/site-packages/tensorflow/python/eager/polymorphic_function/polymorphic_function.py:833\u001b[0m, in \u001b[0;36mFunction.__call__\u001b[0;34m(self, *args, **kwds)\u001b[0m\n\u001b[1;32m    830\u001b[0m compiler \u001b[38;5;241m=\u001b[39m \u001b[38;5;124m\"\u001b[39m\u001b[38;5;124mxla\u001b[39m\u001b[38;5;124m\"\u001b[39m \u001b[38;5;28;01mif\u001b[39;00m \u001b[38;5;28mself\u001b[39m\u001b[38;5;241m.\u001b[39m_jit_compile \u001b[38;5;28;01melse\u001b[39;00m \u001b[38;5;124m\"\u001b[39m\u001b[38;5;124mnonXla\u001b[39m\u001b[38;5;124m\"\u001b[39m\n\u001b[1;32m    832\u001b[0m \u001b[38;5;28;01mwith\u001b[39;00m OptionalXlaContext(\u001b[38;5;28mself\u001b[39m\u001b[38;5;241m.\u001b[39m_jit_compile):\n\u001b[0;32m--> 833\u001b[0m   result \u001b[38;5;241m=\u001b[39m \u001b[38;5;28;43mself\u001b[39;49m\u001b[38;5;241;43m.\u001b[39;49m\u001b[43m_call\u001b[49m\u001b[43m(\u001b[49m\u001b[38;5;241;43m*\u001b[39;49m\u001b[43margs\u001b[49m\u001b[43m,\u001b[49m\u001b[43m \u001b[49m\u001b[38;5;241;43m*\u001b[39;49m\u001b[38;5;241;43m*\u001b[39;49m\u001b[43mkwds\u001b[49m\u001b[43m)\u001b[49m\n\u001b[1;32m    835\u001b[0m new_tracing_count \u001b[38;5;241m=\u001b[39m \u001b[38;5;28mself\u001b[39m\u001b[38;5;241m.\u001b[39mexperimental_get_tracing_count()\n\u001b[1;32m    836\u001b[0m without_tracing \u001b[38;5;241m=\u001b[39m (tracing_count \u001b[38;5;241m==\u001b[39m new_tracing_count)\n",
            "File \u001b[0;32m~/Downloads/FraudDetection/.venv/lib/python3.10/site-packages/tensorflow/python/eager/polymorphic_function/polymorphic_function.py:878\u001b[0m, in \u001b[0;36mFunction._call\u001b[0;34m(self, *args, **kwds)\u001b[0m\n\u001b[1;32m    875\u001b[0m \u001b[38;5;28mself\u001b[39m\u001b[38;5;241m.\u001b[39m_lock\u001b[38;5;241m.\u001b[39mrelease()\n\u001b[1;32m    876\u001b[0m \u001b[38;5;66;03m# In this case we have not created variables on the first call. So we can\u001b[39;00m\n\u001b[1;32m    877\u001b[0m \u001b[38;5;66;03m# run the first trace but we should fail if variables are created.\u001b[39;00m\n\u001b[0;32m--> 878\u001b[0m results \u001b[38;5;241m=\u001b[39m \u001b[43mtracing_compilation\u001b[49m\u001b[38;5;241;43m.\u001b[39;49m\u001b[43mcall_function\u001b[49m\u001b[43m(\u001b[49m\n\u001b[1;32m    879\u001b[0m \u001b[43m    \u001b[49m\u001b[43margs\u001b[49m\u001b[43m,\u001b[49m\u001b[43m \u001b[49m\u001b[43mkwds\u001b[49m\u001b[43m,\u001b[49m\u001b[43m \u001b[49m\u001b[38;5;28;43mself\u001b[39;49m\u001b[38;5;241;43m.\u001b[39;49m\u001b[43m_variable_creation_config\u001b[49m\n\u001b[1;32m    880\u001b[0m \u001b[43m\u001b[49m\u001b[43m)\u001b[49m\n\u001b[1;32m    881\u001b[0m \u001b[38;5;28;01mif\u001b[39;00m \u001b[38;5;28mself\u001b[39m\u001b[38;5;241m.\u001b[39m_created_variables:\n\u001b[1;32m    882\u001b[0m   \u001b[38;5;28;01mraise\u001b[39;00m \u001b[38;5;167;01mValueError\u001b[39;00m(\u001b[38;5;124m\"\u001b[39m\u001b[38;5;124mCreating variables on a non-first call to a function\u001b[39m\u001b[38;5;124m\"\u001b[39m\n\u001b[1;32m    883\u001b[0m                    \u001b[38;5;124m\"\u001b[39m\u001b[38;5;124m decorated with tf.function.\u001b[39m\u001b[38;5;124m\"\u001b[39m)\n",
            "File \u001b[0;32m~/Downloads/FraudDetection/.venv/lib/python3.10/site-packages/tensorflow/python/eager/polymorphic_function/tracing_compilation.py:139\u001b[0m, in \u001b[0;36mcall_function\u001b[0;34m(args, kwargs, tracing_options)\u001b[0m\n\u001b[1;32m    137\u001b[0m bound_args \u001b[38;5;241m=\u001b[39m function\u001b[38;5;241m.\u001b[39mfunction_type\u001b[38;5;241m.\u001b[39mbind(\u001b[38;5;241m*\u001b[39margs, \u001b[38;5;241m*\u001b[39m\u001b[38;5;241m*\u001b[39mkwargs)\n\u001b[1;32m    138\u001b[0m flat_inputs \u001b[38;5;241m=\u001b[39m function\u001b[38;5;241m.\u001b[39mfunction_type\u001b[38;5;241m.\u001b[39munpack_inputs(bound_args)\n\u001b[0;32m--> 139\u001b[0m \u001b[38;5;28;01mreturn\u001b[39;00m \u001b[43mfunction\u001b[49m\u001b[38;5;241;43m.\u001b[39;49m\u001b[43m_call_flat\u001b[49m\u001b[43m(\u001b[49m\u001b[43m  \u001b[49m\u001b[38;5;66;43;03m# pylint: disable=protected-access\u001b[39;49;00m\n\u001b[1;32m    140\u001b[0m \u001b[43m    \u001b[49m\u001b[43mflat_inputs\u001b[49m\u001b[43m,\u001b[49m\u001b[43m \u001b[49m\u001b[43mcaptured_inputs\u001b[49m\u001b[38;5;241;43m=\u001b[39;49m\u001b[43mfunction\u001b[49m\u001b[38;5;241;43m.\u001b[39;49m\u001b[43mcaptured_inputs\u001b[49m\n\u001b[1;32m    141\u001b[0m \u001b[43m\u001b[49m\u001b[43m)\u001b[49m\n",
            "File \u001b[0;32m~/Downloads/FraudDetection/.venv/lib/python3.10/site-packages/tensorflow/python/eager/polymorphic_function/concrete_function.py:1322\u001b[0m, in \u001b[0;36mConcreteFunction._call_flat\u001b[0;34m(self, tensor_inputs, captured_inputs)\u001b[0m\n\u001b[1;32m   1318\u001b[0m possible_gradient_type \u001b[38;5;241m=\u001b[39m gradients_util\u001b[38;5;241m.\u001b[39mPossibleTapeGradientTypes(args)\n\u001b[1;32m   1319\u001b[0m \u001b[38;5;28;01mif\u001b[39;00m (possible_gradient_type \u001b[38;5;241m==\u001b[39m gradients_util\u001b[38;5;241m.\u001b[39mPOSSIBLE_GRADIENT_TYPES_NONE\n\u001b[1;32m   1320\u001b[0m     \u001b[38;5;129;01mand\u001b[39;00m executing_eagerly):\n\u001b[1;32m   1321\u001b[0m   \u001b[38;5;66;03m# No tape is watching; skip to running the function.\u001b[39;00m\n\u001b[0;32m-> 1322\u001b[0m   \u001b[38;5;28;01mreturn\u001b[39;00m \u001b[38;5;28;43mself\u001b[39;49m\u001b[38;5;241;43m.\u001b[39;49m\u001b[43m_inference_function\u001b[49m\u001b[38;5;241;43m.\u001b[39;49m\u001b[43mcall_preflattened\u001b[49m\u001b[43m(\u001b[49m\u001b[43margs\u001b[49m\u001b[43m)\u001b[49m\n\u001b[1;32m   1323\u001b[0m forward_backward \u001b[38;5;241m=\u001b[39m \u001b[38;5;28mself\u001b[39m\u001b[38;5;241m.\u001b[39m_select_forward_and_backward_functions(\n\u001b[1;32m   1324\u001b[0m     args,\n\u001b[1;32m   1325\u001b[0m     possible_gradient_type,\n\u001b[1;32m   1326\u001b[0m     executing_eagerly)\n\u001b[1;32m   1327\u001b[0m forward_function, args_with_tangents \u001b[38;5;241m=\u001b[39m forward_backward\u001b[38;5;241m.\u001b[39mforward()\n",
            "File \u001b[0;32m~/Downloads/FraudDetection/.venv/lib/python3.10/site-packages/tensorflow/python/eager/polymorphic_function/atomic_function.py:216\u001b[0m, in \u001b[0;36mAtomicFunction.call_preflattened\u001b[0;34m(self, args)\u001b[0m\n\u001b[1;32m    214\u001b[0m \u001b[38;5;28;01mdef\u001b[39;00m\u001b[38;5;250m \u001b[39m\u001b[38;5;21mcall_preflattened\u001b[39m(\u001b[38;5;28mself\u001b[39m, args: Sequence[core\u001b[38;5;241m.\u001b[39mTensor]) \u001b[38;5;241m-\u001b[39m\u001b[38;5;241m>\u001b[39m Any:\n\u001b[1;32m    215\u001b[0m \u001b[38;5;250m  \u001b[39m\u001b[38;5;124;03m\"\"\"Calls with flattened tensor inputs and returns the structured output.\"\"\"\u001b[39;00m\n\u001b[0;32m--> 216\u001b[0m   flat_outputs \u001b[38;5;241m=\u001b[39m \u001b[38;5;28;43mself\u001b[39;49m\u001b[38;5;241;43m.\u001b[39;49m\u001b[43mcall_flat\u001b[49m\u001b[43m(\u001b[49m\u001b[38;5;241;43m*\u001b[39;49m\u001b[43margs\u001b[49m\u001b[43m)\u001b[49m\n\u001b[1;32m    217\u001b[0m   \u001b[38;5;28;01mreturn\u001b[39;00m \u001b[38;5;28mself\u001b[39m\u001b[38;5;241m.\u001b[39mfunction_type\u001b[38;5;241m.\u001b[39mpack_output(flat_outputs)\n",
            "File \u001b[0;32m~/Downloads/FraudDetection/.venv/lib/python3.10/site-packages/tensorflow/python/eager/polymorphic_function/atomic_function.py:251\u001b[0m, in \u001b[0;36mAtomicFunction.call_flat\u001b[0;34m(self, *args)\u001b[0m\n\u001b[1;32m    249\u001b[0m \u001b[38;5;28;01mwith\u001b[39;00m record\u001b[38;5;241m.\u001b[39mstop_recording():\n\u001b[1;32m    250\u001b[0m   \u001b[38;5;28;01mif\u001b[39;00m \u001b[38;5;28mself\u001b[39m\u001b[38;5;241m.\u001b[39m_bound_context\u001b[38;5;241m.\u001b[39mexecuting_eagerly():\n\u001b[0;32m--> 251\u001b[0m     outputs \u001b[38;5;241m=\u001b[39m \u001b[38;5;28;43mself\u001b[39;49m\u001b[38;5;241;43m.\u001b[39;49m\u001b[43m_bound_context\u001b[49m\u001b[38;5;241;43m.\u001b[39;49m\u001b[43mcall_function\u001b[49m\u001b[43m(\u001b[49m\n\u001b[1;32m    252\u001b[0m \u001b[43m        \u001b[49m\u001b[38;5;28;43mself\u001b[39;49m\u001b[38;5;241;43m.\u001b[39;49m\u001b[43mname\u001b[49m\u001b[43m,\u001b[49m\n\u001b[1;32m    253\u001b[0m \u001b[43m        \u001b[49m\u001b[38;5;28;43mlist\u001b[39;49m\u001b[43m(\u001b[49m\u001b[43margs\u001b[49m\u001b[43m)\u001b[49m\u001b[43m,\u001b[49m\n\u001b[1;32m    254\u001b[0m \u001b[43m        \u001b[49m\u001b[38;5;28;43mlen\u001b[39;49m\u001b[43m(\u001b[49m\u001b[38;5;28;43mself\u001b[39;49m\u001b[38;5;241;43m.\u001b[39;49m\u001b[43mfunction_type\u001b[49m\u001b[38;5;241;43m.\u001b[39;49m\u001b[43mflat_outputs\u001b[49m\u001b[43m)\u001b[49m\u001b[43m,\u001b[49m\n\u001b[1;32m    255\u001b[0m \u001b[43m    \u001b[49m\u001b[43m)\u001b[49m\n\u001b[1;32m    256\u001b[0m   \u001b[38;5;28;01melse\u001b[39;00m:\n\u001b[1;32m    257\u001b[0m     outputs \u001b[38;5;241m=\u001b[39m make_call_op_in_graph(\n\u001b[1;32m    258\u001b[0m         \u001b[38;5;28mself\u001b[39m,\n\u001b[1;32m    259\u001b[0m         \u001b[38;5;28mlist\u001b[39m(args),\n\u001b[1;32m    260\u001b[0m         \u001b[38;5;28mself\u001b[39m\u001b[38;5;241m.\u001b[39m_bound_context\u001b[38;5;241m.\u001b[39mfunction_call_options\u001b[38;5;241m.\u001b[39mas_attrs(),\n\u001b[1;32m    261\u001b[0m     )\n",
            "File \u001b[0;32m~/Downloads/FraudDetection/.venv/lib/python3.10/site-packages/tensorflow/python/eager/context.py:1500\u001b[0m, in \u001b[0;36mContext.call_function\u001b[0;34m(self, name, tensor_inputs, num_outputs)\u001b[0m\n\u001b[1;32m   1498\u001b[0m cancellation_context \u001b[38;5;241m=\u001b[39m cancellation\u001b[38;5;241m.\u001b[39mcontext()\n\u001b[1;32m   1499\u001b[0m \u001b[38;5;28;01mif\u001b[39;00m cancellation_context \u001b[38;5;129;01mis\u001b[39;00m \u001b[38;5;28;01mNone\u001b[39;00m:\n\u001b[0;32m-> 1500\u001b[0m   outputs \u001b[38;5;241m=\u001b[39m \u001b[43mexecute\u001b[49m\u001b[38;5;241;43m.\u001b[39;49m\u001b[43mexecute\u001b[49m\u001b[43m(\u001b[49m\n\u001b[1;32m   1501\u001b[0m \u001b[43m      \u001b[49m\u001b[43mname\u001b[49m\u001b[38;5;241;43m.\u001b[39;49m\u001b[43mdecode\u001b[49m\u001b[43m(\u001b[49m\u001b[38;5;124;43m\"\u001b[39;49m\u001b[38;5;124;43mutf-8\u001b[39;49m\u001b[38;5;124;43m\"\u001b[39;49m\u001b[43m)\u001b[49m\u001b[43m,\u001b[49m\n\u001b[1;32m   1502\u001b[0m \u001b[43m      \u001b[49m\u001b[43mnum_outputs\u001b[49m\u001b[38;5;241;43m=\u001b[39;49m\u001b[43mnum_outputs\u001b[49m\u001b[43m,\u001b[49m\n\u001b[1;32m   1503\u001b[0m \u001b[43m      \u001b[49m\u001b[43minputs\u001b[49m\u001b[38;5;241;43m=\u001b[39;49m\u001b[43mtensor_inputs\u001b[49m\u001b[43m,\u001b[49m\n\u001b[1;32m   1504\u001b[0m \u001b[43m      \u001b[49m\u001b[43mattrs\u001b[49m\u001b[38;5;241;43m=\u001b[39;49m\u001b[43mattrs\u001b[49m\u001b[43m,\u001b[49m\n\u001b[1;32m   1505\u001b[0m \u001b[43m      \u001b[49m\u001b[43mctx\u001b[49m\u001b[38;5;241;43m=\u001b[39;49m\u001b[38;5;28;43mself\u001b[39;49m\u001b[43m,\u001b[49m\n\u001b[1;32m   1506\u001b[0m \u001b[43m  \u001b[49m\u001b[43m)\u001b[49m\n\u001b[1;32m   1507\u001b[0m \u001b[38;5;28;01melse\u001b[39;00m:\n\u001b[1;32m   1508\u001b[0m   outputs \u001b[38;5;241m=\u001b[39m execute\u001b[38;5;241m.\u001b[39mexecute_with_cancellation(\n\u001b[1;32m   1509\u001b[0m       name\u001b[38;5;241m.\u001b[39mdecode(\u001b[38;5;124m\"\u001b[39m\u001b[38;5;124mutf-8\u001b[39m\u001b[38;5;124m\"\u001b[39m),\n\u001b[1;32m   1510\u001b[0m       num_outputs\u001b[38;5;241m=\u001b[39mnum_outputs,\n\u001b[0;32m   (...)\u001b[0m\n\u001b[1;32m   1514\u001b[0m       cancellation_manager\u001b[38;5;241m=\u001b[39mcancellation_context,\n\u001b[1;32m   1515\u001b[0m   )\n",
            "File \u001b[0;32m~/Downloads/FraudDetection/.venv/lib/python3.10/site-packages/tensorflow/python/eager/execute.py:53\u001b[0m, in \u001b[0;36mquick_execute\u001b[0;34m(op_name, num_outputs, inputs, attrs, ctx, name)\u001b[0m\n\u001b[1;32m     51\u001b[0m \u001b[38;5;28;01mtry\u001b[39;00m:\n\u001b[1;32m     52\u001b[0m   ctx\u001b[38;5;241m.\u001b[39mensure_initialized()\n\u001b[0;32m---> 53\u001b[0m   tensors \u001b[38;5;241m=\u001b[39m \u001b[43mpywrap_tfe\u001b[49m\u001b[38;5;241;43m.\u001b[39;49m\u001b[43mTFE_Py_Execute\u001b[49m\u001b[43m(\u001b[49m\u001b[43mctx\u001b[49m\u001b[38;5;241;43m.\u001b[39;49m\u001b[43m_handle\u001b[49m\u001b[43m,\u001b[49m\u001b[43m \u001b[49m\u001b[43mdevice_name\u001b[49m\u001b[43m,\u001b[49m\u001b[43m \u001b[49m\u001b[43mop_name\u001b[49m\u001b[43m,\u001b[49m\n\u001b[1;32m     54\u001b[0m \u001b[43m                                      \u001b[49m\u001b[43minputs\u001b[49m\u001b[43m,\u001b[49m\u001b[43m \u001b[49m\u001b[43mattrs\u001b[49m\u001b[43m,\u001b[49m\u001b[43m \u001b[49m\u001b[43mnum_outputs\u001b[49m\u001b[43m)\u001b[49m\n\u001b[1;32m     55\u001b[0m \u001b[38;5;28;01mexcept\u001b[39;00m core\u001b[38;5;241m.\u001b[39m_NotOkStatusException \u001b[38;5;28;01mas\u001b[39;00m e:\n\u001b[1;32m     56\u001b[0m   \u001b[38;5;28;01mif\u001b[39;00m name \u001b[38;5;129;01mis\u001b[39;00m \u001b[38;5;129;01mnot\u001b[39;00m \u001b[38;5;28;01mNone\u001b[39;00m:\n",
            "\u001b[0;31mKeyboardInterrupt\u001b[0m: "
          ]
        }
      ],
      "source": [
        "model_4 = Sequential([\n",
        "    Dense(128, activation='relu', input_shape=(X_train_processed.shape[1],), kernel_regularizer=l1(0.001)),\n",
        "    Dropout(0.3),\n",
        "    Dense(64, activation='relu'),\n",
        "    Dropout(0.2),\n",
        "    Dense(1, activation='sigmoid')\n",
        "])\n",
        "\n",
        "model_4.compile(optimizer=RMSprop(learning_rate=0.0005), loss='binary_crossentropy', metrics=['accuracy'])\n",
        "\n",
        "early_stopping = EarlyStopping(monitor='val_loss', patience=3, restore_best_weights=True)\n",
        "\n",
        "history_4 = model_4.fit(X_train_processed, y_train, epochs=50, batch_size=64,\n",
        "                        validation_data=(X_val_processed, y_val),\n",
        "                        callbacks=[early_stopping], verbose=1)\n",
        "\n",
        "save_model(model_4, 'saved_models/nn_instance_4.h5')\n"
      ]
    },
    {
      "cell_type": "markdown",
      "metadata": {},
      "source": [
        "### Model 4 Error analysis:"
      ]
    },
    {
      "cell_type": "code",
      "execution_count": null,
      "metadata": {},
      "outputs": [
        {
          "name": "stdout",
          "output_type": "stream",
          "text": [
            "\u001b[1m2769/2769\u001b[0m \u001b[32m━━━━━━━━━━━━━━━━━━━━\u001b[0m\u001b[37m\u001b[0m \u001b[1m2s\u001b[0m 673us/step\n"
          ]
        },
        {
          "data": {
            "image/png": "[encoded data removed]",
            "text/plain": [
              "<Figure size 640x480 with 2 Axes>"
            ]
          },
          "metadata": {},
          "output_type": "display_data"
        },
        {
          "name": "stdout",
          "output_type": "stream",
          "text": [
            "=== Classification Report ===\n",
            "              precision    recall  f1-score   support\n",
            "\n",
            "   Not Fraud       0.98      1.00      0.99     85482\n",
            "       Fraud       0.75      0.30      0.43      3099\n",
            "\n",
            "    accuracy                           0.97     88581\n",
            "   macro avg       0.86      0.65      0.71     88581\n",
            "weighted avg       0.97      0.97      0.97     88581\n",
            "\n",
            "True Negatives (TN): 85164\n",
            "False Positives (FP): 318\n",
            "False Negatives (FN): 2158\n",
            "True Positives (TP): 941\n"
          ]
        }
      ],
      "source": [
        "# Predict probabilities and convert to binary labels\n",
        "y_test_pred_prob = model_4.predict(X_test_processed)\n",
        "y_test_pred = (y_test_pred_prob > 0.5).astype(int).reshape(-1)\n",
        "y_test_true = y_test.values.reshape(-1)\n",
        "\n",
        "# Confusion matrix\n",
        "cm = confusion_matrix(y_test_true, y_test_pred)\n",
        "\n",
        "# Display with labels\n",
        "disp = ConfusionMatrixDisplay(confusion_matrix=cm, display_labels=[\"Not Fraud\", \"Fraud\"])\n",
        "disp.plot(cmap=\"Blues\")\n",
        "plt.title(\"Confusion Matrix - Test Set\")\n",
        "plt.show()\n",
        "\n",
        "# Detailed classification report\n",
        "report = classification_report(y_test_true, y_test_pred, target_names=[\"Not Fraud\", \"Fraud\"])\n",
        "print(\"=== Classification Report ===\")\n",
        "print(report)\n",
        "tn, fp, fn, tp = cm.ravel()\n",
        "print(f\"True Negatives (TN): {tn}\")\n",
        "print(f\"False Positives (FP): {fp}\")\n",
        "print(f\"False Negatives (FN): {fn}\")\n",
        "print(f\"True Positives (TP): {tp}\")\n"
      ]
    },
    {
      "cell_type": "markdown",
      "metadata": {},
      "source": [
        "### Model 5:\n",
        "A deep neural network with three hidden layers (256, 128, 64 neurons), applying L2 regularization on the first layer for binary classification. It's compiled using the SGD optimizer and trained for 30 epochs with a batch size of 64. The trained model is then saved to a file."
      ]
    },
    {
      "cell_type": "code",
      "execution_count": null,
      "metadata": {},
      "outputs": [
        {
          "name": "stdout",
          "output_type": "stream",
          "text": [
            "Epoch 1/30\n",
            "\u001b[1m7382/7382\u001b[0m \u001b[32m━━━━━━━━━━━━━━━━━━━━\u001b[0m\u001b[37m\u001b[0m \u001b[1m13s\u001b[0m 2ms/step - accuracy: 0.9659 - loss: 0.1445 - val_accuracy: 0.9720 - val_loss: 0.1176\n",
            "Epoch 2/30\n",
            "\u001b[1m7382/7382\u001b[0m \u001b[32m━━━━━━━━━━━━━━━━━━━━\u001b[0m\u001b[37m\u001b[0m \u001b[1m13s\u001b[0m 2ms/step - accuracy: 0.9719 - loss: 0.1167 - val_accuracy: 0.9727 - val_loss: 0.1133\n",
            "Epoch 3/30\n",
            "\u001b[1m7382/7382\u001b[0m \u001b[32m━━━━━━━━━━━━━━━━━━━━\u001b[0m\u001b[37m\u001b[0m \u001b[1m13s\u001b[0m 2ms/step - accuracy: 0.9727 - loss: 0.1119 - val_accuracy: 0.9734 - val_loss: 0.1105\n",
            "Epoch 4/30\n",
            "\u001b[1m7382/7382\u001b[0m \u001b[32m━━━━━━━━━━━━━━━━━━━━\u001b[0m\u001b[37m\u001b[0m \u001b[1m13s\u001b[0m 2ms/step - accuracy: 0.9731 - loss: 0.1100 - val_accuracy: 0.9737 - val_loss: 0.1078\n",
            "Epoch 5/30\n",
            "\u001b[1m7382/7382\u001b[0m \u001b[32m━━━━━━━━━━━━━━━━━━━━\u001b[0m\u001b[37m\u001b[0m \u001b[1m13s\u001b[0m 2ms/step - accuracy: 0.9733 - loss: 0.1084 - val_accuracy: 0.9741 - val_loss: 0.1058\n",
            "Epoch 6/30\n",
            "\u001b[1m7382/7382\u001b[0m \u001b[32m━━━━━━━━━━━━━━━━━━━━\u001b[0m\u001b[37m\u001b[0m \u001b[1m13s\u001b[0m 2ms/step - accuracy: 0.9742 - loss: 0.1053 - val_accuracy: 0.9741 - val_loss: 0.1054\n",
            "Epoch 7/30\n",
            "\u001b[1m7382/7382\u001b[0m \u001b[32m━━━━━━━━━━━━━━━━━━━━\u001b[0m\u001b[37m\u001b[0m \u001b[1m13s\u001b[0m 2ms/step - accuracy: 0.9746 - loss: 0.1041 - val_accuracy: 0.9746 - val_loss: 0.1034\n",
            "Epoch 8/30\n",
            "\u001b[1m7382/7382\u001b[0m \u001b[32m━━━━━━━━━━━━━━━━━━━━\u001b[0m\u001b[37m\u001b[0m \u001b[1m13s\u001b[0m 2ms/step - accuracy: 0.9752 - loss: 0.1005 - val_accuracy: 0.9750 - val_loss: 0.1010\n",
            "Epoch 9/30\n",
            "\u001b[1m7382/7382\u001b[0m \u001b[32m━━━━━━━━━━━━━━━━━━━━\u001b[0m\u001b[37m\u001b[0m \u001b[1m13s\u001b[0m 2ms/step - accuracy: 0.9754 - loss: 0.0995 - val_accuracy: 0.9751 - val_loss: 0.1005\n",
            "Epoch 10/30\n",
            "\u001b[1m7382/7382\u001b[0m \u001b[32m━━━━━━━━━━━━━━━━━━━━\u001b[0m\u001b[37m\u001b[0m \u001b[1m13s\u001b[0m 2ms/step - accuracy: 0.9760 - loss: 0.0976 - val_accuracy: 0.9755 - val_loss: 0.0993\n",
            "Epoch 11/30\n",
            "\u001b[1m7382/7382\u001b[0m \u001b[32m━━━━━━━━━━━━━━━━━━━━\u001b[0m\u001b[37m\u001b[0m \u001b[1m13s\u001b[0m 2ms/step - accuracy: 0.9759 - loss: 0.0964 - val_accuracy: 0.9760 - val_loss: 0.0973\n",
            "Epoch 12/30\n",
            "\u001b[1m7382/7382\u001b[0m \u001b[32m━━━━━━━━━━━━━━━━━━━━\u001b[0m\u001b[37m\u001b[0m \u001b[1m13s\u001b[0m 2ms/step - accuracy: 0.9764 - loss: 0.0940 - val_accuracy: 0.9758 - val_loss: 0.0972\n",
            "Epoch 13/30\n",
            "\u001b[1m7382/7382\u001b[0m \u001b[32m━━━━━━━━━━━━━━━━━━━━\u001b[0m\u001b[37m\u001b[0m \u001b[1m13s\u001b[0m 2ms/step - accuracy: 0.9766 - loss: 0.0934 - val_accuracy: 0.9765 - val_loss: 0.0957\n",
            "Epoch 14/30\n",
            "\u001b[1m7382/7382\u001b[0m \u001b[32m━━━━━━━━━━━━━━━━━━━━\u001b[0m\u001b[37m\u001b[0m \u001b[1m13s\u001b[0m 2ms/step - accuracy: 0.9765 - loss: 0.0927 - val_accuracy: 0.9758 - val_loss: 0.0957\n",
            "Epoch 15/30\n",
            "\u001b[1m7382/7382\u001b[0m \u001b[32m━━━━━━━━━━━━━━━━━━━━\u001b[0m\u001b[37m\u001b[0m \u001b[1m13s\u001b[0m 2ms/step - accuracy: 0.9770 - loss: 0.0916 - val_accuracy: 0.9760 - val_loss: 0.0946\n",
            "Epoch 16/30\n",
            "\u001b[1m7382/7382\u001b[0m \u001b[32m━━━━━━━━━━━━━━━━━━━━\u001b[0m\u001b[37m\u001b[0m \u001b[1m13s\u001b[0m 2ms/step - accuracy: 0.9774 - loss: 0.0901 - val_accuracy: 0.9764 - val_loss: 0.0940\n",
            "Epoch 17/30\n",
            "\u001b[1m7382/7382\u001b[0m \u001b[32m━━━━━━━━━━━━━━━━━━━━\u001b[0m\u001b[37m\u001b[0m \u001b[1m13s\u001b[0m 2ms/step - accuracy: 0.9775 - loss: 0.0894 - val_accuracy: 0.9764 - val_loss: 0.0933\n",
            "Epoch 18/30\n",
            "\u001b[1m7382/7382\u001b[0m \u001b[32m━━━━━━━━━━━━━━━━━━━━\u001b[0m\u001b[37m\u001b[0m \u001b[1m13s\u001b[0m 2ms/step - accuracy: 0.9779 - loss: 0.0871 - val_accuracy: 0.9769 - val_loss: 0.0915\n",
            "Epoch 19/30\n",
            "\u001b[1m7382/7382\u001b[0m \u001b[32m━━━━━━━━━━━━━━━━━━━━\u001b[0m\u001b[37m\u001b[0m \u001b[1m13s\u001b[0m 2ms/step - accuracy: 0.9775 - loss: 0.0877 - val_accuracy: 0.9769 - val_loss: 0.0932\n",
            "Epoch 20/30\n",
            "\u001b[1m7382/7382\u001b[0m \u001b[32m━━━━━━━━━━━━━━━━━━━━\u001b[0m\u001b[37m\u001b[0m \u001b[1m13s\u001b[0m 2ms/step - accuracy: 0.9780 - loss: 0.0862 - val_accuracy: 0.9762 - val_loss: 0.0939\n",
            "Epoch 21/30\n",
            "\u001b[1m7382/7382\u001b[0m \u001b[32m━━━━━━━━━━━━━━━━━━━━\u001b[0m\u001b[37m\u001b[0m \u001b[1m13s\u001b[0m 2ms/step - accuracy: 0.9788 - loss: 0.0838 - val_accuracy: 0.9772 - val_loss: 0.0899\n",
            "Epoch 22/30\n",
            "\u001b[1m7382/7382\u001b[0m \u001b[32m━━━━━━━━━━━━━━━━━━━━\u001b[0m\u001b[37m\u001b[0m \u001b[1m13s\u001b[0m 2ms/step - accuracy: 0.9783 - loss: 0.0846 - val_accuracy: 0.9772 - val_loss: 0.0890\n",
            "Epoch 23/30\n",
            "\u001b[1m7382/7382\u001b[0m \u001b[32m━━━━━━━━━━━━━━━━━━━━\u001b[0m\u001b[37m\u001b[0m \u001b[1m13s\u001b[0m 2ms/step - accuracy: 0.9790 - loss: 0.0821 - val_accuracy: 0.9776 - val_loss: 0.0884\n",
            "Epoch 24/30\n",
            "\u001b[1m7382/7382\u001b[0m \u001b[32m━━━━━━━━━━━━━━━━━━━━\u001b[0m\u001b[37m\u001b[0m \u001b[1m13s\u001b[0m 2ms/step - accuracy: 0.9786 - loss: 0.0822 - val_accuracy: 0.9769 - val_loss: 0.0905\n",
            "Epoch 25/30\n",
            "\u001b[1m7382/7382\u001b[0m \u001b[32m━━━━━━━━━━━━━━━━━━━━\u001b[0m\u001b[37m\u001b[0m \u001b[1m14s\u001b[0m 2ms/step - accuracy: 0.9794 - loss: 0.0804 - val_accuracy: 0.9773 - val_loss: 0.0894\n",
            "Epoch 26/30\n",
            "\u001b[1m7382/7382\u001b[0m \u001b[32m━━━━━━━━━━━━━━━━━━━━\u001b[0m\u001b[37m\u001b[0m \u001b[1m15s\u001b[0m 2ms/step - accuracy: 0.9796 - loss: 0.0793 - val_accuracy: 0.9782 - val_loss: 0.0869\n",
            "Epoch 27/30\n",
            "\u001b[1m7382/7382\u001b[0m \u001b[32m━━━━━━━━━━━━━━━━━━━━\u001b[0m\u001b[37m\u001b[0m \u001b[1m14s\u001b[0m 2ms/step - accuracy: 0.9793 - loss: 0.0794 - val_accuracy: 0.9778 - val_loss: 0.0871\n",
            "Epoch 28/30\n",
            "\u001b[1m7382/7382\u001b[0m \u001b[32m━━━━━━━━━━━━━━━━━━━━\u001b[0m\u001b[37m\u001b[0m \u001b[1m13s\u001b[0m 2ms/step - accuracy: 0.9801 - loss: 0.0771 - val_accuracy: 0.9781 - val_loss: 0.0863\n",
            "Epoch 29/30\n",
            "\u001b[1m7382/7382\u001b[0m \u001b[32m━━━━━━━━━━━━━━━━━━━━\u001b[0m\u001b[37m\u001b[0m \u001b[1m13s\u001b[0m 2ms/step - accuracy: 0.9796 - loss: 0.0775 - val_accuracy: 0.9779 - val_loss: 0.0880\n",
            "Epoch 30/30\n",
            "\u001b[1m7382/7382\u001b[0m \u001b[32m━━━━━━━━━━━━━━━━━━━━\u001b[0m\u001b[37m\u001b[0m \u001b[1m13s\u001b[0m 2ms/step - accuracy: 0.9806 - loss: 0.0750 - val_accuracy: 0.9779 - val_loss: 0.0870\n"
          ]
        },
        {
          "name": "stderr",
          "output_type": "stream",
          "text": [
            "WARNING:absl:You are saving your model as an HDF5 file via `model.save()` or `keras.saving.save_model(model)`. This file format is considered legacy. We recommend using instead the native Keras format, e.g. `model.save('my_model.keras')` or `keras.saving.save_model(model, 'my_model.keras')`. \n"
          ]
        }
      ],
      "source": [
        "model_5 = Sequential([\n",
        "    Dense(256, activation='relu', input_shape=(X_train_processed.shape[1],), kernel_regularizer=l2(0.0001)),\n",
        "    Dense(128, activation='relu'),\n",
        "    Dense(64, activation='relu'),\n",
        "    Dense(1, activation='sigmoid')\n",
        "])\n",
        "\n",
        "model_5.compile(optimizer=SGD(learning_rate=0.01), loss='binary_crossentropy', metrics=['accuracy'])\n",
        "\n",
        "history_5 = model_5.fit(X_train_processed, y_train, epochs=30, batch_size=64,\n",
        "                        validation_data=(X_val_processed, y_val), verbose=1)\n",
        "\n",
        "save_model(model_5, 'saved_models/nn_instance_5.h5')\n"
      ]
    },
    {
      "cell_type": "markdown",
      "metadata": {},
      "source": [
        "### Model 5 Error analysis:"
      ]
    },
    {
      "cell_type": "code",
      "execution_count": null,
      "metadata": {},
      "outputs": [
        {
          "name": "stdout",
          "output_type": "stream",
          "text": [
            "\u001b[1m2769/2769\u001b[0m \u001b[32m━━━━━━━━━━━━━━━━━━━━\u001b[0m\u001b[37m\u001b[0m \u001b[1m2s\u001b[0m 851us/step\n"
          ]
        },
        {
          "data": {
            "image/png": "[encoded data removed]",
            "text/plain": [
              "<Figure size 640x480 with 2 Axes>"
            ]
          },
          "metadata": {},
          "output_type": "display_data"
        },
        {
          "name": "stdout",
          "output_type": "stream",
          "text": [
            "=== Classification Report ===\n",
            "              precision    recall  f1-score   support\n",
            "\n",
            "   Not Fraud       0.98      0.99      0.99     85482\n",
            "       Fraud       0.78      0.50      0.61      3099\n",
            "\n",
            "    accuracy                           0.98     88581\n",
            "   macro avg       0.88      0.75      0.80     88581\n",
            "weighted avg       0.98      0.98      0.98     88581\n",
            "\n",
            "True Negatives (TN): 85046\n",
            "False Positives (FP): 436\n",
            "False Negatives (FN): 1547\n",
            "True Positives (TP): 1552\n"
          ]
        }
      ],
      "source": [
        "# Predict probabilities and convert to binary labels\n",
        "y_test_pred_prob = model_5.predict(X_test_processed)\n",
        "y_test_pred = (y_test_pred_prob > 0.5).astype(int).reshape(-1)\n",
        "y_test_true = y_test.values.reshape(-1)\n",
        "\n",
        "# Confusion matrix\n",
        "cm = confusion_matrix(y_test_true, y_test_pred)\n",
        "\n",
        "# Display with labels\n",
        "disp = ConfusionMatrixDisplay(confusion_matrix=cm, display_labels=[\"Not Fraud\", \"Fraud\"])\n",
        "disp.plot(cmap=\"Blues\")\n",
        "plt.title(\"Confusion Matrix - Test Set\")\n",
        "plt.show()\n",
        "\n",
        "# Detailed classification report\n",
        "report = classification_report(y_test_true, y_test_pred, target_names=[\"Not Fraud\", \"Fraud\"])\n",
        "print(\"=== Classification Report ===\")\n",
        "print(report)\n",
        "tn, fp, fn, tp = cm.ravel()\n",
        "print(f\"True Negatives (TN): {tn}\")\n",
        "print(f\"False Positives (FP): {fp}\")\n",
        "print(f\"False Negatives (FN): {fn}\")\n",
        "print(f\"True Positives (TP): {tp}\")\n"
      ]
    },
    {
      "cell_type": "markdown",
      "metadata": {
        "id": "KJ9OXp1TSaXn"
      },
      "source": [
        "# Task: Print out the Final Model Accuracy and plot the Loss curve"
      ]
    },
    {
      "cell_type": "code",
      "execution_count": null,
      "metadata": {
        "id": "fkihQBsaUxGh"
      },
      "outputs": [
        {
          "name": "stdout",
          "output_type": "stream",
          "text": [
            "\u001b[1m2769/2769\u001b[0m \u001b[32m━━━━━━━━━━━━━━━━━━━━\u001b[0m\u001b[37m\u001b[0m \u001b[1m2s\u001b[0m 636us/step\n",
            "\u001b[1m2769/2769\u001b[0m \u001b[32m━━━━━━━━━━━━━━━━━━━━\u001b[0m\u001b[37m\u001b[0m \u001b[1m2s\u001b[0m 601us/step\n",
            "\u001b[1m2769/2769\u001b[0m \u001b[32m━━━━━━━━━━━━━━━━━━━━\u001b[0m\u001b[37m\u001b[0m \u001b[1m2s\u001b[0m 639us/step\n",
            "\u001b[1m2769/2769\u001b[0m \u001b[32m━━━━━━━━━━━━━━━━━━━━\u001b[0m\u001b[37m\u001b[0m \u001b[1m2s\u001b[0m 684us/step\n",
            "\u001b[1m2769/2769\u001b[0m \u001b[32m━━━━━━━━━━━━━━━━━━━━\u001b[0m\u001b[37m\u001b[0m \u001b[1m2s\u001b[0m 610us/step\n",
            "\u001b[1m2769/2769\u001b[0m \u001b[32m━━━━━━━━━━━━━━━━━━━━\u001b[0m\u001b[37m\u001b[0m \u001b[1m2s\u001b[0m 616us/step\n",
            "\u001b[1m2769/2769\u001b[0m \u001b[32m━━━━━━━━━━━━━━━━━━━━\u001b[0m\u001b[37m\u001b[0m \u001b[1m2s\u001b[0m 622us/step\n",
            "\u001b[1m2769/2769\u001b[0m \u001b[32m━━━━━━━━━━━━━━━━━━━━\u001b[0m\u001b[37m\u001b[0m \u001b[1m2s\u001b[0m 729us/step\n",
            "\n",
            "=== Validation Set Evaluation ===\n",
            "Instance     Accuracy   F1 Score   Precision  Recall    \n",
            "============================================================\n",
            "Instance 1   0.9794     0.6185     0.8778     0.4774    \n",
            "Instance 2   0.9747     0.4971     0.8159     0.3574    \n",
            "Instance 3   0.9722     0.4293     0.7605     0.2990    \n",
            "Instance 4   0.9809     0.6713     0.8445     0.5571    \n",
            "Instance 5   0.9713     0.3650     0.8035     0.2361    \n",
            "\n",
            "=== Test Set Evaluation ===\n",
            "Instance     Accuracy   F1 Score   Precision  Recall    \n",
            "============================================================\n",
            "Instance 1   0.9771     0.5750     0.8210     0.4424    \n",
            "Instance 2   0.9741     0.4855     0.7952     0.3495    \n",
            "Instance 3   0.9720     0.4318     0.7474     0.3036    \n",
            "Instance 4   0.9776     0.6102     0.7807     0.5008    \n",
            "Instance 5   0.9711     0.3691     0.7810     0.2417    \n"
          ]
        }
      ],
      "source": [
        "def evaluate_model(y_true, y_pred_prob):\n",
        "    y_pred = (y_pred_prob > 0.5).astype(int)\n",
        "    return {\n",
        "        'accuracy': accuracy_score(y_true, y_pred),\n",
        "        'f1': f1_score(y_true, y_pred),\n",
        "        'precision': precision_score(y_true, y_pred),\n",
        "        'recall': recall_score(y_true, y_pred)\n",
        "    }\n",
        "\n",
        "# Get validation predictions\n",
        "val_preds = {\n",
        "    'Instance 1': model_2.predict(X_val_processed),\n",
        "    'Instance 2': model_3.predict(X_val_processed),\n",
        "    'Instance 3': model_4.predict(X_val_processed),\n",
        "    'Instance 4': model_5.predict(X_val_processed),\n",
        "    'Instance 5': log_model.predict_proba(X_val_processed)[:, 1],\n",
        "}\n",
        "\n",
        "# Get test predictions\n",
        "test_preds = {\n",
        "    'Instance 1': model_2.predict(X_test_processed),\n",
        "    'Instance 2': model_3.predict(X_test_processed),\n",
        "    'Instance 3': model_4.predict(X_test_processed),\n",
        "    'Instance 4': model_5.predict(X_test_processed),\n",
        "    'Instance 5': log_model.predict_proba(X_test_processed)[:, 1],\n",
        "}\n",
        "\n",
        "# Evaluate\n",
        "val_results = {k: evaluate_model(y_val, v) for k, v in val_preds.items()}\n",
        "test_results = {k: evaluate_model(y_test, v) for k, v in test_preds.items()}\n",
        "\n",
        "# Function to print results\n",
        "def print_results(title, results):\n",
        "    print(f\"\\n=== {title} ===\")\n",
        "    print(f\"{'Instance':<12} {'Accuracy':<10} {'F1 Score':<10} {'Precision':<10} {'Recall':<10}\")\n",
        "    print(\"=\" * 60)\n",
        "    for instance, metrics in results.items():\n",
        "        print(f\"{instance:<12} \"\n",
        "              f\"{metrics['accuracy']:<10.4f} \"\n",
        "              f\"{metrics['f1']:<10.4f} \"\n",
        "              f\"{metrics['precision']:<10.4f} \"\n",
        "              f\"{metrics['recall']:<10.4f}\")\n",
        "\n",
        "# Print both results\n",
        "print_results(\"Validation Set Evaluation\", val_results)\n",
        "print_results(\"Test Set Evaluation\", test_results)"
      ]
    },
    {
      "cell_type": "markdown",
      "metadata": {},
      "source": [
        "# SECTION 3: Predictions on The Best Model\n",
        "At this point you should now create models that combine various optimization techniques\n",
        "As done before make sure to plot out the loss curve and the accuracy and loss in verbose"
      ]
    },
    {
      "cell_type": "markdown",
      "metadata": {
        "id": "bO79SOsZYG-M"
      },
      "source": [
        "Finally, Make predictions using the best model. By the time you get to this cell you may realise at some point you needed to save the model so that you cal load it later"
      ]
    },
    {
      "cell_type": "code",
      "execution_count": null,
      "metadata": {
        "id": "Nqqe2PasUIAG"
      },
      "outputs": [],
      "source": [
        "def make_predictions(model_path, X):\n",
        "\n",
        "    # Load the model\n",
        "    model = load_model(None)\n",
        "    # Make predictions\n",
        "    predictions = None\n",
        "    # Convert probabilities to binary labels (0 or 1)\n",
        "\n",
        "    return predictions\n",
        "\n",
        "#Modify the code appropriately"
      ]
    },
    {
      "cell_type": "code",
      "execution_count": null,
      "metadata": {
        "id": "O_jwbvaAUMj4"
      },
      "outputs": [],
      "source": [
        "model_path = None\n",
        "make_predictions(None)"
      ]
    }
  ],
  "metadata": {
    "colab": {
      "provenance": []
    },
    "kernelspec": {
      "display_name": ".venv",
      "language": "python",
      "name": "python3"
    },
    "language_info": {
      "codemirror_mode": {
        "name": "ipython",
        "version": 3
      },
      "file_extension": ".py",
      "mimetype": "text/x-python",
      "name": "python",
      "nbconvert_exporter": "python",
      "pygments_lexer": "ipython3",
      "version": "3.10.17"
    }
  },
  "nbformat": 4,
  "nbformat_minor": 0
}
